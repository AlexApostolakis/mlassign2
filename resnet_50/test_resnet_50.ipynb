{
 "cells": [
  {
   "cell_type": "code",
   "execution_count": 1,
   "id": "b7bbdbcc",
   "metadata": {},
   "outputs": [
    {
     "name": "stdout",
     "output_type": "stream",
     "text": [
      "device: cpu\n"
     ]
    }
   ],
   "source": [
    "import os\n",
    "import random\n",
    "from time import time\n",
    "from glob import glob\n",
    "import pandas as pd\n",
    "import numpy as np\n",
    "from tqdm.notebook import tqdm\n",
    "from collections import Counter\n",
    "import dill as pickle\n",
    "\n",
    "from plotly import graph_objects as go\n",
    "import plotly.express as px\n",
    "import plotly.figure_factory as ff\n",
    "from plotly.subplots import make_subplots\n",
    "\n",
    "from matplotlib import pyplot as plt\n",
    "import cv2\n",
    "\n",
    "from sklearn.manifold import TSNE\n",
    "from sklearn.model_selection import train_test_split\n",
    "from sklearn.preprocessing import MultiLabelBinarizer\n",
    "from sklearn.metrics import fbeta_score, confusion_matrix\n",
    "\n",
    "import torch\n",
    "import torch.nn as nn\n",
    "from torch.utils.data import DataLoader, Dataset\n",
    "from torchvision import transforms as T, models\n",
    "from torch.optim import Adam\n",
    "from torch.optim.lr_scheduler import StepLR\n",
    "#!pip install -q torchsummary --user\n",
    "# from torchsummary import summary\n",
    "\n",
    "\n",
    "device = \"cuda\" if torch.cuda.is_available() else \"cpu\"\n",
    "print(f\"device: {device}\")"
   ]
  },
  {
   "cell_type": "code",
   "execution_count": 2,
   "id": "a44ed84d",
   "metadata": {},
   "outputs": [],
   "source": [
    "def get_data(df_train):\n",
    "    \n",
    "    encoder = MultiLabelBinarizer()\n",
    "    ohe_tags_train = encoder.fit_transform(df_train.list_tags.values)\n",
    "#    ohe_tags_val = encoder.transform(df_val.list_tags.values)\n",
    "\n",
    "    transform_train = get_transforms()\n",
    "    ds_train = AmazonDataset(df_train, ohe_tags_train, transform_train, path=path_train)\n",
    "#     ds_val = AmazonDataset(df_val, ohe_tags_val, transform_val, path=path_train)\n",
    "\n",
    "    dl_train = DataLoader(\n",
    "      ds_train,\n",
    "      batch_size=64,\n",
    "      shuffle=True,\n",
    "      collate_fn=ds_train.collate_fn\n",
    "    )\n",
    "#     dl_val = DataLoader(\n",
    "#       ds_val,\n",
    "#       batch_size=64,\n",
    "#       shuffle=True,\n",
    "#       collate_fn=ds_val.collate_fn\n",
    "#     )\n",
    "\n",
    "    return ds_train, dl_train, encoder"
   ]
  },
  {
   "cell_type": "code",
   "execution_count": 3,
   "id": "94efe19e",
   "metadata": {},
   "outputs": [],
   "source": [
    "def get_transforms():\n",
    "    transform_test = T.Compose([\n",
    "      T.ToPILImage(),\n",
    "      T.Resize(224),\n",
    "      T.ToTensor(),\n",
    "      T.Normalize(\n",
    "        mean=[0.485, 0.456, 0.406],\n",
    "        std=[0.229, 0.224, 0.225],\n",
    "      )\n",
    "    ])\n",
    "    return transform_test"
   ]
  },
  {
   "cell_type": "code",
   "execution_count": 4,
   "id": "1e38e818",
   "metadata": {},
   "outputs": [],
   "source": [
    "class AmazonDatasetError(Exception):\n",
    "    pass\n",
    "\n",
    "\n",
    "class AmazonDataset(Dataset):\n",
    "    def __init__(self, df, ohe_tags, transform, path, is_train=True, idx_tta=None):\n",
    "        super().__init__()\n",
    "        self.df = df\n",
    "        self.ohe_tags = ohe_tags\n",
    "        self.transform = transform\n",
    "        if isinstance(path, str):\n",
    "            self.paths = [path]\n",
    "        elif isinstance(path, (list, tuple)):\n",
    "            self.paths = path\n",
    "        else:\n",
    "            raise AmazonDatasetError(f\"Path type must be str, list or tuple, got: {type(path)}\")\n",
    "        self.is_train = is_train\n",
    "        if not is_train:\n",
    "            if not idx_tta in list(range(6)):\n",
    "                raise AmazonDatasetError(\n",
    "                    f\"In test mode, 'idx_tta' must be an int belonging to [0, 5], got: {repr(idx_tta)}\"\n",
    "                )\n",
    "            self.idx_tta = idx_tta\n",
    "\n",
    "    def __len__(self):\n",
    "        return len(self.df)\n",
    "\n",
    "    def __getitem__(self, idx):\n",
    "        filename = self.df.iloc[idx].image_name + \".jpg\"\n",
    "        for path in self.paths:\n",
    "            if filename in os.listdir(path):\n",
    "                file_path = os.path.join(path, filename)\n",
    "                break\n",
    "        else:\n",
    "            raise AmazonDatasetError(f\"Can't fetch {filename} among {self.paths}\")\n",
    "        img = cv2.imread(file_path)\n",
    "        img = cv2.cvtColor(img, cv2.COLOR_BGR2RGB)\n",
    "        label = self.ohe_tags[idx]\n",
    "        return img, label\n",
    "\n",
    "    def collate_fn(self, batch):\n",
    "        imgs, labels = [], []\n",
    "        for (img, label) in batch:\n",
    "            img = self.custom_augment(img)\n",
    "            img = torch.tensor(img)\n",
    "            img = img.permute(2, 0, 1)\n",
    "            img = self.transform(img)\n",
    "            imgs.append(img[None])\n",
    "            labels.append(label)\n",
    "        imgs = torch.cat(imgs).float().to(device)\n",
    "        labels = torch.tensor(labels).float().to(device)\n",
    "        return imgs, labels\n",
    "\n",
    "    def load_img(self, idx, ax=None):\n",
    "        img, ohe_label = self[idx]\n",
    "        label = self.df.iloc[idx].tags\n",
    "        title = f\"{label} - {ohe_label}\"\n",
    "        if ax is None:\n",
    "            plt.imshow(img)\n",
    "            plt.title(title)\n",
    "        else:\n",
    "            ax.imshow(img)\n",
    "            ax.set_title(title)\n",
    "    \n",
    "    def custom_augment(self, img):\n",
    "        \"\"\"\n",
    "        Discrete rotation and horizontal flip.\n",
    "        Random during training and non random during testing for TTA.\n",
    "        Not implemented in torchvision.transforms, hence this function.\n",
    "        \"\"\"\n",
    "        choice = np.random.randint(0, 6) if self.is_train else self.idx_tta\n",
    "        if choice == 0:\n",
    "            # Rotate 90\n",
    "            img = cv2.rotate(img, rotateCode=cv2.ROTATE_90_CLOCKWISE)\n",
    "        if choice == 1:\n",
    "            # Rotate 90 and flip horizontally\n",
    "            img = cv2.rotate(img, rotateCode=cv2.ROTATE_90_CLOCKWISE)\n",
    "            img = cv2.flip(img, flipCode=1)\n",
    "        if choice == 2:\n",
    "            # Rotate 180\n",
    "            img = cv2.rotate(img, rotateCode=cv2.ROTATE_180)\n",
    "        if choice == 3:\n",
    "            # Rotate 180 and flip horizontally\n",
    "            img = cv2.rotate(img, rotateCode=cv2.ROTATE_180)\n",
    "            img = cv2.flip(img, flipCode=1)\n",
    "        if choice == 4:\n",
    "            # Rotate 90 counter-clockwise\n",
    "            img = cv2.rotate(img, rotateCode=cv2.ROTATE_90_COUNTERCLOCKWISE)\n",
    "        if choice == 5:\n",
    "            # Rotate 90 counter-clockwise and flip horizontally\n",
    "            img = cv2.rotate(img, rotateCode=cv2.ROTATE_90_COUNTERCLOCKWISE)\n",
    "            img = cv2.flip(img, flipCode=1)\n",
    "        return img"
   ]
  },
  {
   "cell_type": "code",
   "execution_count": null,
   "id": "5511cc9d",
   "metadata": {},
   "outputs": [],
   "source": [
    "def find_best_thresholds(Y_hat, Y):\n",
    "    N_tags = Y.shape[1]\n",
    "    best_threshs = [0.2] * N_tags\n",
    "    resolution = 100\n",
    "    for jdx in tqdm(range(N_tags)):\n",
    "        best_score = 0\n",
    "        #threshs = np.zeros_like(best_threshs)\n",
    "        threshs = best_threshs.copy()\n",
    "        for kdx in range(resolution):\n",
    "            kdx /= resolution\n",
    "            threshs[jdx] = kdx\n",
    "            Y_hat_thresh = (Y_hat > threshs).astype(float)\n",
    "            score = fbeta_score(Y, Y_hat_thresh, beta=2, average=\"samples\")\n",
    "            if score > best_score:\n",
    "                best_score = score\n",
    "                best_threshs[jdx] = kdx\n",
    "    \n",
    "    global_best_score = fbeta_score(Y, (Y_hat > best_threshs).astype(float), beta=2, average=\"samples\")\n",
    "    print(f\"threshs: {best_threshs} -- best score: {global_best_score}\")\n",
    "    \n",
    "    return best_threshs"
   ]
  },
  {
   "cell_type": "code",
   "execution_count": 7,
   "id": "765c461f",
   "metadata": {},
   "outputs": [],
   "source": [
    "df_test = pd.read_csv('/data2/ntua/data/planet/planet/test_2000.csv')"
   ]
  },
  {
   "cell_type": "code",
   "execution_count": 8,
   "id": "01de356d",
   "metadata": {},
   "outputs": [],
   "source": [
    "path = \"/data2/ntua/data/planet/planet\"\n",
    "path_train = os.path.join(path, \"train-jpg\")"
   ]
  },
  {
   "cell_type": "code",
   "execution_count": 9,
   "id": "9a8584f1",
   "metadata": {},
   "outputs": [],
   "source": [
    "df_test[\"list_tags\"] = df_test.tags.str.split(\" \")"
   ]
  },
  {
   "cell_type": "code",
   "execution_count": 10,
   "id": "bc05d3d0",
   "metadata": {},
   "outputs": [],
   "source": [
    "ds_test, dl_test, encoder = get_data(df_test)"
   ]
  },
  {
   "cell_type": "code",
   "execution_count": 11,
   "id": "cec986e7",
   "metadata": {},
   "outputs": [
    {
     "data": {
      "text/plain": [
       "2005"
      ]
     },
     "execution_count": 11,
     "metadata": {},
     "output_type": "execute_result"
    }
   ],
   "source": [
    "ds_test.__len__()"
   ]
  },
  {
   "cell_type": "code",
   "execution_count": 12,
   "id": "a105a2f6",
   "metadata": {},
   "outputs": [
    {
     "name": "stdout",
     "output_type": "stream",
     "text": [
      "Images shape: torch.Size([64, 3, 224, 224]), labels shape: torch.Size([64, 17])\n"
     ]
    }
   ],
   "source": [
    "imgs, labels = next(iter(dl_test))\n",
    "print('Images shape: {}, labels shape: {}'.format(imgs.shape, labels.shape))"
   ]
  },
  {
   "cell_type": "code",
   "execution_count": 13,
   "id": "41bbf868",
   "metadata": {},
   "outputs": [],
   "source": [
    "model = torch.load(\"resnet50_fold0.pth\")"
   ]
  },
  {
   "cell_type": "code",
   "execution_count": 14,
   "id": "e2f9d145",
   "metadata": {},
   "outputs": [],
   "source": [
    "@torch.no_grad()\n",
    "def batch_predict(model, X):\n",
    "    model.eval()\n",
    "    Y = model(X)\n",
    "    return Y.detach().float().cpu().numpy()"
   ]
  },
  {
   "cell_type": "code",
   "execution_count": 15,
   "id": "cc314774",
   "metadata": {},
   "outputs": [
    {
     "data": {
      "application/vnd.jupyter.widget-view+json": {
       "model_id": "4db0c1b63aad422397f2028f24f7efb8",
       "version_major": 2,
       "version_minor": 0
      },
      "text/plain": [
       "  0%|          | 0/32 [00:00<?, ?it/s]"
      ]
     },
     "metadata": {},
     "output_type": "display_data"
    }
   ],
   "source": [
    "Y_hat_test = []\n",
    "for idx_tta in range(1):#6\n",
    "    Y_hat_test_tta = []\n",
    "#    dl_test, df_test = get_test_data(idx_tta)\n",
    "    for X, _ in tqdm(dl_test):\n",
    "        Y_hat_test_batch = batch_predict(model, X)\n",
    "        Y_hat_test_tta.extend(Y_hat_test_batch)\n",
    "    Y_hat_test.append(Y_hat_test_tta)\n"
   ]
  },
  {
   "cell_type": "code",
   "execution_count": 28,
   "id": "177c21e5",
   "metadata": {},
   "outputs": [
    {
     "ename": "NameError",
     "evalue": "name 'train_results' is not defined",
     "output_type": "error",
     "traceback": [
      "\u001b[0;31m---------------------------------------------------------------------------\u001b[0m",
      "\u001b[0;31mNameError\u001b[0m                                 Traceback (most recent call last)",
      "\u001b[0;32m/tmp/ipykernel_20351/934313897.py\u001b[0m in \u001b[0;36m<module>\u001b[0;34m\u001b[0m\n\u001b[0;32m----> 1\u001b[0;31m \u001b[0mY_val\u001b[0m \u001b[0;34m=\u001b[0m \u001b[0mnp\u001b[0m\u001b[0;34m.\u001b[0m\u001b[0marray\u001b[0m\u001b[0;34m(\u001b[0m\u001b[0mtrain_results\u001b[0m\u001b[0;34m[\u001b[0m\u001b[0;34m\"Y_val\"\u001b[0m\u001b[0;34m]\u001b[0m\u001b[0;34m)\u001b[0m\u001b[0;34m\u001b[0m\u001b[0;34m\u001b[0m\u001b[0m\n\u001b[0m",
      "\u001b[0;31mNameError\u001b[0m: name 'train_results' is not defined"
     ]
    }
   ],
   "source": [
    "Y_val = np.array(train_results[\"Y_val\"])"
   ]
  },
  {
   "cell_type": "code",
   "execution_count": 16,
   "id": "300b779d",
   "metadata": {},
   "outputs": [],
   "source": [
    "def global_best_score(Y_hat, Y, thresholds):\n",
    "    return fbeta_score(Y, (Y_hat > thresholds).astype(float), beta=2, average=\"samples\")    "
   ]
  },
  {
   "cell_type": "code",
   "execution_count": 17,
   "id": "013f49c4",
   "metadata": {},
   "outputs": [],
   "source": [
    "threshs=[0.11,0.09,0.15,0.05,0.04,0.25,0.2,0.04,0.13,0.12,0.07,0.18,0.32,0.15,0.06,0.12,0.16]"
   ]
  },
  {
   "cell_type": "code",
   "execution_count": 21,
   "id": "b728584c",
   "metadata": {
    "collapsed": true
   },
   "outputs": [
    {
     "data": {
      "text/plain": [
       "<torch.utils.data.dataloader.DataLoader at 0x7f87f4d8fe90>"
      ]
     },
     "execution_count": 21,
     "metadata": {},
     "output_type": "execute_result"
    }
   ],
   "source": [
    "dl_test"
   ]
  },
  {
   "cell_type": "code",
   "execution_count": 19,
   "id": "e0c5dd25",
   "metadata": {},
   "outputs": [
    {
     "ename": "NameError",
     "evalue": "name 'Y' is not defined",
     "output_type": "error",
     "traceback": [
      "\u001b[0;31m---------------------------------------------------------------------------\u001b[0m",
      "\u001b[0;31mNameError\u001b[0m                                 Traceback (most recent call last)",
      "\u001b[0;32m/tmp/ipykernel_20351/883734943.py\u001b[0m in \u001b[0;36m<module>\u001b[0;34m\u001b[0m\n\u001b[0;32m----> 1\u001b[0;31m \u001b[0mglobal_best_score\u001b[0m\u001b[0;34m(\u001b[0m\u001b[0mY_hat_test\u001b[0m\u001b[0;34m,\u001b[0m \u001b[0mY\u001b[0m\u001b[0;34m,\u001b[0m \u001b[0mthresholds\u001b[0m\u001b[0;34m)\u001b[0m\u001b[0;34m\u001b[0m\u001b[0;34m\u001b[0m\u001b[0m\n\u001b[0m",
      "\u001b[0;31mNameError\u001b[0m: name 'Y' is not defined"
     ]
    }
   ],
   "source": [
    "global_best_score(Y_hat_test, Y, thresholds)"
   ]
  },
  {
   "cell_type": "code",
   "execution_count": 63,
   "id": "8327835b",
   "metadata": {
    "collapsed": true
   },
   "outputs": [
    {
     "data": {
      "text/plain": [
       "array([5.1055215e-03, 9.6639286e-04, 2.7975568e-03, 3.6337695e-03,\n",
       "       7.1147265e-04, 9.9463499e-01, 9.6316880e-04, 8.8265887e-04,\n",
       "       6.5411548e-03, 7.3585258e-04, 2.1630938e-03, 2.0741711e-03,\n",
       "       9.9798989e-01, 6.3718222e-03, 1.9416617e-03, 1.7733703e-03,\n",
       "       5.0974358e-03], dtype=float32)"
      ]
     },
     "execution_count": 63,
     "metadata": {},
     "output_type": "execute_result"
    }
   ],
   "source": [
    "Y_hat_test1 = np.mean(np.array(Y_hat_test), axis=0)\n",
    "Y_hat_test1[0]"
   ]
  },
  {
   "cell_type": "code",
   "execution_count": 64,
   "id": "0d0dd865",
   "metadata": {},
   "outputs": [],
   "source": [
    "Y_hat_test2 = (Y_hat_test1 > threshs).astype(float)"
   ]
  },
  {
   "cell_type": "code",
   "execution_count": 65,
   "id": "21ff7bd8",
   "metadata": {},
   "outputs": [
    {
     "data": {
      "text/plain": [
       "1005"
      ]
     },
     "execution_count": 65,
     "metadata": {},
     "output_type": "execute_result"
    }
   ],
   "source": [
    "len(Y_hat_test2)"
   ]
  },
  {
   "cell_type": "code",
   "execution_count": 66,
   "id": "f1e2f6b7",
   "metadata": {},
   "outputs": [],
   "source": [
    "Y_hat_test_inv = encoder.inverse_transform(Y_hat_test2)\n",
    "test_tags = []\n",
    "for row in Y_hat_test_inv:\n",
    "    tags = \" \".join(row)\n",
    "    test_tags.append(tags)\n",
    "\n",
    "df_test[\"pr_tags\"] = test_tags\n",
    "df_test.to_csv(\"resnet50_submission.csv\", index=False)"
   ]
  },
  {
   "cell_type": "code",
   "execution_count": null,
   "id": "ced01c42",
   "metadata": {},
   "outputs": [],
   "source": []
  }
 ],
 "metadata": {
  "kernelspec": {
   "display_name": "Python 3 (ipykernel)",
   "language": "python",
   "name": "python3"
  },
  "language_info": {
   "codemirror_mode": {
    "name": "ipython",
    "version": 3
   },
   "file_extension": ".py",
   "mimetype": "text/x-python",
   "name": "python",
   "nbconvert_exporter": "python",
   "pygments_lexer": "ipython3",
   "version": "3.7.11"
  }
 },
 "nbformat": 4,
 "nbformat_minor": 5
}
