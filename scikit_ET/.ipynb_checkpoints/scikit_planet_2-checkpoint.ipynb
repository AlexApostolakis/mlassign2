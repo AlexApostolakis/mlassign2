{
 "cells": [
  {
   "cell_type": "code",
   "execution_count": 438,
   "id": "47c47f34",
   "metadata": {},
   "outputs": [],
   "source": [
    "import os\n",
    "import random\n",
    "from time import time\n",
    "from glob import glob\n",
    "import pandas as pd\n",
    "import numpy as np\n",
    "from tqdm.notebook import tqdm\n",
    "from collections import Counter\n",
    "import dill as pickle\n",
    "\n",
    "from plotly import graph_objects as go\n",
    "import plotly.express as px\n",
    "import plotly.figure_factory as ff\n",
    "from plotly.subplots import make_subplots\n",
    "\n",
    "from matplotlib import pyplot as plt\n",
    "%matplotlib inline\n",
    "\n",
    "import cv2\n",
    "from functools import partial\n",
    "\n",
    "from sklearn.manifold import TSNE\n",
    "from sklearn.model_selection import train_test_split\n",
    "from sklearn.preprocessing import MultiLabelBinarizer\n",
    "from sklearn.metrics import fbeta_score, confusion_matrix\n",
    "from sklearn.decomposition import PCA\n",
    "from sklearn.ensemble import RandomForestClassifier\n",
    "from sklearn.ensemble import ExtraTreesClassifier\n",
    "from sklearn.multioutput import MultiOutputClassifier\n",
    "from sklearn.model_selection import train_test_split, KFold, GroupKFold\n",
    "\n",
    "from hyperopt import Trials, fmin, tpe, rand, STATUS_OK, hp\n"
   ]
  },
  {
   "cell_type": "code",
   "execution_count": 439,
   "id": "ddb6eae8",
   "metadata": {},
   "outputs": [],
   "source": [
    "random.seed(101)\n",
    "np.random.seed(101)\n",
    "torch.manual_seed(101);"
   ]
  },
  {
   "cell_type": "code",
   "execution_count": 440,
   "id": "b5eb0269",
   "metadata": {},
   "outputs": [
    {
     "name": "stdout",
     "output_type": "stream",
     "text": [
      "fold_0.tfrecords  fold_4.tfrecords\t test_2000.csv\t train_classes.csv\r\n",
      "fold_1.tfrecords  sample_submission.csv  train-jpg\r\n",
      "fold_2.tfrecords  test-jpg\t\t train_1000.csv\r\n",
      "fold_3.tfrecords  test_1000.csv\t\t train_2000.csv\r\n"
     ]
    }
   ],
   "source": [
    "!ls /data2/ntua/data/planet/planet\n"
   ]
  },
  {
   "cell_type": "code",
   "execution_count": 441,
   "id": "4ef5e92e",
   "metadata": {},
   "outputs": [
    {
     "name": "stdout",
     "output_type": "stream",
     "text": [
      "train files: 40479, test files: 40669\n"
     ]
    }
   ],
   "source": [
    "path = \"/data2/ntua/data/planet/planet\"\n",
    "path_train = os.path.join(path, \"train-jpg\")\n",
    "path_test = os.path.join(path, \"test-jpg\")\n",
    "print(\n",
    "    f\"train files: {len(os.listdir(path_train))}, \"\n",
    "    f\"test files: {len(os.listdir(path_test))}\"\n",
    ")"
   ]
  },
  {
   "cell_type": "code",
   "execution_count": 442,
   "id": "8ab46fcb",
   "metadata": {},
   "outputs": [],
   "source": [
    "def load_img(path_file):\n",
    "    img = cv2.imread(path_file)\n",
    "    img = cv2.cvtColor(img, cv2.COLOR_BGR2RGB)\n",
    "    img = cv2.resize(img, (100, 100), cv2.INTER_LINEAR).astype(float)\n",
    "    img = cv2.normalize(img, None, 0.0, 1.0, cv2.NORM_MINMAX)\n",
    "    img = img.reshape(1, -1)\n",
    "    return img"
   ]
  },
  {
   "cell_type": "code",
   "execution_count": 443,
   "id": "27809974",
   "metadata": {},
   "outputs": [],
   "source": [
    "def load_dataset(path, csvfile):\n",
    "    path_class = os.path.join(path, csvfile)\n",
    "    df_class = pd.read_csv(path_class)\n",
    "    #df_class = df_class.sample(n=10000) # limit images\n",
    "    #print(df_class.shape)\n",
    "    print('df shape')\n",
    "    print(df_class.shape)\n",
    "    #df_class.head()\n",
    "    #filenames = df_class.image_name.sample(500).values\n",
    "    df_class[\"list_tags\"] = df_class.tags.str.split(\" \")\n",
    "    filenames = df_class.image_name.values\n",
    "    path_files = [os.path.join(path_train, filename+\".jpg\") for filename in filenames]\n",
    "    X = np.vstack([load_img(path_file) for path_file in path_files])\n",
    "    print('X shape')\n",
    "    print(X.shape)\n",
    "    return df_class, X"
   ]
  },
  {
   "cell_type": "code",
   "execution_count": 444,
   "id": "3a3ff6e7",
   "metadata": {},
   "outputs": [],
   "source": [
    "def apply_pca(X, pca=None):\n",
    "    if pca is None:\n",
    "        pca = PCA(n_components=0.95, random_state=2020)\n",
    "        X_pca = pca.fit_transform(X)\n",
    "    else:\n",
    "        X_pca = pca.transform(X)\n",
    "    df_pca=pd.DataFrame(X_pca)\n",
    "    return df_pca, pca"
   ]
  },
  {
   "cell_type": "code",
   "execution_count": 506,
   "id": "df27249f",
   "metadata": {},
   "outputs": [],
   "source": [
    "def get_data_ML(df_orig, df_part, df_pca, encoder=None):\n",
    "\n",
    "    fitenc=False\n",
    "    if encoder is None:\n",
    "        encoder = MultiLabelBinarizer()\n",
    "        fitenc=True\n",
    "    if fitenc:\n",
    "        ohe_tags = encoder.fit(df_orig.list_tags.values)\n",
    "    ohe_tags = encoder.transform(df_part.list_tags.values)\n",
    "    Y=ohe_tags\n",
    "\n",
    "    X_img = df_part.loc[:, ~df_part.columns.isin(['list_tags','tags'])]\n",
    "    X = pd.merge(X_img, df_pca, left_index=True, right_index=True)\n",
    "    X = X.loc[:, ~X.columns.isin(['Unnamed: 0','image_name'])]\n",
    "    \n",
    "    return X.values, Y, encoder"
   ]
  },
  {
   "cell_type": "code",
   "execution_count": 456,
   "id": "a3d5fbe0",
   "metadata": {},
   "outputs": [],
   "source": [
    "def create_sklearn_model(params, X):\n",
    "    n_features = X.shape[1]\n",
    "    if params['algo']=='RF':\n",
    "        max_feat = int(n_features/10*params['max_features'])\n",
    "        model = RandomForestClassifier(max_depth=params['max_depth'], n_estimators=params['n_estimators'], min_samples_split=params['min_samples_split'], \\\n",
    "                                       min_samples_leaf=params['min_samples_leaf'],criterion=params['criterion'],max_features=max_feat,\n",
    "                                       bootstrap=params['bootstrap'], class_weight=params['class_weights']\n",
    "                                       )\n",
    "    if params['algo']=='XT':\n",
    "        max_feat = int(n_features/10*params['max_features'])\n",
    "        model = ExtraTreesClassifier(max_depth=params['max_depth'], n_estimators=params['n_estimators'], min_samples_split=params['min_samples_split'], \\\n",
    "                                       min_samples_leaf=params['min_samples_leaf'],criterion=params['criterion'],max_features=max_feat,\n",
    "                                       bootstrap=params['bootstrap'], class_weight=params['class_weights']\n",
    "                                       )\n",
    "    if params['algo']=='XGB':\n",
    "        model = XGBClassifier(max_depth=int(params['max_depth']), n_estimators=params['n_estimators'], subsample=params['subsample'],\\\n",
    "                              reg_alpha=params['alpha'], gamma=params['gamma'], reg_lambda=params['lambda'],\\\n",
    "                              scale_pos_weight=params['scale_pos_weight'], n_jobs=8)\n",
    "\n",
    "    return model\n"
   ]
  },
  {
   "cell_type": "code",
   "execution_count": 447,
   "id": "23c4b75e",
   "metadata": {},
   "outputs": [],
   "source": [
    "def find_best_thresholds(Y_hat, Y):\n",
    "    N_tags = Y.shape[1]\n",
    "    best_threshs = [0.2] * N_tags\n",
    "    resolution = 100\n",
    "    #for jdx in tqdm(range(N_tags)):\n",
    "    for jdx in range(N_tags):\n",
    "        best_score = 0\n",
    "        #threshs = np.zeros_like(best_threshs)\n",
    "        threshs = best_threshs.copy()\n",
    "        for kdx in range(resolution):\n",
    "            kdx /= resolution\n",
    "            threshs[jdx] = kdx\n",
    "            Y_hat_thresh = (Y_hat > threshs).astype(float)\n",
    "            score = fbeta_score(Y, Y_hat_thresh, beta=2, average=\"samples\")\n",
    "            if score > best_score:\n",
    "                best_score = score\n",
    "                best_threshs[jdx] = kdx\n",
    "    \n",
    "    global_best_score = fbeta_score(Y, (Y_hat > best_threshs).astype(float), beta=2, average=\"samples\")\n",
    "    print(f\"threshs: {best_threshs} -- best score: {global_best_score}\")\n",
    "    \n",
    "    return best_threshs, global_best_score"
   ]
  },
  {
   "cell_type": "markdown",
   "id": "944c72a6",
   "metadata": {},
   "source": [
    "## Model cross validation"
   ]
  },
  {
   "cell_type": "code",
   "execution_count": 523,
   "id": "3989b1ac",
   "metadata": {},
   "outputs": [],
   "source": [
    "def validatemodel(cv, X, Y, params):\n",
    "\n",
    "    model = create_sklearn_model(params, X)\n",
    "    print('params : %s'%params)\n",
    "    metrics={'f2score':[]}\n",
    "    cnt=0\n",
    "    \n",
    "    for train_index, val_index in cv.split(X):\n",
    "        cnt+=1\n",
    "        print(\"Fitting fold %d\"%cnt)\n",
    "        X_train, X_val = X[train_index], X[val_index]\n",
    "        y_train, y_val = Y[train_index], Y[val_index]\n",
    "        #y_val = y_val[:,0]\n",
    "        #y_train = y_train[:,0]\n",
    "\n",
    "        model.fit(X_train, y_train)\n",
    "        #train_results_proba=model.predict_proba(X_train)\n",
    "        #train_results=model.predict(X_train)\n",
    "        \n",
    "        val_results_proba=model.predict_proba(X_val)\n",
    "        #val_results=model.predict(X_val)\n",
    "\n",
    "        Y_hat_val=val_results_proba[0][:,0]\n",
    "        for i in range (1,len(val_results_proba)):\n",
    "            Y_hat_val=np.vstack((Y_hat_val,val_results_proba[i][:,0]))\n",
    "        Y_hat_val=Y_hat_val.T\n",
    "        threshs, best_score = find_best_thresholds(Y_hat_val, y_val)\n",
    "        metrics['f2score'].append(best_score)\n",
    "\n",
    "\n",
    "    mean_metrics = {}\n",
    "    mean_metrics['f2score']=sum(metrics['f2score'])/len(metrics['f2score'])\n",
    "    print('Mean fbeta: %.5f'%mean_metrics['f2score'])\n",
    "\n",
    "    return {\n",
    "        'loss': -mean_metrics['f2score'],\n",
    "        'status': STATUS_OK,\n",
    "        # -- store other results like this\n",
    "        # 'eval_time': time.time(),\n",
    "        'metrics': mean_metrics,\n",
    "        'thresholds': threshs,\n",
    "        'params': '%s'%params\n",
    "        # -- attachments are handled differently\n",
    "        # 'attachments':\n",
    "        #    {'time_module': pickle.dumps(time.time)}\n",
    "    }\n"
   ]
  },
  {
   "cell_type": "code",
   "execution_count": 520,
   "id": "2e046721",
   "metadata": {},
   "outputs": [],
   "source": [
    "space = {'algo':'XT','n_estimators': hp.choice('n_estimators',[10, 20, 40, 60, 80, 100, 200, 400, 600, 800, 1000]),\n",
    "        'criterion': hp.choice('criterion',['gini', 'entropy']),\n",
    "        'max_depth': hp.quniform('max_depth',2, 40, 2),\n",
    "        'min_samples_split': hp.choice('min_samples_split',[2, 10, 50, 70, 100, 120, 150, 180, 200, 250, 400, 600, 1000, 1300, 2000]),\n",
    "        'min_samples_leaf': hp.choice('min_samples_leaf',[5, 10, 15, 20, 25, 30, 35, 40, 45]),\n",
    "        'max_features': hp.quniform('max_features', 1,10,1),\n",
    "        'bootstrap': hp.choice('bootstrap',[True, False]), 'class_weights':'balanced'}\n"
   ]
  },
  {
   "cell_type": "code",
   "execution_count": 486,
   "id": "8acfa180",
   "metadata": {},
   "outputs": [
    {
     "name": "stdout",
     "output_type": "stream",
     "text": [
      "df shape\n",
      "(2005, 4)\n",
      "X shape\n",
      "(2005, 30000)\n"
     ]
    }
   ],
   "source": [
    "# Load Dataset\n",
    "df_train, X_train = load_dataset(path, 'train_2000.csv')"
   ]
  },
  {
   "cell_type": "code",
   "execution_count": 451,
   "id": "39be0bfc",
   "metadata": {},
   "outputs": [
    {
     "data": {
      "text/plain": [
       "(2005, 551)"
      ]
     },
     "execution_count": 451,
     "metadata": {},
     "output_type": "execute_result"
    }
   ],
   "source": [
    "# Apply pca\n",
    "df_train_pca, pca = apply_pca(X_train)\n",
    "df_train_pca.shape"
   ]
  },
  {
   "cell_type": "code",
   "execution_count": 511,
   "id": "2b6ce128",
   "metadata": {},
   "outputs": [],
   "source": [
    "# get data\n",
    "X_train, Y_train, encoder = get_data_ML(df_train, df_train, df_train_pca)"
   ]
  },
  {
   "cell_type": "code",
   "execution_count": 453,
   "id": "8b22f530",
   "metadata": {},
   "outputs": [
    {
     "data": {
      "text/plain": [
       "array([0.01027361, 0.00356953, 0.00356953, ..., 0.10789315, 0.04103978,\n",
       "       1.02403645])"
      ]
     },
     "execution_count": 453,
     "metadata": {},
     "output_type": "execute_result"
    }
   ],
   "source": [
    "compute_sample_weight('balanced',Y)"
   ]
  },
  {
   "cell_type": "code",
   "execution_count": 524,
   "id": "3ab088e1",
   "metadata": {},
   "outputs": [],
   "source": [
    "random_state=42\n",
    "kf = KFold(n_splits=5) # define folds\n",
    "trials = Trials() # trials will contain logging information\n",
    "validatemodelpart = partial(validatemodel, kf, X_train, Y_train) # function to call from hyperopt optimizer"
   ]
  },
  {
   "cell_type": "code",
   "execution_count": 525,
   "id": "0a169662",
   "metadata": {},
   "outputs": [
    {
     "name": "stdout",
     "output_type": "stream",
     "text": [
      "params : {'algo': 'XT', 'bootstrap': False, 'class_weights': 'balanced', 'criterion': 'gini', 'max_depth': 20.0, 'max_features': 4.0, 'min_samples_leaf': 15, 'min_samples_split': 400, 'n_estimators': 800}\n",
      "Fitting fold 1                                      \n",
      "threshs: [0.0, 0.97, 0.94, 0.99, 0.99, 0.0, 0.95, 0.99, 0.89, 0.88, 0.81, 0.66, 0.0, 0.0, 0.99, 0.95, 0.0] -- best score: 0.7197770053439013\n",
      "Fitting fold 2                                      \n",
      "threshs: [0.0, 0.98, 0.96, 0.99, 0.99, 0.0, 0.96, 0.99, 0.93, 0.87, 0.89, 0.67, 0.0, 0.0, 0.99, 0.97, 0.69] -- best score: 0.7605248518880195\n",
      "Fitting fold 3                                      \n",
      "threshs: [0.0, 0.99, 0.95, 0.99, 0.99, 0.0, 0.95, 0.99, 0.56, 0.94, 0.92, 0.96, 0.0, 0.0, 0.99, 0.96, 0.44] -- best score: 0.7900937041354253\n",
      "Fitting fold 4                                      \n",
      "threshs: [0.37, 0.98, 0.94, 0.99, 0.99, 0.0, 0.96, 0.99, 0.94, 0.51, 0.93, 0.98, 0.0, 0.0, 0.99, 0.97, 0.0] -- best score: 0.7848160074979146\n",
      "Fitting fold 5                                      \n",
      "threshs: [0.0, 0.98, 0.93, 0.99, 0.99, 0.0, 0.0, 0.99, 0.52, 0.47, 0.84, 0.0, 0.0, 0.0, 0.99, 0.97, 0.0] -- best score: 0.6931648278693476\n",
      "Mean fbeta: 0.74968                                 \n",
      "params : {'algo': 'XT', 'bootstrap': False, 'class_weights': 'balanced', 'criterion': 'gini', 'max_depth': 14.0, 'max_features': 9.0, 'min_samples_leaf': 40, 'min_samples_split': 70, 'n_estimators': 400}\n",
      "Fitting fold 1                                                                   \n",
      "threshs: [0.0, 0.98, 0.96, 0.99, 0.99, 0.0, 0.97, 0.99, 0.96, 0.95, 0.8, 0.64, 0.0, 0.0, 0.99, 0.99, 0.53] -- best score: 0.7195720186261014\n",
      "Fitting fold 2                                                                   \n",
      "threshs: [0.0, 0.99, 0.97, 0.99, 0.99, 0.0, 0.97, 0.99, 0.0, 0.91, 0.9, 0.0, 0.0, 0.39, 0.99, 0.99, 0.68] -- best score: 0.7482752221405343\n",
      "Fitting fold 3                                                                   \n",
      "threshs: [0.0, 0.97, 0.97, 0.99, 0.99, 0.0, 0.97, 0.99, 0.51, 0.49, 0.96, 0.99, 0.0, 0.0, 0.99, 0.98, 0.44] -- best score: 0.7731233788490026\n",
      "Fitting fold 4                                                                   \n",
      "threshs: [0.43, 0.99, 0.95, 0.99, 0.99, 0.0, 0.97, 0.99, 0.62, 0.5, 0.98, 0.96, 0.0, 0.0, 0.99, 0.99, 0.0] -- best score: 0.7716612934451621\n",
      "Fitting fold 5                                                                   \n",
      "threshs: [0.3, 0.99, 0.95, 0.99, 0.99, 0.0, 0.0, 0.99, 0.53, 0.47, 0.85, 0.0, 0.0, 0.0, 0.99, 0.98, 0.35] -- best score: 0.6867505348553474\n",
      "Mean fbeta: 0.73988                                                              \n",
      "params : {'algo': 'XT', 'bootstrap': True, 'class_weights': 'balanced', 'criterion': 'gini', 'max_depth': 24.0, 'max_features': 7.0, 'min_samples_leaf': 5, 'min_samples_split': 2000, 'n_estimators': 200}\n",
      "Fitting fold 1                                                                   \n",
      "threshs: [0.0, 0.75, 0.67, 0.99, 0.95, 0.0, 0.88, 0.93, 0.62, 0.79, 0.0, 0.0, 0.0, 0.0, 0.8, 0.69, 0.0] -- best score: 0.7132769392805431\n",
      "Fitting fold 2                                                                   \n",
      "threshs: [0.0, 0.73, 0.7, 0.99, 0.96, 0.0, 0.89, 0.91, 0.62, 0.79, 0.92, 0.0, 0.0, 0.0, 0.75, 0.68, 0.43] -- best score: 0.7566136555984452\n",
      "Fitting fold 3                                                                   \n",
      "threshs: [0.0, 0.79, 0.72, 0.99, 0.99, 0.0, 0.9, 0.89, 0.0, 0.74, 0.91, 0.79, 0.0, 0.0, 0.7, 0.65, 0.0] -- best score: 0.7879944611644771\n",
      "Fitting fold 4                                                                   \n",
      "threshs: [0.0, 0.88, 0.85, 0.99, 0.95, 0.0, 0.91, 0.71, 0.63, 0.0, 0.92, 0.92, 0.0, 0.0, 0.74, 0.68, 0.0] -- best score: 0.7890042821097535\n",
      "Fitting fold 5                                                                   \n",
      "threshs: [0.0, 0.46, 0.38, 0.0, 0.9, 0.0, 0.0, 0.98, 0.0, 0.0, 0.88, 0.0, 0.0, 0.0, 0.99, 0.86, 0.0] -- best score: 0.6770939317205232\n",
      "Mean fbeta: 0.74480                                                              \n",
      "params : {'algo': 'XT', 'bootstrap': False, 'class_weights': 'balanced', 'criterion': 'entropy', 'max_depth': 2.0, 'max_features': 6.0, 'min_samples_leaf': 40, 'min_samples_split': 120, 'n_estimators': 10}\n",
      "Fitting fold 1                                                                   \n",
      "threshs: [0.39, 0.94, 0.9, 0.99, 0.98, 0.0, 0.94, 0.97, 0.78, 0.8, 0.68, 0.64, 0.0, 0.52, 0.99, 0.89, 0.59] -- best score: 0.7243159970286341\n",
      "Fitting fold 2                                                                   \n",
      "threshs: [0.44, 0.95, 0.92, 0.99, 0.97, 0.0, 0.91, 0.93, 0.72, 0.79, 0.91, 0.67, 0.0, 0.42, 0.99, 0.89, 0.63] -- best score: 0.7650494626564674\n",
      "Fitting fold 3                                                                   \n",
      "threshs: [0.28, 0.98, 0.91, 0.99, 0.99, 0.0, 0.98, 0.93, 0.65, 0.77, 0.95, 0.98, 0.0, 0.37, 0.99, 0.94, 0.57] -- best score: 0.804158024072434\n",
      "Fitting fold 4                                                                   \n",
      "threshs: [0.34, 0.94, 0.93, 0.99, 0.98, 0.0, 0.96, 0.99, 0.83, 0.32, 0.96, 0.97, 0.0, 0.38, 0.99, 0.93, 0.53] -- best score: 0.7919438186668818\n",
      "Fitting fold 5                                                                   \n",
      "threshs: [0.0, 0.88, 0.66, 0.98, 0.94, 0.0, 0.0, 0.98, 0.0, 0.42, 0.81, 0.59, 0.0, 0.0, 0.99, 0.97, 0.33] -- best score: 0.6637753475131287\n",
      "Mean fbeta: 0.74985                                                              \n",
      "params : {'algo': 'XT', 'bootstrap': True, 'class_weights': 'balanced', 'criterion': 'gini', 'max_depth': 4.0, 'max_features': 10.0, 'min_samples_leaf': 35, 'min_samples_split': 250, 'n_estimators': 200}\n",
      "Fitting fold 1                                                                  \n",
      "threshs: [0.0, 0.94, 0.9, 0.99, 0.98, 0.0, 0.89, 0.97, 0.83, 0.84, 0.83, 0.73, 0.0, 0.0, 0.98, 0.93, 0.58] -- best score: 0.7235660730804616\n",
      "Fitting fold 2                                                                  \n",
      "threshs: [0.48, 0.95, 0.94, 0.99, 0.99, 0.0, 0.92, 0.98, 0.85, 0.87, 0.92, 0.74, 0.0, 0.0, 0.97, 0.92, 0.66] -- best score: 0.7604617494044533\n",
      "Fitting fold 3                                                                  \n",
      "threshs: [0.46, 0.96, 0.91, 0.99, 0.99, 0.0, 0.91, 0.98, 0.56, 0.83, 0.91, 0.93, 0.0, 0.0, 0.97, 0.9, 0.51] -- best score: 0.7892019858660053\n",
      "Fitting fold 4                                                                  \n",
      "threshs: [0.0, 0.92, 0.89, 0.99, 0.96, 0.0, 0.89, 0.99, 0.83, 0.0, 0.91, 0.94, 0.0, 0.0, 0.97, 0.92, 0.0] -- best score: 0.7877651337716626\n",
      "Fitting fold 5                                                                  \n",
      "threshs: [0.35, 0.91, 0.86, 0.99, 0.99, 0.0, 0.0, 0.97, 0.53, 0.46, 0.82, 0.68, 0.0, 0.0, 0.98, 0.93, 0.37] -- best score: 0.6919633430946646\n",
      "Mean fbeta: 0.75059                                                             \n",
      "params : {'algo': 'XT', 'bootstrap': False, 'class_weights': 'balanced', 'criterion': 'entropy', 'max_depth': 30.0, 'max_features': 3.0, 'min_samples_leaf': 10, 'min_samples_split': 50, 'n_estimators': 100}\n",
      "Fitting fold 1                                                                \n",
      "threshs: [0.0, 0.99, 0.94, 0.99, 0.99, 0.0, 0.98, 0.99, 0.91, 0.88, 0.73, 0.0, 0.0, 0.0, 0.99, 0.99, 0.5] -- best score: 0.7045728530878236\n",
      "Fitting fold 2                                                                \n",
      "threshs: [0.0, 0.99, 0.97, 0.99, 0.99, 0.0, 0.98, 0.99, 0.55, 0.96, 0.95, 0.64, 0.0, 0.0, 0.99, 0.99, 0.59] -- best score: 0.738486175981217\n",
      "Fitting fold 3                                                                \n",
      "threshs: [0.41, 0.99, 0.99, 0.99, 0.99, 0.0, 0.98, 0.99, 0.54, 0.53, 0.94, 0.98, 0.0, 0.36, 0.99, 0.99, 0.44] -- best score: 0.7664494884797524\n",
      "Fitting fold 4                                                                \n",
      "threshs: [0.0, 0.99, 0.98, 0.99, 0.99, 0.0, 0.99, 0.99, 0.0, 0.52, 0.99, 0.99, 0.0, 0.37, 0.99, 0.99, 0.43] -- best score: 0.750966444712978\n",
      "Fitting fold 5                                                                \n",
      "threshs: [0.0, 0.99, 0.97, 0.99, 0.99, 0.0, 0.0, 0.99, 0.51, 0.52, 0.9, 0.0, 0.0, 0.38, 0.99, 0.99, 0.0] -- best score: 0.6764576079128305\n",
      "Mean fbeta: 0.72739                                                           \n",
      "params : {'algo': 'XT', 'bootstrap': False, 'class_weights': 'balanced', 'criterion': 'entropy', 'max_depth': 24.0, 'max_features': 8.0, 'min_samples_leaf': 15, 'min_samples_split': 1300, 'n_estimators': 60}\n",
      "Fitting fold 1                                                                \n",
      "threshs: [0.0, 0.97, 0.93, 0.99, 0.97, 0.0, 0.9, 0.97, 0.78, 0.84, 0.73, 0.68, 0.0, 0.0, 0.98, 0.87, 0.54] -- best score: 0.7180533934314639\n",
      "Fitting fold 2                                                                \n",
      "threshs: [0.47, 0.94, 0.91, 0.99, 0.97, 0.0, 0.9, 0.97, 0.61, 0.83, 0.91, 0.0, 0.0, 0.39, 0.97, 0.88, 0.63] -- best score: 0.7539423256460298\n",
      "Fitting fold 3                                                                \n",
      "threshs: [0.39, 0.97, 0.89, 0.99, 0.99, 0.0, 0.89, 0.95, 0.56, 0.78, 0.91, 0.96, 0.0, 0.38, 0.97, 0.88, 0.51] -- best score: 0.794707659429665\n",
      "Fitting fold 4                                                                \n",
      "threshs: [0.37, 0.93, 0.91, 0.99, 0.97, 0.0, 0.93, 0.98, 0.83, 0.54, 0.94, 0.96, 0.0, 0.29, 0.98, 0.9, 0.46] -- best score: 0.7914454769229597\n",
      "Fitting fold 5                                                                \n",
      "threshs: [0.36, 0.9, 0.88, 0.99, 0.99, 0.0, 0.0, 0.98, 0.51, 0.44, 0.82, 0.0, 0.0, 0.0, 0.99, 0.94, 0.31] -- best score: 0.679904771876287\n",
      "Mean fbeta: 0.74761                                                           \n",
      "params : {'algo': 'XT', 'bootstrap': True, 'class_weights': 'balanced', 'criterion': 'gini', 'max_depth': 28.0, 'max_features': 3.0, 'min_samples_leaf': 45, 'min_samples_split': 50, 'n_estimators': 200}\n",
      "Fitting fold 1                                                                \n",
      "threshs: [0.48, 0.97, 0.9, 0.99, 0.99, 0.0, 0.93, 0.99, 0.85, 0.81, 0.81, 0.0, 0.0, 0.0, 0.98, 0.97, 0.68] -- best score: 0.7260776746235461\n",
      "Fitting fold 2                                                                \n",
      "threshs: [0.49, 0.98, 0.93, 0.99, 0.99, 0.0, 0.95, 0.99, 0.89, 0.89, 0.86, 0.0, 0.0, 0.0, 0.99, 0.96, 0.64] -- best score: 0.762311164363958\n",
      "Fitting fold 3                                                                \n",
      "threshs: [0.0, 0.99, 0.94, 0.99, 0.99, 0.0, 0.93, 0.99, 0.56, 0.92, 0.93, 0.94, 0.0, 0.0, 0.98, 0.98, 0.51] -- best score: 0.7872262824268385\n",
      "Fitting fold 4                                                                \n",
      "threshs: [0.46, 0.99, 0.93, 0.99, 0.99, 0.0, 0.94, 0.99, 0.97, 0.0, 0.96, 0.98, 0.18, 0.37, 0.99, 0.98, 0.0] -- best score: 0.7842771633364923\n",
      "Fitting fold 5                                                                \n",
      "threshs: [0.33, 0.98, 0.9, 0.99, 0.99, 0.0, 0.0, 0.99, 0.0, 0.5, 0.85, 0.0, 0.0, 0.0, 0.99, 0.96, 0.0] -- best score: 0.6937840710788759\n",
      "Mean fbeta: 0.75074                                                           \n",
      "params : {'algo': 'XT', 'bootstrap': True, 'class_weights': 'balanced', 'criterion': 'gini', 'max_depth': 14.0, 'max_features': 9.0, 'min_samples_leaf': 25, 'min_samples_split': 1000, 'n_estimators': 600}\n",
      "Fitting fold 1                                                                \n",
      "threshs: [0.56, 0.85, 0.75, 0.99, 0.95, 0.0, 0.86, 0.93, 0.66, 0.76, 0.77, 0.0, 0.0, 0.49, 0.92, 0.78, 0.57] -- best score: 0.736495319231377\n",
      "Fitting fold 2                                                                \n",
      "threshs: [0.55, 0.81, 0.77, 0.99, 0.94, 0.0, 0.86, 0.91, 0.66, 0.77, 0.89, 0.0, 0.0, 0.44, 0.91, 0.8, 0.55] -- best score: 0.7669077301474181\n",
      "Fitting fold 3                                                                \n",
      "threshs: [0.5, 0.83, 0.76, 0.98, 0.98, 0.0, 0.88, 0.88, 0.65, 0.69, 0.89, 0.83, 0.0, 0.39, 0.93, 0.85, 0.53] -- best score: 0.8223612117999186\n",
      "Fitting fold 4                                                                \n",
      "threshs: [0.44, 0.87, 0.83, 0.99, 0.93, 0.0, 0.88, 0.85, 0.7, 0.6, 0.91, 0.91, 0.0, 0.39, 0.9, 0.8, 0.53] -- best score: 0.7924533390689832\n",
      "Fitting fold 5                                                                \n",
      "threshs: [0.0, 0.82, 0.66, 0.0, 0.89, 0.0, 0.0, 0.96, 0.7, 0.0, 0.8, 0.71, 0.0, 0.0, 0.99, 0.83, 0.45] -- best score: 0.6778109204674371\n",
      "Mean fbeta: 0.75921                                                           \n",
      "params : {'algo': 'XT', 'bootstrap': False, 'class_weights': 'balanced', 'criterion': 'gini', 'max_depth': 18.0, 'max_features': 5.0, 'min_samples_leaf': 10, 'min_samples_split': 1300, 'n_estimators': 600}\n",
      "Fitting fold 1                                                                \n",
      "threshs: [0.46, 0.94, 0.87, 0.99, 0.95, 0.0, 0.89, 0.94, 0.75, 0.8, 0.74, 0.71, 0.0, 0.49, 0.98, 0.82, 0.58] -- best score: 0.7207898289607523\n",
      "Fitting fold 2                                                                \n",
      "threshs: [0.49, 0.91, 0.87, 0.99, 0.95, 0.0, 0.89, 0.93, 0.64, 0.8, 0.9, 0.0, 0.0, 0.0, 0.96, 0.83, 0.61] -- best score: 0.7594367095647842\n",
      "Fitting fold 3                                                                \n",
      "threshs: [0.44, 0.93, 0.83, 0.98, 0.99, 0.0, 0.89, 0.92, 0.62, 0.73, 0.9, 0.92, 0.0, 0.42, 0.96, 0.88, 0.52] -- best score: 0.8091620554585568\n",
      "Fitting fold 4                                                                \n",
      "threshs: [0.43, 0.91, 0.87, 0.99, 0.94, 0.0, 0.9, 0.95, 0.71, 0.6, 0.93, 0.93, 0.0, 0.35, 0.97, 0.87, 0.49] -- best score: 0.791977649199388\n",
      "Fitting fold 5                                                                \n",
      "threshs: [0.38, 0.89, 0.84, 0.99, 0.99, 0.0, 0.0, 0.96, 0.52, 0.44, 0.83, 0.68, 0.0, 0.0, 0.99, 0.91, 0.0] -- best score: 0.6814921947414748\n",
      "Mean fbeta: 0.75257                                                           \n",
      "params : {'algo': 'XT', 'bootstrap': True, 'class_weights': 'balanced', 'criterion': 'gini', 'max_depth': 12.0, 'max_features': 8.0, 'min_samples_leaf': 45, 'min_samples_split': 50, 'n_estimators': 60}\n",
      "Fitting fold 1                                                                 \n",
      "threshs: [0.41, 0.98, 0.92, 0.99, 0.99, 0.0, 0.98, 0.99, 0.95, 0.93, 0.74, 0.0, 0.0, 0.35, 0.99, 0.98, 0.55] -- best score: 0.7123902361017996\n",
      "Fitting fold 2                                                                 \n",
      "threshs: [0.0, 0.99, 0.99, 0.99, 0.99, 0.0, 0.99, 0.99, 0.5, 0.97, 0.92, 0.58, 0.0, 0.0, 0.99, 0.99, 0.69] -- best score: 0.746622713882953\n",
      "Fitting fold 3                                                                 \n",
      "threshs: [0.38, 0.99, 0.97, 0.99, 0.99, 0.0, 0.98, 0.99, 0.5, 0.47, 0.95, 0.97, 0.0, 0.36, 0.99, 0.99, 0.48] -- best score: 0.7703309444899459\n",
      "Fitting fold 4                                                                 \n",
      "threshs: [0.0, 0.99, 0.95, 0.99, 0.99, 0.0, 0.98, 0.99, 0.99, 0.42, 0.97, 0.99, 0.0, 0.0, 0.99, 0.99, 0.0] -- best score: 0.7773225518651103\n",
      "Fitting fold 5                                                                 \n",
      "threshs: [0.0, 0.99, 0.96, 0.99, 0.99, 0.0, 0.0, 0.99, 0.48, 0.41, 0.88, 0.0, 0.0, 0.37, 0.99, 0.99, 0.32] -- best score: 0.6830990341972755\n",
      "Mean fbeta: 0.73795                                                            \n",
      "params : {'algo': 'XT', 'bootstrap': True, 'class_weights': 'balanced', 'criterion': 'entropy', 'max_depth': 28.0, 'max_features': 5.0, 'min_samples_leaf': 45, 'min_samples_split': 180, 'n_estimators': 80}\n",
      "Fitting fold 1                                                                 \n",
      "threshs: [0.0, 0.98, 0.91, 0.99, 0.99, 0.0, 0.96, 0.99, 0.89, 0.9, 0.81, 0.68, 0.0, 0.0, 0.99, 0.96, 0.53] -- best score: 0.7172158334493344\n",
      "Fitting fold 2                                                                 \n",
      "threshs: [0.0, 0.98, 0.95, 0.99, 0.99, 0.0, 0.97, 0.99, 0.91, 0.93, 0.9, 0.0, 0.0, 0.41, 0.99, 0.97, 0.63] -- best score: 0.7615322042896882\n",
      "Fitting fold 3                                                                 \n",
      "threshs: [0.0, 0.99, 0.95, 0.99, 0.99, 0.0, 0.98, 0.99, 0.52, 0.94, 0.93, 0.97, 0.0, 0.0, 0.99, 0.97, 0.49] -- best score: 0.7896199467123959\n",
      "Fitting fold 4                                                                 \n",
      "threshs: [0.42, 0.98, 0.92, 0.99, 0.99, 0.0, 0.97, 0.99, 0.96, 0.54, 0.96, 0.98, 0.0, 0.32, 0.99, 0.99, 0.44] -- best score: 0.7832866664454242\n",
      "Fitting fold 5                                                                 \n"
     ]
    },
    {
     "name": "stdout",
     "output_type": "stream",
     "text": [
      "threshs: [0.33, 0.98, 0.95, 0.99, 0.99, 0.0, 0.0, 0.99, 0.0, 0.0, 0.85, 0.0, 0.0, 0.0, 0.99, 0.99, 0.0] -- best score: 0.6915812909287226\n",
      "Mean fbeta: 0.74865                                                            \n",
      "params : {'algo': 'XT', 'bootstrap': True, 'class_weights': 'balanced', 'criterion': 'gini', 'max_depth': 34.0, 'max_features': 6.0, 'min_samples_leaf': 25, 'min_samples_split': 250, 'n_estimators': 60}\n",
      "Fitting fold 1                                                                 \n",
      "threshs: [0.4, 0.97, 0.94, 0.99, 0.99, 0.0, 0.97, 0.99, 0.91, 0.89, 0.82, 0.0, 0.0, 0.0, 0.99, 0.96, 0.0] -- best score: 0.7197159829914319\n",
      "Fitting fold 2                                                                 \n",
      "threshs: [0.0, 0.98, 0.98, 0.99, 0.99, 0.0, 0.97, 0.99, 0.54, 0.91, 0.91, 0.66, 0.0, 0.0, 0.99, 0.97, 0.68] -- best score: 0.7472304702853066\n",
      "Fitting fold 3                                                                 \n",
      "threshs: [0.39, 0.98, 0.94, 0.99, 0.99, 0.0, 0.97, 0.99, 0.44, 0.94, 0.93, 0.96, 0.0, 0.0, 0.99, 0.97, 0.41] -- best score: 0.7829825964404797\n",
      "Fitting fold 4                                                                 \n",
      "threshs: [0.35, 0.97, 0.95, 0.99, 0.99, 0.0, 0.97, 0.99, 0.96, 0.51, 0.95, 0.98, 0.0, 0.0, 0.99, 0.98, 0.38] -- best score: 0.7767984599324473\n",
      "Fitting fold 5                                                                 \n",
      "threshs: [0.31, 0.99, 0.94, 0.99, 0.99, 0.37, 0.0, 0.99, 0.51, 0.46, 0.85, 0.0, 0.0, 0.0, 0.99, 0.98, 0.0] -- best score: 0.6903558848585702\n",
      "Mean fbeta: 0.74342                                                            \n",
      "params : {'algo': 'XT', 'bootstrap': False, 'class_weights': 'balanced', 'criterion': 'entropy', 'max_depth': 32.0, 'max_features': 3.0, 'min_samples_leaf': 35, 'min_samples_split': 250, 'n_estimators': 10}\n",
      "Fitting fold 1                                                                 \n",
      "threshs: [0.0, 0.99, 0.99, 0.99, 0.99, 0.0, 0.99, 0.99, 0.97, 0.94, 0.59, 0.6, 0.0, 0.25, 0.99, 0.99, 0.37] -- best score: 0.6803166013428826\n",
      "Fitting fold 2                                                                 \n",
      "threshs: [0.26, 0.99, 0.99, 0.99, 0.99, 0.0, 0.99, 0.99, 0.49, 0.85, 0.99, 0.48, 0.0, 0.0, 0.99, 0.98, 0.68] -- best score: 0.7226673714103625\n",
      "Fitting fold 3                                                                 \n",
      "threshs: [0.23, 0.99, 0.97, 0.99, 0.99, 0.0, 0.99, 0.99, 0.38, 0.58, 0.99, 0.98, 0.0, 0.0, 0.99, 0.99, 0.37] -- best score: 0.7572792938455057\n",
      "Fitting fold 4                                                                 \n",
      "threshs: [0.23, 0.99, 0.99, 0.99, 0.99, 0.06, 0.99, 0.98, 0.69, 0.0, 0.98, 0.98, 0.0, 0.22, 0.99, 0.99, 0.25] -- best score: 0.7493610213716541\n",
      "Fitting fold 5                                                                 \n",
      "threshs: [0.0, 0.99, 0.99, 0.99, 0.93, 0.29, 0.0, 0.99, 0.0, 0.28, 0.95, 0.47, 0.0, 0.0, 0.99, 0.99, 0.1] -- best score: 0.6611125574411508\n",
      "Mean fbeta: 0.71415                                                            \n",
      "params : {'algo': 'XT', 'bootstrap': True, 'class_weights': 'balanced', 'criterion': 'entropy', 'max_depth': 32.0, 'max_features': 2.0, 'min_samples_leaf': 45, 'min_samples_split': 1300, 'n_estimators': 10}\n",
      "Fitting fold 1                                                                 \n",
      "threshs: [0.0, 0.7, 0.6, 0.99, 0.96, 0.0, 0.88, 0.9, 0.7, 0.77, 0.0, 0.0, 0.0, 0.0, 0.88, 0.78, 0.0] -- best score: 0.7132769392805431\n",
      "Fitting fold 2                                                                 \n",
      "threshs: [0.0, 0.68, 0.65, 0.99, 0.96, 0.0, 0.89, 0.95, 0.0, 0.83, 0.93, 0.0, 0.0, 0.0, 0.75, 0.67, 0.0] -- best score: 0.7477592291526305\n",
      "Fitting fold 3                                                                 \n",
      "threshs: [0.0, 0.76, 0.69, 0.98, 0.97, 0.0, 0.88, 0.86, 0.0, 0.68, 0.9, 0.76, 0.0, 0.0, 0.83, 0.76, 0.0] -- best score: 0.7879944611644771\n",
      "Fitting fold 4                                                                 \n",
      "threshs: [0.0, 0.92, 0.88, 0.99, 0.95, 0.0, 0.92, 0.61, 0.7, 0.0, 0.94, 0.94, 0.0, 0.0, 0.81, 0.74, 0.0] -- best score: 0.7890042821097535\n",
      "Fitting fold 5                                                                 \n",
      "threshs: [0.0, 0.49, 0.46, 0.0, 0.83, 0.0, 0.0, 0.97, 0.0, 0.0, 0.9, 0.0, 0.0, 0.0, 0.99, 0.8, 0.0] -- best score: 0.6770939317205232\n",
      "Mean fbeta: 0.74303                                                            \n",
      "params : {'algo': 'XT', 'bootstrap': True, 'class_weights': 'balanced', 'criterion': 'entropy', 'max_depth': 34.0, 'max_features': 4.0, 'min_samples_leaf': 35, 'min_samples_split': 100, 'n_estimators': 600}\n",
      "Fitting fold 1                                                                 \n",
      "threshs: [0.0, 0.97, 0.91, 0.99, 0.99, 0.0, 0.95, 0.99, 0.87, 0.84, 0.81, 0.71, 0.0, 0.0, 0.99, 0.97, 0.57] -- best score: 0.7216346367999995\n",
      "Fitting fold 2                                                                 \n",
      "threshs: [0.49, 0.98, 0.95, 0.99, 0.99, 0.0, 0.95, 0.99, 0.93, 0.84, 0.89, 0.69, 0.0, 0.42, 0.99, 0.98, 0.63] -- best score: 0.7611191150232718\n",
      "Fitting fold 3                                                                 \n",
      "threshs: [0.0, 0.99, 0.95, 0.99, 0.99, 0.0, 0.95, 0.99, 0.0, 0.94, 0.95, 0.96, 0.0, 0.39, 0.99, 0.99, 0.48] -- best score: 0.7873851553006128\n",
      "Fitting fold 4                                                                 \n",
      "threshs: [0.0, 0.99, 0.93, 0.99, 0.99, 0.0, 0.95, 0.99, 0.97, 0.57, 0.96, 0.98, 0.0, 0.41, 0.99, 0.99, 0.48] -- best score: 0.782387943688746\n",
      "Fitting fold 5                                                                 \n",
      "threshs: [0.0, 0.98, 0.92, 0.99, 0.99, 0.0, 0.0, 0.99, 0.0, 0.52, 0.83, 0.0, 0.0, 0.0, 0.99, 0.98, 0.39] -- best score: 0.6946471691154259\n",
      "Mean fbeta: 0.74943                                                            \n",
      "params : {'algo': 'XT', 'bootstrap': False, 'class_weights': 'balanced', 'criterion': 'entropy', 'max_depth': 26.0, 'max_features': 4.0, 'min_samples_leaf': 15, 'min_samples_split': 180, 'n_estimators': 400}\n",
      "Fitting fold 1                                                                 \n",
      "threshs: [0.44, 0.98, 0.95, 0.99, 0.99, 0.0, 0.96, 0.99, 0.9, 0.91, 0.79, 0.65, 0.0, 0.0, 0.99, 0.97, 0.47] -- best score: 0.7154632539914363\n",
      "Fitting fold 2                                                                 \n",
      "threshs: [0.44, 0.99, 0.96, 0.99, 0.99, 0.0, 0.97, 0.99, 0.54, 0.87, 0.89, 0.0, 0.0, 0.0, 0.99, 0.99, 0.65] -- best score: 0.7500593686807657\n",
      "Fitting fold 3                                                                 \n",
      "threshs: [0.0, 0.99, 0.96, 0.99, 0.99, 0.0, 0.96, 0.99, 0.52, 0.56, 0.95, 0.98, 0.0, 0.0, 0.99, 0.99, 0.0] -- best score: 0.7775148921726072\n",
      "Fitting fold 4                                                                 \n",
      "threshs: [0.41, 0.99, 0.94, 0.99, 0.99, 0.0, 0.96, 0.99, 0.99, 0.52, 0.97, 0.99, 0.0, 0.0, 0.98, 0.99, 0.46] -- best score: 0.7807315350385245\n",
      "Fitting fold 5                                                                 \n",
      "threshs: [0.0, 0.99, 0.96, 0.99, 0.99, 0.0, 0.0, 0.99, 0.0, 0.48, 0.82, 0.0, 0.0, 0.0, 0.99, 0.99, 0.35] -- best score: 0.6901515480491888\n",
      "Mean fbeta: 0.74278                                                            \n",
      "params : {'algo': 'XT', 'bootstrap': False, 'class_weights': 'balanced', 'criterion': 'gini', 'max_depth': 6.0, 'max_features': 10.0, 'min_samples_leaf': 15, 'min_samples_split': 100, 'n_estimators': 600}\n",
      "Fitting fold 1                                                                 \n",
      "threshs: [0.0, 0.96, 0.95, 0.99, 0.99, 0.0, 0.93, 0.99, 0.92, 0.9, 0.83, 0.0, 0.0, 0.0, 0.99, 0.97, 0.5] -- best score: 0.719298603435255\n",
      "Fitting fold 2                                                                 \n",
      "threshs: [0.0, 0.96, 0.95, 0.99, 0.99, 0.0, 0.93, 0.99, 0.91, 0.91, 0.87, 0.69, 0.0, 0.0, 0.98, 0.96, 0.81] -- best score: 0.7591153799132502\n",
      "Fitting fold 3                                                                 \n",
      "threshs: [0.0, 0.98, 0.94, 0.98, 0.99, 0.0, 0.93, 0.99, 0.54, 0.91, 0.92, 0.95, 0.0, 0.0, 0.98, 0.95, 0.0] -- best score: 0.787168925827294\n",
      "Fitting fold 4                                                                 \n",
      "threshs: [0.0, 0.94, 0.94, 0.99, 0.99, 0.0, 0.94, 0.99, 0.88, 0.53, 0.91, 0.95, 0.0, 0.0, 0.97, 0.95, 0.0] -- best score: 0.7805371230589216\n",
      "Fitting fold 5                                                                 \n",
      "threshs: [0.0, 0.93, 0.86, 0.99, 0.99, 0.0, 0.0, 0.97, 0.48, 0.43, 0.81, 0.0, 0.0, 0.0, 0.99, 0.94, 0.33] -- best score: 0.6806963874402466\n",
      "Mean fbeta: 0.74536                                                            \n",
      "params : {'algo': 'XT', 'bootstrap': True, 'class_weights': 'balanced', 'criterion': 'gini', 'max_depth': 38.0, 'max_features': 5.0, 'min_samples_leaf': 15, 'min_samples_split': 100, 'n_estimators': 400}\n",
      "Fitting fold 1                                                                 \n",
      "threshs: [0.44, 0.98, 0.94, 0.99, 0.99, 0.0, 0.96, 0.99, 0.91, 0.9, 0.79, 0.0, 0.0, 0.0, 0.99, 0.98, 0.62] -- best score: 0.7196542458710042\n",
      "Fitting fold 2                                                                 \n",
      "threshs: [0.0, 0.99, 0.96, 0.99, 0.99, 0.0, 0.97, 0.99, 0.55, 0.88, 0.86, 0.0, 0.0, 0.0, 0.99, 0.99, 0.65] -- best score: 0.7499891700235898\n",
      "Fitting fold 3                                                                 \n",
      "threshs: [0.0, 0.99, 0.96, 0.99, 0.99, 0.0, 0.97, 0.99, 0.55, 0.52, 0.96, 0.98, 0.0, 0.0, 0.99, 0.99, 0.48] -- best score: 0.7762275781900115\n",
      "Fitting fold 4                                                                 \n",
      "threshs: [0.0, 0.99, 0.94, 0.99, 0.99, 0.0, 0.97, 0.99, 0.99, 0.0, 0.98, 0.99, 0.0, 0.0, 0.99, 0.99, 0.45] -- best score: 0.7784007714876348\n",
      "Fitting fold 5                                                                 \n",
      "threshs: [0.0, 0.99, 0.95, 0.99, 0.99, 0.0, 0.0, 0.99, 0.55, 0.52, 0.87, 0.0, 0.0, 0.0, 0.99, 0.99, 0.0] -- best score: 0.6868523037914558\n",
      "Mean fbeta: 0.74222                                                            \n",
      "params : {'algo': 'XT', 'bootstrap': False, 'class_weights': 'balanced', 'criterion': 'gini', 'max_depth': 2.0, 'max_features': 9.0, 'min_samples_leaf': 10, 'min_samples_split': 1300, 'n_estimators': 600}\n",
      "Fitting fold 1                                                                 \n",
      "threshs: [0.52, 0.94, 0.84, 0.99, 0.94, 0.0, 0.87, 0.93, 0.75, 0.76, 0.0, 0.68, 0.0, 0.55, 0.98, 0.83, 0.63] -- best score: 0.7376107154799763\n",
      "Fitting fold 2                                                                 \n",
      "threshs: [0.51, 0.92, 0.88, 0.99, 0.94, 0.0, 0.87, 0.89, 0.67, 0.73, 0.89, 0.71, 0.0, 0.48, 0.97, 0.85, 0.62] -- best score: 0.7712878732341019\n",
      "Fitting fold 3                                                                 \n",
      "threshs: [0.41, 0.95, 0.85, 0.98, 0.98, 0.0, 0.89, 0.87, 0.63, 0.71, 0.9, 0.94, 0.0, 0.41, 0.97, 0.9, 0.59] -- best score: 0.8138679905903895\n",
      "Fitting fold 4                                                                 \n",
      "threshs: [0.39, 0.88, 0.85, 0.99, 0.94, 0.0, 0.91, 0.94, 0.72, 0.57, 0.92, 0.92, 0.0, 0.39, 0.97, 0.84, 0.47] -- best score: 0.7930446056800339\n",
      "Fitting fold 5                                                                 \n",
      "threshs: [0.0, 0.85, 0.65, 0.0, 0.99, 0.0, 0.0, 0.95, 0.0, 0.0, 0.79, 0.71, 0.15, 0.0, 0.99, 0.93, 0.41] -- best score: 0.667537037633399\n",
      "Mean fbeta: 0.75667                                                            \n",
      "params : {'algo': 'XT', 'bootstrap': False, 'class_weights': 'balanced', 'criterion': 'gini', 'max_depth': 8.0, 'max_features': 9.0, 'min_samples_leaf': 25, 'min_samples_split': 1000, 'n_estimators': 40}\n",
      "Fitting fold 1                                                                 \n",
      "threshs: [0.0, 0.98, 0.95, 0.99, 0.98, 0.0, 0.96, 0.98, 0.88, 0.93, 0.75, 0.58, 0.0, 0.31, 0.99, 0.9, 0.43] -- best score: 0.7155276110845636\n",
      "Fitting fold 2                                                                 \n",
      "threshs: [0.0, 0.97, 0.96, 0.99, 0.98, 0.0, 0.98, 0.99, 0.51, 0.93, 0.93, 0.0, 0.0, 0.0, 0.98, 0.89, 0.66] -- best score: 0.7484656988401426\n",
      "Fitting fold 3                                                                 \n",
      "threshs: [0.36, 0.98, 0.94, 0.99, 0.99, 0.0, 0.95, 0.99, 0.5, 0.87, 0.94, 0.98, 0.0, 0.41, 0.98, 0.9, 0.47] -- best score: 0.7898915274767239\n",
      "Fitting fold 4                                                                 \n",
      "threshs: [0.28, 0.97, 0.96, 0.99, 0.98, 0.0, 0.98, 0.99, 0.86, 0.0, 0.97, 0.98, 0.0, 0.2, 0.98, 0.92, 0.0] -- best score: 0.7857148705178382\n",
      "Fitting fold 5                                                                 \n",
      "threshs: [0.28, 0.97, 0.9, 0.99, 0.98, 0.0, 0.0, 0.98, 0.43, 0.0, 0.83, 0.0, 0.0, 0.0, 0.99, 0.97, 0.31] -- best score: 0.6770787359142498\n",
      "Mean fbeta: 0.74334                                                            \n",
      "params : {'algo': 'XT', 'bootstrap': True, 'class_weights': 'balanced', 'criterion': 'gini', 'max_depth': 10.0, 'max_features': 9.0, 'min_samples_leaf': 20, 'min_samples_split': 1000, 'n_estimators': 20}\n",
      "Fitting fold 1                                                                 \n",
      "threshs: [0.52, 0.88, 0.78, 0.99, 0.97, 0.0, 0.89, 0.94, 0.71, 0.8, 0.75, 0.67, 0.0, 0.43, 0.95, 0.85, 0.55] -- best score: 0.7241450512577539\n",
      "Fitting fold 2                                                                 \n",
      "threshs: [0.45, 0.85, 0.81, 0.99, 0.97, 0.0, 0.88, 0.94, 0.72, 0.81, 0.91, 0.66, 0.0, 0.41, 0.9, 0.81, 0.51] -- best score: 0.7636225324776511\n",
      "Fitting fold 3                                                                 \n",
      "threshs: [0.0, 0.89, 0.81, 0.99, 0.98, 0.0, 0.9, 0.9, 0.59, 0.73, 0.91, 0.9, 0.0, 0.34, 0.91, 0.85, 0.48] -- best score: 0.8022970856838488\n",
      "Fitting fold 4                                                                 \n",
      "threshs: [0.33, 0.88, 0.86, 0.99, 0.97, 0.0, 0.92, 0.8, 0.8, 0.47, 0.94, 0.94, 0.0, 0.27, 0.93, 0.84, 0.48] -- best score: 0.7895214177364213\n",
      "Fitting fold 5                                                                 \n",
      "threshs: [0.0, 0.79, 0.68, 0.0, 0.96, 0.0, 0.0, 0.96, 0.0, 0.0, 0.84, 0.6, 0.0, 0.0, 0.99, 0.91, 0.35] -- best score: 0.6772696676821937\n",
      "Mean fbeta: 0.75137                                                            \n",
      "params : {'algo': 'XT', 'bootstrap': True, 'class_weights': 'balanced', 'criterion': 'gini', 'max_depth': 16.0, 'max_features': 8.0, 'min_samples_leaf': 30, 'min_samples_split': 600, 'n_estimators': 1000}\n",
      "Fitting fold 1                                                                 \n",
      "threshs: [0.0, 0.95, 0.92, 0.99, 0.97, 0.0, 0.91, 0.97, 0.85, 0.85, 0.84, 0.73, 0.0, 0.0, 0.98, 0.92, 0.67] -- best score: 0.7252335318117641\n",
      "Fitting fold 2                                                                 \n",
      "threshs: [0.49, 0.95, 0.94, 0.99, 0.98, 0.0, 0.92, 0.98, 0.87, 0.88, 0.91, 0.0, 0.0, 0.0, 0.98, 0.92, 0.67] -- best score: 0.7609358650988854\n",
      "Fitting fold 3                                                                 \n",
      "threshs: [0.46, 0.97, 0.92, 0.98, 0.99, 0.0, 0.92, 0.98, 0.55, 0.86, 0.9, 0.94, 0.0, 0.0, 0.97, 0.92, 0.48] -- best score: 0.7887793466347082\n",
      "Fitting fold 4                                                                 \n",
      "threshs: [0.44, 0.94, 0.9, 0.99, 0.98, 0.0, 0.92, 0.99, 0.87, 0.58, 0.91, 0.95, 0.0, 0.0, 0.97, 0.92, 0.0] -- best score: 0.7870880943439934\n",
      "Fitting fold 5                                                                 \n",
      "threshs: [0.34, 0.94, 0.89, 0.99, 0.99, 0.0, 0.0, 0.98, 0.54, 0.48, 0.82, 0.67, 0.0, 0.0, 0.98, 0.95, 0.37] -- best score: 0.6934320814081409\n",
      "Mean fbeta: 0.75109                                                            \n",
      "params : {'algo': 'XT', 'bootstrap': False, 'class_weights': 'balanced', 'criterion': 'gini', 'max_depth': 4.0, 'max_features': 7.0, 'min_samples_leaf': 10, 'min_samples_split': 150, 'n_estimators': 600}\n",
      "Fitting fold 1                                                                 \n",
      "threshs: [0.0, 0.96, 0.9, 0.99, 0.97, 0.0, 0.9, 0.96, 0.81, 0.8, 0.77, 0.0, 0.0, 0.0, 0.98, 0.87, 0.58] -- best score: 0.7162170550941502\n",
      "Fitting fold 2                                                                 \n",
      "threshs: [0.49, 0.92, 0.9, 0.99, 0.97, 0.0, 0.89, 0.97, 0.73, 0.81, 0.9, 0.0, 0.0, 0.0, 0.97, 0.88, 0.64] -- best score: 0.7589981864950935\n",
      "Fitting fold 3                                                                 \n"
     ]
    },
    {
     "name": "stdout",
     "output_type": "stream",
     "text": [
      "threshs: [0.46, 0.96, 0.87, 0.98, 0.99, 0.0, 0.88, 0.97, 0.59, 0.72, 0.89, 0.94, 0.0, 0.47, 0.97, 0.89, 0.51] -- best score: 0.7967548128172511\n",
      "Fitting fold 4                                                                 \n",
      "threshs: [0.45, 0.92, 0.89, 0.99, 0.96, 0.0, 0.9, 0.98, 0.78, 0.58, 0.91, 0.94, 0.0, 0.0, 0.97, 0.89, 0.48] -- best score: 0.7896009709427483\n",
      "Fitting fold 5                                                                 \n",
      "threshs: [0.42, 0.84, 0.83, 0.99, 0.99, 0.0, 0.0, 0.95, 0.0, 0.45, 0.83, 0.7, 0.0, 0.0, 0.98, 0.93, 0.32] -- best score: 0.6672549380396412\n",
      "Mean fbeta: 0.74577                                                            \n",
      "params : {'algo': 'XT', 'bootstrap': True, 'class_weights': 'balanced', 'criterion': 'gini', 'max_depth': 10.0, 'max_features': 7.0, 'min_samples_leaf': 25, 'min_samples_split': 2, 'n_estimators': 600}\n",
      "Fitting fold 1                                                                 \n",
      "threshs: [0.46, 0.97, 0.94, 0.99, 0.99, 0.0, 0.96, 0.99, 0.93, 0.9, 0.81, 0.0, 0.0, 0.0, 0.99, 0.98, 0.0] -- best score: 0.7204750312988444\n",
      "Fitting fold 2                                                                 \n",
      "threshs: [0.0, 0.98, 0.97, 0.99, 0.99, 0.0, 0.97, 0.99, 0.0, 0.89, 0.89, 0.0, 0.0, 0.0, 0.99, 0.98, 0.64] -- best score: 0.749076055674133\n",
      "Fitting fold 3                                                                 \n",
      "threshs: [0.0, 0.98, 0.96, 0.99, 0.99, 0.0, 0.96, 0.99, 0.56, 0.52, 0.94, 0.97, 0.0, 0.0, 0.99, 0.98, 0.0] -- best score: 0.7753492638247953\n",
      "Fitting fold 4                                                                 \n",
      "threshs: [0.45, 0.99, 0.94, 0.99, 0.99, 0.0, 0.96, 0.99, 0.99, 0.0, 0.97, 0.99, 0.0, 0.0, 0.99, 0.99, 0.0] -- best score: 0.7776795195920032\n",
      "Fitting fold 5                                                                 \n",
      "threshs: [0.0, 0.98, 0.94, 0.99, 0.99, 0.0, 0.0, 0.99, 0.56, 0.52, 0.84, 0.0, 0.0, 0.0, 0.99, 0.97, 0.4] -- best score: 0.6875192458926036\n",
      "Mean fbeta: 0.74202                                                            \n",
      "params : {'algo': 'XT', 'bootstrap': False, 'class_weights': 'balanced', 'criterion': 'gini', 'max_depth': 16.0, 'max_features': 10.0, 'min_samples_leaf': 20, 'min_samples_split': 200, 'n_estimators': 80}\n",
      "Fitting fold 1                                                                 \n",
      "threshs: [0.0, 0.99, 0.97, 0.99, 0.99, 0.0, 0.99, 0.99, 0.97, 0.97, 0.75, 0.0, 0.0, 0.32, 0.99, 0.99, 0.47] -- best score: 0.7110979583230791\n",
      "Fitting fold 2                                                                 \n",
      "threshs: [0.37, 0.99, 0.98, 0.99, 0.99, 0.0, 0.99, 0.99, 0.0, 0.99, 0.92, 0.56, 0.0, 0.0, 0.99, 0.99, 0.87] -- best score: 0.7435856880761579\n",
      "Fitting fold 3                                                                 \n",
      "threshs: [0.0, 0.99, 0.98, 0.99, 0.99, 0.0, 0.99, 0.99, 0.46, 0.51, 0.95, 0.99, 0.0, 0.0, 0.99, 0.99, 0.39] -- best score: 0.7702699687550912\n",
      "Fitting fold 4                                                                 \n",
      "threshs: [0.0, 0.99, 0.98, 0.99, 0.99, 0.0, 0.99, 0.99, 0.99, 0.4, 0.96, 0.99, 0.0, 0.0, 0.99, 0.99, 0.0] -- best score: 0.7747151899877665\n",
      "Fitting fold 5                                                                 \n",
      "threshs: [0.28, 0.99, 0.97, 0.99, 0.99, 0.0, 0.0, 0.99, 0.47, 0.35, 0.88, 0.54, 0.0, 0.0, 0.99, 0.99, 0.31] -- best score: 0.6777286624969969\n",
      "Mean fbeta: 0.73548                                                            \n",
      "params : {'algo': 'XT', 'bootstrap': True, 'class_weights': 'balanced', 'criterion': 'gini', 'max_depth': 20.0, 'max_features': 9.0, 'min_samples_leaf': 5, 'min_samples_split': 10, 'n_estimators': 600}\n",
      "Fitting fold 1                                                                 \n",
      "threshs: [0.0, 0.99, 0.96, 0.99, 0.99, 0.0, 0.99, 0.99, 0.94, 0.94, 0.0, 0.0, 0.0, 0.0, 0.99, 0.99, 0.53] -- best score: 0.686859590519402\n",
      "Fitting fold 2                                                                 \n",
      "threshs: [0.0, 0.99, 0.97, 0.99, 0.99, 0.0, 0.99, 0.99, 0.59, 0.91, 0.89, 0.0, 0.0, 0.0, 0.99, 0.99, 0.51] -- best score: 0.7165192226474136\n",
      "Fitting fold 3                                                                 \n",
      "threshs: [0.0, 0.99, 0.97, 0.99, 0.99, 0.0, 0.99, 0.99, 0.58, 0.0, 0.92, 0.97, 0.0, 0.0, 0.99, 0.99, 0.5] -- best score: 0.7432748650706156\n",
      "Fitting fold 4                                                                 \n",
      "threshs: [0.0, 0.99, 0.97, 0.99, 0.99, 0.0, 0.99, 0.99, 0.0, 0.59, 0.98, 0.99, 0.0, 0.42, 0.99, 0.99, 0.0] -- best score: 0.729791539824841\n",
      "Fitting fold 5                                                                 \n",
      "threshs: [0.0, 0.99, 0.99, 0.99, 0.99, 0.0, 0.0, 0.99, 0.63, 0.0, 0.89, 0.0, 0.0, 0.0, 0.99, 0.99, 0.46] -- best score: 0.6603286840128167\n",
      "Mean fbeta: 0.70735                                                            \n",
      "params : {'algo': 'XT', 'bootstrap': False, 'class_weights': 'balanced', 'criterion': 'gini', 'max_depth': 2.0, 'max_features': 8.0, 'min_samples_leaf': 25, 'min_samples_split': 1000, 'n_estimators': 40}\n",
      "Fitting fold 1                                                                  \n",
      "threshs: [0.46, 0.96, 0.86, 0.99, 0.95, 0.0, 0.88, 0.94, 0.73, 0.77, 0.0, 0.64, 0.0, 0.5, 0.98, 0.82, 0.56] -- best score: 0.7244531170522949\n",
      "Fitting fold 2                                                                  \n",
      "threshs: [0.44, 0.93, 0.88, 0.99, 0.96, 0.0, 0.9, 0.92, 0.67, 0.82, 0.93, 0.72, 0.0, 0.42, 0.98, 0.86, 0.63] -- best score: 0.765585621559748\n",
      "Fitting fold 3                                                                  \n",
      "threshs: [0.39, 0.96, 0.88, 0.98, 0.99, 0.0, 0.92, 0.9, 0.64, 0.77, 0.92, 0.96, 0.0, 0.37, 0.98, 0.92, 0.57] -- best score: 0.8122146980615268\n",
      "Fitting fold 4                                                                  \n",
      "threshs: [0.41, 0.89, 0.86, 0.99, 0.95, 0.0, 0.92, 0.95, 0.74, 0.6, 0.93, 0.93, 0.0, 0.38, 0.97, 0.85, 0.46] -- best score: 0.7975890353154661\n",
      "Fitting fold 5                                                                  \n",
      "threshs: [0.0, 0.85, 0.65, 0.0, 0.98, 0.0, 0.0, 0.96, 0.0, 0.0, 0.83, 0.65, 0.0, 0.0, 0.99, 0.94, 0.4] -- best score: 0.6641481815000874\n",
      "Mean fbeta: 0.75280                                                             \n",
      "params : {'algo': 'XT', 'bootstrap': False, 'class_weights': 'balanced', 'criterion': 'gini', 'max_depth': 22.0, 'max_features': 10.0, 'min_samples_leaf': 30, 'min_samples_split': 400, 'n_estimators': 20}\n",
      "Fitting fold 1                                                                  \n",
      "threshs: [0.3, 0.99, 0.98, 0.99, 0.99, 0.0, 0.99, 0.99, 0.91, 0.97, 0.7, 0.0, 0.0, 0.26, 0.99, 0.94, 0.0] -- best score: 0.7036837508557612\n",
      "Fitting fold 2                                                                  \n",
      "threshs: [0.34, 0.99, 0.98, 0.99, 0.99, 0.0, 0.99, 0.99, 0.45, 0.94, 0.88, 0.0, 0.0, 0.25, 0.99, 0.98, 0.65] -- best score: 0.7378018857242375\n",
      "Fitting fold 3                                                                  \n",
      "threshs: [0.0, 0.99, 0.96, 0.99, 0.99, 0.0, 0.99, 0.99, 0.5, 0.39, 0.97, 0.99, 0.0, 0.26, 0.99, 0.98, 0.33] -- best score: 0.765689774593943\n",
      "Fitting fold 4                                                                  \n",
      "threshs: [0.0, 0.99, 0.99, 0.99, 0.99, 0.0, 0.99, 0.99, 0.59, 0.29, 0.97, 0.99, 0.0, 0.16, 0.99, 0.98, 0.0] -- best score: 0.7558092302200433\n",
      "Fitting fold 5                                                                  \n",
      "threshs: [0.0, 0.99, 0.93, 0.99, 0.96, 0.28, 0.0, 0.99, 0.0, 0.34, 0.91, 0.53, 0.0, 0.25, 0.99, 0.99, 0.23] -- best score: 0.667260778900124\n",
      "Mean fbeta: 0.72605                                                             \n",
      "params : {'algo': 'XT', 'bootstrap': True, 'class_weights': 'balanced', 'criterion': 'gini', 'max_depth': 8.0, 'max_features': 1.0, 'min_samples_leaf': 10, 'min_samples_split': 200, 'n_estimators': 800}\n",
      "Fitting fold 1                                                                 \n",
      "threshs: [0.53, 0.97, 0.92, 0.99, 0.99, 0.0, 0.89, 0.99, 0.83, 0.79, 0.84, 0.76, 0.0, 0.55, 0.98, 0.95, 0.68] -- best score: 0.7363171778131637\n",
      "Fitting fold 2                                                                 \n",
      "threshs: [0.0, 0.97, 0.94, 0.99, 0.99, 0.0, 0.91, 0.99, 0.66, 0.84, 0.87, 0.76, 0.0, 0.0, 0.98, 0.96, 0.69] -- best score: 0.7580762031928661\n",
      "Fitting fold 3                                                                 \n",
      "threshs: [0.0, 0.98, 0.93, 0.99, 0.99, 0.0, 0.91, 0.99, 0.63, 0.65, 0.92, 0.91, 0.0, 0.49, 0.99, 0.96, 0.0] -- best score: 0.7981574236885046\n",
      "Fitting fold 4                                                                 \n",
      "threshs: [0.0, 0.98, 0.94, 0.99, 0.99, 0.0, 0.9, 0.99, 0.7, 0.0, 0.92, 0.93, 0.0, 0.0, 0.99, 0.98, 0.51] -- best score: 0.7833191453945434\n",
      "Fitting fold 5                                                                 \n",
      "threshs: [0.37, 0.97, 0.89, 0.99, 0.99, 0.0, 0.0, 0.99, 0.0, 0.53, 0.82, 0.0, 0.0, 0.0, 0.98, 0.95, 0.4] -- best score: 0.6998806722511892\n",
      "Mean fbeta: 0.75515                                                            \n",
      "params : {'algo': 'XT', 'bootstrap': False, 'class_weights': 'balanced', 'criterion': 'gini', 'max_depth': 14.0, 'max_features': 9.0, 'min_samples_leaf': 10, 'min_samples_split': 70, 'n_estimators': 800}\n",
      "Fitting fold 1                                                                 \n",
      "threshs: [0.0, 0.98, 0.97, 0.99, 0.99, 0.0, 0.97, 0.99, 0.97, 0.95, 0.72, 0.0, 0.0, 0.0, 0.99, 0.99, 0.48] -- best score: 0.7086011838800335\n",
      "Fitting fold 2                                                                 \n",
      "threshs: [0.0, 0.99, 0.97, 0.99, 0.99, 0.0, 0.97, 0.99, 0.55, 0.93, 0.86, 0.62, 0.0, 0.39, 0.99, 0.99, 0.67] -- best score: 0.7430800386193024\n",
      "Fitting fold 3                                                                 \n",
      "threshs: [0.0, 0.99, 0.9, 0.99, 0.99, 0.0, 0.98, 0.99, 0.53, 0.5, 0.97, 0.98, 0.0, 0.41, 0.99, 0.99, 0.0] -- best score: 0.7699949050789195\n",
      "Fitting fold 4                                                                 \n",
      "threshs: [0.42, 0.98, 0.97, 0.99, 0.99, 0.0, 0.97, 0.99, 0.0, 0.5, 0.99, 0.96, 0.0, 0.0, 0.99, 0.98, 0.48] -- best score: 0.75881841439346\n",
      "Fitting fold 5                                                                 \n",
      "threshs: [0.3, 0.99, 0.97, 0.99, 0.99, 0.0, 0.0, 0.99, 0.51, 0.49, 0.87, 0.0, 0.0, 0.0, 0.99, 0.99, 0.4] -- best score: 0.6802052011908072\n",
      "Mean fbeta: 0.73214                                                            \n",
      "params : {'algo': 'XT', 'bootstrap': False, 'class_weights': 'balanced', 'criterion': 'gini', 'max_depth': 12.0, 'max_features': 7.0, 'min_samples_leaf': 40, 'min_samples_split': 2000, 'n_estimators': 1000}\n",
      "Fitting fold 1                                                                  \n",
      "threshs: [0.0, 0.75, 0.67, 0.99, 0.95, 0.0, 0.88, 0.93, 0.0, 0.79, 0.0, 0.0, 0.0, 0.0, 0.79, 0.67, 0.0] -- best score: 0.6965361892886831\n",
      "Fitting fold 2                                                                  \n",
      "threshs: [0.0, 0.76, 0.73, 0.99, 0.96, 0.0, 0.9, 0.92, 0.0, 0.82, 0.92, 0.0, 0.0, 0.0, 0.68, 0.61, 0.0] -- best score: 0.7477592291526305\n",
      "Fitting fold 3                                                                  \n",
      "threshs: [0.0, 0.79, 0.74, 0.99, 0.99, 0.0, 0.92, 0.9, 0.0, 0.0, 0.92, 0.8, 0.0, 0.0, 0.64, 0.59, 0.0] -- best score: 0.7772142642433514\n",
      "Fitting fold 4                                                                  \n",
      "threshs: [0.0, 0.9, 0.88, 0.0, 0.95, 0.0, 0.93, 0.72, 0.58, 0.0, 0.94, 0.94, 0.0, 0.0, 0.67, 0.61, 0.0] -- best score: 0.7527798879816708\n",
      "Fitting fold 5                                                                  \n",
      "threshs: [0.0, 0.31, 0.26, 0.0, 0.92, 0.0, 0.0, 0.99, 0.0, 0.0, 0.92, 0.0, 0.0, 0.0, 0.0, 0.9, 0.0] -- best score: 0.6547057240338979\n",
      "Mean fbeta: 0.72580                                                             \n",
      "params : {'algo': 'XT', 'bootstrap': True, 'class_weights': 'balanced', 'criterion': 'gini', 'max_depth': 20.0, 'max_features': 6.0, 'min_samples_leaf': 25, 'min_samples_split': 120, 'n_estimators': 100}\n",
      "Fitting fold 1                                                                  \n",
      "threshs: [0.44, 0.98, 0.96, 0.99, 0.99, 0.0, 0.97, 0.99, 0.93, 0.92, 0.81, 0.0, 0.0, 0.0, 0.99, 0.98, 0.56] -- best score: 0.7193132906761854\n",
      "Fitting fold 2                                                                  \n",
      "threshs: [0.0, 0.99, 0.96, 0.99, 0.99, 0.0, 0.98, 0.99, 0.54, 0.95, 0.87, 0.0, 0.0, 0.0, 0.99, 0.99, 0.66] -- best score: 0.7469300762556325\n",
      "Fitting fold 3                                                                  \n",
      "threshs: [0.0, 0.99, 0.96, 0.99, 0.99, 0.0, 0.98, 0.99, 0.55, 0.0, 0.95, 0.97, 0.0, 0.39, 0.99, 0.98, 0.0] -- best score: 0.7752467295976866\n",
      "Fitting fold 4                                                                  \n",
      "threshs: [0.0, 0.99, 0.95, 0.99, 0.99, 0.0, 0.98, 0.99, 0.99, 0.51, 0.97, 0.94, 0.0, 0.0, 0.99, 0.99, 0.42] -- best score: 0.7785057916709942\n",
      "Fitting fold 5                                                                  \n",
      "threshs: [0.33, 0.99, 0.94, 0.99, 0.99, 0.0, 0.0, 0.99, 0.51, 0.0, 0.85, 0.62, 0.0, 0.0, 0.99, 0.98, 0.36] -- best score: 0.6888706513627832\n",
      "Mean fbeta: 0.74177                                                             \n",
      "params : {'algo': 'XT', 'bootstrap': False, 'class_weights': 'balanced', 'criterion': 'gini', 'max_depth': 4.0, 'max_features': 9.0, 'min_samples_leaf': 5, 'min_samples_split': 1000, 'n_estimators': 600}\n",
      "Fitting fold 1                                                                  \n",
      "threshs: [0.4, 0.96, 0.92, 0.99, 0.96, 0.0, 0.91, 0.96, 0.79, 0.84, 0.77, 0.67, 0.0, 0.0, 0.98, 0.86, 0.61] -- best score: 0.7175647305833097\n",
      "Fitting fold 2                                                                  \n",
      "threshs: [0.47, 0.94, 0.91, 0.99, 0.96, 0.0, 0.91, 0.97, 0.75, 0.84, 0.9, 0.0, 0.0, 0.0, 0.97, 0.87, 0.65] -- best score: 0.76017295019852\n",
      "Fitting fold 3                                                                  \n",
      "threshs: [0.42, 0.96, 0.89, 0.98, 0.99, 0.0, 0.9, 0.97, 0.56, 0.78, 0.91, 0.94, 0.0, 0.49, 0.96, 0.88, 0.48] -- best score: 0.7963258799706567\n",
      "Fitting fold 4                                                                  \n",
      "threshs: [0.4, 0.93, 0.9, 0.99, 0.95, 0.0, 0.92, 0.98, 0.8, 0.57, 0.93, 0.96, 0.0, 0.0, 0.97, 0.86, 0.43] -- best score: 0.7899154290528795\n",
      "Fitting fold 5                                                                  \n",
      "threshs: [0.42, 0.84, 0.84, 0.99, 0.99, 0.0, 0.0, 0.95, 0.0, 0.45, 0.85, 0.0, 0.0, 0.0, 0.98, 0.92, 0.0] -- best score: 0.6675596982580805\n",
      "Mean fbeta: 0.74631                                                             \n",
      "params : {'algo': 'XT', 'bootstrap': True, 'class_weights': 'balanced', 'criterion': 'gini', 'max_depth': 40.0, 'max_features': 10.0, 'min_samples_leaf': 40, 'min_samples_split': 1300, 'n_estimators': 600}\n",
      "Fitting fold 1                                                                  \n",
      "threshs: [0.0, 0.76, 0.67, 0.99, 0.95, 0.0, 0.87, 0.93, 0.62, 0.78, 0.0, 0.0, 0.0, 0.0, 0.81, 0.69, 0.0] -- best score: 0.7132769392805431\n",
      "Fitting fold 2                                                                  \n",
      "threshs: [0.0, 0.76, 0.74, 0.99, 0.95, 0.0, 0.89, 0.91, 0.59, 0.8, 0.91, 0.0, 0.0, 0.0, 0.73, 0.64, 0.42] -- best score: 0.7566136555984452\n",
      "Fitting fold 3                                                                  \n",
      "threshs: [0.0, 0.78, 0.71, 0.99, 0.99, 0.0, 0.9, 0.89, 0.0, 0.74, 0.91, 0.78, 0.0, 0.0, 0.7, 0.65, 0.0] -- best score: 0.7879944611644771\n",
      "Fitting fold 4                                                                  \n",
      "threshs: [0.0, 0.88, 0.85, 0.99, 0.95, 0.0, 0.91, 0.74, 0.61, 0.0, 0.92, 0.93, 0.0, 0.0, 0.72, 0.65, 0.0] -- best score: 0.7890042821097535\n",
      "Fitting fold 5                                                                  \n",
      "threshs: [0.0, 0.47, 0.39, 0.0, 0.89, 0.0, 0.0, 0.98, 0.0, 0.0, 0.88, 0.0, 0.0, 0.0, 0.99, 0.85, 0.0] -- best score: 0.6770939317205232\n",
      "Mean fbeta: 0.74480                                                             \n",
      "params : {'algo': 'XT', 'bootstrap': False, 'class_weights': 'balanced', 'criterion': 'gini', 'max_depth': 6.0, 'max_features': 8.0, 'min_samples_leaf': 10, 'min_samples_split': 600, 'n_estimators': 100}\n",
      "Fitting fold 1                                                                 \n",
      "threshs: [0.0, 0.98, 0.96, 0.99, 0.99, 0.0, 0.95, 0.98, 0.85, 0.9, 0.78, 0.0, 0.0, 0.0, 0.99, 0.89, 0.45] -- best score: 0.717514405916557\n"
     ]
    },
    {
     "name": "stdout",
     "output_type": "stream",
     "text": [
      "Fitting fold 2                                                                 \n",
      "threshs: [0.0, 0.96, 0.96, 0.99, 0.98, 0.0, 0.96, 0.98, 0.87, 0.91, 0.93, 0.0, 0.0, 0.0, 0.98, 0.9, 0.74] -- best score: 0.7586635135526599\n",
      "Fitting fold 3                                                                 \n",
      "threshs: [0.0, 0.98, 0.93, 0.99, 0.99, 0.0, 0.95, 0.98, 0.49, 0.88, 0.92, 0.97, 0.0, 0.0, 0.97, 0.91, 0.44] -- best score: 0.7855591840588352\n",
      "Fitting fold 4                                                                 \n",
      "threshs: [0.38, 0.95, 0.93, 0.99, 0.98, 0.0, 0.94, 0.99, 0.85, 0.0, 0.95, 0.96, 0.0, 0.27, 0.97, 0.92, 0.44] -- best score: 0.7884176878398375\n",
      "Fitting fold 5                                                                 \n",
      "threshs: [0.34, 0.92, 0.88, 0.99, 0.99, 0.0, 0.0, 0.97, 0.0, 0.0, 0.85, 0.0, 0.0, 0.0, 0.99, 0.93, 0.31] -- best score: 0.6822402335452085\n",
      "Mean fbeta: 0.74648                                                            \n",
      "params : {'algo': 'XT', 'bootstrap': True, 'class_weights': 'balanced', 'criterion': 'entropy', 'max_depth': 16.0, 'max_features': 7.0, 'min_samples_leaf': 25, 'min_samples_split': 2, 'n_estimators': 200}\n",
      "Fitting fold 1                                                                 \n",
      "threshs: [0.0, 0.98, 0.96, 0.99, 0.99, 0.0, 0.98, 0.99, 0.93, 0.92, 0.79, 0.0, 0.0, 0.42, 0.99, 0.99, 0.49] -- best score: 0.7144047547470912\n",
      "Fitting fold 2                                                                 \n",
      "threshs: [0.43, 0.98, 0.96, 0.99, 0.99, 0.0, 0.98, 0.99, 0.56, 0.91, 0.89, 0.0, 0.0, 0.0, 0.99, 0.99, 0.63] -- best score: 0.7451309308184376\n",
      "Fitting fold 3                                                                 \n",
      "threshs: [0.0, 0.99, 0.95, 0.99, 0.99, 0.0, 0.98, 0.99, 0.53, 0.0, 0.95, 0.97, 0.0, 0.0, 0.99, 0.99, 0.0] -- best score: 0.7711094480766076\n",
      "Fitting fold 4                                                                 \n",
      "threshs: [0.0, 0.99, 0.93, 0.99, 0.99, 0.0, 0.99, 0.99, 0.56, 0.0, 0.98, 0.99, 0.0, 0.0, 0.99, 0.99, 0.47] -- best score: 0.7642708406511955\n",
      "Fitting fold 5                                                                 \n",
      "threshs: [0.0, 0.99, 0.95, 0.99, 0.99, 0.0, 0.0, 0.99, 0.53, 0.51, 0.86, 0.0, 0.0, 0.0, 0.99, 0.99, 0.4] -- best score: 0.6851573986498353\n",
      "Mean fbeta: 0.73601                                                            \n",
      "params : {'algo': 'XT', 'bootstrap': False, 'class_weights': 'balanced', 'criterion': 'gini', 'max_depth': 22.0, 'max_features': 6.0, 'min_samples_leaf': 20, 'min_samples_split': 10, 'n_estimators': 600}\n",
      "Fitting fold 1                                                                 \n",
      "threshs: [0.0, 0.99, 0.95, 0.99, 0.99, 0.0, 0.98, 0.99, 0.95, 0.92, 0.74, 0.0, 0.0, 0.0, 0.99, 0.99, 0.51] -- best score: 0.7098540182564377\n",
      "Fitting fold 2                                                                 \n",
      "threshs: [0.0, 0.99, 0.97, 0.99, 0.99, 0.0, 0.97, 0.99, 0.56, 0.98, 0.89, 0.0, 0.0, 0.0, 0.99, 0.99, 0.62] -- best score: 0.7458793568591995\n",
      "Fitting fold 3                                                                 \n",
      "threshs: [0.0, 0.99, 0.97, 0.99, 0.99, 0.0, 0.98, 0.99, 0.55, 0.53, 0.96, 0.99, 0.0, 0.0, 0.99, 0.99, 0.0] -- best score: 0.7746607362390547\n",
      "Fitting fold 4                                                                 \n",
      "threshs: [0.0, 0.99, 0.95, 0.99, 0.99, 0.0, 0.98, 0.99, 0.0, 0.0, 0.99, 0.92, 0.0, 0.0, 0.99, 0.99, 0.0] -- best score: 0.7627384864790276\n",
      "Fitting fold 5                                                                 \n",
      "threshs: [0.34, 0.99, 0.97, 0.99, 0.99, 0.0, 0.0, 0.99, 0.55, 0.52, 0.86, 0.61, 0.0, 0.0, 0.99, 0.99, 0.38] -- best score: 0.6829893257436991\n",
      "Mean fbeta: 0.73522                                                            \n",
      "params : {'algo': 'XT', 'bootstrap': True, 'class_weights': 'balanced', 'criterion': 'gini', 'max_depth': 2.0, 'max_features': 8.0, 'min_samples_leaf': 30, 'min_samples_split': 150, 'n_estimators': 40}\n",
      "Fitting fold 1                                                                  \n",
      "threshs: [0.5, 0.93, 0.84, 0.99, 0.97, 0.0, 0.87, 0.96, 0.72, 0.81, 0.77, 0.79, 0.0, 0.54, 0.98, 0.86, 0.62] -- best score: 0.7311931343924052\n",
      "Fitting fold 2                                                                  \n",
      "threshs: [0.49, 0.92, 0.88, 0.99, 0.96, 0.0, 0.9, 0.95, 0.73, 0.78, 0.92, 0.76, 0.0, 0.42, 0.97, 0.85, 0.55] -- best score: 0.763460321961076\n",
      "Fitting fold 3                                                                  \n",
      "threshs: [0.42, 0.96, 0.86, 0.99, 0.99, 0.0, 0.89, 0.94, 0.6, 0.72, 0.9, 0.94, 0.0, 0.46, 0.98, 0.89, 0.58] -- best score: 0.8006138109730233\n",
      "Fitting fold 4                                                                  \n",
      "threshs: [0.39, 0.91, 0.86, 0.99, 0.97, 0.0, 0.88, 0.99, 0.8, 0.55, 0.9, 0.94, 0.21, 0.33, 0.98, 0.9, 0.0] -- best score: 0.789901140861974\n",
      "Fitting fold 5                                                                  \n",
      "threshs: [0.42, 0.86, 0.78, 0.99, 0.99, 0.0, 0.0, 0.96, 0.59, 0.0, 0.84, 0.69, 0.15, 0.38, 0.98, 0.93, 0.33] -- best score: 0.6667945505079922\n",
      "Mean fbeta: 0.75039                                                             \n",
      "params : {'algo': 'XT', 'bootstrap': False, 'class_weights': 'balanced', 'criterion': 'entropy', 'max_depth': 12.0, 'max_features': 10.0, 'min_samples_leaf': 10, 'min_samples_split': 70, 'n_estimators': 80}\n",
      "Fitting fold 1                                                                 \n",
      "threshs: [0.0, 0.99, 0.98, 0.99, 0.99, 0.0, 0.99, 0.99, 0.99, 0.97, 0.72, 0.0, 0.0, 0.4, 0.99, 0.99, 0.0] -- best score: 0.6983233355448717\n",
      "Fitting fold 2                                                                 \n",
      "threshs: [0.0, 0.99, 0.98, 0.99, 0.99, 0.0, 0.99, 0.99, 0.47, 0.99, 0.89, 0.0, 0.0, 0.0, 0.99, 0.99, 0.44] -- best score: 0.7323924704300245\n",
      "Fitting fold 3                                                                 \n",
      "threshs: [0.0, 0.99, 0.97, 0.99, 0.99, 0.0, 0.99, 0.99, 0.54, 0.52, 0.96, 0.99, 0.0, 0.41, 0.99, 0.99, 0.0] -- best score: 0.7641164959239033\n",
      "Fitting fold 4                                                                 \n",
      "threshs: [0.4, 0.98, 0.96, 0.99, 0.99, 0.0, 0.99, 0.99, 0.52, 0.0, 0.99, 0.96, 0.0, 0.37, 0.99, 0.99, 0.44] -- best score: 0.7534902493574456\n",
      "Fitting fold 5                                                                 \n",
      "threshs: [0.0, 0.99, 0.98, 0.99, 0.99, 0.0, 0.0, 0.99, 0.48, 0.49, 0.88, 0.0, 0.0, 0.29, 0.99, 0.99, 0.36] -- best score: 0.6764373128199282\n",
      "Mean fbeta: 0.72495                                                            \n",
      "params : {'algo': 'XT', 'bootstrap': True, 'class_weights': 'balanced', 'criterion': 'gini', 'max_depth': 18.0, 'max_features': 7.0, 'min_samples_leaf': 35, 'min_samples_split': 400, 'n_estimators': 1000}\n",
      "Fitting fold 1                                                                 \n",
      "threshs: [0.0, 0.95, 0.93, 0.99, 0.98, 0.0, 0.94, 0.98, 0.87, 0.87, 0.83, 0.72, 0.0, 0.0, 0.98, 0.93, 0.0] -- best score: 0.7274303244567488\n",
      "Fitting fold 2                                                                 \n",
      "threshs: [0.0, 0.96, 0.95, 0.99, 0.99, 0.0, 0.94, 0.99, 0.9, 0.91, 0.91, 0.71, 0.0, 0.0, 0.99, 0.95, 0.67] -- best score: 0.761077241059614\n",
      "Fitting fold 3                                                                 \n",
      "threshs: [0.0, 0.98, 0.94, 0.98, 0.99, 0.0, 0.95, 0.99, 0.55, 0.92, 0.91, 0.95, 0.0, 0.0, 0.98, 0.95, 0.47] -- best score: 0.7887051839756284\n",
      "Fitting fold 4                                                                 \n",
      "threshs: [0.44, 0.96, 0.92, 0.99, 0.99, 0.0, 0.95, 0.99, 0.93, 0.57, 0.92, 0.96, 0.0, 0.0, 0.99, 0.96, 0.48] -- best score: 0.7863125813837383\n",
      "Fitting fold 5                                                                 \n",
      "threshs: [0.33, 0.96, 0.9, 0.99, 0.99, 0.0, 0.0, 0.99, 0.55, 0.5, 0.81, 0.0, 0.0, 0.0, 0.99, 0.96, 0.38] -- best score: 0.6954064159505322\n",
      "Mean fbeta: 0.75179                                                            \n",
      "params : {'algo': 'XT', 'bootstrap': False, 'class_weights': 'balanced', 'criterion': 'gini', 'max_depth': 6.0, 'max_features': 9.0, 'min_samples_leaf': 5, 'min_samples_split': 1300, 'n_estimators': 20}\n",
      "Fitting fold 1                                                                 \n",
      "threshs: [0.4, 0.98, 0.95, 0.99, 0.97, 0.0, 0.93, 0.98, 0.83, 0.87, 0.77, 0.0, 0.0, 0.31, 0.99, 0.89, 0.52] -- best score: 0.7177166029615747\n",
      "Fitting fold 2                                                                 \n",
      "threshs: [0.4, 0.97, 0.96, 0.99, 0.99, 0.0, 0.94, 0.98, 0.79, 0.87, 0.95, 0.67, 0.0, 0.0, 0.98, 0.91, 0.7] -- best score: 0.7597407324236297\n",
      "Fitting fold 3                                                                 \n",
      "threshs: [0.33, 0.99, 0.93, 0.99, 0.99, 0.0, 0.94, 0.99, 0.47, 0.82, 0.95, 0.98, 0.13, 0.34, 0.98, 0.93, 0.42] -- best score: 0.789219828411799\n",
      "Fitting fold 4                                                                 \n",
      "threshs: [0.0, 0.96, 0.94, 0.99, 0.96, 0.0, 0.94, 0.96, 0.86, 0.52, 0.95, 0.97, 0.0, 0.0, 0.98, 0.9, 0.35] -- best score: 0.7900018247334147\n",
      "Fitting fold 5                                                                 \n",
      "threshs: [0.0, 0.93, 0.9, 0.99, 0.96, 0.0, 0.0, 0.96, 0.0, 0.39, 0.91, 0.62, 0.0, 0.33, 0.99, 0.95, 0.0] -- best score: 0.6700356621288669\n",
      "Mean fbeta: 0.74534                                                            \n",
      "params : {'algo': 'XT', 'bootstrap': True, 'class_weights': 'balanced', 'criterion': 'entropy', 'max_depth': 14.0, 'max_features': 5.0, 'min_samples_leaf': 40, 'min_samples_split': 2000, 'n_estimators': 200}\n",
      "Fitting fold 1                                                                 \n",
      "threshs: [0.0, 0.74, 0.65, 0.99, 0.95, 0.0, 0.88, 0.93, 0.63, 0.78, 0.0, 0.0, 0.0, 0.0, 0.82, 0.7, 0.0] -- best score: 0.7132769392805431\n",
      "Fitting fold 2                                                                 \n",
      "threshs: [0.0, 0.75, 0.73, 0.99, 0.95, 0.0, 0.89, 0.91, 0.58, 0.8, 0.92, 0.0, 0.0, 0.0, 0.71, 0.64, 0.41] -- best score: 0.7566136555984452\n",
      "Fitting fold 3                                                                 \n",
      "threshs: [0.0, 0.76, 0.69, 0.99, 0.99, 0.0, 0.91, 0.9, 0.0, 0.74, 0.91, 0.77, 0.0, 0.0, 0.72, 0.66, 0.0] -- best score: 0.7879944611644771\n",
      "Fitting fold 4                                                                 \n",
      "threshs: [0.0, 0.88, 0.85, 0.99, 0.94, 0.0, 0.91, 0.77, 0.6, 0.0, 0.93, 0.92, 0.0, 0.0, 0.71, 0.64, 0.0] -- best score: 0.7890042821097535\n",
      "Fitting fold 5                                                                 \n",
      "threshs: [0.0, 0.51, 0.42, 0.0, 0.87, 0.0, 0.0, 0.97, 0.0, 0.0, 0.88, 0.0, 0.0, 0.0, 0.99, 0.83, 0.0] -- best score: 0.6770939317205232\n",
      "Mean fbeta: 0.74480                                                            \n",
      "params : {'algo': 'XT', 'bootstrap': False, 'class_weights': 'balanced', 'criterion': 'gini', 'max_depth': 24.0, 'max_features': 8.0, 'min_samples_leaf': 25, 'min_samples_split': 1300, 'n_estimators': 60}\n",
      "Fitting fold 1                                                                 \n",
      "threshs: [0.41, 0.96, 0.9, 0.99, 0.96, 0.0, 0.91, 0.95, 0.79, 0.85, 0.74, 0.0, 0.0, 0.0, 0.98, 0.86, 0.58] -- best score: 0.7173512853274268\n",
      "Fitting fold 2                                                                 \n",
      "threshs: [0.44, 0.94, 0.92, 0.99, 0.95, 0.0, 0.91, 0.96, 0.79, 0.82, 0.92, 0.7, 0.0, 0.0, 0.97, 0.88, 0.63] -- best score: 0.7613727784373685\n",
      "Fitting fold 3                                                                 \n",
      "threshs: [0.37, 0.95, 0.89, 0.99, 0.99, 0.0, 0.91, 0.95, 0.56, 0.79, 0.93, 0.94, 0.0, 0.37, 0.98, 0.9, 0.43] -- best score: 0.7964611405647315\n",
      "Fitting fold 4                                                                 \n",
      "threshs: [0.0, 0.92, 0.9, 0.99, 0.96, 0.0, 0.94, 0.97, 0.76, 0.51, 0.94, 0.95, 0.0, 0.0, 0.97, 0.88, 0.45] -- best score: 0.789539095328937\n",
      "Fitting fold 5                                                                 \n",
      "threshs: [0.0, 0.91, 0.86, 0.99, 0.99, 0.0, 0.0, 0.96, 0.0, 0.43, 0.84, 0.64, 0.0, 0.0, 0.99, 0.92, 0.32] -- best score: 0.6742836878283275\n",
      "Mean fbeta: 0.74780                                                            \n",
      "params : {'algo': 'XT', 'bootstrap': True, 'class_weights': 'balanced', 'criterion': 'gini', 'max_depth': 10.0, 'max_features': 1.0, 'min_samples_leaf': 10, 'min_samples_split': 120, 'n_estimators': 10}\n",
      "Fitting fold 1                                                                 \n",
      "threshs: [0.29, 0.99, 0.98, 0.99, 0.99, 0.0, 0.99, 0.99, 0.95, 0.92, 0.74, 0.0, 0.0, 0.3, 0.99, 0.99, 0.34] -- best score: 0.6695741160974038\n",
      "Fitting fold 2                                                                 \n",
      "threshs: [0.31, 0.99, 0.99, 0.99, 0.99, 0.0, 0.99, 0.99, 0.54, 0.94, 0.99, 0.0, 0.0, 0.2, 0.99, 0.99, 0.4] -- best score: 0.7021931751415602\n",
      "Fitting fold 3                                                                 \n",
      "threshs: [0.37, 0.99, 0.99, 0.99, 0.99, 0.0, 0.99, 0.99, 0.5, 0.64, 0.99, 0.97, 0.0, 0.22, 0.99, 0.99, 0.24] -- best score: 0.7454946875049864\n",
      "Fitting fold 4                                                                   \n",
      "threshs: [0.0, 0.99, 0.99, 0.99, 0.99, 0.0, 0.99, 0.98, 0.68, 0.31, 0.99, 0.99, 0.0, 0.23, 0.99, 0.99, 0.34] -- best score: 0.7316968431444337\n",
      "Fitting fold 5                                                                   \n",
      "threshs: [0.23, 0.99, 0.96, 0.99, 0.99, 0.21, 0.0, 0.99, 0.33, 0.16, 0.97, 0.43, 0.0, 0.0, 0.99, 0.99, 0.25] -- best score: 0.6548405441689339\n",
      "Mean fbeta: 0.70076                                                              \n",
      "params : {'algo': 'XT', 'bootstrap': False, 'class_weights': 'balanced', 'criterion': 'entropy', 'max_depth': 4.0, 'max_features': 6.0, 'min_samples_leaf': 35, 'min_samples_split': 50, 'n_estimators': 400}\n",
      "Fitting fold 1                                                                   \n",
      "threshs: [0.0, 0.94, 0.88, 0.99, 0.97, 0.0, 0.88, 0.95, 0.79, 0.79, 0.74, 0.7, 0.0, 0.0, 0.98, 0.87, 0.57] -- best score: 0.7160636284362614\n",
      "Fitting fold 2                                                                   \n",
      "threshs: [0.53, 0.92, 0.89, 0.98, 0.96, 0.0, 0.89, 0.97, 0.75, 0.8, 0.89, 0.0, 0.0, 0.0, 0.97, 0.87, 0.68] -- best score: 0.7596430178877458\n",
      "Fitting fold 3                                                                   \n",
      "threshs: [0.0, 0.96, 0.86, 0.97, 0.99, 0.0, 0.87, 0.97, 0.58, 0.73, 0.89, 0.93, 0.0, 0.51, 0.97, 0.87, 0.51] -- best score: 0.7913708456483644\n",
      "Fitting fold 4                                                                   \n",
      "threshs: [0.51, 0.9, 0.86, 0.99, 0.96, 0.0, 0.9, 0.99, 0.77, 0.58, 0.9, 0.92, 0.0, 0.43, 0.97, 0.89, 0.0] -- best score: 0.789616979885793\n",
      "Fitting fold 5                                                                   \n",
      "threshs: [0.42, 0.84, 0.84, 0.99, 0.99, 0.0, 0.0, 0.96, 0.0, 0.46, 0.83, 0.7, 0.0, 0.0, 0.98, 0.93, 0.0] -- best score: 0.6715055434360341\n",
      "Mean fbeta: 0.74564                                                              \n",
      "params : {'algo': 'XT', 'bootstrap': True, 'class_weights': 'balanced', 'criterion': 'gini', 'max_depth': 26.0, 'max_features': 2.0, 'min_samples_leaf': 45, 'min_samples_split': 180, 'n_estimators': 800}\n",
      "Fitting fold 1                                                                   \n",
      "threshs: [0.0, 0.96, 0.91, 0.99, 0.99, 0.0, 0.91, 0.99, 0.83, 0.8, 0.82, 0.75, 0.0, 0.0, 0.98, 0.94, 0.59] -- best score: 0.7301108047032323\n",
      "Fitting fold 2                                                                   \n",
      "threshs: [0.0, 0.97, 0.94, 0.99, 0.99, 0.0, 0.92, 0.99, 0.88, 0.86, 0.87, 0.73, 0.0, 0.0, 0.99, 0.96, 0.67] -- best score: 0.7634115109020636\n",
      "Fitting fold 3                                                                   \n",
      "threshs: [0.0, 0.98, 0.94, 0.99, 0.99, 0.0, 0.93, 0.99, 0.0, 0.89, 0.93, 0.93, 0.0, 0.0, 0.99, 0.96, 0.47] -- best score: 0.788058807386755\n",
      "Fitting fold 4                                                                   \n",
      "threshs: [0.0, 0.98, 0.96, 0.99, 0.99, 0.0, 0.92, 0.99, 0.94, 0.0, 0.94, 0.96, 0.0, 0.0, 0.99, 0.98, 0.0] -- best score: 0.7861745640441329\n",
      "Fitting fold 5                                                                   \n",
      "threshs: [0.37, 0.96, 0.87, 0.99, 0.99, 0.0, 0.0, 0.99, 0.57, 0.52, 0.83, 0.68, 0.0, 0.0, 0.99, 0.96, 0.4] -- best score: 0.6950353282963413\n",
      "Mean fbeta: 0.75256                                                              \n"
     ]
    },
    {
     "name": "stdout",
     "output_type": "stream",
     "text": [
      "params : {'algo': 'XT', 'bootstrap': False, 'class_weights': 'balanced', 'criterion': 'entropy', 'max_depth': 8.0, 'max_features': 10.0, 'min_samples_leaf': 25, 'min_samples_split': 250, 'n_estimators': 600}\n",
      "Fitting fold 1                                                                   \n",
      "threshs: [0.0, 0.97, 0.97, 0.99, 0.99, 0.0, 0.96, 0.99, 0.94, 0.94, 0.8, 0.62, 0.0, 0.0, 0.99, 0.96, 0.4] -- best score: 0.715552779196276\n",
      "Fitting fold 2                                                                   \n",
      "threshs: [0.0, 0.97, 0.97, 0.99, 0.99, 0.0, 0.97, 0.99, 0.51, 0.92, 0.9, 0.0, 0.0, 0.0, 0.99, 0.98, 0.71] -- best score: 0.7504896095109822\n",
      "Fitting fold 3                                                                   \n",
      "threshs: [0.0, 0.99, 0.96, 0.99, 0.99, 0.0, 0.96, 0.99, 0.54, 0.95, 0.93, 0.98, 0.0, 0.0, 0.99, 0.97, 0.41] -- best score: 0.7857057298311209\n",
      "Fitting fold 4                                                                   \n",
      "threshs: [0.33, 0.97, 0.96, 0.99, 0.99, 0.0, 0.98, 0.99, 0.95, 0.49, 0.96, 0.98, 0.0, 0.0, 0.99, 0.97, 0.0] -- best score: 0.7818206952946735\n",
      "Fitting fold 5                                                                   \n",
      "threshs: [0.31, 0.97, 0.89, 0.99, 0.99, 0.0, 0.0, 0.99, 0.5, 0.45, 0.85, 0.63, 0.0, 0.0, 0.99, 0.97, 0.35] -- best score: 0.685186254860323\n",
      "Mean fbeta: 0.74375                                                              \n",
      "params : {'algo': 'XT', 'bootstrap': True, 'class_weights': 'balanced', 'criterion': 'gini', 'max_depth': 18.0, 'max_features': 4.0, 'min_samples_leaf': 15, 'min_samples_split': 1000, 'n_estimators': 100}\n",
      "Fitting fold 1                                                                    \n",
      "threshs: [0.53, 0.85, 0.74, 0.99, 0.95, 0.0, 0.88, 0.93, 0.7, 0.78, 0.0, 0.75, 0.0, 0.47, 0.95, 0.81, 0.58] -- best score: 0.7305736719932219\n",
      "Fitting fold 2                                                                    \n",
      "threshs: [0.54, 0.81, 0.77, 0.99, 0.95, 0.0, 0.87, 0.91, 0.68, 0.77, 0.9, 0.0, 0.0, 0.43, 0.93, 0.82, 0.57] -- best score: 0.7627620947369138\n",
      "Fitting fold 3                                                                    \n",
      "threshs: [0.46, 0.87, 0.79, 0.99, 0.99, 0.0, 0.88, 0.88, 0.64, 0.71, 0.89, 0.87, 0.0, 0.39, 0.95, 0.87, 0.54] -- best score: 0.8031263325900059\n",
      "Fitting fold 4                                                                    \n",
      "threshs: [0.45, 0.87, 0.84, 0.99, 0.94, 0.0, 0.89, 0.87, 0.75, 0.59, 0.91, 0.91, 0.0, 0.35, 0.91, 0.8, 0.53] -- best score: 0.7931136092529243\n",
      "Fitting fold 5                                                                    \n",
      "threshs: [0.0, 0.82, 0.68, 0.0, 0.92, 0.0, 0.0, 0.96, 0.0, 0.51, 0.82, 0.0, 0.0, 0.0, 0.99, 0.86, 0.0] -- best score: 0.6801066148391552\n",
      "Mean fbeta: 0.75394                                                               \n",
      "params : {'algo': 'XT', 'bootstrap': True, 'class_weights': 'balanced', 'criterion': 'gini', 'max_depth': 26.0, 'max_features': 9.0, 'min_samples_leaf': 10, 'min_samples_split': 1300, 'n_estimators': 60}\n",
      "Fitting fold 1                                                                   \n",
      "threshs: [0.0, 0.77, 0.68, 0.99, 0.95, 0.0, 0.88, 0.94, 0.58, 0.8, 0.0, 0.0, 0.0, 0.0, 0.78, 0.66, 0.0] -- best score: 0.7132769392805431\n",
      "Fitting fold 2                                                                   \n",
      "threshs: [0.0, 0.73, 0.7, 0.99, 0.95, 0.0, 0.89, 0.91, 0.62, 0.79, 0.91, 0.0, 0.0, 0.0, 0.76, 0.68, 0.42] -- best score: 0.7566136555984452\n",
      "Fitting fold 3                                                                   \n",
      "threshs: [0.0, 0.79, 0.72, 0.99, 0.99, 0.0, 0.91, 0.91, 0.0, 0.0, 0.91, 0.79, 0.0, 0.0, 0.67, 0.61, 0.0] -- best score: 0.7772142642433514\n",
      "Fitting fold 4                                                                   \n",
      "threshs: [0.0, 0.88, 0.86, 0.99, 0.93, 0.0, 0.91, 0.7, 0.67, 0.0, 0.93, 0.93, 0.0, 0.0, 0.77, 0.69, 0.0] -- best score: 0.7890042821097535\n",
      "Fitting fold 5                                                                   \n",
      "threshs: [0.0, 0.46, 0.39, 0.0, 0.89, 0.0, 0.0, 0.98, 0.0, 0.0, 0.89, 0.0, 0.0, 0.0, 0.0, 0.85, 0.0] -- best score: 0.6547057240338979\n",
      "Mean fbeta: 0.73816                                                              \n",
      "100%|██████████| 50/50 [1:07:19<00:00, 80.79s/it, best loss: -0.7592057041430268]\n"
     ]
    }
   ],
   "source": [
    "best=fmin(fn=validatemodelpart, # function to optimize\n",
    "          space=space,\n",
    "          algo=tpe.suggest, # optimization algorithm, hyperotp will select its parameters automatically\n",
    "          max_evals=50, # maximum number of iterations\n",
    "          trials=trials, # logging\n",
    "          rstate=np.random.RandomState(random_state) # fixing random state for the reproducibility\n",
    "         )\n"
   ]
  },
  {
   "cell_type": "markdown",
   "id": "ce0f6a5c",
   "metadata": {},
   "source": [
    "## Model test"
   ]
  },
  {
   "cell_type": "code",
   "execution_count": 526,
   "id": "09d24f42",
   "metadata": {},
   "outputs": [],
   "source": [
    "def model_test(trial, X_test, Y_test, X_train, Y_train):\n",
    "    model = create_sklearn_model(eval(trial['result']['params']), X_test)\n",
    "    model.fit(X_train, Y_train)\n",
    "    test_results_proba=model.predict_proba(X_test)\n",
    "    #test_results=model.predict(X_test)\n",
    "    Y_hat_val=test_results_proba[0][:,0]\n",
    "    for i in range (1,len(val_results_proba)):\n",
    "        Y_hat_val=np.vstack((Y_hat_val,test_results_proba[i][:,0]))\n",
    "    Y_hat_val=Y_hat_val.T\n",
    "    threshs, best_score = find_best_thresholds(Y_hat_val, Y_test)\n",
    "    print('Test score: %s'%best_score)"
   ]
  },
  {
   "cell_type": "code",
   "execution_count": 527,
   "id": "1212b28b",
   "metadata": {},
   "outputs": [
    {
     "data": {
      "text/plain": [
       "\"{'algo': 'XT', 'bootstrap': True, 'class_weights': 'balanced', 'criterion': 'gini', 'max_depth': 14.0, 'max_features': 9.0, 'min_samples_leaf': 25, 'min_samples_split': 1000, 'n_estimators': 600}\""
      ]
     },
     "execution_count": 527,
     "metadata": {},
     "output_type": "execute_result"
    }
   ],
   "source": [
    "trials.best_trial['result']['params']"
   ]
  },
  {
   "cell_type": "code",
   "execution_count": 528,
   "id": "7b17898e",
   "metadata": {},
   "outputs": [
    {
     "name": "stdout",
     "output_type": "stream",
     "text": [
      "df shape\n",
      "(2005, 4)\n",
      "X shape\n",
      "(2005, 30000)\n"
     ]
    }
   ],
   "source": [
    "df_test, X_test = load_dataset(path, 'test_2000.csv')"
   ]
  },
  {
   "cell_type": "code",
   "execution_count": 529,
   "id": "76111d4e",
   "metadata": {},
   "outputs": [
    {
     "data": {
      "text/plain": [
       "(2005, 551)"
      ]
     },
     "execution_count": 529,
     "metadata": {},
     "output_type": "execute_result"
    }
   ],
   "source": [
    "df_test_pca, pca = apply_pca(X_test, pca)\n",
    "df_test_pca.shape"
   ]
  },
  {
   "cell_type": "code",
   "execution_count": 530,
   "id": "765b1cf7",
   "metadata": {},
   "outputs": [
    {
     "data": {
      "text/plain": [
       "((2005, 551), (2005, 17))"
      ]
     },
     "execution_count": 530,
     "metadata": {},
     "output_type": "execute_result"
    }
   ],
   "source": [
    "X_test, Y_test, encoder = get_data_ML(df_test, df_test, df_test_pca, encoder)\n",
    "X_test.shape, y_test.shape"
   ]
  },
  {
   "cell_type": "code",
   "execution_count": 531,
   "id": "d7c3b490",
   "metadata": {},
   "outputs": [],
   "source": [
    "sorted_trials = sorted(trials, key=lambda x:x['result']['loss'])"
   ]
  },
  {
   "cell_type": "code",
   "execution_count": 532,
   "id": "1f59f6ee",
   "metadata": {},
   "outputs": [
    {
     "name": "stdout",
     "output_type": "stream",
     "text": [
      "CV best score: -0.7592057041430268:\n",
      "{'algo': 'XT', 'bootstrap': True, 'class_weights': 'balanced', 'criterion': 'gini', 'max_depth': 14.0, 'max_features': 9.0, 'min_samples_leaf': 25, 'min_samples_split': 1000, 'n_estimators': 600}\n",
      "threshs: [0.0, 0.93, 0.89, 0.99, 0.96, 0.46, 0.88, 0.96, 0.64, 0.8, 0.85, 0.0, 0.0, 0.0, 0.98, 0.88, 0.0] -- best score: 0.720317199168663\n",
      "Test score: 0.720317199168663\n",
      "CV best score: -0.7566696445235801:\n",
      "{'algo': 'XT', 'bootstrap': False, 'class_weights': 'balanced', 'criterion': 'gini', 'max_depth': 2.0, 'max_features': 9.0, 'min_samples_leaf': 10, 'min_samples_split': 1300, 'n_estimators': 600}\n",
      "threshs: [0.0, 0.92, 0.83, 0.99, 0.95, 0.0, 0.89, 0.91, 0.67, 0.63, 0.91, 0.0, 0.0, 0.37, 0.98, 0.86, 0.47] -- best score: 0.7210488484435428\n",
      "Test score: 0.7210488484435428\n",
      "CV best score: -0.7551501244680534:\n",
      "{'algo': 'XT', 'bootstrap': True, 'class_weights': 'balanced', 'criterion': 'gini', 'max_depth': 8.0, 'max_features': 1.0, 'min_samples_leaf': 10, 'min_samples_split': 200, 'n_estimators': 800}\n",
      "threshs: [0.53, 0.99, 0.95, 0.99, 0.99, 0.0, 0.9, 0.99, 0.0, 0.9, 0.88, 0.0, 0.0, 0.43, 0.99, 0.98, 0.0] -- best score: 0.7214839466119242\n",
      "Test score: 0.7214839466119242\n",
      "CV best score: -0.7539364646824442:\n",
      "{'algo': 'XT', 'bootstrap': True, 'class_weights': 'balanced', 'criterion': 'gini', 'max_depth': 18.0, 'max_features': 4.0, 'min_samples_leaf': 15, 'min_samples_split': 1000, 'n_estimators': 100}\n",
      "threshs: [0.0, 0.93, 0.88, 0.99, 0.97, 0.43, 0.87, 0.97, 0.62, 0.79, 0.89, 0.0, 0.0, 0.4, 0.97, 0.88, 0.0] -- best score: 0.7203470897233535\n",
      "Test score: 0.7203470897233535\n",
      "CV best score: -0.7527981306978246:\n",
      "{'algo': 'XT', 'bootstrap': False, 'class_weights': 'balanced', 'criterion': 'gini', 'max_depth': 2.0, 'max_features': 8.0, 'min_samples_leaf': 25, 'min_samples_split': 1000, 'n_estimators': 40}\n",
      "threshs: [0.44, 0.93, 0.86, 0.99, 0.96, 0.36, 0.9, 0.92, 0.68, 0.63, 0.93, 0.0, 0.0, 0.34, 0.99, 0.89, 0.42] -- best score: 0.7208676220625382\n",
      "Test score: 0.7208676220625382\n"
     ]
    }
   ],
   "source": [
    "cnt=1\n",
    "for t in sorted_trials:\n",
    "    if cnt>5:\n",
    "        break\n",
    "    print('CV best score: %s:'%t['result']['loss'])\n",
    "    print(t['result']['params'])\n",
    "    model_test(t, X_test, Y_test, X_train, Y_train)\n",
    "    cnt+=1"
   ]
  },
  {
   "cell_type": "code",
   "execution_count": 533,
   "id": "f1fa8465",
   "metadata": {},
   "outputs": [
    {
     "name": "stderr",
     "output_type": "stream",
     "text": [
      "/home/noa/miniconda3/envs/ntuaml3/lib/python3.7/site-packages/ipykernel_launcher.py:6: RuntimeWarning:\n",
      "\n",
      "Mean of empty slice.\n",
      "\n",
      "/home/noa/miniconda3/envs/ntuaml3/lib/python3.7/site-packages/numpy/core/_methods.py:161: RuntimeWarning:\n",
      "\n",
      "invalid value encountered in double_scalars\n",
      "\n",
      "/home/noa/miniconda3/envs/ntuaml3/lib/python3.7/site-packages/ipykernel_launcher.py:7: RuntimeWarning:\n",
      "\n",
      "Mean of empty slice.\n",
      "\n"
     ]
    },
    {
     "data": {
      "application/vnd.plotly.v1+json": {
       "config": {
        "plotlyServerURL": "https://plot.ly"
       },
       "data": [
        {
         "name": "Y_hat proba | Y = 1",
         "type": "bar",
         "x": [
          "agriculture",
          "artisinal_mine",
          "bare_ground",
          "blooming",
          "blow_down",
          "clear",
          "cloudy",
          "conventional_mine",
          "cultivation",
          "habitation",
          "haze",
          "partly_cloudy",
          "primary",
          "road",
          "selective_logging",
          "slash_burn",
          "water"
         ],
         "y": [
          0.4703538986102659,
          null,
          null,
          null,
          null,
          0.4794172095887278,
          null,
          null,
          null,
          null,
          null,
          null,
          0.29461740769192557,
          0.4012931592510411,
          null,
          null,
          0.47172683389384984
         ]
        },
        {
         "name": "Y_hat proba | Y = 0",
         "type": "bar",
         "x": [
          "agriculture",
          "artisinal_mine",
          "bare_ground",
          "blooming",
          "blow_down",
          "clear",
          "cloudy",
          "conventional_mine",
          "cultivation",
          "habitation",
          "haze",
          "partly_cloudy",
          "primary",
          "road",
          "selective_logging",
          "slash_burn",
          "water"
         ],
         "y": [
          0.6617165705289635,
          0.6566593576384883,
          0.5975521651755854,
          0.985051738872384,
          0.9318693260245193,
          0.6055070541525717,
          0.8476359037985391,
          0.8723419244827623,
          0.7935663235603949,
          0.7143198217881471,
          0.8787035309207861,
          0.6690317488514304,
          null,
          null,
          0.9545356732970554,
          0.8529384584831222,
          0.5518186350316501
         ]
        }
       ],
       "layout": {
        "template": {
         "data": {
          "bar": [
           {
            "error_x": {
             "color": "#2a3f5f"
            },
            "error_y": {
             "color": "#2a3f5f"
            },
            "marker": {
             "line": {
              "color": "#E5ECF6",
              "width": 0.5
             },
             "pattern": {
              "fillmode": "overlay",
              "size": 10,
              "solidity": 0.2
             }
            },
            "type": "bar"
           }
          ],
          "barpolar": [
           {
            "marker": {
             "line": {
              "color": "#E5ECF6",
              "width": 0.5
             },
             "pattern": {
              "fillmode": "overlay",
              "size": 10,
              "solidity": 0.2
             }
            },
            "type": "barpolar"
           }
          ],
          "carpet": [
           {
            "aaxis": {
             "endlinecolor": "#2a3f5f",
             "gridcolor": "white",
             "linecolor": "white",
             "minorgridcolor": "white",
             "startlinecolor": "#2a3f5f"
            },
            "baxis": {
             "endlinecolor": "#2a3f5f",
             "gridcolor": "white",
             "linecolor": "white",
             "minorgridcolor": "white",
             "startlinecolor": "#2a3f5f"
            },
            "type": "carpet"
           }
          ],
          "choropleth": [
           {
            "colorbar": {
             "outlinewidth": 0,
             "ticks": ""
            },
            "type": "choropleth"
           }
          ],
          "contour": [
           {
            "colorbar": {
             "outlinewidth": 0,
             "ticks": ""
            },
            "colorscale": [
             [
              0,
              "#0d0887"
             ],
             [
              0.1111111111111111,
              "#46039f"
             ],
             [
              0.2222222222222222,
              "#7201a8"
             ],
             [
              0.3333333333333333,
              "#9c179e"
             ],
             [
              0.4444444444444444,
              "#bd3786"
             ],
             [
              0.5555555555555556,
              "#d8576b"
             ],
             [
              0.6666666666666666,
              "#ed7953"
             ],
             [
              0.7777777777777778,
              "#fb9f3a"
             ],
             [
              0.8888888888888888,
              "#fdca26"
             ],
             [
              1,
              "#f0f921"
             ]
            ],
            "type": "contour"
           }
          ],
          "contourcarpet": [
           {
            "colorbar": {
             "outlinewidth": 0,
             "ticks": ""
            },
            "type": "contourcarpet"
           }
          ],
          "heatmap": [
           {
            "colorbar": {
             "outlinewidth": 0,
             "ticks": ""
            },
            "colorscale": [
             [
              0,
              "#0d0887"
             ],
             [
              0.1111111111111111,
              "#46039f"
             ],
             [
              0.2222222222222222,
              "#7201a8"
             ],
             [
              0.3333333333333333,
              "#9c179e"
             ],
             [
              0.4444444444444444,
              "#bd3786"
             ],
             [
              0.5555555555555556,
              "#d8576b"
             ],
             [
              0.6666666666666666,
              "#ed7953"
             ],
             [
              0.7777777777777778,
              "#fb9f3a"
             ],
             [
              0.8888888888888888,
              "#fdca26"
             ],
             [
              1,
              "#f0f921"
             ]
            ],
            "type": "heatmap"
           }
          ],
          "heatmapgl": [
           {
            "colorbar": {
             "outlinewidth": 0,
             "ticks": ""
            },
            "colorscale": [
             [
              0,
              "#0d0887"
             ],
             [
              0.1111111111111111,
              "#46039f"
             ],
             [
              0.2222222222222222,
              "#7201a8"
             ],
             [
              0.3333333333333333,
              "#9c179e"
             ],
             [
              0.4444444444444444,
              "#bd3786"
             ],
             [
              0.5555555555555556,
              "#d8576b"
             ],
             [
              0.6666666666666666,
              "#ed7953"
             ],
             [
              0.7777777777777778,
              "#fb9f3a"
             ],
             [
              0.8888888888888888,
              "#fdca26"
             ],
             [
              1,
              "#f0f921"
             ]
            ],
            "type": "heatmapgl"
           }
          ],
          "histogram": [
           {
            "marker": {
             "pattern": {
              "fillmode": "overlay",
              "size": 10,
              "solidity": 0.2
             }
            },
            "type": "histogram"
           }
          ],
          "histogram2d": [
           {
            "colorbar": {
             "outlinewidth": 0,
             "ticks": ""
            },
            "colorscale": [
             [
              0,
              "#0d0887"
             ],
             [
              0.1111111111111111,
              "#46039f"
             ],
             [
              0.2222222222222222,
              "#7201a8"
             ],
             [
              0.3333333333333333,
              "#9c179e"
             ],
             [
              0.4444444444444444,
              "#bd3786"
             ],
             [
              0.5555555555555556,
              "#d8576b"
             ],
             [
              0.6666666666666666,
              "#ed7953"
             ],
             [
              0.7777777777777778,
              "#fb9f3a"
             ],
             [
              0.8888888888888888,
              "#fdca26"
             ],
             [
              1,
              "#f0f921"
             ]
            ],
            "type": "histogram2d"
           }
          ],
          "histogram2dcontour": [
           {
            "colorbar": {
             "outlinewidth": 0,
             "ticks": ""
            },
            "colorscale": [
             [
              0,
              "#0d0887"
             ],
             [
              0.1111111111111111,
              "#46039f"
             ],
             [
              0.2222222222222222,
              "#7201a8"
             ],
             [
              0.3333333333333333,
              "#9c179e"
             ],
             [
              0.4444444444444444,
              "#bd3786"
             ],
             [
              0.5555555555555556,
              "#d8576b"
             ],
             [
              0.6666666666666666,
              "#ed7953"
             ],
             [
              0.7777777777777778,
              "#fb9f3a"
             ],
             [
              0.8888888888888888,
              "#fdca26"
             ],
             [
              1,
              "#f0f921"
             ]
            ],
            "type": "histogram2dcontour"
           }
          ],
          "mesh3d": [
           {
            "colorbar": {
             "outlinewidth": 0,
             "ticks": ""
            },
            "type": "mesh3d"
           }
          ],
          "parcoords": [
           {
            "line": {
             "colorbar": {
              "outlinewidth": 0,
              "ticks": ""
             }
            },
            "type": "parcoords"
           }
          ],
          "pie": [
           {
            "automargin": true,
            "type": "pie"
           }
          ],
          "scatter": [
           {
            "marker": {
             "colorbar": {
              "outlinewidth": 0,
              "ticks": ""
             }
            },
            "type": "scatter"
           }
          ],
          "scatter3d": [
           {
            "line": {
             "colorbar": {
              "outlinewidth": 0,
              "ticks": ""
             }
            },
            "marker": {
             "colorbar": {
              "outlinewidth": 0,
              "ticks": ""
             }
            },
            "type": "scatter3d"
           }
          ],
          "scattercarpet": [
           {
            "marker": {
             "colorbar": {
              "outlinewidth": 0,
              "ticks": ""
             }
            },
            "type": "scattercarpet"
           }
          ],
          "scattergeo": [
           {
            "marker": {
             "colorbar": {
              "outlinewidth": 0,
              "ticks": ""
             }
            },
            "type": "scattergeo"
           }
          ],
          "scattergl": [
           {
            "marker": {
             "colorbar": {
              "outlinewidth": 0,
              "ticks": ""
             }
            },
            "type": "scattergl"
           }
          ],
          "scattermapbox": [
           {
            "marker": {
             "colorbar": {
              "outlinewidth": 0,
              "ticks": ""
             }
            },
            "type": "scattermapbox"
           }
          ],
          "scatterpolar": [
           {
            "marker": {
             "colorbar": {
              "outlinewidth": 0,
              "ticks": ""
             }
            },
            "type": "scatterpolar"
           }
          ],
          "scatterpolargl": [
           {
            "marker": {
             "colorbar": {
              "outlinewidth": 0,
              "ticks": ""
             }
            },
            "type": "scatterpolargl"
           }
          ],
          "scatterternary": [
           {
            "marker": {
             "colorbar": {
              "outlinewidth": 0,
              "ticks": ""
             }
            },
            "type": "scatterternary"
           }
          ],
          "surface": [
           {
            "colorbar": {
             "outlinewidth": 0,
             "ticks": ""
            },
            "colorscale": [
             [
              0,
              "#0d0887"
             ],
             [
              0.1111111111111111,
              "#46039f"
             ],
             [
              0.2222222222222222,
              "#7201a8"
             ],
             [
              0.3333333333333333,
              "#9c179e"
             ],
             [
              0.4444444444444444,
              "#bd3786"
             ],
             [
              0.5555555555555556,
              "#d8576b"
             ],
             [
              0.6666666666666666,
              "#ed7953"
             ],
             [
              0.7777777777777778,
              "#fb9f3a"
             ],
             [
              0.8888888888888888,
              "#fdca26"
             ],
             [
              1,
              "#f0f921"
             ]
            ],
            "type": "surface"
           }
          ],
          "table": [
           {
            "cells": {
             "fill": {
              "color": "#EBF0F8"
             },
             "line": {
              "color": "white"
             }
            },
            "header": {
             "fill": {
              "color": "#C8D4E3"
             },
             "line": {
              "color": "white"
             }
            },
            "type": "table"
           }
          ]
         },
         "layout": {
          "annotationdefaults": {
           "arrowcolor": "#2a3f5f",
           "arrowhead": 0,
           "arrowwidth": 1
          },
          "autotypenumbers": "strict",
          "coloraxis": {
           "colorbar": {
            "outlinewidth": 0,
            "ticks": ""
           }
          },
          "colorscale": {
           "diverging": [
            [
             0,
             "#8e0152"
            ],
            [
             0.1,
             "#c51b7d"
            ],
            [
             0.2,
             "#de77ae"
            ],
            [
             0.3,
             "#f1b6da"
            ],
            [
             0.4,
             "#fde0ef"
            ],
            [
             0.5,
             "#f7f7f7"
            ],
            [
             0.6,
             "#e6f5d0"
            ],
            [
             0.7,
             "#b8e186"
            ],
            [
             0.8,
             "#7fbc41"
            ],
            [
             0.9,
             "#4d9221"
            ],
            [
             1,
             "#276419"
            ]
           ],
           "sequential": [
            [
             0,
             "#0d0887"
            ],
            [
             0.1111111111111111,
             "#46039f"
            ],
            [
             0.2222222222222222,
             "#7201a8"
            ],
            [
             0.3333333333333333,
             "#9c179e"
            ],
            [
             0.4444444444444444,
             "#bd3786"
            ],
            [
             0.5555555555555556,
             "#d8576b"
            ],
            [
             0.6666666666666666,
             "#ed7953"
            ],
            [
             0.7777777777777778,
             "#fb9f3a"
            ],
            [
             0.8888888888888888,
             "#fdca26"
            ],
            [
             1,
             "#f0f921"
            ]
           ],
           "sequentialminus": [
            [
             0,
             "#0d0887"
            ],
            [
             0.1111111111111111,
             "#46039f"
            ],
            [
             0.2222222222222222,
             "#7201a8"
            ],
            [
             0.3333333333333333,
             "#9c179e"
            ],
            [
             0.4444444444444444,
             "#bd3786"
            ],
            [
             0.5555555555555556,
             "#d8576b"
            ],
            [
             0.6666666666666666,
             "#ed7953"
            ],
            [
             0.7777777777777778,
             "#fb9f3a"
            ],
            [
             0.8888888888888888,
             "#fdca26"
            ],
            [
             1,
             "#f0f921"
            ]
           ]
          },
          "colorway": [
           "#636efa",
           "#EF553B",
           "#00cc96",
           "#ab63fa",
           "#FFA15A",
           "#19d3f3",
           "#FF6692",
           "#B6E880",
           "#FF97FF",
           "#FECB52"
          ],
          "font": {
           "color": "#2a3f5f"
          },
          "geo": {
           "bgcolor": "white",
           "lakecolor": "white",
           "landcolor": "#E5ECF6",
           "showlakes": true,
           "showland": true,
           "subunitcolor": "white"
          },
          "hoverlabel": {
           "align": "left"
          },
          "hovermode": "closest",
          "mapbox": {
           "style": "light"
          },
          "paper_bgcolor": "white",
          "plot_bgcolor": "#E5ECF6",
          "polar": {
           "angularaxis": {
            "gridcolor": "white",
            "linecolor": "white",
            "ticks": ""
           },
           "bgcolor": "#E5ECF6",
           "radialaxis": {
            "gridcolor": "white",
            "linecolor": "white",
            "ticks": ""
           }
          },
          "scene": {
           "xaxis": {
            "backgroundcolor": "#E5ECF6",
            "gridcolor": "white",
            "gridwidth": 2,
            "linecolor": "white",
            "showbackground": true,
            "ticks": "",
            "zerolinecolor": "white"
           },
           "yaxis": {
            "backgroundcolor": "#E5ECF6",
            "gridcolor": "white",
            "gridwidth": 2,
            "linecolor": "white",
            "showbackground": true,
            "ticks": "",
            "zerolinecolor": "white"
           },
           "zaxis": {
            "backgroundcolor": "#E5ECF6",
            "gridcolor": "white",
            "gridwidth": 2,
            "linecolor": "white",
            "showbackground": true,
            "ticks": "",
            "zerolinecolor": "white"
           }
          },
          "shapedefaults": {
           "line": {
            "color": "#2a3f5f"
           }
          },
          "ternary": {
           "aaxis": {
            "gridcolor": "white",
            "linecolor": "white",
            "ticks": ""
           },
           "baxis": {
            "gridcolor": "white",
            "linecolor": "white",
            "ticks": ""
           },
           "bgcolor": "#E5ECF6",
           "caxis": {
            "gridcolor": "white",
            "linecolor": "white",
            "ticks": ""
           }
          },
          "title": {
           "x": 0.05
          },
          "xaxis": {
           "automargin": true,
           "gridcolor": "white",
           "linecolor": "white",
           "ticks": "",
           "title": {
            "standoff": 15
           },
           "zerolinecolor": "white",
           "zerolinewidth": 2
          },
          "yaxis": {
           "automargin": true,
           "gridcolor": "white",
           "linecolor": "white",
           "ticks": "",
           "title": {
            "standoff": 15
           },
           "zerolinecolor": "white",
           "zerolinewidth": 2
          }
         }
        }
       }
      },
      "text/html": [
       "<div>                            <div id=\"6521d23c-3c4f-4214-b44f-92cbc2476be3\" class=\"plotly-graph-div\" style=\"height:525px; width:100%;\"></div>            <script type=\"text/javascript\">                require([\"plotly\"], function(Plotly) {                    window.PLOTLYENV=window.PLOTLYENV || {};                                    if (document.getElementById(\"6521d23c-3c4f-4214-b44f-92cbc2476be3\")) {                    Plotly.newPlot(                        \"6521d23c-3c4f-4214-b44f-92cbc2476be3\",                        [{\"name\":\"Y_hat proba | Y = 1\",\"x\":[\"agriculture\",\"artisinal_mine\",\"bare_ground\",\"blooming\",\"blow_down\",\"clear\",\"cloudy\",\"conventional_mine\",\"cultivation\",\"habitation\",\"haze\",\"partly_cloudy\",\"primary\",\"road\",\"selective_logging\",\"slash_burn\",\"water\"],\"y\":[0.4703538986102659,null,null,null,null,0.4794172095887278,null,null,null,null,null,null,0.29461740769192557,0.4012931592510411,null,null,0.47172683389384984],\"type\":\"bar\"},{\"name\":\"Y_hat proba | Y = 0\",\"x\":[\"agriculture\",\"artisinal_mine\",\"bare_ground\",\"blooming\",\"blow_down\",\"clear\",\"cloudy\",\"conventional_mine\",\"cultivation\",\"habitation\",\"haze\",\"partly_cloudy\",\"primary\",\"road\",\"selective_logging\",\"slash_burn\",\"water\"],\"y\":[0.6617165705289635,0.6566593576384883,0.5975521651755854,0.985051738872384,0.9318693260245193,0.6055070541525717,0.8476359037985391,0.8723419244827623,0.7935663235603949,0.7143198217881471,0.8787035309207861,0.6690317488514304,null,null,0.9545356732970554,0.8529384584831222,0.5518186350316501],\"type\":\"bar\"}],                        {\"template\":{\"data\":{\"bar\":[{\"error_x\":{\"color\":\"#2a3f5f\"},\"error_y\":{\"color\":\"#2a3f5f\"},\"marker\":{\"line\":{\"color\":\"#E5ECF6\",\"width\":0.5},\"pattern\":{\"fillmode\":\"overlay\",\"size\":10,\"solidity\":0.2}},\"type\":\"bar\"}],\"barpolar\":[{\"marker\":{\"line\":{\"color\":\"#E5ECF6\",\"width\":0.5},\"pattern\":{\"fillmode\":\"overlay\",\"size\":10,\"solidity\":0.2}},\"type\":\"barpolar\"}],\"carpet\":[{\"aaxis\":{\"endlinecolor\":\"#2a3f5f\",\"gridcolor\":\"white\",\"linecolor\":\"white\",\"minorgridcolor\":\"white\",\"startlinecolor\":\"#2a3f5f\"},\"baxis\":{\"endlinecolor\":\"#2a3f5f\",\"gridcolor\":\"white\",\"linecolor\":\"white\",\"minorgridcolor\":\"white\",\"startlinecolor\":\"#2a3f5f\"},\"type\":\"carpet\"}],\"choropleth\":[{\"colorbar\":{\"outlinewidth\":0,\"ticks\":\"\"},\"type\":\"choropleth\"}],\"contour\":[{\"colorbar\":{\"outlinewidth\":0,\"ticks\":\"\"},\"colorscale\":[[0.0,\"#0d0887\"],[0.1111111111111111,\"#46039f\"],[0.2222222222222222,\"#7201a8\"],[0.3333333333333333,\"#9c179e\"],[0.4444444444444444,\"#bd3786\"],[0.5555555555555556,\"#d8576b\"],[0.6666666666666666,\"#ed7953\"],[0.7777777777777778,\"#fb9f3a\"],[0.8888888888888888,\"#fdca26\"],[1.0,\"#f0f921\"]],\"type\":\"contour\"}],\"contourcarpet\":[{\"colorbar\":{\"outlinewidth\":0,\"ticks\":\"\"},\"type\":\"contourcarpet\"}],\"heatmap\":[{\"colorbar\":{\"outlinewidth\":0,\"ticks\":\"\"},\"colorscale\":[[0.0,\"#0d0887\"],[0.1111111111111111,\"#46039f\"],[0.2222222222222222,\"#7201a8\"],[0.3333333333333333,\"#9c179e\"],[0.4444444444444444,\"#bd3786\"],[0.5555555555555556,\"#d8576b\"],[0.6666666666666666,\"#ed7953\"],[0.7777777777777778,\"#fb9f3a\"],[0.8888888888888888,\"#fdca26\"],[1.0,\"#f0f921\"]],\"type\":\"heatmap\"}],\"heatmapgl\":[{\"colorbar\":{\"outlinewidth\":0,\"ticks\":\"\"},\"colorscale\":[[0.0,\"#0d0887\"],[0.1111111111111111,\"#46039f\"],[0.2222222222222222,\"#7201a8\"],[0.3333333333333333,\"#9c179e\"],[0.4444444444444444,\"#bd3786\"],[0.5555555555555556,\"#d8576b\"],[0.6666666666666666,\"#ed7953\"],[0.7777777777777778,\"#fb9f3a\"],[0.8888888888888888,\"#fdca26\"],[1.0,\"#f0f921\"]],\"type\":\"heatmapgl\"}],\"histogram\":[{\"marker\":{\"pattern\":{\"fillmode\":\"overlay\",\"size\":10,\"solidity\":0.2}},\"type\":\"histogram\"}],\"histogram2d\":[{\"colorbar\":{\"outlinewidth\":0,\"ticks\":\"\"},\"colorscale\":[[0.0,\"#0d0887\"],[0.1111111111111111,\"#46039f\"],[0.2222222222222222,\"#7201a8\"],[0.3333333333333333,\"#9c179e\"],[0.4444444444444444,\"#bd3786\"],[0.5555555555555556,\"#d8576b\"],[0.6666666666666666,\"#ed7953\"],[0.7777777777777778,\"#fb9f3a\"],[0.8888888888888888,\"#fdca26\"],[1.0,\"#f0f921\"]],\"type\":\"histogram2d\"}],\"histogram2dcontour\":[{\"colorbar\":{\"outlinewidth\":0,\"ticks\":\"\"},\"colorscale\":[[0.0,\"#0d0887\"],[0.1111111111111111,\"#46039f\"],[0.2222222222222222,\"#7201a8\"],[0.3333333333333333,\"#9c179e\"],[0.4444444444444444,\"#bd3786\"],[0.5555555555555556,\"#d8576b\"],[0.6666666666666666,\"#ed7953\"],[0.7777777777777778,\"#fb9f3a\"],[0.8888888888888888,\"#fdca26\"],[1.0,\"#f0f921\"]],\"type\":\"histogram2dcontour\"}],\"mesh3d\":[{\"colorbar\":{\"outlinewidth\":0,\"ticks\":\"\"},\"type\":\"mesh3d\"}],\"parcoords\":[{\"line\":{\"colorbar\":{\"outlinewidth\":0,\"ticks\":\"\"}},\"type\":\"parcoords\"}],\"pie\":[{\"automargin\":true,\"type\":\"pie\"}],\"scatter\":[{\"marker\":{\"colorbar\":{\"outlinewidth\":0,\"ticks\":\"\"}},\"type\":\"scatter\"}],\"scatter3d\":[{\"line\":{\"colorbar\":{\"outlinewidth\":0,\"ticks\":\"\"}},\"marker\":{\"colorbar\":{\"outlinewidth\":0,\"ticks\":\"\"}},\"type\":\"scatter3d\"}],\"scattercarpet\":[{\"marker\":{\"colorbar\":{\"outlinewidth\":0,\"ticks\":\"\"}},\"type\":\"scattercarpet\"}],\"scattergeo\":[{\"marker\":{\"colorbar\":{\"outlinewidth\":0,\"ticks\":\"\"}},\"type\":\"scattergeo\"}],\"scattergl\":[{\"marker\":{\"colorbar\":{\"outlinewidth\":0,\"ticks\":\"\"}},\"type\":\"scattergl\"}],\"scattermapbox\":[{\"marker\":{\"colorbar\":{\"outlinewidth\":0,\"ticks\":\"\"}},\"type\":\"scattermapbox\"}],\"scatterpolar\":[{\"marker\":{\"colorbar\":{\"outlinewidth\":0,\"ticks\":\"\"}},\"type\":\"scatterpolar\"}],\"scatterpolargl\":[{\"marker\":{\"colorbar\":{\"outlinewidth\":0,\"ticks\":\"\"}},\"type\":\"scatterpolargl\"}],\"scatterternary\":[{\"marker\":{\"colorbar\":{\"outlinewidth\":0,\"ticks\":\"\"}},\"type\":\"scatterternary\"}],\"surface\":[{\"colorbar\":{\"outlinewidth\":0,\"ticks\":\"\"},\"colorscale\":[[0.0,\"#0d0887\"],[0.1111111111111111,\"#46039f\"],[0.2222222222222222,\"#7201a8\"],[0.3333333333333333,\"#9c179e\"],[0.4444444444444444,\"#bd3786\"],[0.5555555555555556,\"#d8576b\"],[0.6666666666666666,\"#ed7953\"],[0.7777777777777778,\"#fb9f3a\"],[0.8888888888888888,\"#fdca26\"],[1.0,\"#f0f921\"]],\"type\":\"surface\"}],\"table\":[{\"cells\":{\"fill\":{\"color\":\"#EBF0F8\"},\"line\":{\"color\":\"white\"}},\"header\":{\"fill\":{\"color\":\"#C8D4E3\"},\"line\":{\"color\":\"white\"}},\"type\":\"table\"}]},\"layout\":{\"annotationdefaults\":{\"arrowcolor\":\"#2a3f5f\",\"arrowhead\":0,\"arrowwidth\":1},\"autotypenumbers\":\"strict\",\"coloraxis\":{\"colorbar\":{\"outlinewidth\":0,\"ticks\":\"\"}},\"colorscale\":{\"diverging\":[[0,\"#8e0152\"],[0.1,\"#c51b7d\"],[0.2,\"#de77ae\"],[0.3,\"#f1b6da\"],[0.4,\"#fde0ef\"],[0.5,\"#f7f7f7\"],[0.6,\"#e6f5d0\"],[0.7,\"#b8e186\"],[0.8,\"#7fbc41\"],[0.9,\"#4d9221\"],[1,\"#276419\"]],\"sequential\":[[0.0,\"#0d0887\"],[0.1111111111111111,\"#46039f\"],[0.2222222222222222,\"#7201a8\"],[0.3333333333333333,\"#9c179e\"],[0.4444444444444444,\"#bd3786\"],[0.5555555555555556,\"#d8576b\"],[0.6666666666666666,\"#ed7953\"],[0.7777777777777778,\"#fb9f3a\"],[0.8888888888888888,\"#fdca26\"],[1.0,\"#f0f921\"]],\"sequentialminus\":[[0.0,\"#0d0887\"],[0.1111111111111111,\"#46039f\"],[0.2222222222222222,\"#7201a8\"],[0.3333333333333333,\"#9c179e\"],[0.4444444444444444,\"#bd3786\"],[0.5555555555555556,\"#d8576b\"],[0.6666666666666666,\"#ed7953\"],[0.7777777777777778,\"#fb9f3a\"],[0.8888888888888888,\"#fdca26\"],[1.0,\"#f0f921\"]]},\"colorway\":[\"#636efa\",\"#EF553B\",\"#00cc96\",\"#ab63fa\",\"#FFA15A\",\"#19d3f3\",\"#FF6692\",\"#B6E880\",\"#FF97FF\",\"#FECB52\"],\"font\":{\"color\":\"#2a3f5f\"},\"geo\":{\"bgcolor\":\"white\",\"lakecolor\":\"white\",\"landcolor\":\"#E5ECF6\",\"showlakes\":true,\"showland\":true,\"subunitcolor\":\"white\"},\"hoverlabel\":{\"align\":\"left\"},\"hovermode\":\"closest\",\"mapbox\":{\"style\":\"light\"},\"paper_bgcolor\":\"white\",\"plot_bgcolor\":\"#E5ECF6\",\"polar\":{\"angularaxis\":{\"gridcolor\":\"white\",\"linecolor\":\"white\",\"ticks\":\"\"},\"bgcolor\":\"#E5ECF6\",\"radialaxis\":{\"gridcolor\":\"white\",\"linecolor\":\"white\",\"ticks\":\"\"}},\"scene\":{\"xaxis\":{\"backgroundcolor\":\"#E5ECF6\",\"gridcolor\":\"white\",\"gridwidth\":2,\"linecolor\":\"white\",\"showbackground\":true,\"ticks\":\"\",\"zerolinecolor\":\"white\"},\"yaxis\":{\"backgroundcolor\":\"#E5ECF6\",\"gridcolor\":\"white\",\"gridwidth\":2,\"linecolor\":\"white\",\"showbackground\":true,\"ticks\":\"\",\"zerolinecolor\":\"white\"},\"zaxis\":{\"backgroundcolor\":\"#E5ECF6\",\"gridcolor\":\"white\",\"gridwidth\":2,\"linecolor\":\"white\",\"showbackground\":true,\"ticks\":\"\",\"zerolinecolor\":\"white\"}},\"shapedefaults\":{\"line\":{\"color\":\"#2a3f5f\"}},\"ternary\":{\"aaxis\":{\"gridcolor\":\"white\",\"linecolor\":\"white\",\"ticks\":\"\"},\"baxis\":{\"gridcolor\":\"white\",\"linecolor\":\"white\",\"ticks\":\"\"},\"bgcolor\":\"#E5ECF6\",\"caxis\":{\"gridcolor\":\"white\",\"linecolor\":\"white\",\"ticks\":\"\"}},\"title\":{\"x\":0.05},\"xaxis\":{\"automargin\":true,\"gridcolor\":\"white\",\"linecolor\":\"white\",\"ticks\":\"\",\"title\":{\"standoff\":15},\"zerolinecolor\":\"white\",\"zerolinewidth\":2},\"yaxis\":{\"automargin\":true,\"gridcolor\":\"white\",\"linecolor\":\"white\",\"ticks\":\"\",\"title\":{\"standoff\":15},\"zerolinecolor\":\"white\",\"zerolinewidth\":2}}}},                        {\"responsive\": true}                    ).then(function(){\n",
       "                            \n",
       "var gd = document.getElementById('6521d23c-3c4f-4214-b44f-92cbc2476be3');\n",
       "var x = new MutationObserver(function (mutations, observer) {{\n",
       "        var display = window.getComputedStyle(gd).display;\n",
       "        if (!display || display === 'none') {{\n",
       "            console.log([gd, 'removed!']);\n",
       "            Plotly.purge(gd);\n",
       "            observer.disconnect();\n",
       "        }}\n",
       "}});\n",
       "\n",
       "// Listen for the removal of the full notebook cells\n",
       "var notebookContainer = gd.closest('#notebook-container');\n",
       "if (notebookContainer) {{\n",
       "    x.observe(notebookContainer, {childList: true});\n",
       "}}\n",
       "\n",
       "// Listen for the clearing of the current output cell\n",
       "var outputEl = gd.closest('.output');\n",
       "if (outputEl) {{\n",
       "    x.observe(outputEl, {childList: true});\n",
       "}}\n",
       "\n",
       "                        })                };                });            </script>        </div>"
      ]
     },
     "metadata": {},
     "output_type": "display_data"
    }
   ],
   "source": [
    "#Y_hat_val = np.array(train_results[\"Y_hat_val\"])\n",
    "#Y_val = np.array(train_results[\"Y_val\"])\n",
    "\n",
    "pos_probas, neg_probas = [], []\n",
    "for class_, idx in encoder._cached_dict.items():\n",
    "    pos_probas.append(Y_hat_val[np.where(Y_val[:, idx] != 0), idx].mean())\n",
    "    neg_probas.append(Y_hat_val[np.where(Y_val[:, idx] == 0), idx].mean())\n",
    "go.Figure([\n",
    "    go.Bar(x=list(encoder._cached_dict), y=pos_probas, name=\"Y_hat proba | Y = 1\"),\n",
    "    go.Bar(x=list(encoder._cached_dict), y=neg_probas, name=\"Y_hat proba | Y = 0\")\n",
    "]).show()"
   ]
  },
  {
   "cell_type": "code",
   "execution_count": 534,
   "id": "dcddf805",
   "metadata": {},
   "outputs": [
    {
     "name": "stderr",
     "output_type": "stream",
     "text": [
      "/home/noa/miniconda3/envs/ntuaml3/lib/python3.7/site-packages/sklearn/metrics/_classification.py:1580: UndefinedMetricWarning:\n",
      "\n",
      "F-score is ill-defined and being set to 0.0 due to no true nor predicted samples. Use `zero_division` parameter to control this behavior.\n",
      "\n",
      "/home/noa/miniconda3/envs/ntuaml3/lib/python3.7/site-packages/sklearn/metrics/_classification.py:1580: UndefinedMetricWarning:\n",
      "\n",
      "F-score is ill-defined and being set to 0.0 due to no true nor predicted samples. Use `zero_division` parameter to control this behavior.\n",
      "\n",
      "/home/noa/miniconda3/envs/ntuaml3/lib/python3.7/site-packages/sklearn/metrics/_classification.py:1580: UndefinedMetricWarning:\n",
      "\n",
      "F-score is ill-defined and being set to 0.0 due to no true nor predicted samples. Use `zero_division` parameter to control this behavior.\n",
      "\n",
      "/home/noa/miniconda3/envs/ntuaml3/lib/python3.7/site-packages/sklearn/metrics/_classification.py:1580: UndefinedMetricWarning:\n",
      "\n",
      "F-score is ill-defined and being set to 0.0 due to no true nor predicted samples. Use `zero_division` parameter to control this behavior.\n",
      "\n",
      "/home/noa/miniconda3/envs/ntuaml3/lib/python3.7/site-packages/sklearn/metrics/_classification.py:1580: UndefinedMetricWarning:\n",
      "\n",
      "F-score is ill-defined and being set to 0.0 due to no true nor predicted samples. Use `zero_division` parameter to control this behavior.\n",
      "\n",
      "/home/noa/miniconda3/envs/ntuaml3/lib/python3.7/site-packages/sklearn/metrics/_classification.py:1580: UndefinedMetricWarning:\n",
      "\n",
      "F-score is ill-defined and being set to 0.0 due to no true nor predicted samples. Use `zero_division` parameter to control this behavior.\n",
      "\n",
      "/home/noa/miniconda3/envs/ntuaml3/lib/python3.7/site-packages/sklearn/metrics/_classification.py:1580: UndefinedMetricWarning:\n",
      "\n",
      "F-score is ill-defined and being set to 0.0 due to no true nor predicted samples. Use `zero_division` parameter to control this behavior.\n",
      "\n",
      "/home/noa/miniconda3/envs/ntuaml3/lib/python3.7/site-packages/sklearn/metrics/_classification.py:1580: UndefinedMetricWarning:\n",
      "\n",
      "F-score is ill-defined and being set to 0.0 due to no true nor predicted samples. Use `zero_division` parameter to control this behavior.\n",
      "\n",
      "/home/noa/miniconda3/envs/ntuaml3/lib/python3.7/site-packages/sklearn/metrics/_classification.py:1580: UndefinedMetricWarning:\n",
      "\n",
      "F-score is ill-defined and being set to 0.0 due to no true nor predicted samples. Use `zero_division` parameter to control this behavior.\n",
      "\n",
      "/home/noa/miniconda3/envs/ntuaml3/lib/python3.7/site-packages/sklearn/metrics/_classification.py:1580: UndefinedMetricWarning:\n",
      "\n",
      "F-score is ill-defined and being set to 0.0 due to no true nor predicted samples. Use `zero_division` parameter to control this behavior.\n",
      "\n",
      "/home/noa/miniconda3/envs/ntuaml3/lib/python3.7/site-packages/sklearn/metrics/_classification.py:1580: UndefinedMetricWarning:\n",
      "\n",
      "F-score is ill-defined and being set to 0.0 due to no true nor predicted samples. Use `zero_division` parameter to control this behavior.\n",
      "\n",
      "/home/noa/miniconda3/envs/ntuaml3/lib/python3.7/site-packages/sklearn/metrics/_classification.py:1580: UndefinedMetricWarning:\n",
      "\n",
      "F-score is ill-defined and being set to 0.0 due to no true nor predicted samples. Use `zero_division` parameter to control this behavior.\n",
      "\n"
     ]
    },
    {
     "data": {
      "application/vnd.plotly.v1+json": {
       "config": {
        "plotlyServerURL": "https://plot.ly"
       },
       "data": [
        {
         "alignmentgroup": "True",
         "hovertemplate": "label=%{x}<br>score=%{marker.color}<extra></extra>",
         "legendgroup": "",
         "marker": {
          "color": [
           1,
           1,
           0,
           0,
           0,
           0,
           0,
           0,
           0,
           0,
           0,
           0,
           0,
           0,
           0,
           0,
           0
          ],
          "coloraxis": "coloraxis",
          "pattern": {
           "shape": ""
          }
         },
         "name": "",
         "offsetgroup": "",
         "orientation": "v",
         "showlegend": false,
         "textposition": "auto",
         "type": "bar",
         "x": [
          "road",
          "primary",
          "agriculture",
          "habitation",
          "slash_burn",
          "selective_logging",
          "partly_cloudy",
          "haze",
          "cultivation",
          "artisinal_mine",
          "conventional_mine",
          "cloudy",
          "clear",
          "blow_down",
          "blooming",
          "bare_ground",
          "water"
         ],
         "xaxis": "x",
         "y": [
          1,
          1,
          0,
          0,
          0,
          0,
          0,
          0,
          0,
          0,
          0,
          0,
          0,
          0,
          0,
          0,
          0
         ],
         "yaxis": "y"
        }
       ],
       "layout": {
        "barmode": "relative",
        "coloraxis": {
         "colorbar": {
          "title": {
           "text": "score"
          }
         },
         "colorscale": [
          [
           0,
           "#0d0887"
          ],
          [
           0.1111111111111111,
           "#46039f"
          ],
          [
           0.2222222222222222,
           "#7201a8"
          ],
          [
           0.3333333333333333,
           "#9c179e"
          ],
          [
           0.4444444444444444,
           "#bd3786"
          ],
          [
           0.5555555555555556,
           "#d8576b"
          ],
          [
           0.6666666666666666,
           "#ed7953"
          ],
          [
           0.7777777777777778,
           "#fb9f3a"
          ],
          [
           0.8888888888888888,
           "#fdca26"
          ],
          [
           1,
           "#f0f921"
          ]
         ]
        },
        "legend": {
         "tracegroupgap": 0
        },
        "margin": {
         "t": 60
        },
        "template": {
         "data": {
          "bar": [
           {
            "error_x": {
             "color": "#2a3f5f"
            },
            "error_y": {
             "color": "#2a3f5f"
            },
            "marker": {
             "line": {
              "color": "#E5ECF6",
              "width": 0.5
             },
             "pattern": {
              "fillmode": "overlay",
              "size": 10,
              "solidity": 0.2
             }
            },
            "type": "bar"
           }
          ],
          "barpolar": [
           {
            "marker": {
             "line": {
              "color": "#E5ECF6",
              "width": 0.5
             },
             "pattern": {
              "fillmode": "overlay",
              "size": 10,
              "solidity": 0.2
             }
            },
            "type": "barpolar"
           }
          ],
          "carpet": [
           {
            "aaxis": {
             "endlinecolor": "#2a3f5f",
             "gridcolor": "white",
             "linecolor": "white",
             "minorgridcolor": "white",
             "startlinecolor": "#2a3f5f"
            },
            "baxis": {
             "endlinecolor": "#2a3f5f",
             "gridcolor": "white",
             "linecolor": "white",
             "minorgridcolor": "white",
             "startlinecolor": "#2a3f5f"
            },
            "type": "carpet"
           }
          ],
          "choropleth": [
           {
            "colorbar": {
             "outlinewidth": 0,
             "ticks": ""
            },
            "type": "choropleth"
           }
          ],
          "contour": [
           {
            "colorbar": {
             "outlinewidth": 0,
             "ticks": ""
            },
            "colorscale": [
             [
              0,
              "#0d0887"
             ],
             [
              0.1111111111111111,
              "#46039f"
             ],
             [
              0.2222222222222222,
              "#7201a8"
             ],
             [
              0.3333333333333333,
              "#9c179e"
             ],
             [
              0.4444444444444444,
              "#bd3786"
             ],
             [
              0.5555555555555556,
              "#d8576b"
             ],
             [
              0.6666666666666666,
              "#ed7953"
             ],
             [
              0.7777777777777778,
              "#fb9f3a"
             ],
             [
              0.8888888888888888,
              "#fdca26"
             ],
             [
              1,
              "#f0f921"
             ]
            ],
            "type": "contour"
           }
          ],
          "contourcarpet": [
           {
            "colorbar": {
             "outlinewidth": 0,
             "ticks": ""
            },
            "type": "contourcarpet"
           }
          ],
          "heatmap": [
           {
            "colorbar": {
             "outlinewidth": 0,
             "ticks": ""
            },
            "colorscale": [
             [
              0,
              "#0d0887"
             ],
             [
              0.1111111111111111,
              "#46039f"
             ],
             [
              0.2222222222222222,
              "#7201a8"
             ],
             [
              0.3333333333333333,
              "#9c179e"
             ],
             [
              0.4444444444444444,
              "#bd3786"
             ],
             [
              0.5555555555555556,
              "#d8576b"
             ],
             [
              0.6666666666666666,
              "#ed7953"
             ],
             [
              0.7777777777777778,
              "#fb9f3a"
             ],
             [
              0.8888888888888888,
              "#fdca26"
             ],
             [
              1,
              "#f0f921"
             ]
            ],
            "type": "heatmap"
           }
          ],
          "heatmapgl": [
           {
            "colorbar": {
             "outlinewidth": 0,
             "ticks": ""
            },
            "colorscale": [
             [
              0,
              "#0d0887"
             ],
             [
              0.1111111111111111,
              "#46039f"
             ],
             [
              0.2222222222222222,
              "#7201a8"
             ],
             [
              0.3333333333333333,
              "#9c179e"
             ],
             [
              0.4444444444444444,
              "#bd3786"
             ],
             [
              0.5555555555555556,
              "#d8576b"
             ],
             [
              0.6666666666666666,
              "#ed7953"
             ],
             [
              0.7777777777777778,
              "#fb9f3a"
             ],
             [
              0.8888888888888888,
              "#fdca26"
             ],
             [
              1,
              "#f0f921"
             ]
            ],
            "type": "heatmapgl"
           }
          ],
          "histogram": [
           {
            "marker": {
             "pattern": {
              "fillmode": "overlay",
              "size": 10,
              "solidity": 0.2
             }
            },
            "type": "histogram"
           }
          ],
          "histogram2d": [
           {
            "colorbar": {
             "outlinewidth": 0,
             "ticks": ""
            },
            "colorscale": [
             [
              0,
              "#0d0887"
             ],
             [
              0.1111111111111111,
              "#46039f"
             ],
             [
              0.2222222222222222,
              "#7201a8"
             ],
             [
              0.3333333333333333,
              "#9c179e"
             ],
             [
              0.4444444444444444,
              "#bd3786"
             ],
             [
              0.5555555555555556,
              "#d8576b"
             ],
             [
              0.6666666666666666,
              "#ed7953"
             ],
             [
              0.7777777777777778,
              "#fb9f3a"
             ],
             [
              0.8888888888888888,
              "#fdca26"
             ],
             [
              1,
              "#f0f921"
             ]
            ],
            "type": "histogram2d"
           }
          ],
          "histogram2dcontour": [
           {
            "colorbar": {
             "outlinewidth": 0,
             "ticks": ""
            },
            "colorscale": [
             [
              0,
              "#0d0887"
             ],
             [
              0.1111111111111111,
              "#46039f"
             ],
             [
              0.2222222222222222,
              "#7201a8"
             ],
             [
              0.3333333333333333,
              "#9c179e"
             ],
             [
              0.4444444444444444,
              "#bd3786"
             ],
             [
              0.5555555555555556,
              "#d8576b"
             ],
             [
              0.6666666666666666,
              "#ed7953"
             ],
             [
              0.7777777777777778,
              "#fb9f3a"
             ],
             [
              0.8888888888888888,
              "#fdca26"
             ],
             [
              1,
              "#f0f921"
             ]
            ],
            "type": "histogram2dcontour"
           }
          ],
          "mesh3d": [
           {
            "colorbar": {
             "outlinewidth": 0,
             "ticks": ""
            },
            "type": "mesh3d"
           }
          ],
          "parcoords": [
           {
            "line": {
             "colorbar": {
              "outlinewidth": 0,
              "ticks": ""
             }
            },
            "type": "parcoords"
           }
          ],
          "pie": [
           {
            "automargin": true,
            "type": "pie"
           }
          ],
          "scatter": [
           {
            "marker": {
             "colorbar": {
              "outlinewidth": 0,
              "ticks": ""
             }
            },
            "type": "scatter"
           }
          ],
          "scatter3d": [
           {
            "line": {
             "colorbar": {
              "outlinewidth": 0,
              "ticks": ""
             }
            },
            "marker": {
             "colorbar": {
              "outlinewidth": 0,
              "ticks": ""
             }
            },
            "type": "scatter3d"
           }
          ],
          "scattercarpet": [
           {
            "marker": {
             "colorbar": {
              "outlinewidth": 0,
              "ticks": ""
             }
            },
            "type": "scattercarpet"
           }
          ],
          "scattergeo": [
           {
            "marker": {
             "colorbar": {
              "outlinewidth": 0,
              "ticks": ""
             }
            },
            "type": "scattergeo"
           }
          ],
          "scattergl": [
           {
            "marker": {
             "colorbar": {
              "outlinewidth": 0,
              "ticks": ""
             }
            },
            "type": "scattergl"
           }
          ],
          "scattermapbox": [
           {
            "marker": {
             "colorbar": {
              "outlinewidth": 0,
              "ticks": ""
             }
            },
            "type": "scattermapbox"
           }
          ],
          "scatterpolar": [
           {
            "marker": {
             "colorbar": {
              "outlinewidth": 0,
              "ticks": ""
             }
            },
            "type": "scatterpolar"
           }
          ],
          "scatterpolargl": [
           {
            "marker": {
             "colorbar": {
              "outlinewidth": 0,
              "ticks": ""
             }
            },
            "type": "scatterpolargl"
           }
          ],
          "scatterternary": [
           {
            "marker": {
             "colorbar": {
              "outlinewidth": 0,
              "ticks": ""
             }
            },
            "type": "scatterternary"
           }
          ],
          "surface": [
           {
            "colorbar": {
             "outlinewidth": 0,
             "ticks": ""
            },
            "colorscale": [
             [
              0,
              "#0d0887"
             ],
             [
              0.1111111111111111,
              "#46039f"
             ],
             [
              0.2222222222222222,
              "#7201a8"
             ],
             [
              0.3333333333333333,
              "#9c179e"
             ],
             [
              0.4444444444444444,
              "#bd3786"
             ],
             [
              0.5555555555555556,
              "#d8576b"
             ],
             [
              0.6666666666666666,
              "#ed7953"
             ],
             [
              0.7777777777777778,
              "#fb9f3a"
             ],
             [
              0.8888888888888888,
              "#fdca26"
             ],
             [
              1,
              "#f0f921"
             ]
            ],
            "type": "surface"
           }
          ],
          "table": [
           {
            "cells": {
             "fill": {
              "color": "#EBF0F8"
             },
             "line": {
              "color": "white"
             }
            },
            "header": {
             "fill": {
              "color": "#C8D4E3"
             },
             "line": {
              "color": "white"
             }
            },
            "type": "table"
           }
          ]
         },
         "layout": {
          "annotationdefaults": {
           "arrowcolor": "#2a3f5f",
           "arrowhead": 0,
           "arrowwidth": 1
          },
          "autotypenumbers": "strict",
          "coloraxis": {
           "colorbar": {
            "outlinewidth": 0,
            "ticks": ""
           }
          },
          "colorscale": {
           "diverging": [
            [
             0,
             "#8e0152"
            ],
            [
             0.1,
             "#c51b7d"
            ],
            [
             0.2,
             "#de77ae"
            ],
            [
             0.3,
             "#f1b6da"
            ],
            [
             0.4,
             "#fde0ef"
            ],
            [
             0.5,
             "#f7f7f7"
            ],
            [
             0.6,
             "#e6f5d0"
            ],
            [
             0.7,
             "#b8e186"
            ],
            [
             0.8,
             "#7fbc41"
            ],
            [
             0.9,
             "#4d9221"
            ],
            [
             1,
             "#276419"
            ]
           ],
           "sequential": [
            [
             0,
             "#0d0887"
            ],
            [
             0.1111111111111111,
             "#46039f"
            ],
            [
             0.2222222222222222,
             "#7201a8"
            ],
            [
             0.3333333333333333,
             "#9c179e"
            ],
            [
             0.4444444444444444,
             "#bd3786"
            ],
            [
             0.5555555555555556,
             "#d8576b"
            ],
            [
             0.6666666666666666,
             "#ed7953"
            ],
            [
             0.7777777777777778,
             "#fb9f3a"
            ],
            [
             0.8888888888888888,
             "#fdca26"
            ],
            [
             1,
             "#f0f921"
            ]
           ],
           "sequentialminus": [
            [
             0,
             "#0d0887"
            ],
            [
             0.1111111111111111,
             "#46039f"
            ],
            [
             0.2222222222222222,
             "#7201a8"
            ],
            [
             0.3333333333333333,
             "#9c179e"
            ],
            [
             0.4444444444444444,
             "#bd3786"
            ],
            [
             0.5555555555555556,
             "#d8576b"
            ],
            [
             0.6666666666666666,
             "#ed7953"
            ],
            [
             0.7777777777777778,
             "#fb9f3a"
            ],
            [
             0.8888888888888888,
             "#fdca26"
            ],
            [
             1,
             "#f0f921"
            ]
           ]
          },
          "colorway": [
           "#636efa",
           "#EF553B",
           "#00cc96",
           "#ab63fa",
           "#FFA15A",
           "#19d3f3",
           "#FF6692",
           "#B6E880",
           "#FF97FF",
           "#FECB52"
          ],
          "font": {
           "color": "#2a3f5f"
          },
          "geo": {
           "bgcolor": "white",
           "lakecolor": "white",
           "landcolor": "#E5ECF6",
           "showlakes": true,
           "showland": true,
           "subunitcolor": "white"
          },
          "hoverlabel": {
           "align": "left"
          },
          "hovermode": "closest",
          "mapbox": {
           "style": "light"
          },
          "paper_bgcolor": "white",
          "plot_bgcolor": "#E5ECF6",
          "polar": {
           "angularaxis": {
            "gridcolor": "white",
            "linecolor": "white",
            "ticks": ""
           },
           "bgcolor": "#E5ECF6",
           "radialaxis": {
            "gridcolor": "white",
            "linecolor": "white",
            "ticks": ""
           }
          },
          "scene": {
           "xaxis": {
            "backgroundcolor": "#E5ECF6",
            "gridcolor": "white",
            "gridwidth": 2,
            "linecolor": "white",
            "showbackground": true,
            "ticks": "",
            "zerolinecolor": "white"
           },
           "yaxis": {
            "backgroundcolor": "#E5ECF6",
            "gridcolor": "white",
            "gridwidth": 2,
            "linecolor": "white",
            "showbackground": true,
            "ticks": "",
            "zerolinecolor": "white"
           },
           "zaxis": {
            "backgroundcolor": "#E5ECF6",
            "gridcolor": "white",
            "gridwidth": 2,
            "linecolor": "white",
            "showbackground": true,
            "ticks": "",
            "zerolinecolor": "white"
           }
          },
          "shapedefaults": {
           "line": {
            "color": "#2a3f5f"
           }
          },
          "ternary": {
           "aaxis": {
            "gridcolor": "white",
            "linecolor": "white",
            "ticks": ""
           },
           "baxis": {
            "gridcolor": "white",
            "linecolor": "white",
            "ticks": ""
           },
           "bgcolor": "#E5ECF6",
           "caxis": {
            "gridcolor": "white",
            "linecolor": "white",
            "ticks": ""
           }
          },
          "title": {
           "x": 0.05
          },
          "xaxis": {
           "automargin": true,
           "gridcolor": "white",
           "linecolor": "white",
           "ticks": "",
           "title": {
            "standoff": 15
           },
           "zerolinecolor": "white",
           "zerolinewidth": 2
          },
          "yaxis": {
           "automargin": true,
           "gridcolor": "white",
           "linecolor": "white",
           "ticks": "",
           "title": {
            "standoff": 15
           },
           "zerolinecolor": "white",
           "zerolinewidth": 2
          }
         }
        },
        "xaxis": {
         "anchor": "y",
         "domain": [
          0,
          1
         ],
         "title": {
          "text": "label"
         }
        },
        "yaxis": {
         "anchor": "x",
         "domain": [
          0,
          1
         ],
         "title": {
          "text": "score"
         }
        }
       }
      },
      "text/html": [
       "<div>                            <div id=\"7cb68ffb-c8e8-40fb-89e4-c92827d3d312\" class=\"plotly-graph-div\" style=\"height:525px; width:100%;\"></div>            <script type=\"text/javascript\">                require([\"plotly\"], function(Plotly) {                    window.PLOTLYENV=window.PLOTLYENV || {};                                    if (document.getElementById(\"7cb68ffb-c8e8-40fb-89e4-c92827d3d312\")) {                    Plotly.newPlot(                        \"7cb68ffb-c8e8-40fb-89e4-c92827d3d312\",                        [{\"alignmentgroup\":\"True\",\"hovertemplate\":\"label=%{x}<br>score=%{marker.color}<extra></extra>\",\"legendgroup\":\"\",\"marker\":{\"color\":[1.0,1.0,0.0,0.0,0.0,0.0,0.0,0.0,0.0,0.0,0.0,0.0,0.0,0.0,0.0,0.0,0.0],\"coloraxis\":\"coloraxis\",\"pattern\":{\"shape\":\"\"}},\"name\":\"\",\"offsetgroup\":\"\",\"orientation\":\"v\",\"showlegend\":false,\"textposition\":\"auto\",\"x\":[\"road\",\"primary\",\"agriculture\",\"habitation\",\"slash_burn\",\"selective_logging\",\"partly_cloudy\",\"haze\",\"cultivation\",\"artisinal_mine\",\"conventional_mine\",\"cloudy\",\"clear\",\"blow_down\",\"blooming\",\"bare_ground\",\"water\"],\"xaxis\":\"x\",\"y\":[1.0,1.0,0.0,0.0,0.0,0.0,0.0,0.0,0.0,0.0,0.0,0.0,0.0,0.0,0.0,0.0,0.0],\"yaxis\":\"y\",\"type\":\"bar\"}],                        {\"template\":{\"data\":{\"bar\":[{\"error_x\":{\"color\":\"#2a3f5f\"},\"error_y\":{\"color\":\"#2a3f5f\"},\"marker\":{\"line\":{\"color\":\"#E5ECF6\",\"width\":0.5},\"pattern\":{\"fillmode\":\"overlay\",\"size\":10,\"solidity\":0.2}},\"type\":\"bar\"}],\"barpolar\":[{\"marker\":{\"line\":{\"color\":\"#E5ECF6\",\"width\":0.5},\"pattern\":{\"fillmode\":\"overlay\",\"size\":10,\"solidity\":0.2}},\"type\":\"barpolar\"}],\"carpet\":[{\"aaxis\":{\"endlinecolor\":\"#2a3f5f\",\"gridcolor\":\"white\",\"linecolor\":\"white\",\"minorgridcolor\":\"white\",\"startlinecolor\":\"#2a3f5f\"},\"baxis\":{\"endlinecolor\":\"#2a3f5f\",\"gridcolor\":\"white\",\"linecolor\":\"white\",\"minorgridcolor\":\"white\",\"startlinecolor\":\"#2a3f5f\"},\"type\":\"carpet\"}],\"choropleth\":[{\"colorbar\":{\"outlinewidth\":0,\"ticks\":\"\"},\"type\":\"choropleth\"}],\"contour\":[{\"colorbar\":{\"outlinewidth\":0,\"ticks\":\"\"},\"colorscale\":[[0.0,\"#0d0887\"],[0.1111111111111111,\"#46039f\"],[0.2222222222222222,\"#7201a8\"],[0.3333333333333333,\"#9c179e\"],[0.4444444444444444,\"#bd3786\"],[0.5555555555555556,\"#d8576b\"],[0.6666666666666666,\"#ed7953\"],[0.7777777777777778,\"#fb9f3a\"],[0.8888888888888888,\"#fdca26\"],[1.0,\"#f0f921\"]],\"type\":\"contour\"}],\"contourcarpet\":[{\"colorbar\":{\"outlinewidth\":0,\"ticks\":\"\"},\"type\":\"contourcarpet\"}],\"heatmap\":[{\"colorbar\":{\"outlinewidth\":0,\"ticks\":\"\"},\"colorscale\":[[0.0,\"#0d0887\"],[0.1111111111111111,\"#46039f\"],[0.2222222222222222,\"#7201a8\"],[0.3333333333333333,\"#9c179e\"],[0.4444444444444444,\"#bd3786\"],[0.5555555555555556,\"#d8576b\"],[0.6666666666666666,\"#ed7953\"],[0.7777777777777778,\"#fb9f3a\"],[0.8888888888888888,\"#fdca26\"],[1.0,\"#f0f921\"]],\"type\":\"heatmap\"}],\"heatmapgl\":[{\"colorbar\":{\"outlinewidth\":0,\"ticks\":\"\"},\"colorscale\":[[0.0,\"#0d0887\"],[0.1111111111111111,\"#46039f\"],[0.2222222222222222,\"#7201a8\"],[0.3333333333333333,\"#9c179e\"],[0.4444444444444444,\"#bd3786\"],[0.5555555555555556,\"#d8576b\"],[0.6666666666666666,\"#ed7953\"],[0.7777777777777778,\"#fb9f3a\"],[0.8888888888888888,\"#fdca26\"],[1.0,\"#f0f921\"]],\"type\":\"heatmapgl\"}],\"histogram\":[{\"marker\":{\"pattern\":{\"fillmode\":\"overlay\",\"size\":10,\"solidity\":0.2}},\"type\":\"histogram\"}],\"histogram2d\":[{\"colorbar\":{\"outlinewidth\":0,\"ticks\":\"\"},\"colorscale\":[[0.0,\"#0d0887\"],[0.1111111111111111,\"#46039f\"],[0.2222222222222222,\"#7201a8\"],[0.3333333333333333,\"#9c179e\"],[0.4444444444444444,\"#bd3786\"],[0.5555555555555556,\"#d8576b\"],[0.6666666666666666,\"#ed7953\"],[0.7777777777777778,\"#fb9f3a\"],[0.8888888888888888,\"#fdca26\"],[1.0,\"#f0f921\"]],\"type\":\"histogram2d\"}],\"histogram2dcontour\":[{\"colorbar\":{\"outlinewidth\":0,\"ticks\":\"\"},\"colorscale\":[[0.0,\"#0d0887\"],[0.1111111111111111,\"#46039f\"],[0.2222222222222222,\"#7201a8\"],[0.3333333333333333,\"#9c179e\"],[0.4444444444444444,\"#bd3786\"],[0.5555555555555556,\"#d8576b\"],[0.6666666666666666,\"#ed7953\"],[0.7777777777777778,\"#fb9f3a\"],[0.8888888888888888,\"#fdca26\"],[1.0,\"#f0f921\"]],\"type\":\"histogram2dcontour\"}],\"mesh3d\":[{\"colorbar\":{\"outlinewidth\":0,\"ticks\":\"\"},\"type\":\"mesh3d\"}],\"parcoords\":[{\"line\":{\"colorbar\":{\"outlinewidth\":0,\"ticks\":\"\"}},\"type\":\"parcoords\"}],\"pie\":[{\"automargin\":true,\"type\":\"pie\"}],\"scatter\":[{\"marker\":{\"colorbar\":{\"outlinewidth\":0,\"ticks\":\"\"}},\"type\":\"scatter\"}],\"scatter3d\":[{\"line\":{\"colorbar\":{\"outlinewidth\":0,\"ticks\":\"\"}},\"marker\":{\"colorbar\":{\"outlinewidth\":0,\"ticks\":\"\"}},\"type\":\"scatter3d\"}],\"scattercarpet\":[{\"marker\":{\"colorbar\":{\"outlinewidth\":0,\"ticks\":\"\"}},\"type\":\"scattercarpet\"}],\"scattergeo\":[{\"marker\":{\"colorbar\":{\"outlinewidth\":0,\"ticks\":\"\"}},\"type\":\"scattergeo\"}],\"scattergl\":[{\"marker\":{\"colorbar\":{\"outlinewidth\":0,\"ticks\":\"\"}},\"type\":\"scattergl\"}],\"scattermapbox\":[{\"marker\":{\"colorbar\":{\"outlinewidth\":0,\"ticks\":\"\"}},\"type\":\"scattermapbox\"}],\"scatterpolar\":[{\"marker\":{\"colorbar\":{\"outlinewidth\":0,\"ticks\":\"\"}},\"type\":\"scatterpolar\"}],\"scatterpolargl\":[{\"marker\":{\"colorbar\":{\"outlinewidth\":0,\"ticks\":\"\"}},\"type\":\"scatterpolargl\"}],\"scatterternary\":[{\"marker\":{\"colorbar\":{\"outlinewidth\":0,\"ticks\":\"\"}},\"type\":\"scatterternary\"}],\"surface\":[{\"colorbar\":{\"outlinewidth\":0,\"ticks\":\"\"},\"colorscale\":[[0.0,\"#0d0887\"],[0.1111111111111111,\"#46039f\"],[0.2222222222222222,\"#7201a8\"],[0.3333333333333333,\"#9c179e\"],[0.4444444444444444,\"#bd3786\"],[0.5555555555555556,\"#d8576b\"],[0.6666666666666666,\"#ed7953\"],[0.7777777777777778,\"#fb9f3a\"],[0.8888888888888888,\"#fdca26\"],[1.0,\"#f0f921\"]],\"type\":\"surface\"}],\"table\":[{\"cells\":{\"fill\":{\"color\":\"#EBF0F8\"},\"line\":{\"color\":\"white\"}},\"header\":{\"fill\":{\"color\":\"#C8D4E3\"},\"line\":{\"color\":\"white\"}},\"type\":\"table\"}]},\"layout\":{\"annotationdefaults\":{\"arrowcolor\":\"#2a3f5f\",\"arrowhead\":0,\"arrowwidth\":1},\"autotypenumbers\":\"strict\",\"coloraxis\":{\"colorbar\":{\"outlinewidth\":0,\"ticks\":\"\"}},\"colorscale\":{\"diverging\":[[0,\"#8e0152\"],[0.1,\"#c51b7d\"],[0.2,\"#de77ae\"],[0.3,\"#f1b6da\"],[0.4,\"#fde0ef\"],[0.5,\"#f7f7f7\"],[0.6,\"#e6f5d0\"],[0.7,\"#b8e186\"],[0.8,\"#7fbc41\"],[0.9,\"#4d9221\"],[1,\"#276419\"]],\"sequential\":[[0.0,\"#0d0887\"],[0.1111111111111111,\"#46039f\"],[0.2222222222222222,\"#7201a8\"],[0.3333333333333333,\"#9c179e\"],[0.4444444444444444,\"#bd3786\"],[0.5555555555555556,\"#d8576b\"],[0.6666666666666666,\"#ed7953\"],[0.7777777777777778,\"#fb9f3a\"],[0.8888888888888888,\"#fdca26\"],[1.0,\"#f0f921\"]],\"sequentialminus\":[[0.0,\"#0d0887\"],[0.1111111111111111,\"#46039f\"],[0.2222222222222222,\"#7201a8\"],[0.3333333333333333,\"#9c179e\"],[0.4444444444444444,\"#bd3786\"],[0.5555555555555556,\"#d8576b\"],[0.6666666666666666,\"#ed7953\"],[0.7777777777777778,\"#fb9f3a\"],[0.8888888888888888,\"#fdca26\"],[1.0,\"#f0f921\"]]},\"colorway\":[\"#636efa\",\"#EF553B\",\"#00cc96\",\"#ab63fa\",\"#FFA15A\",\"#19d3f3\",\"#FF6692\",\"#B6E880\",\"#FF97FF\",\"#FECB52\"],\"font\":{\"color\":\"#2a3f5f\"},\"geo\":{\"bgcolor\":\"white\",\"lakecolor\":\"white\",\"landcolor\":\"#E5ECF6\",\"showlakes\":true,\"showland\":true,\"subunitcolor\":\"white\"},\"hoverlabel\":{\"align\":\"left\"},\"hovermode\":\"closest\",\"mapbox\":{\"style\":\"light\"},\"paper_bgcolor\":\"white\",\"plot_bgcolor\":\"#E5ECF6\",\"polar\":{\"angularaxis\":{\"gridcolor\":\"white\",\"linecolor\":\"white\",\"ticks\":\"\"},\"bgcolor\":\"#E5ECF6\",\"radialaxis\":{\"gridcolor\":\"white\",\"linecolor\":\"white\",\"ticks\":\"\"}},\"scene\":{\"xaxis\":{\"backgroundcolor\":\"#E5ECF6\",\"gridcolor\":\"white\",\"gridwidth\":2,\"linecolor\":\"white\",\"showbackground\":true,\"ticks\":\"\",\"zerolinecolor\":\"white\"},\"yaxis\":{\"backgroundcolor\":\"#E5ECF6\",\"gridcolor\":\"white\",\"gridwidth\":2,\"linecolor\":\"white\",\"showbackground\":true,\"ticks\":\"\",\"zerolinecolor\":\"white\"},\"zaxis\":{\"backgroundcolor\":\"#E5ECF6\",\"gridcolor\":\"white\",\"gridwidth\":2,\"linecolor\":\"white\",\"showbackground\":true,\"ticks\":\"\",\"zerolinecolor\":\"white\"}},\"shapedefaults\":{\"line\":{\"color\":\"#2a3f5f\"}},\"ternary\":{\"aaxis\":{\"gridcolor\":\"white\",\"linecolor\":\"white\",\"ticks\":\"\"},\"baxis\":{\"gridcolor\":\"white\",\"linecolor\":\"white\",\"ticks\":\"\"},\"bgcolor\":\"#E5ECF6\",\"caxis\":{\"gridcolor\":\"white\",\"linecolor\":\"white\",\"ticks\":\"\"}},\"title\":{\"x\":0.05},\"xaxis\":{\"automargin\":true,\"gridcolor\":\"white\",\"linecolor\":\"white\",\"ticks\":\"\",\"title\":{\"standoff\":15},\"zerolinecolor\":\"white\",\"zerolinewidth\":2},\"yaxis\":{\"automargin\":true,\"gridcolor\":\"white\",\"linecolor\":\"white\",\"ticks\":\"\",\"title\":{\"standoff\":15},\"zerolinecolor\":\"white\",\"zerolinewidth\":2}}},\"xaxis\":{\"anchor\":\"y\",\"domain\":[0.0,1.0],\"title\":{\"text\":\"label\"}},\"yaxis\":{\"anchor\":\"x\",\"domain\":[0.0,1.0],\"title\":{\"text\":\"score\"}},\"coloraxis\":{\"colorbar\":{\"title\":{\"text\":\"score\"}},\"colorscale\":[[0.0,\"#0d0887\"],[0.1111111111111111,\"#46039f\"],[0.2222222222222222,\"#7201a8\"],[0.3333333333333333,\"#9c179e\"],[0.4444444444444444,\"#bd3786\"],[0.5555555555555556,\"#d8576b\"],[0.6666666666666666,\"#ed7953\"],[0.7777777777777778,\"#fb9f3a\"],[0.8888888888888888,\"#fdca26\"],[1.0,\"#f0f921\"]]},\"legend\":{\"tracegroupgap\":0},\"margin\":{\"t\":60},\"barmode\":\"relative\"},                        {\"responsive\": true}                    ).then(function(){\n",
       "                            \n",
       "var gd = document.getElementById('7cb68ffb-c8e8-40fb-89e4-c92827d3d312');\n",
       "var x = new MutationObserver(function (mutations, observer) {{\n",
       "        var display = window.getComputedStyle(gd).display;\n",
       "        if (!display || display === 'none') {{\n",
       "            console.log([gd, 'removed!']);\n",
       "            Plotly.purge(gd);\n",
       "            observer.disconnect();\n",
       "        }}\n",
       "}});\n",
       "\n",
       "// Listen for the removal of the full notebook cells\n",
       "var notebookContainer = gd.closest('#notebook-container');\n",
       "if (notebookContainer) {{\n",
       "    x.observe(notebookContainer, {childList: true});\n",
       "}}\n",
       "\n",
       "// Listen for the clearing of the current output cell\n",
       "var outputEl = gd.closest('.output');\n",
       "if (outputEl) {{\n",
       "    x.observe(outputEl, {childList: true});\n",
       "}}\n",
       "\n",
       "                        })                };                });            </script>        </div>"
      ]
     },
     "metadata": {},
     "output_type": "display_data"
    }
   ],
   "source": [
    "class_scores = {}\n",
    "classes = encoder.classes_\n",
    "for jdx in range(Y_val.shape[1]):\n",
    "    y_val = Y_val[:, jdx].ravel()\n",
    "    y_hat_val = (Y_hat_val[:, jdx].ravel() > threshs[jdx]).astype(float)\n",
    "    score = fbeta_score(y_val, y_hat_val, beta=2)\n",
    "    class_scores[classes[jdx]] = round(score, 4)\n",
    "\n",
    "df_score = pd.DataFrame(dict(\n",
    "    label=list(class_scores.keys()), score=list(class_scores.values()),\n",
    ")).sort_values(\"score\", ascending=False)\n",
    "fig = px.bar(df_score, x=\"label\", y=\"score\", color=\"score\")\n",
    "fig.show()"
   ]
  },
  {
   "cell_type": "code",
   "execution_count": null,
   "id": "f112fd6f",
   "metadata": {},
   "outputs": [],
   "source": []
  }
 ],
 "metadata": {
  "kernelspec": {
   "display_name": "Python 3 (ipykernel)",
   "language": "python",
   "name": "python3"
  },
  "language_info": {
   "codemirror_mode": {
    "name": "ipython",
    "version": 3
   },
   "file_extension": ".py",
   "mimetype": "text/x-python",
   "name": "python",
   "nbconvert_exporter": "python",
   "pygments_lexer": "ipython3",
   "version": "3.8.2"
  }
 },
 "nbformat": 4,
 "nbformat_minor": 5
}
