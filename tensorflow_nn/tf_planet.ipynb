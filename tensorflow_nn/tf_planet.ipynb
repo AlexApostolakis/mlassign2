{
 "cells": [
  {
   "cell_type": "code",
   "execution_count": 195,
   "id": "47c47f34",
   "metadata": {},
   "outputs": [],
   "source": [
    "import os\n",
    "import random\n",
    "from time import time\n",
    "from glob import glob\n",
    "import pandas as pd\n",
    "import numpy as np\n",
    "from tqdm.notebook import tqdm\n",
    "from collections import Counter\n",
    "#import dill as pickle\n",
    "\n",
    "from plotly import graph_objects as go\n",
    "import plotly.express as px\n",
    "import plotly.figure_factory as ff\n",
    "from plotly.subplots import make_subplots\n",
    "\n",
    "from matplotlib import pyplot as plt\n",
    "%matplotlib inline\n",
    "\n",
    "import cv2\n",
    "from functools import partial\n",
    "\n",
    "from sklearn.manifold import TSNE\n",
    "from sklearn.model_selection import train_test_split\n",
    "from sklearn.preprocessing import MultiLabelBinarizer\n",
    "from sklearn.metrics import fbeta_score, confusion_matrix\n",
    "from sklearn.decomposition import PCA\n",
    "from sklearn.ensemble import RandomForestClassifier\n",
    "from sklearn.ensemble import ExtraTreesClassifier\n",
    "from sklearn.multioutput import MultiOutputClassifier\n",
    "from sklearn.model_selection import train_test_split, KFold\n",
    "from sklearn.utils.class_weight import compute_sample_weight\n",
    "\n",
    "from hyperopt import Trials, fmin, tpe, rand, STATUS_OK, hp\n",
    "\n",
    "from tensorflow.keras import Sequential\n",
    "from tensorflow.keras.layers import Dense, Dropout\n",
    "import tensorflow.keras.metrics\n",
    "import numpy as np\n",
    "from tensorflow.keras.optimizers import Adam, SGD\n",
    "from tensorflow.keras.callbacks import EarlyStopping, TensorBoard\n",
    "import tensorflow.keras.backend as K\n",
    "import tensorflow as tf\n",
    "#import tensorflow_addons as tfa"
   ]
  },
  {
   "cell_type": "code",
   "execution_count": 33,
   "id": "ddb6eae8",
   "metadata": {},
   "outputs": [],
   "source": [
    "random.seed(101)\n",
    "np.random.seed(101)"
   ]
  },
  {
   "cell_type": "code",
   "execution_count": 34,
   "id": "b5eb0269",
   "metadata": {},
   "outputs": [
    {
     "name": "stdout",
     "output_type": "stream",
     "text": [
      "fold_0.tfrecords  fold_4.tfrecords\t test_2000.csv\t train_classes.csv\r\n",
      "fold_1.tfrecords  sample_submission.csv  train-jpg\r\n",
      "fold_2.tfrecords  test-jpg\t\t train_1000.csv\r\n",
      "fold_3.tfrecords  test_1000.csv\t\t train_2000.csv\r\n"
     ]
    }
   ],
   "source": [
    "!ls /data2/ntua/data/planet/planet\n"
   ]
  },
  {
   "cell_type": "code",
   "execution_count": 35,
   "id": "4ef5e92e",
   "metadata": {},
   "outputs": [
    {
     "name": "stdout",
     "output_type": "stream",
     "text": [
      "train files: 40479, test files: 40669\n"
     ]
    }
   ],
   "source": [
    "path = \"/data2/ntua/data/planet/planet\"\n",
    "path_train = os.path.join(path, \"train-jpg\")\n",
    "path_test = os.path.join(path, \"test-jpg\")\n",
    "print(\n",
    "    f\"train files: {len(os.listdir(path_train))}, \"\n",
    "    f\"test files: {len(os.listdir(path_test))}\"\n",
    ")"
   ]
  },
  {
   "cell_type": "code",
   "execution_count": 36,
   "id": "8ab46fcb",
   "metadata": {},
   "outputs": [],
   "source": [
    "def load_img(path_file):\n",
    "    img = cv2.imread(path_file)\n",
    "    img = cv2.cvtColor(img, cv2.COLOR_BGR2RGB)\n",
    "    img = cv2.resize(img, (100, 100), cv2.INTER_LINEAR).astype(float)\n",
    "    img = cv2.normalize(img, None, 0.0, 1.0, cv2.NORM_MINMAX)\n",
    "    img = img.reshape(1, -1)\n",
    "    return img"
   ]
  },
  {
   "cell_type": "code",
   "execution_count": 37,
   "id": "6b21c92d",
   "metadata": {},
   "outputs": [],
   "source": [
    "def load_dataset(path, csvfile):\n",
    "    path_class = os.path.join(path, csvfile)\n",
    "    df_class = pd.read_csv(path_class)\n",
    "    #df_class = df_class.sample(n=10000) # limit images\n",
    "    #print(df_class.shape)\n",
    "    print('df shape')\n",
    "    print(df_class.shape)\n",
    "    #df_class.head()\n",
    "    #filenames = df_class.image_name.sample(500).values\n",
    "    df_class[\"list_tags\"] = df_class.tags.str.split(\" \")\n",
    "    filenames = df_class.image_name.values\n",
    "    path_files = [os.path.join(path_train, filename+\".jpg\") for filename in filenames]\n",
    "    X = np.vstack([load_img(path_file) for path_file in path_files])\n",
    "    print('X shape')\n",
    "    print(X.shape)\n",
    "    return df_class, X"
   ]
  },
  {
   "cell_type": "code",
   "execution_count": 38,
   "id": "5db35de2",
   "metadata": {},
   "outputs": [],
   "source": [
    "def apply_pca(X, pca=None):\n",
    "    if pca is None:\n",
    "        pca = PCA(n_components=0.95, random_state=2020)\n",
    "        X_pca = pca.fit_transform(X)\n",
    "    else:\n",
    "        X_pca = pca.transform(X)\n",
    "    df_pca=pd.DataFrame(X_pca)\n",
    "    return df_pca, pca"
   ]
  },
  {
   "cell_type": "code",
   "execution_count": 39,
   "id": "df27249f",
   "metadata": {},
   "outputs": [],
   "source": [
    "def get_data_ML(df_orig, df_part, df_pca, encoder=None):\n",
    "\n",
    "    fitenc=False\n",
    "    if encoder is None:\n",
    "        encoder = MultiLabelBinarizer()\n",
    "        fitenc=True\n",
    "    if fitenc:\n",
    "        ohe_tags = encoder.fit(df_orig.list_tags.values)\n",
    "    ohe_tags = encoder.transform(df_part.list_tags.values)\n",
    "    Y=ohe_tags\n",
    "\n",
    "    X_img = df_part.loc[:, ~df_part.columns.isin(['list_tags','tags'])]\n",
    "    X = pd.merge(X_img, df_pca, left_index=True, right_index=True)\n",
    "    X = X.loc[:, ~X.columns.isin(['Unnamed: 0','image_name'])]\n",
    "    \n",
    "    return X.values, Y, encoder"
   ]
  },
  {
   "cell_type": "code",
   "execution_count": 222,
   "id": "2a6ece59",
   "metadata": {},
   "outputs": [],
   "source": [
    "def fit_model(model, params, X_train, y_train, X_val=None, y_val=None):\n",
    "    es = EarlyStopping(monitor=params['ES_monitor'], patience=params['ES_patience'], min_delta=params['ES_mindelta'])\n",
    "    if X_val is not None and y_val is not None:\n",
    "        res = model.fit(X_train, y_train, batch_size=params['batch_size'], epochs=params['max_epochs'], verbose=0, callbacks=[es],\n",
    "                        validation_data=(X_val, y_val), class_weight=params['class_weights'])\n",
    "    else:\n",
    "        res = model.fit(X_train, y_train, batch_size=params['batch_size'], epochs=params['max_epochs'], verbose=0, callbacks=[es],\n",
    "                        class_weight=params['class_weights'])\n",
    "    return model, res\n"
   ]
  },
  {
   "cell_type": "code",
   "execution_count": 81,
   "id": "d12fea4c",
   "metadata": {},
   "outputs": [],
   "source": [
    "def create_NN_model(params, X, Y):\n",
    "    # initializer\n",
    "    #initializer = initializers.Constant(0.5)\n",
    "    # define model\n",
    "    model = Sequential()\n",
    "    n_features = X.shape[1]\n",
    "    intlayers = int(params['n_internal_layers'][0])\n",
    "    model.add(Dense(params['n_internal_layers'][1]['layer_1_' + str(intlayers) + '_nodes'], activation='relu', input_shape=(n_features,))) #kernel_initializer=initializer))\n",
    "    if not params['dropout'] is None:\n",
    "        model.add(Dropout(params['dropout']))\n",
    "    for i in range(2, intlayers + 2):\n",
    "        model.add(Dense(int(params['n_internal_layers'][1]['layer_' + str(i) + '_' + str(intlayers) + '_nodes']),\n",
    "                        activation='relu', )) #kernel_initializer=initializer))\n",
    "        if not params['dropout'] is None:\n",
    "            model.add(Dropout(params['dropout']))\n",
    "\n",
    "        # model.add(Dense(1, activation='sigmoid'))\n",
    "    #model.add(Dense(Y.shape[1], activation='softmax'))\n",
    "    model.add(Dense(Y.shape[1], activation='softmax'))\n",
    "\n",
    "    # compile the model\n",
    "\n",
    "    if params['optimizer']['name']=='Adam':\n",
    "        # adam = Adam(learning_rate=0.0001, beta_1=0.9, beta_2=0.999, amsgrad=False)\n",
    "        if params['optimizer']['adam_params'] is None:\n",
    "            opt = Adam()\n",
    "        else:\n",
    "            opt = Adam(learning_rate=params['optimizer']['adam_params']['learning_rate_adam'], beta_1=params['optimizer']['adam_params']['beta_1'],\n",
    "                       beta_2=params['optimizer']['adam_params']['beta_2'],amsgrad=params['optimizer']['adam_params']['amsgrad'])\n",
    "    elif params['optimizer']['name']=='SGD':\n",
    "        opt = SGD(learning_rate=params['optimizer']['learning_rate_SGD'])\n",
    "\n",
    "    if params['metric'] == 'accuracy':\n",
    "        metrics = ['accuracy']\n",
    "    if 'loss' in params and params['loss'] == 'unbalanced':\n",
    "        lossf=unbalanced_loss\n",
    "    else:\n",
    "        lossf='sparse_categorical_crossentropy'\n",
    "    #model.compile(optimizer=opt, loss=tf.keras.losses.SparseCategoricalCrossentropy(from_logits=True), metrics=metrics)  # AUC(multi_label=False)])\n",
    "    model.compile(optimizer=opt, loss=tf.keras.losses.BinaryCrossentropy(), metrics=metrics)\n",
    "    # model.compile(optimizer=opt, loss=recallloss, metrics=metrics)\n",
    "    return model\n"
   ]
  },
  {
   "cell_type": "code",
   "execution_count": 104,
   "id": "eb8601a9",
   "metadata": {},
   "outputs": [],
   "source": [
    "def fit_model(model, params, X_train, y_train, X_val=None, y_val=None):\n",
    "    es = EarlyStopping(monitor=params['ES_monitor'], patience=params['ES_patience'], min_delta=params['ES_mindelta'])\n",
    "    if X_val is not None and y_val is not None:\n",
    "        res = model.fit(X_train, y_train, batch_size=params['batch_size'], epochs=params['max_epochs'], verbose=0, callbacks=[es],\n",
    "                        validation_data=(X_val, y_val))#, class_weight=params['class_weights'])\n",
    "    else:\n",
    "        res = model.fit(X_train, y_train, batch_size=params['batch_size'], epochs=params['max_epochs'], verbose=0, callbacks=[es])\n",
    "        #,class_weight=params['class_weights'])\n"
   ]
  },
  {
   "cell_type": "code",
   "execution_count": 42,
   "id": "23c4b75e",
   "metadata": {},
   "outputs": [],
   "source": [
    "def find_best_thresholds(Y_hat, Y):\n",
    "    N_tags = Y.shape[1]\n",
    "    best_threshs = [0.2] * N_tags\n",
    "    resolution = 100\n",
    "    #for jdx in tqdm(range(N_tags)):\n",
    "    for jdx in range(N_tags):\n",
    "        best_score = 0\n",
    "        #threshs = np.zeros_like(best_threshs)\n",
    "        threshs = best_threshs.copy()\n",
    "        for kdx in range(resolution):\n",
    "            kdx /= resolution\n",
    "            threshs[jdx] = kdx\n",
    "            Y_hat_thresh = (Y_hat > threshs).astype(float)\n",
    "            score = fbeta_score(Y, Y_hat_thresh, beta=2, average=\"samples\")\n",
    "            if score > best_score:\n",
    "                best_score = score\n",
    "                best_threshs[jdx] = kdx\n",
    "    \n",
    "    global_best_score = fbeta_score(Y, (Y_hat > best_threshs).astype(float), beta=2, average=\"samples\")\n",
    "    print(f\"threshs: {best_threshs} -- best score: {global_best_score}\")\n",
    "    \n",
    "    return best_threshs, global_best_score"
   ]
  },
  {
   "cell_type": "code",
   "execution_count": 131,
   "id": "2de5b58f",
   "metadata": {},
   "outputs": [],
   "source": [
    "def global_best_score(Y_hat, Y, thresholds):\n",
    "    return fbeta_score(Y, (Y_hat > thresholds).astype(float), beta=2, average=\"samples\")    "
   ]
  },
  {
   "cell_type": "markdown",
   "id": "e6c14d72",
   "metadata": {},
   "source": [
    "## Model cross validation"
   ]
  },
  {
   "cell_type": "code",
   "execution_count": 172,
   "id": "db10a33f",
   "metadata": {},
   "outputs": [],
   "source": [
    "def validatemodel(cv, X, Y, params):\n",
    "\n",
    "    model = create_NN_model(params, X, Y)\n",
    "    print('params : %s'%params)\n",
    "    metrics={'f2score':[]}\n",
    "    cnt=0\n",
    "    \n",
    "    for train_index, val_index in cv.split(X):\n",
    "        cnt+=1\n",
    "        print(\"Fitting fold %d\"%cnt)\n",
    "        X_train, X_val = X[train_index], X[val_index]\n",
    "        Y_train, Y_val = Y[train_index], Y[val_index]\n",
    "        \n",
    "        fit_model(model, params, X_train, Y_train, X_val, Y_val)\n",
    "        Y_pred_train=model.predict(X_train)\n",
    "        threshs, best_score_train = find_best_thresholds(Y_pred_train, Y_train)\n",
    "        Y_pred_val=model.predict(X_val)\n",
    "        best_score = global_best_score(Y_pred_val, Y_val, threshs)\n",
    "\n",
    "        metrics['f2score'].append(best_score)\n",
    "\n",
    "\n",
    "    mean_metrics = {}\n",
    "    mean_metrics['f2score']=sum(metrics['f2score'])/len(metrics['f2score'])\n",
    "    print('Mean fbeta: %.5f'%mean_metrics['f2score'])\n",
    "\n",
    "    return {\n",
    "        'loss': -mean_metrics['f2score'],\n",
    "        'status': STATUS_OK,\n",
    "        'metrics': mean_metrics,\n",
    "        'thresholds': threshs,\n",
    "        'params': '%s'%params\n",
    "    }\n"
   ]
  },
  {
   "cell_type": "code",
   "execution_count": 173,
   "id": "5864c92e",
   "metadata": {},
   "outputs": [],
   "source": [
    "    space = {'n_internal_layers': hp.choice('n_internal_layers',\n",
    "                [\n",
    "                    (0, {'layer_1_0_nodes': hp.quniform('layer_1_0_w_nodes', 100, 2100, 100)}),\n",
    "                    (1, {'layer_1_1_nodes': hp.quniform('layer_1_1_w_nodes', 100, 2100, 100), 'layer_2_1_nodes': hp.quniform('layer_2_1_w_nodes', 100, 2100, 100)}),\n",
    "                    (0, {'layer_1_0_nodes': hp.quniform('layer_1_0_nodes', 10, 100, 10)}),\n",
    "                    (1, {'layer_1_1_nodes': hp.quniform('layer_1_1_nodes', 10, 100, 10), 'layer_2_1_nodes': hp.quniform('layer_2_1_nodes', 10, 100, 10)}),\n",
    "                ]\n",
    "                ),\n",
    "             'dropout': hp.choice('dropout',[None, 0.1, 0.2, 0.3]),\n",
    "             'class_weights': None,\n",
    "             'feature_drop': [],\n",
    "             'max_epochs': hp.choice('max_epochs', [2000]),\n",
    "             'metric': hp.choice('metric',['accuracy']),\n",
    "             'optimizer': hp.choice('optimizer',[{'name': 'Adam','adam_params':hp.choice('adam_params',[None])}]),\n",
    "             'ES_monitor':hp.choice('ES_monitor', ['val_loss']),#'val_loss','loss'\n",
    "             'ES_patience':hp.choice('ES_patience', [10]),\n",
    "             'ES_mindelta':hp.choice('ES_mindelta', [0.0001]),\n",
    "             'batch_size':hp.choice('batch_size', [512])\n",
    "             }\n"
   ]
  },
  {
   "cell_type": "code",
   "execution_count": 256,
   "id": "c7a306d8",
   "metadata": {},
   "outputs": [
    {
     "name": "stdout",
     "output_type": "stream",
     "text": [
      "df shape\n",
      "(2005, 4)\n",
      "X shape\n",
      "(2005, 30000)\n"
     ]
    }
   ],
   "source": [
    "# Load Dataset\n",
    "df_train, X_train = load_dataset(path, 'train_2000.csv')"
   ]
  },
  {
   "cell_type": "code",
   "execution_count": 257,
   "id": "1e54fd87",
   "metadata": {},
   "outputs": [],
   "source": [
    "# get_data\n",
    "X, Y, encoder = get_data_ML(df_train, df_train, df_train_pca)"
   ]
  },
  {
   "cell_type": "code",
   "execution_count": 258,
   "id": "b92b586b",
   "metadata": {},
   "outputs": [
    {
     "data": {
      "text/plain": [
       "(2005, 551)"
      ]
     },
     "execution_count": 258,
     "metadata": {},
     "output_type": "execute_result"
    }
   ],
   "source": [
    "# Apply pca\n",
    "df_train_pca, pca = apply_pca(X_train)\n",
    "df_train_pca.shape"
   ]
  },
  {
   "cell_type": "code",
   "execution_count": 268,
   "id": "4c65695a",
   "metadata": {},
   "outputs": [
    {
     "data": {
      "text/plain": [
       "(numpy.ndarray, numpy.ndarray, (2005, 551), (2005, 17))"
      ]
     },
     "execution_count": 268,
     "metadata": {},
     "output_type": "execute_result"
    }
   ],
   "source": [
    "X_train = df_train_pca.values\n",
    "Y_train = Y\n",
    "type(X_train), type(Y_train), X_train.shape, Y_train.shape"
   ]
  },
  {
   "cell_type": "code",
   "execution_count": 48,
   "id": "335a9fff",
   "metadata": {},
   "outputs": [],
   "source": [
    "w=compute_sample_weight('balanced', Y)"
   ]
  },
  {
   "cell_type": "code",
   "execution_count": 180,
   "id": "1c223dfa",
   "metadata": {},
   "outputs": [],
   "source": [
    "random_state=42\n",
    "kf = KFold(n_splits=5)\n",
    "trials = Trials() # trials will contain logging information\n",
    "validatemodelpart = partial(validatemodel, kf, X_train, Y_train)"
   ]
  },
  {
   "cell_type": "code",
   "execution_count": 181,
   "id": "62a09b95",
   "metadata": {},
   "outputs": [
    {
     "name": "stdout",
     "output_type": "stream",
     "text": [
      "params : {'ES_mindelta': 0.0001, 'ES_monitor': 'val_loss', 'ES_patience': 10, 'batch_size': 512, 'class_weights': None, 'dropout': 0.2, 'feature_drop': (), 'max_epochs': 2000, 'metric': 'accuracy', 'n_internal_layers': (1, {'layer_1_1_nodes': 70.0, 'layer_2_1_nodes': 20.0}), 'optimizer': {'adam_params': None, 'name': 'Adam'}}\n",
      "Fitting fold 1                                      \n",
      "threshs: [0.01, 0.01, 0.01, 0.02, 0.02, 0.0, 0.01, 0.03, 0.01, 0.01, 0.01, 0.01, 0.23, 0.01, 0.03, 0.05, 0.01] -- best score: 0.8023411091768877\n",
      "Fitting fold 2                                      \n",
      "threshs: [0.01, 0.01, 0.01, 0.01, 0.02, 0.0, 0.01, 0.01, 0.01, 0.01, 0.01, 0.01, 0.22, 0.01, 0.02, 0.06, 0.01] -- best score: 0.8017502652890677\n",
      "Fitting fold 3                                      \n",
      "threshs: [0.01, 0.01, 0.01, 0.01, 0.04, 0.0, 0.01, 0.01, 0.01, 0.01, 0.01, 0.01, 0.21, 0.01, 0.02, 0.04, 0.01] -- best score: 0.7888279659813013\n",
      "Fitting fold 4                                      \n",
      "threshs: [0.0, 0.02, 0.01, 0.01, 0.02, 0.0, 0.01, 0.01, 0.01, 0.01, 0.01, 0.01, 0.24, 0.01, 0.01, 0.02, 0.01] -- best score: 0.7838685383773314\n",
      "Fitting fold 5                                      \n",
      "threshs: [0.0, 0.01, 0.01, 0.02, 0.01, 0.0, 0.04, 0.02, 0.01, 0.01, 0.01, 0.01, 0.32, 0.01, 0.02, 0.01, 0.0] -- best score: 0.7915114750108033\n",
      "Mean fbeta: 0.75506                                 \n",
      "params : {'ES_mindelta': 0.0001, 'ES_monitor': 'val_loss', 'ES_patience': 10, 'batch_size': 512, 'class_weights': None, 'dropout': 0.3, 'feature_drop': (), 'max_epochs': 2000, 'metric': 'accuracy', 'n_internal_layers': (0, {'layer_1_0_nodes': 60.0}), 'optimizer': {'adam_params': None, 'name': 'Adam'}}\n",
      "Fitting fold 1                                                                  \n",
      "threshs: [0.01, 0.01, 0.01, 0.01, 0.02, 0.0, 0.01, 0.01, 0.01, 0.01, 0.01, 0.01, 0.09, 0.01, 0.01, 0.01, 0.01] -- best score: 0.8216801200419601\n",
      "Fitting fold 2                                                                  \n",
      "threshs: [0.01, 0.01, 0.01, 0.01, 0.02, 0.0, 0.02, 0.01, 0.01, 0.01, 0.01, 0.01, 0.12, 0.01, 0.01, 0.03, 0.01] -- best score: 0.8007590652937043\n",
      "Fitting fold 3                                                                  \n",
      "threshs: [0.01, 0.01, 0.01, 0.01, 0.02, 0.0, 0.01, 0.01, 0.01, 0.01, 0.01, 0.01, 0.09, 0.01, 0.01, 0.03, 0.01] -- best score: 0.8009571814204055\n",
      "Fitting fold 4                                                                  \n",
      "threshs: [0.01, 0.02, 0.01, 0.01, 0.01, 0.0, 0.01, 0.02, 0.01, 0.01, 0.01, 0.01, 0.1, 0.01, 0.01, 0.01, 0.01] -- best score: 0.8103683265659734\n",
      "Fitting fold 5                                                                  \n",
      "threshs: [0.01, 0.01, 0.01, 0.01, 0.01, 0.0, 0.02, 0.01, 0.01, 0.01, 0.01, 0.01, 0.06, 0.01, 0.01, 0.01, 0.01] -- best score: 0.8285439698776441\n",
      "Mean fbeta: 0.77872                                                             \n",
      "params : {'ES_mindelta': 0.0001, 'ES_monitor': 'val_loss', 'ES_patience': 10, 'batch_size': 512, 'class_weights': None, 'dropout': 0.3, 'feature_drop': (), 'max_epochs': 2000, 'metric': 'accuracy', 'n_internal_layers': (0, {'layer_1_0_nodes': 60.0}), 'optimizer': {'adam_params': None, 'name': 'Adam'}}\n",
      "Fitting fold 1                                                                  \n",
      "threshs: [0.01, 0.01, 0.01, 0.01, 0.02, 0.0, 0.01, 0.02, 0.01, 0.01, 0.01, 0.01, 0.06, 0.01, 0.01, 0.01, 0.01] -- best score: 0.8144236264110958\n",
      "Fitting fold 2                                                                  \n",
      "threshs: [0.01, 0.01, 0.01, 0.01, 0.02, 0.0, 0.01, 0.04, 0.01, 0.01, 0.03, 0.01, 0.08, 0.01, 0.01, 0.01, 0.01] -- best score: 0.788399859555472\n",
      "Fitting fold 3                                                                  \n",
      "threshs: [0.01, 0.01, 0.01, 0.01, 0.02, 0.0, 0.01, 0.03, 0.01, 0.01, 0.01, 0.01, 0.12, 0.01, 0.01, 0.01, 0.01] -- best score: 0.7939399068921525\n",
      "Fitting fold 4                                                                  \n",
      "threshs: [0.01, 0.01, 0.01, 0.01, 0.01, 0.0, 0.01, 0.02, 0.01, 0.01, 0.01, 0.01, 0.11, 0.01, 0.01, 0.01, 0.01] -- best score: 0.7981844848440386\n",
      "Fitting fold 5                                                                  \n",
      "threshs: [0.01, 0.01, 0.01, 0.01, 0.01, 0.0, 0.05, 0.01, 0.01, 0.01, 0.01, 0.01, 0.04, 0.01, 0.01, 0.01, 0.01] -- best score: 0.8248940052678682\n",
      "Mean fbeta: 0.76908                                                             \n",
      "params : {'ES_mindelta': 0.0001, 'ES_monitor': 'val_loss', 'ES_patience': 10, 'batch_size': 512, 'class_weights': None, 'dropout': 0.3, 'feature_drop': (), 'max_epochs': 2000, 'metric': 'accuracy', 'n_internal_layers': (0, {'layer_1_0_nodes': 400.0}), 'optimizer': {'adam_params': None, 'name': 'Adam'}}\n",
      "Fitting fold 1                                                                  \n",
      "threshs: [0.01, 0.01, 0.01, 0.01, 0.01, 0.0, 0.05, 0.02, 0.01, 0.01, 0.01, 0.01, 0.06, 0.01, 0.01, 0.01, 0.01] -- best score: 0.8135879351046502\n",
      "Fitting fold 2                                                                  \n",
      "threshs: [0.01, 0.01, 0.01, 0.01, 0.01, 0.0, 0.04, 0.01, 0.01, 0.01, 0.02, 0.01, 0.07, 0.01, 0.01, 0.01, 0.01] -- best score: 0.8052995183411225\n",
      "Fitting fold 3                                                                  \n",
      "threshs: [0.01, 0.01, 0.01, 0.01, 0.01, 0.0, 0.04, 0.01, 0.01, 0.01, 0.01, 0.01, 0.05, 0.01, 0.01, 0.01, 0.01] -- best score: 0.8053215425690229\n",
      "Fitting fold 4                                                                  \n",
      "threshs: [0.01, 0.01, 0.01, 0.01, 0.01, 0.0, 0.02, 0.01, 0.01, 0.01, 0.01, 0.01, 0.05, 0.01, 0.01, 0.01, 0.01] -- best score: 0.8212530911544534\n",
      "Fitting fold 5                                                                  \n",
      "threshs: [0.01, 0.01, 0.01, 0.01, 0.01, 0.0, 0.01, 0.01, 0.01, 0.01, 0.01, 0.01, 0.02, 0.01, 0.01, 0.01, 0.01] -- best score: 0.8471610074613788\n",
      "Mean fbeta: 0.77030                                                             \n",
      "params : {'ES_mindelta': 0.0001, 'ES_monitor': 'val_loss', 'ES_patience': 10, 'batch_size': 512, 'class_weights': None, 'dropout': 0.3, 'feature_drop': (), 'max_epochs': 2000, 'metric': 'accuracy', 'n_internal_layers': (1, {'layer_1_1_nodes': 1100.0, 'layer_2_1_nodes': 1700.0}), 'optimizer': {'adam_params': None, 'name': 'Adam'}}\n",
      "Fitting fold 1                                                                  \n",
      "threshs: [0.0, 0.01, 0.01, 0.01, 0.01, 0.0, 0.15, 0.02, 0.01, 0.01, 0.03, 0.01, 0.0, 0.01, 0.01, 0.01, 0.01] -- best score: 0.8125181967208978\n",
      "Fitting fold 2                                                                  \n",
      "threshs: [0.0, 0.01, 0.01, 0.01, 0.01, 0.0, 0.07, 0.03, 0.01, 0.01, 0.01, 0.01, 0.01, 0.01, 0.01, 0.01, 0.01] -- best score: 0.8106303338954648\n",
      "Fitting fold 3                                                                  \n",
      "threshs: [0.0, 0.01, 0.01, 0.01, 0.01, 0.0, 0.14, 0.01, 0.01, 0.01, 0.01, 0.01, 0.0, 0.01, 0.01, 0.01, 0.01] -- best score: 0.7888049915460976\n",
      "Fitting fold 4                                                                  \n",
      "threshs: [0.0, 0.01, 0.01, 0.01, 0.01, 0.0, 0.16, 0.01, 0.01, 0.01, 0.01, 0.01, 0.0, 0.01, 0.01, 0.01, 0.01] -- best score: 0.8144273242262371\n",
      "Fitting fold 5                                                                  \n",
      "threshs: [0.0, 0.01, 0.01, 0.01, 0.01, 0.0, 0.01, 0.01, 0.01, 0.01, 0.01, 0.01, 0.0, 0.01, 0.01, 0.01, 0.01] -- best score: 0.8078756802890794\n",
      "Mean fbeta: 0.75394                                                             \n",
      "params : {'ES_mindelta': 0.0001, 'ES_monitor': 'val_loss', 'ES_patience': 10, 'batch_size': 512, 'class_weights': None, 'dropout': 0.1, 'feature_drop': (), 'max_epochs': 2000, 'metric': 'accuracy', 'n_internal_layers': (1, {'layer_1_1_nodes': 500.0, 'layer_2_1_nodes': 800.0}), 'optimizer': {'adam_params': None, 'name': 'Adam'}}\n",
      "Fitting fold 1                                                                  \n",
      "threshs: [0.0, 0.01, 0.02, 0.01, 0.01, 0.0, 0.02, 0.03, 0.01, 0.01, 0.01, 0.01, 0.01, 0.0, 0.02, 0.02, 0.0] -- best score: 0.7730912428850056\n",
      "Fitting fold 2                                                                  \n",
      "threshs: [0.01, 0.01, 0.01, 0.01, 0.01, 0.0, 0.01, 0.01, 0.01, 0.01, 0.01, 0.01, 0.02, 0.01, 0.01, 0.01, 0.01] -- best score: 0.8177351042700716\n"
     ]
    },
    {
     "name": "stdout",
     "output_type": "stream",
     "text": [
      "Fitting fold 3                                                                  \n",
      "threshs: [0.0, 0.01, 0.01, 0.01, 0.01, 0.0, 0.11, 0.03, 0.01, 0.01, 0.01, 0.01, 0.0, 0.01, 0.01, 0.01, 0.0] -- best score: 0.7891401648478356\n",
      "Fitting fold 4                                                                  \n",
      "threshs: [0.0, 0.01, 0.01, 0.01, 0.01, 0.0, 0.04, 0.01, 0.01, 0.01, 0.01, 0.01, 0.0, 0.01, 0.01, 0.01, 0.01] -- best score: 0.8182607265761312\n",
      "Fitting fold 5                                                                  \n",
      "threshs: [0.0, 0.01, 0.01, 0.01, 0.01, 0.0, 0.01, 0.01, 0.01, 0.01, 0.01, 0.01, 0.0, 0.01, 0.01, 0.01, 0.01] -- best score: 0.8271827164204762\n",
      "Mean fbeta: 0.75281                                                             \n",
      "params : {'ES_mindelta': 0.0001, 'ES_monitor': 'val_loss', 'ES_patience': 10, 'batch_size': 512, 'class_weights': None, 'dropout': 0.1, 'feature_drop': (), 'max_epochs': 2000, 'metric': 'accuracy', 'n_internal_layers': (0, {'layer_1_0_nodes': 1800.0}), 'optimizer': {'adam_params': None, 'name': 'Adam'}}\n",
      "Fitting fold 1                                                                \n",
      "threshs: [0.0, 0.01, 0.01, 0.01, 0.01, 0.0, 0.16, 0.01, 0.01, 0.01, 0.01, 0.01, 0.02, 0.01, 0.01, 0.01, 0.01] -- best score: 0.8050454086508401\n",
      "Fitting fold 2                                                                \n",
      "threshs: [0.01, 0.01, 0.01, 0.01, 0.01, 0.0, 0.04, 0.01, 0.01, 0.01, 0.01, 0.01, 0.02, 0.01, 0.01, 0.01, 0.01] -- best score: 0.8089804626383835\n",
      "Fitting fold 3                                                                \n",
      "threshs: [0.0, 0.01, 0.01, 0.01, 0.01, 0.0, 0.01, 0.01, 0.01, 0.01, 0.01, 0.01, 0.01, 0.01, 0.01, 0.01, 0.01] -- best score: 0.7900942855018689\n",
      "Fitting fold 4                                                                \n",
      "threshs: [0.01, 0.01, 0.01, 0.01, 0.01, 0.0, 0.02, 0.01, 0.01, 0.01, 0.01, 0.01, 0.0, 0.01, 0.01, 0.01, 0.01] -- best score: 0.8195544438414946\n",
      "Fitting fold 5                                                                \n",
      "threshs: [0.0, 0.01, 0.01, 0.01, 0.01, 0.0, 0.01, 0.01, 0.01, 0.01, 0.01, 0.01, 0.0, 0.01, 0.01, 0.01, 0.01] -- best score: 0.8224143583507899\n",
      "Mean fbeta: 0.75566                                                           \n",
      "params : {'ES_mindelta': 0.0001, 'ES_monitor': 'val_loss', 'ES_patience': 10, 'batch_size': 512, 'class_weights': None, 'dropout': 0.2, 'feature_drop': (), 'max_epochs': 2000, 'metric': 'accuracy', 'n_internal_layers': (0, {'layer_1_0_nodes': 50.0}), 'optimizer': {'adam_params': None, 'name': 'Adam'}}\n",
      "Fitting fold 1                                                                \n",
      "threshs: [0.01, 0.01, 0.01, 0.01, 0.01, 0.0, 0.04, 0.01, 0.01, 0.01, 0.02, 0.01, 0.02, 0.01, 0.01, 0.01, 0.01] -- best score: 0.7957278871521557\n",
      "Fitting fold 2                                                                \n",
      "threshs: [0.0, 0.02, 0.01, 0.02, 0.04, 0.0, 0.03, 0.02, 0.01, 0.01, 0.02, 0.01, 0.02, 0.01, 0.03, 0.01, 0.0] -- best score: 0.7689207865187869\n",
      "Fitting fold 3                                                                \n",
      "threshs: [0.0, 0.01, 0.01, 0.01, 0.02, 0.0, 0.03, 0.01, 0.01, 0.01, 0.01, 0.01, 0.01, 0.01, 0.03, 0.01, 0.01] -- best score: 0.7688842397027977\n",
      "Fitting fold 4                                                                \n",
      "threshs: [0.0, 0.01, 0.01, 0.01, 0.02, 0.0, 0.02, 0.01, 0.01, 0.01, 0.01, 0.01, 0.02, 0.01, 0.02, 0.01, 0.01] -- best score: 0.7812646731942529\n",
      "Fitting fold 5                                                                \n",
      "threshs: [0.0, 0.01, 0.01, 0.01, 0.01, 0.0, 0.02, 0.01, 0.01, 0.01, 0.01, 0.01, 0.02, 0.01, 0.02, 0.02, 0.01] -- best score: 0.8032002242915901\n",
      "Mean fbeta: 0.75648                                                           \n",
      "params : {'ES_mindelta': 0.0001, 'ES_monitor': 'val_loss', 'ES_patience': 10, 'batch_size': 512, 'class_weights': None, 'dropout': 0.2, 'feature_drop': (), 'max_epochs': 2000, 'metric': 'accuracy', 'n_internal_layers': (0, {'layer_1_0_nodes': 400.0}), 'optimizer': {'adam_params': None, 'name': 'Adam'}}\n",
      "Fitting fold 1                                                                \n",
      "threshs: [0.01, 0.01, 0.01, 0.01, 0.01, 0.0, 0.02, 0.01, 0.01, 0.01, 0.02, 0.01, 0.08, 0.01, 0.01, 0.01, 0.01] -- best score: 0.8085996822652358\n",
      "Fitting fold 2                                                                \n",
      "threshs: [0.01, 0.01, 0.01, 0.01, 0.01, 0.0, 0.05, 0.01, 0.01, 0.01, 0.02, 0.01, 0.07, 0.01, 0.01, 0.01, 0.01] -- best score: 0.8185556079548304\n",
      "Fitting fold 3                                                                \n",
      "threshs: [0.01, 0.01, 0.01, 0.01, 0.01, 0.0, 0.04, 0.01, 0.01, 0.01, 0.01, 0.01, 0.05, 0.01, 0.01, 0.01, 0.01] -- best score: 0.8120679659545201\n",
      "Fitting fold 4                                                                \n",
      "threshs: [0.01, 0.01, 0.01, 0.01, 0.01, 0.0, 0.03, 0.01, 0.01, 0.01, 0.01, 0.01, 0.07, 0.01, 0.01, 0.01, 0.01] -- best score: 0.8244978361576026\n",
      "Fitting fold 5                                                                \n",
      "threshs: [0.01, 0.01, 0.01, 0.01, 0.01, 0.0, 0.01, 0.01, 0.01, 0.01, 0.01, 0.01, 0.02, 0.01, 0.01, 0.01, 0.01] -- best score: 0.8520962966944695\n",
      "Mean fbeta: 0.76977                                                           \n",
      "params : {'ES_mindelta': 0.0001, 'ES_monitor': 'val_loss', 'ES_patience': 10, 'batch_size': 512, 'class_weights': None, 'dropout': None, 'feature_drop': (), 'max_epochs': 2000, 'metric': 'accuracy', 'n_internal_layers': (0, {'layer_1_0_nodes': 1100.0}), 'optimizer': {'adam_params': None, 'name': 'Adam'}}\n",
      "Fitting fold 1                                                                \n",
      "threshs: [0.01, 0.01, 0.01, 0.01, 0.01, 0.0, 0.12, 0.01, 0.01, 0.01, 0.01, 0.01, 0.03, 0.01, 0.01, 0.01, 0.01] -- best score: 0.8196631440834564\n",
      "Fitting fold 2                                                                \n",
      "threshs: [0.01, 0.01, 0.01, 0.01, 0.01, 0.0, 0.03, 0.01, 0.01, 0.01, 0.01, 0.01, 0.02, 0.01, 0.01, 0.01, 0.01] -- best score: 0.8053039880874708\n",
      "Fitting fold 3                                                                \n",
      "threshs: [0.0, 0.01, 0.01, 0.01, 0.01, 0.0, 0.02, 0.01, 0.01, 0.01, 0.01, 0.01, 0.0, 0.01, 0.01, 0.01, 0.01] -- best score: 0.7848121346405837\n",
      "Fitting fold 4                                                                \n",
      "threshs: [0.0, 0.01, 0.01, 0.01, 0.01, 0.0, 0.01, 0.01, 0.01, 0.01, 0.01, 0.01, 0.01, 0.01, 0.01, 0.01, 0.01] -- best score: 0.8039257482119616\n",
      "Fitting fold 5                                                                \n",
      "threshs: [0.0, 0.01, 0.01, 0.01, 0.01, 0.0, 0.01, 0.01, 0.01, 0.01, 0.01, 0.01, 0.0, 0.01, 0.01, 0.01, 0.01] -- best score: 0.8178224219023906\n",
      "Mean fbeta: 0.74895                                                           \n",
      "params : {'ES_mindelta': 0.0001, 'ES_monitor': 'val_loss', 'ES_patience': 10, 'batch_size': 512, 'class_weights': None, 'dropout': 0.3, 'feature_drop': (), 'max_epochs': 2000, 'metric': 'accuracy', 'n_internal_layers': (1, {'layer_1_1_nodes': 20.0, 'layer_2_1_nodes': 60.0}), 'optimizer': {'adam_params': None, 'name': 'Adam'}}\n",
      "Fitting fold 1                                                                 \n",
      "threshs: [0.01, 0.01, 0.01, 0.03, 0.02, 0.0, 0.01, 0.02, 0.01, 0.01, 0.01, 0.01, 0.0, 0.01, 0.03, 0.01, 0.0] -- best score: 0.7746246682056809\n",
      "Fitting fold 2                                                                 \n",
      "threshs: [0.0, 0.01, 0.01, 0.01, 0.02, 0.0, 0.02, 0.02, 0.01, 0.01, 0.01, 0.0, 0.29, 0.01, 0.04, 0.01, 0.0] -- best score: 0.7530905465977245\n",
      "Fitting fold 3                                                                 \n",
      "threshs: [0.0, 0.01, 0.01, 0.01, 0.02, 0.0, 0.02, 0.02, 0.01, 0.01, 0.01, 0.0, 0.3, 0.01, 0.01, 0.01, 0.0] -- best score: 0.7499317879219676\n",
      "Fitting fold 4                                                                 \n",
      "threshs: [0.0, 0.01, 0.01, 0.01, 0.02, 0.0, 0.02, 0.02, 0.01, 0.01, 0.01, 0.0, 0.27, 0.01, 0.01, 0.01, 0.01] -- best score: 0.7492005881045286\n",
      "Fitting fold 5                                                                 \n",
      "threshs: [0.0, 0.01, 0.01, 0.03, 0.02, 0.0, 0.06, 0.02, 0.01, 0.01, 0.01, 0.01, 0.36, 0.01, 0.01, 0.02, 0.0] -- best score: 0.7734175665543065\n"
     ]
    },
    {
     "name": "stdout",
     "output_type": "stream",
     "text": [
      "Mean fbeta: 0.71698                                                            \n",
      "params : {'ES_mindelta': 0.0001, 'ES_monitor': 'val_loss', 'ES_patience': 10, 'batch_size': 512, 'class_weights': None, 'dropout': 0.2, 'feature_drop': (), 'max_epochs': 2000, 'metric': 'accuracy', 'n_internal_layers': (0, {'layer_1_0_nodes': 900.0}), 'optimizer': {'adam_params': None, 'name': 'Adam'}}\n",
      "Fitting fold 1                                                                 \n",
      "threshs: [0.0, 0.01, 0.01, 0.01, 0.01, 0.0, 0.05, 0.01, 0.01, 0.01, 0.01, 0.0, 0.04, 0.01, 0.01, 0.01, 0.01] -- best score: 0.7914794864207909\n",
      "Fitting fold 2                                                                 \n",
      "threshs: [0.01, 0.01, 0.01, 0.01, 0.01, 0.0, 0.04, 0.01, 0.01, 0.01, 0.02, 0.01, 0.05, 0.01, 0.01, 0.01, 0.01] -- best score: 0.8042999860201332\n",
      "Fitting fold 3                                                                 \n",
      "threshs: [0.0, 0.01, 0.01, 0.01, 0.01, 0.0, 0.01, 0.01, 0.01, 0.01, 0.01, 0.0, 0.03, 0.01, 0.01, 0.01, 0.01] -- best score: 0.78993519080872\n",
      "Fitting fold 4                                                                 \n",
      "threshs: [0.0, 0.01, 0.01, 0.01, 0.01, 0.0, 0.02, 0.01, 0.01, 0.01, 0.01, 0.01, 0.02, 0.01, 0.01, 0.01, 0.01] -- best score: 0.8002359334477032\n",
      "Fitting fold 5                                                                 \n",
      "threshs: [0.0, 0.01, 0.01, 0.01, 0.01, 0.0, 0.01, 0.01, 0.01, 0.01, 0.01, 0.01, 0.0, 0.01, 0.01, 0.01, 0.01] -- best score: 0.8318136191533813\n",
      "Mean fbeta: 0.74677                                                            \n",
      "params : {'ES_mindelta': 0.0001, 'ES_monitor': 'val_loss', 'ES_patience': 10, 'batch_size': 512, 'class_weights': None, 'dropout': 0.1, 'feature_drop': (), 'max_epochs': 2000, 'metric': 'accuracy', 'n_internal_layers': (1, {'layer_1_1_nodes': 70.0, 'layer_2_1_nodes': 50.0}), 'optimizer': {'adam_params': None, 'name': 'Adam'}}\n",
      "Fitting fold 1                                                                 \n",
      "threshs: [0.01, 0.01, 0.01, 0.01, 0.01, 0.01, 0.02, 0.02, 0.01, 0.01, 0.01, 0.01, 0.06, 0.01, 0.01, 0.01, 0.01] -- best score: 0.8183028136614938\n",
      "Fitting fold 2                                                                 \n",
      "threshs: [0.01, 0.01, 0.01, 0.01, 0.01, 0.0, 0.02, 0.02, 0.01, 0.01, 0.01, 0.01, 0.03, 0.01, 0.01, 0.01, 0.01] -- best score: 0.8044452214531785\n",
      "Fitting fold 3                                                                 \n",
      "threshs: [0.01, 0.01, 0.01, 0.01, 0.01, 0.0, 0.02, 0.01, 0.01, 0.01, 0.01, 0.01, 0.04, 0.01, 0.02, 0.01, 0.01] -- best score: 0.8112044449938683\n",
      "Fitting fold 4                                                                 \n",
      "threshs: [0.01, 0.01, 0.01, 0.01, 0.01, 0.01, 0.01, 0.01, 0.01, 0.01, 0.01, 0.01, 0.02, 0.01, 0.01, 0.01, 0.01] -- best score: 0.8198806756139841\n",
      "Fitting fold 5                                                                 \n",
      "threshs: [0.01, 0.03, 0.01, 0.01, 0.01, 0.0, 0.03, 0.01, 0.01, 0.01, 0.01, 0.01, 0.01, 0.01, 0.01, 0.01, 0.01] -- best score: 0.8342326894299866\n",
      "Mean fbeta: 0.77008                                                            \n",
      "params : {'ES_mindelta': 0.0001, 'ES_monitor': 'val_loss', 'ES_patience': 10, 'batch_size': 512, 'class_weights': None, 'dropout': 0.1, 'feature_drop': (), 'max_epochs': 2000, 'metric': 'accuracy', 'n_internal_layers': (0, {'layer_1_0_nodes': 1700.0}), 'optimizer': {'adam_params': None, 'name': 'Adam'}}\n",
      "Fitting fold 1                                                                 \n",
      "threshs: [0.0, 0.01, 0.01, 0.01, 0.01, 0.0, 0.06, 0.01, 0.01, 0.01, 0.02, 0.01, 0.02, 0.01, 0.01, 0.01, 0.01] -- best score: 0.8095665848046278\n",
      "Fitting fold 2                                                                 \n",
      "threshs: [0.0, 0.01, 0.01, 0.01, 0.01, 0.0, 0.11, 0.01, 0.01, 0.01, 0.01, 0.01, 0.04, 0.01, 0.01, 0.01, 0.01] -- best score: 0.804549654177971\n",
      "Fitting fold 3                                                                 \n",
      "threshs: [0.01, 0.01, 0.01, 0.01, 0.01, 0.0, 0.02, 0.01, 0.01, 0.01, 0.01, 0.01, 0.02, 0.01, 0.01, 0.01, 0.01] -- best score: 0.7943252324519553\n",
      "Fitting fold 4                                                                 \n",
      "threshs: [0.0, 0.01, 0.01, 0.01, 0.01, 0.0, 0.21, 0.01, 0.01, 0.01, 0.01, 0.01, 0.02, 0.01, 0.01, 0.01, 0.01] -- best score: 0.806221770714533\n",
      "Fitting fold 5                                                                 \n",
      "threshs: [0.0, 0.01, 0.01, 0.01, 0.01, 0.0, 0.01, 0.01, 0.01, 0.01, 0.01, 0.01, 0.0, 0.01, 0.01, 0.01, 0.01] -- best score: 0.8222996740337376\n",
      "Mean fbeta: 0.75287                                                            \n",
      "params : {'ES_mindelta': 0.0001, 'ES_monitor': 'val_loss', 'ES_patience': 10, 'batch_size': 512, 'class_weights': None, 'dropout': 0.2, 'feature_drop': (), 'max_epochs': 2000, 'metric': 'accuracy', 'n_internal_layers': (0, {'layer_1_0_nodes': 800.0}), 'optimizer': {'adam_params': None, 'name': 'Adam'}}\n",
      "Fitting fold 1                                                                 \n",
      "threshs: [0.01, 0.01, 0.01, 0.01, 0.01, 0.0, 0.07, 0.01, 0.01, 0.01, 0.02, 0.01, 0.03, 0.01, 0.01, 0.01, 0.01] -- best score: 0.816238786136623\n",
      "Fitting fold 2                                                                 \n",
      "threshs: [0.01, 0.01, 0.01, 0.01, 0.01, 0.0, 0.08, 0.01, 0.01, 0.01, 0.01, 0.01, 0.04, 0.01, 0.01, 0.01, 0.01] -- best score: 0.8235475181001254\n",
      "Fitting fold 3                                                                 \n",
      "threshs: [0.01, 0.01, 0.01, 0.01, 0.01, 0.0, 0.02, 0.01, 0.01, 0.01, 0.01, 0.01, 0.02, 0.01, 0.01, 0.01, 0.01] -- best score: 0.8184555326804732\n",
      "Fitting fold 4                                                                 \n",
      "threshs: [0.01, 0.01, 0.01, 0.01, 0.01, 0.0, 0.03, 0.01, 0.01, 0.01, 0.01, 0.01, 0.01, 0.01, 0.01, 0.01, 0.01] -- best score: 0.8362187624976426\n",
      "Fitting fold 5                                                                 \n",
      "threshs: [0.01, 0.01, 0.01, 0.01, 0.01, 0.0, 0.01, 0.01, 0.01, 0.01, 0.01, 0.01, 0.0, 0.01, 0.01, 0.01, 0.01] -- best score: 0.8532444269222831\n",
      "Mean fbeta: 0.77463                                                            \n",
      "params : {'ES_mindelta': 0.0001, 'ES_monitor': 'val_loss', 'ES_patience': 10, 'batch_size': 512, 'class_weights': None, 'dropout': 0.2, 'feature_drop': (), 'max_epochs': 2000, 'metric': 'accuracy', 'n_internal_layers': (0, {'layer_1_0_nodes': 300.0}), 'optimizer': {'adam_params': None, 'name': 'Adam'}}\n",
      "Fitting fold 1                                                                 \n",
      "threshs: [0.0, 0.01, 0.01, 0.01, 0.01, 0.0, 0.14, 0.01, 0.01, 0.01, 0.01, 0.01, 0.04, 0.01, 0.01, 0.01, 0.01] -- best score: 0.7945198502358045\n",
      "Fitting fold 2                                                                 \n",
      "threshs: [0.0, 0.01, 0.01, 0.01, 0.01, 0.0, 0.07, 0.02, 0.01, 0.01, 0.02, 0.01, 0.05, 0.01, 0.01, 0.01, 0.01] -- best score: 0.7829417274276251\n",
      "Fitting fold 3                                                                 \n",
      "threshs: [0.0, 0.01, 0.01, 0.01, 0.01, 0.0, 0.11, 0.01, 0.01, 0.01, 0.01, 0.0, 0.07, 0.01, 0.01, 0.01, 0.01] -- best score: 0.7801126947633125\n",
      "Fitting fold 4                                                                 \n",
      "threshs: [0.0, 0.01, 0.01, 0.01, 0.01, 0.0, 0.04, 0.01, 0.01, 0.01, 0.01, 0.01, 0.05, 0.01, 0.01, 0.01, 0.01] -- best score: 0.7900018638999224\n",
      "Fitting fold 5                                                                 \n",
      "threshs: [0.0, 0.01, 0.01, 0.01, 0.01, 0.0, 0.01, 0.01, 0.01, 0.01, 0.01, 0.01, 0.01, 0.01, 0.01, 0.01, 0.01] -- best score: 0.8239010424328621\n",
      "Mean fbeta: 0.74985                                                            \n",
      "params : {'ES_mindelta': 0.0001, 'ES_monitor': 'val_loss', 'ES_patience': 10, 'batch_size': 512, 'class_weights': None, 'dropout': None, 'feature_drop': (), 'max_epochs': 2000, 'metric': 'accuracy', 'n_internal_layers': (1, {'layer_1_1_nodes': 30.0, 'layer_2_1_nodes': 20.0}), 'optimizer': {'adam_params': None, 'name': 'Adam'}}\n",
      "Fitting fold 1                                                                 \n",
      "threshs: [0.0, 0.01, 0.01, 0.02, 0.02, 0.0, 0.04, 0.02, 0.01, 0.01, 0.01, 0.01, 0.0, 0.01, 0.01, 0.01, 0.0] -- best score: 0.7948633867460275\n"
     ]
    },
    {
     "name": "stdout",
     "output_type": "stream",
     "text": [
      "Fitting fold 2                                                                 \n",
      "threshs: [0.0, 0.01, 0.01, 0.02, 0.02, 0.0, 0.03, 0.02, 0.01, 0.01, 0.02, 0.01, 0.0, 0.01, 0.01, 0.01, 0.0] -- best score: 0.7833570280136224\n",
      "Fitting fold 3                                                                 \n",
      "threshs: [0.0, 0.01, 0.01, 0.01, 0.02, 0.0, 0.04, 0.02, 0.01, 0.01, 0.01, 0.01, 0.0, 0.01, 0.01, 0.02, 0.0] -- best score: 0.7823209922743899\n",
      "Fitting fold 4                                                                 \n",
      "threshs: [0.0, 0.01, 0.01, 0.01, 0.01, 0.0, 0.03, 0.02, 0.01, 0.01, 0.01, 0.01, 0.0, 0.01, 0.02, 0.01, 0.01] -- best score: 0.788456584868\n",
      "Fitting fold 5                                                                 \n",
      "threshs: [0.0, 0.01, 0.01, 0.01, 0.01, 0.0, 0.07, 0.01, 0.01, 0.01, 0.01, 0.01, 0.0, 0.01, 0.01, 0.01, 0.0] -- best score: 0.8060856616364065\n",
      "Mean fbeta: 0.75328                                                            \n",
      "params : {'ES_mindelta': 0.0001, 'ES_monitor': 'val_loss', 'ES_patience': 10, 'batch_size': 512, 'class_weights': None, 'dropout': 0.3, 'feature_drop': (), 'max_epochs': 2000, 'metric': 'accuracy', 'n_internal_layers': (0, {'layer_1_0_nodes': 900.0}), 'optimizer': {'adam_params': None, 'name': 'Adam'}}\n",
      "Fitting fold 1                                                                 \n",
      "threshs: [0.0, 0.01, 0.01, 0.01, 0.01, 0.0, 0.06, 0.01, 0.01, 0.01, 0.01, 0.01, 0.06, 0.01, 0.01, 0.01, 0.01] -- best score: 0.7936096014653539\n",
      "Fitting fold 2                                                                 \n",
      "threshs: [0.0, 0.01, 0.01, 0.01, 0.01, 0.0, 0.04, 0.01, 0.01, 0.01, 0.01, 0.01, 0.03, 0.01, 0.01, 0.01, 0.01] -- best score: 0.7963033097906672\n",
      "Fitting fold 3                                                                 \n",
      "threshs: [0.0, 0.01, 0.01, 0.01, 0.01, 0.0, 0.01, 0.01, 0.01, 0.01, 0.01, 0.0, 0.04, 0.01, 0.01, 0.01, 0.01] -- best score: 0.7810568991757137\n",
      "Fitting fold 4                                                                 \n",
      "threshs: [0.0, 0.01, 0.01, 0.01, 0.01, 0.0, 0.03, 0.01, 0.01, 0.01, 0.01, 0.01, 0.02, 0.01, 0.01, 0.01, 0.01] -- best score: 0.8023758952311282\n",
      "Fitting fold 5                                                                 \n",
      "threshs: [0.0, 0.01, 0.01, 0.01, 0.01, 0.0, 0.01, 0.01, 0.01, 0.01, 0.01, 0.01, 0.0, 0.01, 0.01, 0.01, 0.01] -- best score: 0.8264390349367393\n",
      "Mean fbeta: 0.74657                                                            \n",
      "params : {'ES_mindelta': 0.0001, 'ES_monitor': 'val_loss', 'ES_patience': 10, 'batch_size': 512, 'class_weights': None, 'dropout': 0.2, 'feature_drop': (), 'max_epochs': 2000, 'metric': 'accuracy', 'n_internal_layers': (1, {'layer_1_1_nodes': 50.0, 'layer_2_1_nodes': 80.0}), 'optimizer': {'adam_params': None, 'name': 'Adam'}}\n",
      "Fitting fold 1                                                                 \n",
      "threshs: [0.0, 0.01, 0.01, 0.01, 0.01, 0.0, 0.06, 0.02, 0.01, 0.01, 0.01, 0.01, 0.09, 0.01, 0.01, 0.01, 0.0] -- best score: 0.7856320017516308\n",
      "Fitting fold 2                                                                 \n",
      "threshs: [0.0, 0.01, 0.01, 0.01, 0.01, 0.0, 0.04, 0.02, 0.01, 0.01, 0.02, 0.01, 0.09, 0.01, 0.01, 0.01, 0.01] -- best score: 0.7831668084188275\n",
      "Fitting fold 3                                                                 \n",
      "threshs: [0.0, 0.01, 0.01, 0.01, 0.01, 0.0, 0.1, 0.02, 0.01, 0.01, 0.01, 0.01, 0.06, 0.01, 0.01, 0.01, 0.01] -- best score: 0.7780235179737526\n",
      "Fitting fold 4                                                                 \n",
      "threshs: [0.0, 0.02, 0.01, 0.01, 0.01, 0.0, 0.01, 0.02, 0.01, 0.01, 0.01, 0.01, 0.11, 0.01, 0.01, 0.01, 0.01] -- best score: 0.781726023146481\n",
      "Fitting fold 5                                                                 \n",
      "threshs: [0.0, 0.01, 0.01, 0.01, 0.01, 0.0, 0.02, 0.01, 0.01, 0.01, 0.01, 0.01, 0.03, 0.01, 0.01, 0.01, 0.01] -- best score: 0.8042630475837794\n",
      "Mean fbeta: 0.75717                                                            \n",
      "params : {'ES_mindelta': 0.0001, 'ES_monitor': 'val_loss', 'ES_patience': 10, 'batch_size': 512, 'class_weights': None, 'dropout': 0.1, 'feature_drop': (), 'max_epochs': 2000, 'metric': 'accuracy', 'n_internal_layers': (0, {'layer_1_0_nodes': 1300.0}), 'optimizer': {'adam_params': None, 'name': 'Adam'}}\n",
      "Fitting fold 1                                                                 \n",
      "threshs: [0.0, 0.01, 0.01, 0.02, 0.01, 0.0, 0.02, 0.02, 0.01, 0.01, 0.01, 0.0, 0.03, 0.01, 0.01, 0.01, 0.01] -- best score: 0.7919860399811579\n",
      "Fitting fold 2                                                                 \n",
      "threshs: [0.0, 0.01, 0.01, 0.01, 0.01, 0.0, 0.1, 0.01, 0.01, 0.01, 0.01, 0.01, 0.04, 0.01, 0.01, 0.01, 0.01] -- best score: 0.7943202801247279\n",
      "Fitting fold 3                                                                 \n",
      "threshs: [0.0, 0.01, 0.01, 0.01, 0.01, 0.0, 0.05, 0.01, 0.01, 0.01, 0.01, 0.0, 0.02, 0.01, 0.01, 0.01, 0.01] -- best score: 0.7810833425979871\n",
      "Fitting fold 4                                                                 \n",
      "threshs: [0.0, 0.01, 0.01, 0.01, 0.01, 0.0, 0.12, 0.01, 0.01, 0.01, 0.01, 0.01, 0.01, 0.01, 0.01, 0.01, 0.01] -- best score: 0.79313836897718\n",
      "Fitting fold 5                                                                 \n",
      "threshs: [0.0, 0.01, 0.01, 0.01, 0.01, 0.0, 0.01, 0.01, 0.01, 0.01, 0.01, 0.01, 0.0, 0.01, 0.01, 0.01, 0.01] -- best score: 0.8249311646381878\n",
      "Mean fbeta: 0.74220                                                            \n",
      "params : {'ES_mindelta': 0.0001, 'ES_monitor': 'val_loss', 'ES_patience': 10, 'batch_size': 512, 'class_weights': None, 'dropout': None, 'feature_drop': (), 'max_epochs': 2000, 'metric': 'accuracy', 'n_internal_layers': (0, {'layer_1_0_nodes': 100.0}), 'optimizer': {'adam_params': None, 'name': 'Adam'}}\n",
      "Fitting fold 1                                                                 \n",
      "threshs: [0.01, 0.01, 0.01, 0.01, 0.01, 0.0, 0.05, 0.06, 0.01, 0.01, 0.02, 0.01, 0.06, 0.01, 0.01, 0.01, 0.01] -- best score: 0.8156532848457448\n",
      "Fitting fold 2                                                                 \n",
      "threshs: [0.0, 0.02, 0.01, 0.01, 0.02, 0.0, 0.06, 0.06, 0.01, 0.01, 0.01, 0.01, 0.05, 0.01, 0.02, 0.01, 0.01] -- best score: 0.787255483648497\n",
      "Fitting fold 3                                                                 \n",
      "threshs: [0.0, 0.01, 0.01, 0.01, 0.01, 0.0, 0.08, 0.05, 0.01, 0.01, 0.01, 0.01, 0.05, 0.01, 0.01, 0.01, 0.01] -- best score: 0.7795048656870239\n",
      "Fitting fold 4                                                                 \n",
      "threshs: [0.0, 0.01, 0.01, 0.01, 0.01, 0.0, 0.01, 0.04, 0.01, 0.01, 0.01, 0.01, 0.03, 0.01, 0.01, 0.01, 0.01] -- best score: 0.789904372614091\n",
      "Fitting fold 5                                                                 \n",
      "threshs: [0.0, 0.01, 0.01, 0.02, 0.01, 0.0, 0.02, 0.01, 0.01, 0.01, 0.01, 0.01, 0.02, 0.01, 0.01, 0.01, 0.01] -- best score: 0.8081609240333019\n",
      "Mean fbeta: 0.75836                                                            \n",
      "params : {'ES_mindelta': 0.0001, 'ES_monitor': 'val_loss', 'ES_patience': 10, 'batch_size': 512, 'class_weights': None, 'dropout': 0.3, 'feature_drop': (), 'max_epochs': 2000, 'metric': 'accuracy', 'n_internal_layers': (0, {'layer_1_0_nodes': 20.0}), 'optimizer': {'adam_params': None, 'name': 'Adam'}}\n",
      "Fitting fold 1                                                                 \n",
      "threshs: [0.0, 0.01, 0.01, 0.01, 0.02, 0.0, 0.01, 0.06, 0.01, 0.01, 0.01, 0.0, 0.03, 0.01, 0.03, 0.02, 0.0] -- best score: 0.7674757860144196\n",
      "Fitting fold 2                                                                 \n",
      "threshs: [0.0, 0.01, 0.01, 0.03, 0.06, 0.0, 0.01, 0.03, 0.01, 0.01, 0.01, 0.0, 0.02, 0.01, 0.02, 0.02, 0.0] -- best score: 0.7488716340405654\n",
      "Fitting fold 3                                                                 \n",
      "threshs: [0.0, 0.01, 0.01, 0.01, 0.02, 0.0, 0.01, 0.04, 0.01, 0.01, 0.01, 0.0, 0.02, 0.01, 0.02, 0.03, 0.0] -- best score: 0.7494327456516284\n",
      "Fitting fold 4                                                                 \n",
      "threshs: [0.0, 0.01, 0.01, 0.01, 0.02, 0.0, 0.01, 0.03, 0.01, 0.01, 0.01, 0.0, 0.02, 0.01, 0.02, 0.03, 0.01] -- best score: 0.7532118105374024\n"
     ]
    },
    {
     "name": "stdout",
     "output_type": "stream",
     "text": [
      "Fitting fold 5                                                                 \n",
      "threshs: [0.0, 0.01, 0.01, 0.01, 0.01, 0.0, 0.03, 0.03, 0.01, 0.01, 0.01, 0.01, 0.04, 0.01, 0.01, 0.02, 0.0] -- best score: 0.7795149097038717\n",
      "Mean fbeta: 0.71634                                                            \n",
      "params : {'ES_mindelta': 0.0001, 'ES_monitor': 'val_loss', 'ES_patience': 10, 'batch_size': 512, 'class_weights': None, 'dropout': 0.2, 'feature_drop': (), 'max_epochs': 2000, 'metric': 'accuracy', 'n_internal_layers': (0, {'layer_1_0_nodes': 100.0}), 'optimizer': {'adam_params': None, 'name': 'Adam'}}\n",
      "Fitting fold 1                                                                 \n",
      "threshs: [0.01, 0.01, 0.01, 0.01, 0.01, 0.0, 0.03, 0.03, 0.01, 0.01, 0.01, 0.01, 0.05, 0.01, 0.01, 0.01, 0.01] -- best score: 0.7985661631403119\n",
      "Fitting fold 2                                                                 \n",
      "threshs: [0.01, 0.01, 0.01, 0.01, 0.01, 0.0, 0.02, 0.01, 0.01, 0.01, 0.01, 0.01, 0.05, 0.01, 0.01, 0.01, 0.01] -- best score: 0.7892822711789431\n",
      "Fitting fold 3                                                                 \n",
      "threshs: [0.0, 0.01, 0.01, 0.02, 0.01, 0.0, 0.04, 0.01, 0.01, 0.01, 0.01, 0.01, 0.04, 0.01, 0.01, 0.01, 0.01] -- best score: 0.7783736196230919\n",
      "Fitting fold 4                                                                 \n",
      "threshs: [0.0, 0.01, 0.01, 0.01, 0.01, 0.0, 0.02, 0.01, 0.01, 0.01, 0.01, 0.01, 0.08, 0.01, 0.02, 0.01, 0.01] -- best score: 0.7905481455314874\n",
      "Fitting fold 5                                                                 \n",
      "threshs: [0.0, 0.01, 0.01, 0.01, 0.01, 0.0, 0.02, 0.01, 0.01, 0.01, 0.01, 0.01, 0.03, 0.01, 0.01, 0.01, 0.01] -- best score: 0.8180605138181863\n",
      "Mean fbeta: 0.76088                                                            \n",
      "params : {'ES_mindelta': 0.0001, 'ES_monitor': 'val_loss', 'ES_patience': 10, 'batch_size': 512, 'class_weights': None, 'dropout': 0.3, 'feature_drop': (), 'max_epochs': 2000, 'metric': 'accuracy', 'n_internal_layers': (1, {'layer_1_1_nodes': 2100.0, 'layer_2_1_nodes': 400.0}), 'optimizer': {'adam_params': None, 'name': 'Adam'}}\n",
      "Fitting fold 1                                                                 \n",
      "threshs: [0.01, 0.01, 0.01, 0.01, 0.01, 0.0, 0.05, 0.01, 0.01, 0.01, 0.02, 0.01, 0.07, 0.01, 0.01, 0.01, 0.01] -- best score: 0.8137120254175366\n",
      "Fitting fold 2                                                                 \n",
      "threshs: [0.01, 0.01, 0.01, 0.01, 0.01, 0.0, 0.07, 0.01, 0.01, 0.01, 0.01, 0.01, 0.02, 0.01, 0.01, 0.01, 0.01] -- best score: 0.8542063835305422\n",
      "Fitting fold 3                                                                 \n",
      "threshs: [0.0, 0.01, 0.01, 0.01, 0.01, 0.0, 0.11, 0.01, 0.01, 0.01, 0.01, 0.01, 0.0, 0.01, 0.01, 0.01, 0.01] -- best score: 0.825404916424425\n",
      "Fitting fold 4                                                                 \n",
      "threshs: [0.0, 0.01, 0.01, 0.01, 0.01, 0.0, 0.02, 0.01, 0.01, 0.01, 0.01, 0.01, 0.0, 0.01, 0.01, 0.01, 0.01] -- best score: 0.8343795318862154\n",
      "Fitting fold 5                                                                 \n",
      "threshs: [0.0, 0.01, 0.01, 0.01, 0.01, 0.0, 0.01, 0.01, 0.01, 0.01, 0.01, 0.01, 0.0, 0.01, 0.01, 0.01, 0.01] -- best score: 0.8487149757527334\n",
      "Mean fbeta: 0.77264                                                            \n",
      "params : {'ES_mindelta': 0.0001, 'ES_monitor': 'val_loss', 'ES_patience': 10, 'batch_size': 512, 'class_weights': None, 'dropout': 0.2, 'feature_drop': (), 'max_epochs': 2000, 'metric': 'accuracy', 'n_internal_layers': (0, {'layer_1_0_nodes': 70.0}), 'optimizer': {'adam_params': None, 'name': 'Adam'}}\n",
      "Fitting fold 1                                                                 \n",
      "threshs: [0.01, 0.01, 0.01, 0.01, 0.01, 0.0, 0.02, 0.02, 0.01, 0.01, 0.02, 0.01, 0.03, 0.01, 0.01, 0.01, 0.01] -- best score: 0.7983227148143155\n",
      "Fitting fold 2                                                                 \n",
      "threshs: [0.01, 0.01, 0.01, 0.01, 0.02, 0.0, 0.01, 0.01, 0.01, 0.01, 0.02, 0.01, 0.04, 0.01, 0.01, 0.01, 0.01] -- best score: 0.7888699910592984\n",
      "Fitting fold 3                                                                 \n",
      "threshs: [0.01, 0.01, 0.01, 0.01, 0.03, 0.0, 0.02, 0.01, 0.01, 0.01, 0.02, 0.01, 0.05, 0.01, 0.01, 0.01, 0.01] -- best score: 0.7930709690651648\n",
      "Fitting fold 4                                                                 \n",
      "threshs: [0.0, 0.01, 0.01, 0.01, 0.01, 0.0, 0.01, 0.01, 0.01, 0.01, 0.01, 0.01, 0.04, 0.01, 0.01, 0.01, 0.01] -- best score: 0.7987818162767691\n",
      "Fitting fold 5                                                                 \n",
      "threshs: [0.01, 0.01, 0.01, 0.01, 0.01, 0.0, 0.05, 0.01, 0.01, 0.01, 0.01, 0.01, 0.03, 0.01, 0.01, 0.01, 0.01] -- best score: 0.8378273983716825\n",
      "Mean fbeta: 0.76485                                                            \n",
      "params : {'ES_mindelta': 0.0001, 'ES_monitor': 'val_loss', 'ES_patience': 10, 'batch_size': 512, 'class_weights': None, 'dropout': None, 'feature_drop': (), 'max_epochs': 2000, 'metric': 'accuracy', 'n_internal_layers': (0, {'layer_1_0_nodes': 20.0}), 'optimizer': {'adam_params': None, 'name': 'Adam'}}\n",
      "Fitting fold 1                                                                 \n",
      "threshs: [0.0, 0.01, 0.01, 0.02, 0.03, 0.0, 0.01, 0.05, 0.01, 0.01, 0.01, 0.01, 0.0, 0.01, 0.04, 0.02, 0.01] -- best score: 0.7839661156197671\n",
      "Fitting fold 2                                                                 \n",
      "threshs: [0.0, 0.01, 0.03, 0.15, 0.03, 0.0, 0.01, 0.04, 0.01, 0.01, 0.01, 0.01, 0.0, 0.01, 0.12, 0.03, 0.01] -- best score: 0.7642391087558911\n",
      "Fitting fold 3                                                                 \n",
      "threshs: [0.0, 0.01, 0.02, 0.11, 0.03, 0.0, 0.01, 0.03, 0.01, 0.01, 0.01, 0.01, 0.0, 0.01, 0.1, 0.03, 0.01] -- best score: 0.7615445959109247\n",
      "Fitting fold 4                                                                 \n",
      "threshs: [0.0, 0.01, 0.01, 0.09, 0.02, 0.0, 0.01, 0.05, 0.01, 0.01, 0.01, 0.01, 0.0, 0.01, 0.03, 0.03, 0.01] -- best score: 0.7754839676339854\n",
      "Fitting fold 5                                                                 \n",
      "threshs: [0.0, 0.01, 0.01, 0.06, 0.02, 0.0, 0.05, 0.03, 0.01, 0.01, 0.01, 0.01, 0.0, 0.01, 0.05, 0.01, 0.01] -- best score: 0.8045104652811231\n",
      "Mean fbeta: 0.75122                                                            \n",
      "params : {'ES_mindelta': 0.0001, 'ES_monitor': 'val_loss', 'ES_patience': 10, 'batch_size': 512, 'class_weights': None, 'dropout': 0.3, 'feature_drop': (), 'max_epochs': 2000, 'metric': 'accuracy', 'n_internal_layers': (1, {'layer_1_1_nodes': 2100.0, 'layer_2_1_nodes': 1900.0}), 'optimizer': {'adam_params': None, 'name': 'Adam'}}\n",
      "Fitting fold 1                                                                 \n",
      "threshs: [0.01, 0.01, 0.01, 0.01, 0.01, 0.0, 0.05, 0.03, 0.01, 0.01, 0.01, 0.01, 0.01, 0.01, 0.01, 0.01, 0.01] -- best score: 0.8237623393500729\n",
      "Fitting fold 2                                                                 \n",
      "threshs: [0.0, 0.01, 0.01, 0.01, 0.01, 0.0, 0.1, 0.01, 0.01, 0.01, 0.01, 0.01, 0.0, 0.01, 0.01, 0.01, 0.01] -- best score: 0.8160249046947575\n",
      "Fitting fold 3                                                                 \n",
      "threshs: [0.0, 0.01, 0.01, 0.01, 0.01, 0.0, 0.14, 0.01, 0.01, 0.01, 0.01, 0.01, 0.0, 0.01, 0.01, 0.01, 0.01] -- best score: 0.8155228143683135\n",
      "Fitting fold 4                                                                 \n",
      "threshs: [0.0, 0.01, 0.01, 0.01, 0.01, 0.0, 0.03, 0.01, 0.01, 0.01, 0.01, 0.01, 0.0, 0.01, 0.01, 0.01, 0.01] -- best score: 0.8215311181953144\n",
      "Fitting fold 5                                                                 \n",
      "threshs: [0.0, 0.01, 0.01, 0.01, 0.01, 0.0, 0.01, 0.01, 0.01, 0.01, 0.01, 0.01, 0.0, 0.01, 0.01, 0.01, 0.01] -- best score: 0.8120164315042414\n",
      "Mean fbeta: 0.75989                                                            \n",
      "params : {'ES_mindelta': 0.0001, 'ES_monitor': 'val_loss', 'ES_patience': 10, 'batch_size': 512, 'class_weights': None, 'dropout': 0.2, 'feature_drop': (), 'max_epochs': 2000, 'metric': 'accuracy', 'n_internal_layers': (0, {'layer_1_0_nodes': 40.0}), 'optimizer': {'adam_params': None, 'name': 'Adam'}}\n"
     ]
    },
    {
     "name": "stdout",
     "output_type": "stream",
     "text": [
      "Fitting fold 1                                                                 \n",
      "threshs: [0.01, 0.02, 0.01, 0.01, 0.01, 0.0, 0.02, 0.03, 0.01, 0.01, 0.02, 0.01, 0.11, 0.01, 0.01, 0.01, 0.01] -- best score: 0.7964788846093324\n",
      "Fitting fold 2                                                                 \n",
      "threshs: [0.0, 0.02, 0.01, 0.01, 0.02, 0.0, 0.02, 0.03, 0.01, 0.01, 0.02, 0.01, 0.08, 0.01, 0.01, 0.01, 0.0] -- best score: 0.7661085756975012\n",
      "Fitting fold 3                                                                 \n",
      "threshs: [0.0, 0.02, 0.01, 0.01, 0.01, 0.0, 0.02, 0.03, 0.01, 0.01, 0.01, 0.0, 0.15, 0.01, 0.01, 0.02, 0.0] -- best score: 0.7591854819148298\n",
      "Fitting fold 4                                                                 \n",
      "threshs: [0.0, 0.01, 0.01, 0.01, 0.01, 0.0, 0.02, 0.02, 0.01, 0.01, 0.01, 0.0, 0.13, 0.01, 0.01, 0.01, 0.01] -- best score: 0.7682858057702338\n",
      "Fitting fold 5                                                                 \n",
      "threshs: [0.0, 0.01, 0.01, 0.01, 0.01, 0.0, 0.03, 0.01, 0.01, 0.01, 0.01, 0.01, 0.14, 0.01, 0.01, 0.01, 0.01] -- best score: 0.7904877214425367\n",
      "Mean fbeta: 0.73096                                                            \n",
      "params : {'ES_mindelta': 0.0001, 'ES_monitor': 'val_loss', 'ES_patience': 10, 'batch_size': 512, 'class_weights': None, 'dropout': 0.3, 'feature_drop': (), 'max_epochs': 2000, 'metric': 'accuracy', 'n_internal_layers': (0, {'layer_1_0_nodes': 80.0}), 'optimizer': {'adam_params': None, 'name': 'Adam'}}\n",
      "Fitting fold 1                                                                 \n",
      "threshs: [0.01, 0.01, 0.01, 0.01, 0.02, 0.0, 0.03, 0.02, 0.01, 0.01, 0.01, 0.01, 0.1, 0.01, 0.01, 0.02, 0.01] -- best score: 0.8112838669218854\n",
      "Fitting fold 2                                                                 \n",
      "threshs: [0.0, 0.01, 0.01, 0.01, 0.03, 0.0, 0.04, 0.03, 0.01, 0.01, 0.01, 0.01, 0.11, 0.01, 0.01, 0.01, 0.01] -- best score: 0.7802841641186558\n",
      "Fitting fold 3                                                                 \n",
      "threshs: [0.0, 0.01, 0.01, 0.01, 0.01, 0.0, 0.02, 0.01, 0.01, 0.01, 0.01, 0.01, 0.1, 0.01, 0.01, 0.01, 0.01] -- best score: 0.7778858185276517\n",
      "Fitting fold 4                                                                 \n",
      "threshs: [0.0, 0.01, 0.01, 0.01, 0.01, 0.0, 0.02, 0.01, 0.01, 0.01, 0.01, 0.01, 0.08, 0.01, 0.01, 0.01, 0.01] -- best score: 0.7889552951475737\n",
      "Fitting fold 5                                                                 \n",
      "threshs: [0.0, 0.01, 0.01, 0.01, 0.01, 0.0, 0.02, 0.01, 0.01, 0.01, 0.01, 0.01, 0.07, 0.01, 0.01, 0.01, 0.01] -- best score: 0.804017391078763\n",
      "Mean fbeta: 0.76234                                                            \n",
      "params : {'ES_mindelta': 0.0001, 'ES_monitor': 'val_loss', 'ES_patience': 10, 'batch_size': 512, 'class_weights': None, 'dropout': 0.2, 'feature_drop': (), 'max_epochs': 2000, 'metric': 'accuracy', 'n_internal_layers': (1, {'layer_1_1_nodes': 200.0, 'layer_2_1_nodes': 1200.0}), 'optimizer': {'adam_params': None, 'name': 'Adam'}}\n",
      "Fitting fold 1                                                                 \n",
      "threshs: [0.0, 0.02, 0.02, 0.01, 0.01, 0.0, 0.07, 0.01, 0.01, 0.01, 0.07, 0.01, 0.04, 0.01, 0.01, 0.01, 0.0] -- best score: 0.7746831808007135\n",
      "Fitting fold 2                                                                 \n",
      "threshs: [0.0, 0.01, 0.01, 0.02, 0.01, 0.0, 0.07, 0.01, 0.01, 0.01, 0.01, 0.01, 0.01, 0.01, 0.01, 0.01, 0.01] -- best score: 0.7900668438973102\n",
      "Fitting fold 3                                                                 \n",
      "threshs: [0.0, 0.01, 0.01, 0.01, 0.01, 0.0, 0.04, 0.01, 0.01, 0.01, 0.01, 0.01, 0.0, 0.01, 0.01, 0.01, 0.01] -- best score: 0.7909831702163943\n",
      "Fitting fold 4                                                                 \n",
      "threshs: [0.0, 0.01, 0.01, 0.01, 0.01, 0.0, 0.04, 0.01, 0.01, 0.01, 0.01, 0.01, 0.0, 0.01, 0.01, 0.01, 0.01] -- best score: 0.8198230410742787\n",
      "Fitting fold 5                                                                 \n",
      "threshs: [0.0, 0.01, 0.01, 0.01, 0.01, 0.0, 0.01, 0.01, 0.01, 0.01, 0.01, 0.01, 0.0, 0.01, 0.01, 0.01, 0.01] -- best score: 0.8311115454009301\n",
      "Mean fbeta: 0.76033                                                            \n",
      "params : {'ES_mindelta': 0.0001, 'ES_monitor': 'val_loss', 'ES_patience': 10, 'batch_size': 512, 'class_weights': None, 'dropout': 0.3, 'feature_drop': (), 'max_epochs': 2000, 'metric': 'accuracy', 'n_internal_layers': (0, {'layer_1_0_nodes': 40.0}), 'optimizer': {'adam_params': None, 'name': 'Adam'}}\n",
      "Fitting fold 1                                                                 \n",
      "threshs: [0.01, 0.01, 0.01, 0.01, 0.01, 0.0, 0.02, 0.02, 0.01, 0.01, 0.02, 0.01, 0.05, 0.01, 0.01, 0.01, 0.01] -- best score: 0.8289098956824805\n",
      "Fitting fold 2                                                                 \n",
      "threshs: [0.01, 0.01, 0.01, 0.03, 0.01, 0.0, 0.02, 0.02, 0.01, 0.01, 0.03, 0.01, 0.03, 0.01, 0.01, 0.01, 0.01] -- best score: 0.8007130635147216\n",
      "Fitting fold 3                                                                 \n",
      "threshs: [0.01, 0.01, 0.01, 0.02, 0.03, 0.0, 0.02, 0.02, 0.01, 0.01, 0.01, 0.01, 0.17, 0.01, 0.01, 0.01, 0.01] -- best score: 0.7983205114603895\n",
      "Fitting fold 4                                                                 \n",
      "threshs: [0.01, 0.01, 0.01, 0.02, 0.03, 0.0, 0.02, 0.02, 0.01, 0.01, 0.01, 0.01, 0.04, 0.01, 0.01, 0.01, 0.01] -- best score: 0.8149402843460072\n",
      "Fitting fold 5                                                                 \n",
      "threshs: [0.01, 0.01, 0.01, 0.01, 0.02, 0.0, 0.03, 0.02, 0.01, 0.01, 0.01, 0.01, 0.04, 0.01, 0.01, 0.01, 0.01] -- best score: 0.8309430068538036\n",
      "Mean fbeta: 0.77735                                                            \n",
      "params : {'ES_mindelta': 0.0001, 'ES_monitor': 'val_loss', 'ES_patience': 10, 'batch_size': 512, 'class_weights': None, 'dropout': 0.3, 'feature_drop': (), 'max_epochs': 2000, 'metric': 'accuracy', 'n_internal_layers': (0, {'layer_1_0_nodes': 40.0}), 'optimizer': {'adam_params': None, 'name': 'Adam'}}\n",
      "Fitting fold 1                                                                 \n",
      "threshs: [0.01, 0.02, 0.01, 0.01, 0.01, 0.0, 0.03, 0.02, 0.01, 0.01, 0.01, 0.01, 0.03, 0.01, 0.01, 0.02, 0.01] -- best score: 0.8122677015981821\n",
      "Fitting fold 2                                                                 \n",
      "threshs: [0.01, 0.01, 0.01, 0.02, 0.01, 0.0, 0.04, 0.03, 0.01, 0.01, 0.01, 0.01, 0.03, 0.01, 0.01, 0.05, 0.01] -- best score: 0.7888549789134508\n",
      "Fitting fold 3                                                                 \n",
      "threshs: [0.01, 0.01, 0.01, 0.02, 0.01, 0.0, 0.02, 0.02, 0.01, 0.01, 0.01, 0.01, 0.09, 0.01, 0.01, 0.04, 0.01] -- best score: 0.7885318119451092\n",
      "Fitting fold 4                                                                 \n",
      "threshs: [0.0, 0.01, 0.01, 0.02, 0.01, 0.0, 0.01, 0.01, 0.01, 0.01, 0.01, 0.01, 0.09, 0.01, 0.01, 0.02, 0.01] -- best score: 0.7835476885999388\n",
      "Fitting fold 5                                                                 \n",
      "threshs: [0.01, 0.01, 0.01, 0.01, 0.01, 0.0, 0.03, 0.01, 0.01, 0.01, 0.01, 0.01, 0.01, 0.01, 0.01, 0.01, 0.01] -- best score: 0.8172672280019965\n",
      "Mean fbeta: 0.76608                                                            \n",
      "params : {'ES_mindelta': 0.0001, 'ES_monitor': 'val_loss', 'ES_patience': 10, 'batch_size': 512, 'class_weights': None, 'dropout': 0.3, 'feature_drop': (), 'max_epochs': 2000, 'metric': 'accuracy', 'n_internal_layers': (0, {'layer_1_0_nodes': 40.0}), 'optimizer': {'adam_params': None, 'name': 'Adam'}}\n",
      "Fitting fold 1                                                                 \n",
      "threshs: [0.0, 0.01, 0.01, 0.01, 0.03, 0.0, 0.02, 0.03, 0.01, 0.01, 0.01, 0.01, 0.05, 0.01, 0.01, 0.01, 0.0] -- best score: 0.7741496930044806\n",
      "Fitting fold 2                                                                 \n",
      "threshs: [0.0, 0.01, 0.01, 0.01, 0.03, 0.0, 0.03, 0.04, 0.01, 0.01, 0.02, 0.01, 0.12, 0.01, 0.02, 0.01, 0.0] -- best score: 0.7593806172984623\n",
      "Fitting fold 3                                                                 \n",
      "threshs: [0.0, 0.01, 0.01, 0.01, 0.02, 0.0, 0.02, 0.03, 0.01, 0.01, 0.01, 0.01, 0.15, 0.01, 0.01, 0.02, 0.0] -- best score: 0.7554772260799342\n"
     ]
    },
    {
     "name": "stdout",
     "output_type": "stream",
     "text": [
      "Fitting fold 4                                                                 \n",
      "threshs: [0.0, 0.01, 0.01, 0.01, 0.02, 0.0, 0.03, 0.03, 0.01, 0.01, 0.01, 0.01, 0.14, 0.01, 0.01, 0.03, 0.01] -- best score: 0.758899529223467\n",
      "Fitting fold 5                                                                 \n",
      "threshs: [0.0, 0.01, 0.01, 0.01, 0.02, 0.0, 0.06, 0.02, 0.01, 0.01, 0.01, 0.01, 0.13, 0.01, 0.01, 0.02, 0.0] -- best score: 0.7832490512480753\n",
      "Mean fbeta: 0.73472                                                            \n",
      "params : {'ES_mindelta': 0.0001, 'ES_monitor': 'val_loss', 'ES_patience': 10, 'batch_size': 512, 'class_weights': None, 'dropout': 0.3, 'feature_drop': (), 'max_epochs': 2000, 'metric': 'accuracy', 'n_internal_layers': (0, {'layer_1_0_nodes': 80.0}), 'optimizer': {'adam_params': None, 'name': 'Adam'}}\n",
      "Fitting fold 1                                                                 \n",
      "threshs: [0.0, 0.01, 0.01, 0.01, 0.02, 0.0, 0.05, 0.01, 0.01, 0.01, 0.01, 0.01, 0.12, 0.01, 0.01, 0.01, 0.01] -- best score: 0.7954547474400496\n",
      "Fitting fold 2                                                                 \n",
      "threshs: [0.0, 0.01, 0.01, 0.01, 0.02, 0.0, 0.04, 0.01, 0.01, 0.01, 0.01, 0.01, 0.13, 0.01, 0.01, 0.01, 0.0] -- best score: 0.7746339195330758\n",
      "Fitting fold 3                                                                 \n",
      "threshs: [0.0, 0.01, 0.01, 0.01, 0.01, 0.0, 0.03, 0.03, 0.01, 0.01, 0.01, 0.01, 0.11, 0.01, 0.01, 0.01, 0.01] -- best score: 0.7728464357160059\n",
      "Fitting fold 4                                                                 \n",
      "threshs: [0.0, 0.01, 0.01, 0.01, 0.01, 0.0, 0.02, 0.02, 0.01, 0.01, 0.01, 0.01, 0.12, 0.01, 0.01, 0.01, 0.01] -- best score: 0.7823129470536119\n",
      "Fitting fold 5                                                                 \n",
      "threshs: [0.0, 0.01, 0.01, 0.01, 0.01, 0.0, 0.01, 0.01, 0.01, 0.01, 0.01, 0.01, 0.16, 0.01, 0.02, 0.01, 0.01] -- best score: 0.7994729520677449\n",
      "Mean fbeta: 0.75430                                                            \n",
      "params : {'ES_mindelta': 0.0001, 'ES_monitor': 'val_loss', 'ES_patience': 10, 'batch_size': 512, 'class_weights': None, 'dropout': 0.3, 'feature_drop': (), 'max_epochs': 2000, 'metric': 'accuracy', 'n_internal_layers': (0, {'layer_1_0_nodes': 60.0}), 'optimizer': {'adam_params': None, 'name': 'Adam'}}\n",
      "Fitting fold 1                                                                 \n",
      "threshs: [0.01, 0.01, 0.01, 0.01, 0.02, 0.0, 0.01, 0.02, 0.01, 0.01, 0.01, 0.01, 0.07, 0.01, 0.01, 0.02, 0.01] -- best score: 0.8158701412592545\n",
      "Fitting fold 2                                                                 \n",
      "threshs: [0.01, 0.01, 0.01, 0.01, 0.01, 0.0, 0.02, 0.02, 0.01, 0.01, 0.01, 0.01, 0.14, 0.01, 0.01, 0.03, 0.01] -- best score: 0.7972410966427664\n",
      "Fitting fold 3                                                                 \n",
      "threshs: [0.0, 0.01, 0.01, 0.01, 0.01, 0.0, 0.02, 0.02, 0.01, 0.01, 0.01, 0.01, 0.14, 0.01, 0.01, 0.04, 0.01] -- best score: 0.7850112654129235\n",
      "Fitting fold 4                                                                 \n",
      "threshs: [0.0, 0.01, 0.01, 0.01, 0.01, 0.0, 0.02, 0.02, 0.01, 0.01, 0.01, 0.01, 0.15, 0.01, 0.01, 0.03, 0.01] -- best score: 0.7951246700754654\n",
      "Fitting fold 5                                                                 \n",
      "threshs: [0.01, 0.01, 0.01, 0.01, 0.01, 0.0, 0.02, 0.01, 0.01, 0.01, 0.01, 0.01, 0.11, 0.01, 0.01, 0.02, 0.01] -- best score: 0.8295975320099678\n",
      "Mean fbeta: 0.77023                                                            \n",
      "params : {'ES_mindelta': 0.0001, 'ES_monitor': 'val_loss', 'ES_patience': 10, 'batch_size': 512, 'class_weights': None, 'dropout': 0.3, 'feature_drop': (), 'max_epochs': 2000, 'metric': 'accuracy', 'n_internal_layers': (0, {'layer_1_0_nodes': 30.0}), 'optimizer': {'adam_params': None, 'name': 'Adam'}}\n",
      "Fitting fold 1                                                                 \n",
      "threshs: [0.01, 0.01, 0.01, 0.01, 0.02, 0.0, 0.01, 0.04, 0.01, 0.01, 0.01, 0.01, 0.08, 0.01, 0.05, 0.04, 0.01] -- best score: 0.790444856866478\n",
      "Fitting fold 2                                                                 \n",
      "threshs: [0.0, 0.02, 0.01, 0.04, 0.02, 0.0, 0.01, 0.03, 0.01, 0.01, 0.01, 0.0, 0.13, 0.01, 0.05, 0.02, 0.0] -- best score: 0.7632918690150746\n",
      "Fitting fold 3                                                                 \n",
      "threshs: [0.0, 0.02, 0.01, 0.03, 0.03, 0.0, 0.02, 0.03, 0.01, 0.01, 0.01, 0.0, 0.07, 0.01, 0.01, 0.02, 0.0] -- best score: 0.7611935245097274\n",
      "Fitting fold 4                                                                 \n",
      "threshs: [0.0, 0.01, 0.01, 0.03, 0.01, 0.0, 0.01, 0.03, 0.01, 0.01, 0.01, 0.0, 0.05, 0.01, 0.02, 0.01, 0.01] -- best score: 0.7672891814482592\n",
      "Fitting fold 5                                                                 \n",
      "threshs: [0.0, 0.01, 0.01, 0.01, 0.01, 0.0, 0.02, 0.01, 0.01, 0.01, 0.01, 0.01, 0.09, 0.01, 0.02, 0.02, 0.01] -- best score: 0.7941372853979507\n",
      "Mean fbeta: 0.72552                                                            \n",
      "params : {'ES_mindelta': 0.0001, 'ES_monitor': 'val_loss', 'ES_patience': 10, 'batch_size': 512, 'class_weights': None, 'dropout': 0.3, 'feature_drop': (), 'max_epochs': 2000, 'metric': 'accuracy', 'n_internal_layers': (0, {'layer_1_0_nodes': 50.0}), 'optimizer': {'adam_params': None, 'name': 'Adam'}}\n",
      "Fitting fold 1                                                                 \n",
      "threshs: [0.01, 0.01, 0.01, 0.01, 0.02, 0.0, 0.02, 0.01, 0.01, 0.01, 0.02, 0.01, 0.04, 0.01, 0.01, 0.01, 0.01] -- best score: 0.8086365797389009\n",
      "Fitting fold 2                                                                 \n",
      "threshs: [0.0, 0.01, 0.01, 0.01, 0.01, 0.0, 0.02, 0.01, 0.01, 0.01, 0.02, 0.01, 0.04, 0.01, 0.01, 0.01, 0.01] -- best score: 0.7850420509792507\n",
      "Fitting fold 3                                                                 \n",
      "threshs: [0.0, 0.01, 0.01, 0.01, 0.01, 0.0, 0.01, 0.01, 0.01, 0.01, 0.02, 0.01, 0.03, 0.01, 0.01, 0.01, 0.01] -- best score: 0.7811165064044698\n",
      "Fitting fold 4                                                                 \n",
      "threshs: [0.0, 0.01, 0.01, 0.01, 0.01, 0.0, 0.01, 0.01, 0.01, 0.01, 0.01, 0.01, 0.04, 0.01, 0.01, 0.01, 0.01] -- best score: 0.7885882757239847\n",
      "Fitting fold 5                                                                 \n",
      "threshs: [0.0, 0.01, 0.01, 0.01, 0.01, 0.0, 0.03, 0.01, 0.01, 0.01, 0.01, 0.01, 0.02, 0.01, 0.01, 0.01, 0.01] -- best score: 0.8150003125483547\n",
      "Mean fbeta: 0.76831                                                            \n",
      "params : {'ES_mindelta': 0.0001, 'ES_monitor': 'val_loss', 'ES_patience': 10, 'batch_size': 512, 'class_weights': None, 'dropout': 0.3, 'feature_drop': (), 'max_epochs': 2000, 'metric': 'accuracy', 'n_internal_layers': (1, {'layer_1_1_nodes': 1300.0, 'layer_2_1_nodes': 100.0}), 'optimizer': {'adam_params': None, 'name': 'Adam'}}\n",
      "Fitting fold 1                                                                 \n",
      "threshs: [0.0, 0.02, 0.01, 0.01, 0.01, 0.0, 0.03, 0.02, 0.01, 0.01, 0.01, 0.01, 0.03, 0.01, 0.01, 0.01, 0.01] -- best score: 0.8181744566946184\n",
      "Fitting fold 2                                                                 \n",
      "threshs: [0.0, 0.01, 0.01, 0.01, 0.01, 0.01, 0.01, 0.02, 0.01, 0.01, 0.01, 0.01, 0.01, 0.01, 0.01, 0.01, 0.01] -- best score: 0.818544868935893\n",
      "Fitting fold 3                                                                 \n",
      "threshs: [0.0, 0.01, 0.01, 0.01, 0.01, 0.0, 0.06, 0.02, 0.01, 0.01, 0.01, 0.01, 0.03, 0.01, 0.01, 0.01, 0.01] -- best score: 0.8020044518847549\n",
      "Fitting fold 4                                                                 \n",
      "threshs: [0.0, 0.01, 0.01, 0.01, 0.01, 0.0, 0.02, 0.01, 0.01, 0.01, 0.01, 0.01, 0.0, 0.01, 0.01, 0.01, 0.01] -- best score: 0.8187276182091644\n",
      "Fitting fold 5                                                                 \n",
      "threshs: [0.0, 0.01, 0.01, 0.01, 0.01, 0.0, 0.01, 0.01, 0.01, 0.01, 0.01, 0.01, 0.0, 0.01, 0.01, 0.01, 0.01] -- best score: 0.8456259480548967\n",
      "Mean fbeta: 0.76935                                                            \n",
      "params : {'ES_mindelta': 0.0001, 'ES_monitor': 'val_loss', 'ES_patience': 10, 'batch_size': 512, 'class_weights': None, 'dropout': None, 'feature_drop': (), 'max_epochs': 2000, 'metric': 'accuracy', 'n_internal_layers': (0, {'layer_1_0_nodes': 70.0}), 'optimizer': {'adam_params': None, 'name': 'Adam'}}\n"
     ]
    },
    {
     "name": "stdout",
     "output_type": "stream",
     "text": [
      "Fitting fold 1                                                                 \n",
      "threshs: [0.0, 0.01, 0.02, 0.01, 0.01, 0.0, 0.03, 0.02, 0.01, 0.01, 0.02, 0.01, 0.03, 0.01, 0.01, 0.01, 0.01] -- best score: 0.7940169479185067\n",
      "Fitting fold 2                                                                 \n",
      "threshs: [0.0, 0.01, 0.02, 0.02, 0.01, 0.0, 0.05, 0.01, 0.01, 0.01, 0.03, 0.01, 0.04, 0.01, 0.01, 0.01, 0.01] -- best score: 0.7809050694887811\n",
      "Fitting fold 3                                                                 \n",
      "threshs: [0.01, 0.01, 0.02, 0.01, 0.02, 0.0, 0.07, 0.01, 0.01, 0.01, 0.02, 0.01, 0.02, 0.01, 0.01, 0.01, 0.01] -- best score: 0.7908146029332465\n",
      "Fitting fold 4                                                                 \n",
      "threshs: [0.01, 0.01, 0.01, 0.01, 0.01, 0.0, 0.05, 0.01, 0.01, 0.01, 0.01, 0.01, 0.03, 0.01, 0.01, 0.01, 0.01] -- best score: 0.8067378522802116\n",
      "Fitting fold 5                                                                 \n",
      "threshs: [0.01, 0.01, 0.01, 0.01, 0.01, 0.0, 0.03, 0.01, 0.01, 0.01, 0.01, 0.01, 0.01, 0.01, 0.01, 0.01, 0.01] -- best score: 0.835348280257208\n",
      "Mean fbeta: 0.76627                                                            \n",
      "params : {'ES_mindelta': 0.0001, 'ES_monitor': 'val_loss', 'ES_patience': 10, 'batch_size': 512, 'class_weights': None, 'dropout': 0.3, 'feature_drop': (), 'max_epochs': 2000, 'metric': 'accuracy', 'n_internal_layers': (1, {'layer_1_1_nodes': 90.0, 'layer_2_1_nodes': 100.0}), 'optimizer': {'adam_params': None, 'name': 'Adam'}}\n",
      "Fitting fold 1                                                                 \n",
      "threshs: [0.01, 0.01, 0.01, 0.01, 0.01, 0.0, 0.03, 0.02, 0.01, 0.01, 0.01, 0.01, 0.23, 0.01, 0.01, 0.01, 0.0] -- best score: 0.7929507447782035\n",
      "Fitting fold 2                                                                 \n",
      "threshs: [0.0, 0.02, 0.01, 0.02, 0.02, 0.0, 0.05, 0.02, 0.01, 0.01, 0.01, 0.01, 0.17, 0.01, 0.01, 0.01, 0.0] -- best score: 0.7823353525966612\n",
      "Fitting fold 3                                                                 \n",
      "threshs: [0.0, 0.01, 0.01, 0.03, 0.02, 0.0, 0.01, 0.02, 0.01, 0.01, 0.01, 0.01, 0.2, 0.01, 0.01, 0.03, 0.0] -- best score: 0.7828011648044813\n",
      "Fitting fold 4                                                                 \n",
      "threshs: [0.0, 0.01, 0.01, 0.01, 0.01, 0.0, 0.01, 0.01, 0.01, 0.01, 0.01, 0.01, 0.12, 0.01, 0.02, 0.01, 0.01] -- best score: 0.7855833171894191\n",
      "Fitting fold 5                                                                 \n",
      "threshs: [0.0, 0.01, 0.01, 0.01, 0.01, 0.0, 0.02, 0.01, 0.01, 0.01, 0.01, 0.01, 0.01, 0.01, 0.01, 0.01, 0.0] -- best score: 0.8037094612316913\n",
      "Mean fbeta: 0.75029                                                            \n",
      "params : {'ES_mindelta': 0.0001, 'ES_monitor': 'val_loss', 'ES_patience': 10, 'batch_size': 512, 'class_weights': None, 'dropout': 0.1, 'feature_drop': (), 'max_epochs': 2000, 'metric': 'accuracy', 'n_internal_layers': (0, {'layer_1_0_nodes': 10.0}), 'optimizer': {'adam_params': None, 'name': 'Adam'}}\n",
      "Fitting fold 1                                                                 \n",
      "threshs: [0.0, 0.01, 0.01, 0.03, 0.04, 0.0, 0.01, 0.04, 0.01, 0.01, 0.01, 0.0, 0.03, 0.01, 0.12, 0.03, 0.0] -- best score: 0.760761189237354\n",
      "Fitting fold 2                                                                 \n",
      "threshs: [0.0, 0.01, 0.02, 0.04, 0.04, 0.0, 0.01, 0.04, 0.01, 0.01, 0.06, 0.0, 0.04, 0.01, 0.11, 0.03, 0.0] -- best score: 0.7459738325632868\n",
      "Fitting fold 3                                                                 \n",
      "threshs: [0.0, 0.01, 0.02, 0.03, 0.04, 0.0, 0.01, 0.04, 0.01, 0.01, 0.01, 0.0, 0.02, 0.01, 0.1, 0.03, 0.0] -- best score: 0.7486164608638718\n",
      "Fitting fold 4                                                                 \n",
      "threshs: [0.0, 0.01, 0.02, 0.03, 0.02, 0.0, 0.01, 0.03, 0.01, 0.01, 0.01, 0.0, 0.01, 0.01, 0.09, 0.03, 0.01] -- best score: 0.7539083427669855\n",
      "Fitting fold 5                                                                 \n",
      "threshs: [0.0, 0.01, 0.01, 0.02, 0.03, 0.0, 0.08, 0.04, 0.01, 0.01, 0.01, 0.01, 0.0, 0.01, 0.08, 0.02, 0.0] -- best score: 0.7821028041230712\n",
      "Mean fbeta: 0.72004                                                            \n",
      "params : {'ES_mindelta': 0.0001, 'ES_monitor': 'val_loss', 'ES_patience': 10, 'batch_size': 512, 'class_weights': None, 'dropout': 0.3, 'feature_drop': (), 'max_epochs': 2000, 'metric': 'accuracy', 'n_internal_layers': (0, {'layer_1_0_nodes': 30.0}), 'optimizer': {'adam_params': None, 'name': 'Adam'}}\n",
      "Fitting fold 1                                                                 \n",
      "threshs: [0.01, 0.01, 0.03, 0.01, 0.05, 0.0, 0.02, 0.05, 0.01, 0.01, 0.01, 0.01, 0.05, 0.01, 0.03, 0.01, 0.01] -- best score: 0.813395835654969\n",
      "Fitting fold 2                                                                 \n",
      "threshs: [0.01, 0.01, 0.04, 0.01, 0.07, 0.0, 0.02, 0.05, 0.01, 0.01, 0.01, 0.01, 0.09, 0.01, 0.03, 0.02, 0.01] -- best score: 0.7988675619363271\n",
      "Fitting fold 3                                                                 \n",
      "threshs: [0.01, 0.01, 0.03, 0.01, 0.05, 0.0, 0.02, 0.04, 0.01, 0.01, 0.02, 0.01, 0.08, 0.01, 0.03, 0.01, 0.01] -- best score: 0.791760187264552\n",
      "Fitting fold 4                                                                 \n",
      "threshs: [0.01, 0.02, 0.01, 0.01, 0.04, 0.0, 0.02, 0.03, 0.01, 0.01, 0.01, 0.01, 0.11, 0.01, 0.02, 0.01, 0.01] -- best score: 0.7953381401192674\n",
      "Fitting fold 5                                                                 \n",
      "threshs: [0.01, 0.01, 0.01, 0.01, 0.04, 0.0, 0.04, 0.02, 0.01, 0.01, 0.01, 0.01, 0.0, 0.01, 0.02, 0.02, 0.01] -- best score: 0.819748799109233\n",
      "Mean fbeta: 0.77293                                                            \n",
      "params : {'ES_mindelta': 0.0001, 'ES_monitor': 'val_loss', 'ES_patience': 10, 'batch_size': 512, 'class_weights': None, 'dropout': 0.1, 'feature_drop': (), 'max_epochs': 2000, 'metric': 'accuracy', 'n_internal_layers': (1, {'layer_1_1_nodes': 100.0, 'layer_2_1_nodes': 100.0}), 'optimizer': {'adam_params': None, 'name': 'Adam'}}\n",
      "Fitting fold 1                                                                 \n",
      "threshs: [0.01, 0.01, 0.01, 0.01, 0.02, 0.0, 0.02, 0.02, 0.01, 0.01, 0.03, 0.01, 0.04, 0.01, 0.01, 0.01, 0.01] -- best score: 0.8179149302168903\n",
      "Fitting fold 2                                                                 \n",
      "threshs: [0.01, 0.01, 0.01, 0.01, 0.02, 0.0, 0.02, 0.03, 0.01, 0.01, 0.01, 0.01, 0.09, 0.01, 0.01, 0.01, 0.01] -- best score: 0.8294092029854431\n",
      "Fitting fold 3                                                                 \n",
      "threshs: [0.01, 0.01, 0.01, 0.01, 0.01, 0.0, 0.03, 0.04, 0.01, 0.01, 0.01, 0.01, 0.03, 0.01, 0.01, 0.01, 0.01] -- best score: 0.8258072084681644\n",
      "Fitting fold 4                                                                 \n",
      "threshs: [0.01, 0.02, 0.01, 0.01, 0.01, 0.0, 0.01, 0.03, 0.01, 0.01, 0.01, 0.01, 0.01, 0.01, 0.01, 0.01, 0.01] -- best score: 0.8345014188378397\n",
      "Fitting fold 5                                                                 \n",
      "threshs: [0.01, 0.01, 0.01, 0.01, 0.01, 0.01, 0.01, 0.01, 0.01, 0.01, 0.01, 0.01, 0.0, 0.01, 0.01, 0.01, 0.01] -- best score: 0.8606613975539925\n",
      "Mean fbeta: 0.78714                                                            \n",
      "params : {'ES_mindelta': 0.0001, 'ES_monitor': 'val_loss', 'ES_patience': 10, 'batch_size': 512, 'class_weights': None, 'dropout': 0.1, 'feature_drop': (), 'max_epochs': 2000, 'metric': 'accuracy', 'n_internal_layers': (1, {'layer_1_1_nodes': 100.0, 'layer_2_1_nodes': 100.0}), 'optimizer': {'adam_params': None, 'name': 'Adam'}}\n",
      "Fitting fold 1                                                                 \n",
      "threshs: [0.0, 0.01, 0.02, 0.01, 0.02, 0.0, 0.01, 0.02, 0.01, 0.01, 0.02, 0.01, 0.0, 0.01, 0.01, 0.01, 0.01] -- best score: 0.7892854986535065\n",
      "Fitting fold 2                                                                 \n",
      "threshs: [0.0, 0.01, 0.02, 0.01, 0.02, 0.0, 0.07, 0.02, 0.01, 0.01, 0.02, 0.01, 0.0, 0.01, 0.01, 0.01, 0.01] -- best score: 0.7823857150220512\n",
      "Fitting fold 3                                                                 \n"
     ]
    },
    {
     "name": "stdout",
     "output_type": "stream",
     "text": [
      "threshs: [0.0, 0.01, 0.01, 0.01, 0.01, 0.0, 0.01, 0.02, 0.01, 0.01, 0.01, 0.01, 0.0, 0.01, 0.01, 0.01, 0.01] -- best score: 0.7819603711080038\n",
      "Fitting fold 4                                                                 \n",
      "threshs: [0.0, 0.01, 0.01, 0.01, 0.01, 0.0, 0.03, 0.01, 0.01, 0.01, 0.01, 0.01, 0.0, 0.01, 0.01, 0.01, 0.01] -- best score: 0.7887404720508966\n",
      "Fitting fold 5                                                                 \n",
      "threshs: [0.0, 0.01, 0.01, 0.01, 0.01, 0.0, 0.01, 0.01, 0.01, 0.01, 0.01, 0.01, 0.0, 0.01, 0.01, 0.01, 0.01] -- best score: 0.8120755652057965\n",
      "Mean fbeta: 0.75691                                                            \n",
      "params : {'ES_mindelta': 0.0001, 'ES_monitor': 'val_loss', 'ES_patience': 10, 'batch_size': 512, 'class_weights': None, 'dropout': 0.1, 'feature_drop': (), 'max_epochs': 2000, 'metric': 'accuracy', 'n_internal_layers': (1, {'layer_1_1_nodes': 90.0, 'layer_2_1_nodes': 80.0}), 'optimizer': {'adam_params': None, 'name': 'Adam'}}\n",
      "Fitting fold 1                                                                 \n",
      "threshs: [0.01, 0.01, 0.01, 0.01, 0.01, 0.0, 0.02, 0.01, 0.01, 0.01, 0.03, 0.01, 0.09, 0.01, 0.02, 0.01, 0.0] -- best score: 0.7836580302591837\n",
      "Fitting fold 2                                                                 \n",
      "threshs: [0.01, 0.01, 0.01, 0.01, 0.01, 0.0, 0.07, 0.02, 0.01, 0.01, 0.01, 0.01, 0.09, 0.01, 0.01, 0.01, 0.0] -- best score: 0.7881730846547399\n",
      "Fitting fold 3                                                                 \n",
      "threshs: [0.0, 0.01, 0.02, 0.02, 0.01, 0.0, 0.05, 0.02, 0.01, 0.01, 0.01, 0.01, 0.09, 0.01, 0.01, 0.01, 0.0] -- best score: 0.7806575556580827\n",
      "Fitting fold 4                                                                 \n",
      "threshs: [0.0, 0.02, 0.01, 0.02, 0.01, 0.0, 0.01, 0.01, 0.01, 0.01, 0.01, 0.01, 0.06, 0.01, 0.01, 0.01, 0.01] -- best score: 0.7886837589811416\n",
      "Fitting fold 5                                                                 \n",
      "threshs: [0.0, 0.01, 0.01, 0.01, 0.01, 0.0, 0.03, 0.01, 0.01, 0.01, 0.01, 0.01, 0.0, 0.01, 0.01, 0.01, 0.01] -- best score: 0.816301563263255\n",
      "Mean fbeta: 0.74773                                                            \n",
      "params : {'ES_mindelta': 0.0001, 'ES_monitor': 'val_loss', 'ES_patience': 10, 'batch_size': 512, 'class_weights': None, 'dropout': 0.1, 'feature_drop': (), 'max_epochs': 2000, 'metric': 'accuracy', 'n_internal_layers': (1, {'layer_1_1_nodes': 50.0, 'layer_2_1_nodes': 50.0}), 'optimizer': {'adam_params': None, 'name': 'Adam'}}\n",
      "Fitting fold 1                                                                 \n",
      "threshs: [0.0, 0.01, 0.01, 0.01, 0.03, 0.0, 0.02, 0.02, 0.01, 0.01, 0.03, 0.01, 0.09, 0.01, 0.01, 0.02, 0.0] -- best score: 0.7737084394898252\n",
      "Fitting fold 2                                                                 \n",
      "threshs: [0.0, 0.01, 0.01, 0.01, 0.02, 0.0, 0.03, 0.02, 0.01, 0.01, 0.02, 0.01, 0.14, 0.01, 0.01, 0.01, 0.0] -- best score: 0.7690200286029825\n",
      "Fitting fold 3                                                                 \n",
      "threshs: [0.0, 0.01, 0.01, 0.01, 0.02, 0.0, 0.03, 0.02, 0.01, 0.01, 0.01, 0.01, 0.08, 0.01, 0.01, 0.01, 0.0] -- best score: 0.7681472919167494\n",
      "Fitting fold 4                                                                   \n",
      "threshs: [0.0, 0.01, 0.01, 0.02, 0.01, 0.0, 0.01, 0.02, 0.01, 0.01, 0.01, 0.01, 0.09, 0.01, 0.01, 0.01, 0.01] -- best score: 0.7770297037213156\n",
      "Fitting fold 5                                                                   \n",
      "threshs: [0.0, 0.01, 0.01, 0.01, 0.01, 0.0, 0.02, 0.02, 0.01, 0.01, 0.01, 0.01, 0.01, 0.01, 0.01, 0.01, 0.0] -- best score: 0.8006639995653297\n",
      "Mean fbeta: 0.74124                                                              \n",
      "params : {'ES_mindelta': 0.0001, 'ES_monitor': 'val_loss', 'ES_patience': 10, 'batch_size': 512, 'class_weights': None, 'dropout': 0.1, 'feature_drop': (), 'max_epochs': 2000, 'metric': 'accuracy', 'n_internal_layers': (1, {'layer_1_1_nodes': 70.0, 'layer_2_1_nodes': 80.0}), 'optimizer': {'adam_params': None, 'name': 'Adam'}}\n",
      "Fitting fold 1                                                                   \n",
      "threshs: [0.0, 0.01, 0.01, 0.01, 0.01, 0.0, 0.02, 0.01, 0.01, 0.01, 0.01, 0.01, 0.06, 0.01, 0.01, 0.01, 0.0] -- best score: 0.7909643739686419\n",
      "Fitting fold 2                                                                   \n",
      "threshs: [0.0, 0.01, 0.01, 0.01, 0.01, 0.0, 0.04, 0.01, 0.01, 0.01, 0.01, 0.01, 0.06, 0.01, 0.01, 0.02, 0.0] -- best score: 0.7856997016927053\n",
      "Fitting fold 3                                                                   \n",
      "threshs: [0.0, 0.01, 0.01, 0.01, 0.01, 0.0, 0.04, 0.02, 0.01, 0.01, 0.01, 0.01, 0.02, 0.01, 0.01, 0.02, 0.01] -- best score: 0.78271347738661\n",
      "Fitting fold 4                                                                   \n",
      "threshs: [0.0, 0.01, 0.01, 0.01, 0.01, 0.0, 0.01, 0.02, 0.01, 0.01, 0.01, 0.01, 0.02, 0.01, 0.02, 0.01, 0.01] -- best score: 0.7914311420203262\n",
      "Fitting fold 5                                                                   \n",
      "threshs: [0.0, 0.01, 0.01, 0.01, 0.01, 0.0, 0.02, 0.01, 0.01, 0.01, 0.01, 0.01, 0.0, 0.01, 0.01, 0.01, 0.01] -- best score: 0.8052532283201673\n",
      "Mean fbeta: 0.75261                                                              \n",
      "params : {'ES_mindelta': 0.0001, 'ES_monitor': 'val_loss', 'ES_patience': 10, 'batch_size': 512, 'class_weights': None, 'dropout': 0.1, 'feature_drop': (), 'max_epochs': 2000, 'metric': 'accuracy', 'n_internal_layers': (1, {'layer_1_1_nodes': 100.0, 'layer_2_1_nodes': 100.0}), 'optimizer': {'adam_params': None, 'name': 'Adam'}}\n",
      "Fitting fold 1                                                                   \n",
      "threshs: [0.0, 0.02, 0.01, 0.01, 0.02, 0.0, 0.02, 0.01, 0.01, 0.01, 0.02, 0.01, 0.0, 0.01, 0.01, 0.01, 0.0] -- best score: 0.7794100431289387\n",
      "Fitting fold 2                                                                   \n",
      "threshs: [0.0, 0.01, 0.01, 0.01, 0.02, 0.0, 0.03, 0.01, 0.01, 0.01, 0.01, 0.01, 0.05, 0.01, 0.01, 0.01, 0.0] -- best score: 0.7729845356339012\n",
      "Fitting fold 3                                                                   \n",
      "threshs: [0.0, 0.01, 0.01, 0.01, 0.02, 0.0, 0.08, 0.01, 0.01, 0.01, 0.01, 0.01, 0.02, 0.01, 0.01, 0.01, 0.0] -- best score: 0.7699095023345605\n",
      "Fitting fold 4                                                                   \n",
      "threshs: [0.0, 0.02, 0.01, 0.01, 0.01, 0.0, 0.01, 0.02, 0.01, 0.01, 0.01, 0.01, 0.05, 0.01, 0.01, 0.01, 0.01] -- best score: 0.7843834655644408\n",
      "Fitting fold 5                                                                   \n",
      "threshs: [0.0, 0.01, 0.01, 0.01, 0.01, 0.0, 0.01, 0.01, 0.01, 0.01, 0.01, 0.01, 0.01, 0.01, 0.01, 0.01, 0.0] -- best score: 0.8011592466911729\n",
      "Mean fbeta: 0.73972                                                              \n",
      "params : {'ES_mindelta': 0.0001, 'ES_monitor': 'val_loss', 'ES_patience': 10, 'batch_size': 512, 'class_weights': None, 'dropout': 0.1, 'feature_drop': (), 'max_epochs': 2000, 'metric': 'accuracy', 'n_internal_layers': (1, {'layer_1_1_nodes': 30.0, 'layer_2_1_nodes': 30.0}), 'optimizer': {'adam_params': None, 'name': 'Adam'}}\n",
      "Fitting fold 1                                                                   \n",
      "threshs: [0.01, 0.01, 0.01, 0.03, 0.02, 0.0, 0.01, 0.02, 0.01, 0.01, 0.01, 0.01, 0.1, 0.01, 0.1, 0.01, 0.01] -- best score: 0.7924137813426915\n",
      "Fitting fold 2                                                                   \n",
      "threshs: [0.0, 0.01, 0.01, 0.03, 0.02, 0.0, 0.02, 0.02, 0.01, 0.01, 0.02, 0.01, 0.17, 0.01, 0.11, 0.01, 0.01] -- best score: 0.7803579096556402\n",
      "Fitting fold 3                                                                   \n",
      "threshs: [0.0, 0.01, 0.01, 0.02, 0.02, 0.0, 0.07, 0.01, 0.01, 0.01, 0.01, 0.01, 0.14, 0.01, 0.1, 0.01, 0.01] -- best score: 0.7797769336780488\n",
      "Fitting fold 4                                                                   \n",
      "threshs: [0.0, 0.01, 0.01, 0.03, 0.01, 0.0, 0.03, 0.02, 0.01, 0.01, 0.01, 0.01, 0.18, 0.01, 0.03, 0.01, 0.01] -- best score: 0.7855393080448141\n",
      "Fitting fold 5                                                                   \n",
      "threshs: [0.0, 0.01, 0.01, 0.02, 0.01, 0.0, 0.04, 0.01, 0.01, 0.01, 0.01, 0.01, 0.0, 0.01, 0.01, 0.01, 0.01] -- best score: 0.8027182209526993\n"
     ]
    },
    {
     "name": "stdout",
     "output_type": "stream",
     "text": [
      "Mean fbeta: 0.75566                                                              \n",
      "params : {'ES_mindelta': 0.0001, 'ES_monitor': 'val_loss', 'ES_patience': 10, 'batch_size': 512, 'class_weights': None, 'dropout': 0.1, 'feature_drop': (), 'max_epochs': 2000, 'metric': 'accuracy', 'n_internal_layers': (1, {'layer_1_1_nodes': 80.0, 'layer_2_1_nodes': 70.0}), 'optimizer': {'adam_params': None, 'name': 'Adam'}}\n",
      "Fitting fold 1                                                                   \n",
      "threshs: [0.01, 0.01, 0.01, 0.01, 0.02, 0.0, 0.02, 0.03, 0.01, 0.01, 0.01, 0.01, 0.08, 0.01, 0.01, 0.01, 0.01] -- best score: 0.7900496888595214\n",
      "Fitting fold 2                                                                   \n",
      "threshs: [0.01, 0.01, 0.01, 0.01, 0.01, 0.0, 0.01, 0.01, 0.01, 0.01, 0.01, 0.01, 0.19, 0.01, 0.01, 0.01, 0.01] -- best score: 0.7952193925925207\n",
      "Fitting fold 3                                                                   \n",
      "threshs: [0.0, 0.01, 0.01, 0.01, 0.01, 0.0, 0.05, 0.01, 0.01, 0.01, 0.01, 0.01, 0.09, 0.01, 0.01, 0.01, 0.01] -- best score: 0.7933121915903594\n",
      "Fitting fold 4                                                                   \n",
      "threshs: [0.0, 0.01, 0.01, 0.01, 0.01, 0.0, 0.05, 0.01, 0.01, 0.01, 0.01, 0.01, 0.1, 0.01, 0.01, 0.01, 0.01] -- best score: 0.7994861172163064\n",
      "Fitting fold 5                                                                   \n",
      "threshs: [0.0, 0.01, 0.01, 0.01, 0.01, 0.0, 0.01, 0.01, 0.01, 0.01, 0.01, 0.01, 0.04, 0.01, 0.01, 0.01, 0.01] -- best score: 0.8188346524327813\n",
      "Mean fbeta: 0.76235                                                              \n",
      "100%|██████████| 50/50 [1:05:44<00:00, 78.88s/it, best loss: -0.7871359088133831]\n"
     ]
    }
   ],
   "source": [
    "best=fmin(fn=validatemodelpart, # function to optimize\n",
    "          space=space,\n",
    "          algo=tpe.suggest, # optimization algorithm, hyperotp will select its parameters automatically\n",
    "          max_evals=50, # maximum number of iterations\n",
    "          trials=trials,# logging\n",
    "          rstate=np.random.RandomState(random_state) # fixing random state for the reproducibility\n",
    "         )\n"
   ]
  },
  {
   "cell_type": "markdown",
   "id": "5d92e65c",
   "metadata": {},
   "source": [
    "## Model test"
   ]
  },
  {
   "cell_type": "code",
   "execution_count": 215,
   "id": "bfa7e405",
   "metadata": {},
   "outputs": [],
   "source": [
    "def model_test(params, X_test, Y_test, X_train, Y_train):\n",
    "    model = create_NN_model(params, X_test, Y_test)\n",
    "    fit_model(model, params, X_train, Y_train)\n",
    "    Y_pred_train=model.predict(X_train)\n",
    "    Y_pred_test=model.predict(X_test)\n",
    "    threshs, train_best_score = find_best_thresholds(Y_pred_train, Y_train)\n",
    "    test_best_score = global_best_score(Y_pred_test, Y_test, threshs)\n",
    "    print('Test score: %s'%test_best_score)\n",
    "    return Y_pred_train, Y_pred_test, threshs"
   ]
  },
  {
   "cell_type": "code",
   "execution_count": 156,
   "id": "fa88ffdb",
   "metadata": {},
   "outputs": [
    {
     "data": {
      "text/plain": [
       "\"{'ES_mindelta': 0.0001, 'ES_monitor': 'val_loss', 'ES_patience': 10, 'batch_size': 512, 'class_weights': None, 'dropout': 0.3, 'feature_drop': (), 'max_epochs': 2000, 'metric': 'accuracy', 'n_internal_layers': (0, {'layer_1_0_nodes': 60.0}), 'optimizer': {'adam_params': None, 'name': 'Adam'}}\""
      ]
     },
     "execution_count": 156,
     "metadata": {},
     "output_type": "execute_result"
    }
   ],
   "source": [
    "trials.best_trial['result']['params']"
   ]
  },
  {
   "cell_type": "code",
   "execution_count": 262,
   "id": "dec9a631",
   "metadata": {},
   "outputs": [
    {
     "name": "stdout",
     "output_type": "stream",
     "text": [
      "df shape\n",
      "(2005, 4)\n",
      "X shape\n",
      "(2005, 30000)\n"
     ]
    }
   ],
   "source": [
    "df_test, X_test = load_dataset(path, 'test_2000.csv')"
   ]
  },
  {
   "cell_type": "code",
   "execution_count": 263,
   "id": "e498ed8d",
   "metadata": {},
   "outputs": [
    {
     "data": {
      "text/plain": [
       "(2005, 551)"
      ]
     },
     "execution_count": 263,
     "metadata": {},
     "output_type": "execute_result"
    }
   ],
   "source": [
    "df_test_pca, pca = apply_pca(X_test, pca)\n",
    "df_test_pca.shape"
   ]
  },
  {
   "cell_type": "code",
   "execution_count": 264,
   "id": "765b1cf7",
   "metadata": {},
   "outputs": [
    {
     "data": {
      "text/plain": [
       "((2005, 551), (2005, 17))"
      ]
     },
     "execution_count": 264,
     "metadata": {},
     "output_type": "execute_result"
    }
   ],
   "source": [
    "X_test, Y_test, encoder = get_data_ML(df_test, df_test, df_test_pca, encoder)\n",
    "X_test.shape, Y_test.shape"
   ]
  },
  {
   "cell_type": "code",
   "execution_count": 182,
   "id": "2082246c",
   "metadata": {
    "collapsed": true
   },
   "outputs": [
    {
     "name": "stdout",
     "output_type": "stream",
     "text": [
      "-0.7550637929651071\n",
      "-0.7787216593563283\n",
      "-0.769078807237902\n",
      "-0.7702976334885304\n",
      "-0.7539444130309023\n",
      "-0.7528132118817503\n",
      "-0.7556604333525252\n",
      "-0.7564802678234237\n",
      "-0.7697745933874937\n",
      "-0.7489511888631533\n",
      "-0.7169813451405082\n",
      "-0.7467738990337904\n",
      "-0.7700764960047574\n",
      "-0.7528749207926685\n",
      "-0.7746282725123186\n",
      "-0.7498531091418765\n",
      "-0.753277814545023\n",
      "-0.7465662030684076\n",
      "-0.7571727747525502\n",
      "-0.7422047337335422\n",
      "-0.7583622542617747\n",
      "-0.7163436749921333\n",
      "-0.760884949043629\n",
      "-0.7726426089941896\n",
      "-0.7648521594595169\n",
      "-0.7512169228737913\n",
      "-0.7598891898663187\n",
      "-0.730960488033357\n",
      "-0.7623371956236789\n",
      "-0.7603311909802719\n",
      "-0.7773450961431416\n",
      "-0.7660777975703967\n",
      "-0.7347152625340494\n",
      "-0.7542965764416282\n",
      "-0.7702329793295196\n",
      "-0.7255194156337119\n",
      "-0.7683060115595669\n",
      "-0.7693534391362726\n",
      "-0.766265650964247\n",
      "-0.7502937454601855\n",
      "-0.7200352968857214\n",
      "-0.7729329884996516\n",
      "-0.7871359088133831\n",
      "-0.7569107091469217\n",
      "-0.7477250110196592\n",
      "-0.7412372467417748\n",
      "-0.7526100089508659\n",
      "-0.7397192253741567\n",
      "-0.7556560684239413\n",
      "-0.7623482939507429\n"
     ]
    }
   ],
   "source": [
    "for t in trials:\n",
    "    print(t['result']['loss'])"
   ]
  },
  {
   "cell_type": "code",
   "execution_count": 266,
   "id": "7929a15a",
   "metadata": {},
   "outputs": [],
   "source": [
    "params={'ES_mindelta': 0.0001, 'ES_monitor': 'loss', 'ES_patience': 10, 'batch_size': 512, 'class_weights': None, 'dropout': 0.1, 'feature_drop': (), 'max_epochs': 2000, 'metric': 'accuracy', 'n_internal_layers': (1, {'layer_1_1_nodes': 100.0, 'layer_2_1_nodes': 100.0}), 'optimizer': {'adam_params': None, 'name': 'Adam'}}\n",
    "\n",
    "params={'ES_mindelta': 0.0001, 'ES_monitor': 'loss', 'ES_patience': 10, 'batch_size': 512,\\\n",
    "'dropout': 0.3,\\\n",
    "'max_epochs': 2000, 'metric': 'accuracy','class_weights': None,\\\n",
    "'n_internal_layers': (1, {'layer_1_1_nodes': 1200.0, 'layer_2_1_nodes': 200.0}),\\\n",
    "'optimizer': {'adam_params': None, 'name': 'Adam'}}"
   ]
  },
  {
   "cell_type": "code",
   "execution_count": 186,
   "id": "4f993345",
   "metadata": {},
   "outputs": [],
   "source": [
    "sorted_trials = sorted(trials, key=lambda x:x['result']['loss'])"
   ]
  },
  {
   "cell_type": "code",
   "execution_count": 187,
   "id": "4f13629b",
   "metadata": {},
   "outputs": [
    {
     "data": {
      "text/plain": [
       "[{'state': 2,\n",
       "  'tid': 42,\n",
       "  'spec': None,\n",
       "  'result': {'loss': -0.7871359088133831,\n",
       "   'status': 'ok',\n",
       "   'metrics': {'f2score': 0.7871359088133831},\n",
       "   'thresholds': [0.01,\n",
       "    0.01,\n",
       "    0.01,\n",
       "    0.01,\n",
       "    0.01,\n",
       "    0.01,\n",
       "    0.01,\n",
       "    0.01,\n",
       "    0.01,\n",
       "    0.01,\n",
       "    0.01,\n",
       "    0.01,\n",
       "    0.0,\n",
       "    0.01,\n",
       "    0.01,\n",
       "    0.01,\n",
       "    0.01],\n",
       "   'params': \"{'ES_mindelta': 0.0001, 'ES_monitor': 'val_loss', 'ES_patience': 10, 'batch_size': 512, 'class_weights': None, 'dropout': 0.1, 'feature_drop': (), 'max_epochs': 2000, 'metric': 'accuracy', 'n_internal_layers': (1, {'layer_1_1_nodes': 100.0, 'layer_2_1_nodes': 100.0}), 'optimizer': {'adam_params': None, 'name': 'Adam'}}\"},\n",
       "  'misc': {'tid': 42,\n",
       "   'cmd': ('domain_attachment', 'FMinIter_Domain'),\n",
       "   'workdir': None,\n",
       "   'idxs': {'ES_mindelta': [42],\n",
       "    'ES_monitor': [42],\n",
       "    'ES_patience': [42],\n",
       "    'adam_params': [42],\n",
       "    'batch_size': [42],\n",
       "    'dropout': [42],\n",
       "    'layer_1_0_nodes': [],\n",
       "    'layer_1_0_w_nodes': [],\n",
       "    'layer_1_1_nodes': [42],\n",
       "    'layer_1_1_w_nodes': [],\n",
       "    'layer_2_1_nodes': [42],\n",
       "    'layer_2_1_w_nodes': [],\n",
       "    'max_epochs': [42],\n",
       "    'metric': [42],\n",
       "    'n_internal_layers': [42],\n",
       "    'optimizer': [42]},\n",
       "   'vals': {'ES_mindelta': [0],\n",
       "    'ES_monitor': [0],\n",
       "    'ES_patience': [0],\n",
       "    'adam_params': [0],\n",
       "    'batch_size': [0],\n",
       "    'dropout': [1],\n",
       "    'layer_1_0_nodes': [],\n",
       "    'layer_1_0_w_nodes': [],\n",
       "    'layer_1_1_nodes': [100.0],\n",
       "    'layer_1_1_w_nodes': [],\n",
       "    'layer_2_1_nodes': [100.0],\n",
       "    'layer_2_1_w_nodes': [],\n",
       "    'max_epochs': [0],\n",
       "    'metric': [0],\n",
       "    'n_internal_layers': [3],\n",
       "    'optimizer': [0]}},\n",
       "  'exp_key': None,\n",
       "  'owner': None,\n",
       "  'version': 0,\n",
       "  'book_time': datetime.datetime(2022, 3, 28, 18, 25, 15, 670000),\n",
       "  'refresh_time': datetime.datetime(2022, 3, 28, 18, 26, 31, 611000)},\n",
       " {'state': 2,\n",
       "  'tid': 1,\n",
       "  'spec': None,\n",
       "  'result': {'loss': -0.7787216593563283,\n",
       "   'status': 'ok',\n",
       "   'metrics': {'f2score': 0.7787216593563283},\n",
       "   'thresholds': [0.01,\n",
       "    0.01,\n",
       "    0.01,\n",
       "    0.01,\n",
       "    0.01,\n",
       "    0.0,\n",
       "    0.02,\n",
       "    0.01,\n",
       "    0.01,\n",
       "    0.01,\n",
       "    0.01,\n",
       "    0.01,\n",
       "    0.06,\n",
       "    0.01,\n",
       "    0.01,\n",
       "    0.01,\n",
       "    0.01],\n",
       "   'params': \"{'ES_mindelta': 0.0001, 'ES_monitor': 'val_loss', 'ES_patience': 10, 'batch_size': 512, 'class_weights': None, 'dropout': 0.3, 'feature_drop': (), 'max_epochs': 2000, 'metric': 'accuracy', 'n_internal_layers': (0, {'layer_1_0_nodes': 60.0}), 'optimizer': {'adam_params': None, 'name': 'Adam'}}\"},\n",
       "  'misc': {'tid': 1,\n",
       "   'cmd': ('domain_attachment', 'FMinIter_Domain'),\n",
       "   'workdir': None,\n",
       "   'idxs': {'ES_mindelta': [1],\n",
       "    'ES_monitor': [1],\n",
       "    'ES_patience': [1],\n",
       "    'adam_params': [1],\n",
       "    'batch_size': [1],\n",
       "    'dropout': [1],\n",
       "    'layer_1_0_nodes': [1],\n",
       "    'layer_1_0_w_nodes': [],\n",
       "    'layer_1_1_nodes': [],\n",
       "    'layer_1_1_w_nodes': [],\n",
       "    'layer_2_1_nodes': [],\n",
       "    'layer_2_1_w_nodes': [],\n",
       "    'max_epochs': [1],\n",
       "    'metric': [1],\n",
       "    'n_internal_layers': [1],\n",
       "    'optimizer': [1]},\n",
       "   'vals': {'ES_mindelta': [0],\n",
       "    'ES_monitor': [0],\n",
       "    'ES_patience': [0],\n",
       "    'adam_params': [0],\n",
       "    'batch_size': [0],\n",
       "    'dropout': [3],\n",
       "    'layer_1_0_nodes': [60.0],\n",
       "    'layer_1_0_w_nodes': [],\n",
       "    'layer_1_1_nodes': [],\n",
       "    'layer_1_1_w_nodes': [],\n",
       "    'layer_2_1_nodes': [],\n",
       "    'layer_2_1_w_nodes': [],\n",
       "    'max_epochs': [0],\n",
       "    'metric': [0],\n",
       "    'n_internal_layers': [2],\n",
       "    'optimizer': [0]}},\n",
       "  'exp_key': None,\n",
       "  'owner': None,\n",
       "  'version': 0,\n",
       "  'book_time': datetime.datetime(2022, 3, 28, 17, 31, 1, 628000),\n",
       "  'refresh_time': datetime.datetime(2022, 3, 28, 17, 32, 23, 389000)},\n",
       " {'state': 2,\n",
       "  'tid': 30,\n",
       "  'spec': None,\n",
       "  'result': {'loss': -0.7773450961431416,\n",
       "   'status': 'ok',\n",
       "   'metrics': {'f2score': 0.7773450961431416},\n",
       "   'thresholds': [0.01,\n",
       "    0.01,\n",
       "    0.01,\n",
       "    0.01,\n",
       "    0.02,\n",
       "    0.0,\n",
       "    0.03,\n",
       "    0.02,\n",
       "    0.01,\n",
       "    0.01,\n",
       "    0.01,\n",
       "    0.01,\n",
       "    0.04,\n",
       "    0.01,\n",
       "    0.01,\n",
       "    0.01,\n",
       "    0.01],\n",
       "   'params': \"{'ES_mindelta': 0.0001, 'ES_monitor': 'val_loss', 'ES_patience': 10, 'batch_size': 512, 'class_weights': None, 'dropout': 0.3, 'feature_drop': (), 'max_epochs': 2000, 'metric': 'accuracy', 'n_internal_layers': (0, {'layer_1_0_nodes': 40.0}), 'optimizer': {'adam_params': None, 'name': 'Adam'}}\"},\n",
       "  'misc': {'tid': 30,\n",
       "   'cmd': ('domain_attachment', 'FMinIter_Domain'),\n",
       "   'workdir': None,\n",
       "   'idxs': {'ES_mindelta': [30],\n",
       "    'ES_monitor': [30],\n",
       "    'ES_patience': [30],\n",
       "    'adam_params': [30],\n",
       "    'batch_size': [30],\n",
       "    'dropout': [30],\n",
       "    'layer_1_0_nodes': [30],\n",
       "    'layer_1_0_w_nodes': [],\n",
       "    'layer_1_1_nodes': [],\n",
       "    'layer_1_1_w_nodes': [],\n",
       "    'layer_2_1_nodes': [],\n",
       "    'layer_2_1_w_nodes': [],\n",
       "    'max_epochs': [30],\n",
       "    'metric': [30],\n",
       "    'n_internal_layers': [30],\n",
       "    'optimizer': [30]},\n",
       "   'vals': {'ES_mindelta': [0],\n",
       "    'ES_monitor': [0],\n",
       "    'ES_patience': [0],\n",
       "    'adam_params': [0],\n",
       "    'batch_size': [0],\n",
       "    'dropout': [3],\n",
       "    'layer_1_0_nodes': [40.0],\n",
       "    'layer_1_0_w_nodes': [],\n",
       "    'layer_1_1_nodes': [],\n",
       "    'layer_1_1_w_nodes': [],\n",
       "    'layer_2_1_nodes': [],\n",
       "    'layer_2_1_w_nodes': [],\n",
       "    'max_epochs': [0],\n",
       "    'metric': [0],\n",
       "    'n_internal_layers': [2],\n",
       "    'optimizer': [0]}},\n",
       "  'exp_key': None,\n",
       "  'owner': None,\n",
       "  'version': 0,\n",
       "  'book_time': datetime.datetime(2022, 3, 28, 18, 8, 54, 700000),\n",
       "  'refresh_time': datetime.datetime(2022, 3, 28, 18, 10, 16, 513000)},\n",
       " {'state': 2,\n",
       "  'tid': 14,\n",
       "  'spec': None,\n",
       "  'result': {'loss': -0.7746282725123186,\n",
       "   'status': 'ok',\n",
       "   'metrics': {'f2score': 0.7746282725123186},\n",
       "   'thresholds': [0.01,\n",
       "    0.01,\n",
       "    0.01,\n",
       "    0.01,\n",
       "    0.01,\n",
       "    0.0,\n",
       "    0.01,\n",
       "    0.01,\n",
       "    0.01,\n",
       "    0.01,\n",
       "    0.01,\n",
       "    0.01,\n",
       "    0.0,\n",
       "    0.01,\n",
       "    0.01,\n",
       "    0.01,\n",
       "    0.01],\n",
       "   'params': \"{'ES_mindelta': 0.0001, 'ES_monitor': 'val_loss', 'ES_patience': 10, 'batch_size': 512, 'class_weights': None, 'dropout': 0.2, 'feature_drop': (), 'max_epochs': 2000, 'metric': 'accuracy', 'n_internal_layers': (0, {'layer_1_0_nodes': 800.0}), 'optimizer': {'adam_params': None, 'name': 'Adam'}}\"},\n",
       "  'misc': {'tid': 14,\n",
       "   'cmd': ('domain_attachment', 'FMinIter_Domain'),\n",
       "   'workdir': None,\n",
       "   'idxs': {'ES_mindelta': [14],\n",
       "    'ES_monitor': [14],\n",
       "    'ES_patience': [14],\n",
       "    'adam_params': [14],\n",
       "    'batch_size': [14],\n",
       "    'dropout': [14],\n",
       "    'layer_1_0_nodes': [],\n",
       "    'layer_1_0_w_nodes': [14],\n",
       "    'layer_1_1_nodes': [],\n",
       "    'layer_1_1_w_nodes': [],\n",
       "    'layer_2_1_nodes': [],\n",
       "    'layer_2_1_w_nodes': [],\n",
       "    'max_epochs': [14],\n",
       "    'metric': [14],\n",
       "    'n_internal_layers': [14],\n",
       "    'optimizer': [14]},\n",
       "   'vals': {'ES_mindelta': [0],\n",
       "    'ES_monitor': [0],\n",
       "    'ES_patience': [0],\n",
       "    'adam_params': [0],\n",
       "    'batch_size': [0],\n",
       "    'dropout': [2],\n",
       "    'layer_1_0_nodes': [],\n",
       "    'layer_1_0_w_nodes': [800.0],\n",
       "    'layer_1_1_nodes': [],\n",
       "    'layer_1_1_w_nodes': [],\n",
       "    'layer_2_1_nodes': [],\n",
       "    'layer_2_1_w_nodes': [],\n",
       "    'max_epochs': [0],\n",
       "    'metric': [0],\n",
       "    'n_internal_layers': [0],\n",
       "    'optimizer': [0]}},\n",
       "  'exp_key': None,\n",
       "  'owner': None,\n",
       "  'version': 0,\n",
       "  'book_time': datetime.datetime(2022, 3, 28, 17, 47, 47, 844000),\n",
       "  'refresh_time': datetime.datetime(2022, 3, 28, 17, 49, 1, 908000)},\n",
       " {'state': 2,\n",
       "  'tid': 41,\n",
       "  'spec': None,\n",
       "  'result': {'loss': -0.7729329884996516,\n",
       "   'status': 'ok',\n",
       "   'metrics': {'f2score': 0.7729329884996516},\n",
       "   'thresholds': [0.01,\n",
       "    0.01,\n",
       "    0.01,\n",
       "    0.01,\n",
       "    0.04,\n",
       "    0.0,\n",
       "    0.04,\n",
       "    0.02,\n",
       "    0.01,\n",
       "    0.01,\n",
       "    0.01,\n",
       "    0.01,\n",
       "    0.0,\n",
       "    0.01,\n",
       "    0.02,\n",
       "    0.02,\n",
       "    0.01],\n",
       "   'params': \"{'ES_mindelta': 0.0001, 'ES_monitor': 'val_loss', 'ES_patience': 10, 'batch_size': 512, 'class_weights': None, 'dropout': 0.3, 'feature_drop': (), 'max_epochs': 2000, 'metric': 'accuracy', 'n_internal_layers': (0, {'layer_1_0_nodes': 30.0}), 'optimizer': {'adam_params': None, 'name': 'Adam'}}\"},\n",
       "  'misc': {'tid': 41,\n",
       "   'cmd': ('domain_attachment', 'FMinIter_Domain'),\n",
       "   'workdir': None,\n",
       "   'idxs': {'ES_mindelta': [41],\n",
       "    'ES_monitor': [41],\n",
       "    'ES_patience': [41],\n",
       "    'adam_params': [41],\n",
       "    'batch_size': [41],\n",
       "    'dropout': [41],\n",
       "    'layer_1_0_nodes': [41],\n",
       "    'layer_1_0_w_nodes': [],\n",
       "    'layer_1_1_nodes': [],\n",
       "    'layer_1_1_w_nodes': [],\n",
       "    'layer_2_1_nodes': [],\n",
       "    'layer_2_1_w_nodes': [],\n",
       "    'max_epochs': [41],\n",
       "    'metric': [41],\n",
       "    'n_internal_layers': [41],\n",
       "    'optimizer': [41]},\n",
       "   'vals': {'ES_mindelta': [0],\n",
       "    'ES_monitor': [0],\n",
       "    'ES_patience': [0],\n",
       "    'adam_params': [0],\n",
       "    'batch_size': [0],\n",
       "    'dropout': [3],\n",
       "    'layer_1_0_nodes': [30.0],\n",
       "    'layer_1_0_w_nodes': [],\n",
       "    'layer_1_1_nodes': [],\n",
       "    'layer_1_1_w_nodes': [],\n",
       "    'layer_2_1_nodes': [],\n",
       "    'layer_2_1_w_nodes': [],\n",
       "    'max_epochs': [0],\n",
       "    'metric': [0],\n",
       "    'n_internal_layers': [2],\n",
       "    'optimizer': [0]}},\n",
       "  'exp_key': None,\n",
       "  'owner': None,\n",
       "  'version': 0,\n",
       "  'book_time': datetime.datetime(2022, 3, 28, 18, 23, 56, 735000),\n",
       "  'refresh_time': datetime.datetime(2022, 3, 28, 18, 25, 15, 625000)},\n",
       " {'state': 2,\n",
       "  'tid': 23,\n",
       "  'spec': None,\n",
       "  'result': {'loss': -0.7726426089941896,\n",
       "   'status': 'ok',\n",
       "   'metrics': {'f2score': 0.7726426089941896},\n",
       "   'thresholds': [0.0,\n",
       "    0.01,\n",
       "    0.01,\n",
       "    0.01,\n",
       "    0.01,\n",
       "    0.0,\n",
       "    0.01,\n",
       "    0.01,\n",
       "    0.01,\n",
       "    0.01,\n",
       "    0.01,\n",
       "    0.01,\n",
       "    0.0,\n",
       "    0.01,\n",
       "    0.01,\n",
       "    0.01,\n",
       "    0.01],\n",
       "   'params': \"{'ES_mindelta': 0.0001, 'ES_monitor': 'val_loss', 'ES_patience': 10, 'batch_size': 512, 'class_weights': None, 'dropout': 0.3, 'feature_drop': (), 'max_epochs': 2000, 'metric': 'accuracy', 'n_internal_layers': (1, {'layer_1_1_nodes': 2100.0, 'layer_2_1_nodes': 400.0}), 'optimizer': {'adam_params': None, 'name': 'Adam'}}\"},\n",
       "  'misc': {'tid': 23,\n",
       "   'cmd': ('domain_attachment', 'FMinIter_Domain'),\n",
       "   'workdir': None,\n",
       "   'idxs': {'ES_mindelta': [23],\n",
       "    'ES_monitor': [23],\n",
       "    'ES_patience': [23],\n",
       "    'adam_params': [23],\n",
       "    'batch_size': [23],\n",
       "    'dropout': [23],\n",
       "    'layer_1_0_nodes': [],\n",
       "    'layer_1_0_w_nodes': [],\n",
       "    'layer_1_1_nodes': [],\n",
       "    'layer_1_1_w_nodes': [23],\n",
       "    'layer_2_1_nodes': [],\n",
       "    'layer_2_1_w_nodes': [23],\n",
       "    'max_epochs': [23],\n",
       "    'metric': [23],\n",
       "    'n_internal_layers': [23],\n",
       "    'optimizer': [23]},\n",
       "   'vals': {'ES_mindelta': [0],\n",
       "    'ES_monitor': [0],\n",
       "    'ES_patience': [0],\n",
       "    'adam_params': [0],\n",
       "    'batch_size': [0],\n",
       "    'dropout': [3],\n",
       "    'layer_1_0_nodes': [],\n",
       "    'layer_1_0_w_nodes': [],\n",
       "    'layer_1_1_nodes': [],\n",
       "    'layer_1_1_w_nodes': [2100.0],\n",
       "    'layer_2_1_nodes': [],\n",
       "    'layer_2_1_w_nodes': [400.0],\n",
       "    'max_epochs': [0],\n",
       "    'metric': [0],\n",
       "    'n_internal_layers': [1],\n",
       "    'optimizer': [0]}},\n",
       "  'exp_key': None,\n",
       "  'owner': None,\n",
       "  'version': 0,\n",
       "  'book_time': datetime.datetime(2022, 3, 28, 17, 59, 27, 359000),\n",
       "  'refresh_time': datetime.datetime(2022, 3, 28, 18, 0, 47, 211000)},\n",
       " {'state': 2,\n",
       "  'tid': 3,\n",
       "  'spec': None,\n",
       "  'result': {'loss': -0.7702976334885304,\n",
       "   'status': 'ok',\n",
       "   'metrics': {'f2score': 0.7702976334885304},\n",
       "   'thresholds': [0.01,\n",
       "    0.01,\n",
       "    0.01,\n",
       "    0.01,\n",
       "    0.01,\n",
       "    0.0,\n",
       "    0.01,\n",
       "    0.01,\n",
       "    0.01,\n",
       "    0.01,\n",
       "    0.01,\n",
       "    0.01,\n",
       "    0.02,\n",
       "    0.01,\n",
       "    0.01,\n",
       "    0.01,\n",
       "    0.01],\n",
       "   'params': \"{'ES_mindelta': 0.0001, 'ES_monitor': 'val_loss', 'ES_patience': 10, 'batch_size': 512, 'class_weights': None, 'dropout': 0.3, 'feature_drop': (), 'max_epochs': 2000, 'metric': 'accuracy', 'n_internal_layers': (0, {'layer_1_0_nodes': 400.0}), 'optimizer': {'adam_params': None, 'name': 'Adam'}}\"},\n",
       "  'misc': {'tid': 3,\n",
       "   'cmd': ('domain_attachment', 'FMinIter_Domain'),\n",
       "   'workdir': None,\n",
       "   'idxs': {'ES_mindelta': [3],\n",
       "    'ES_monitor': [3],\n",
       "    'ES_patience': [3],\n",
       "    'adam_params': [3],\n",
       "    'batch_size': [3],\n",
       "    'dropout': [3],\n",
       "    'layer_1_0_nodes': [],\n",
       "    'layer_1_0_w_nodes': [3],\n",
       "    'layer_1_1_nodes': [],\n",
       "    'layer_1_1_w_nodes': [],\n",
       "    'layer_2_1_nodes': [],\n",
       "    'layer_2_1_w_nodes': [],\n",
       "    'max_epochs': [3],\n",
       "    'metric': [3],\n",
       "    'n_internal_layers': [3],\n",
       "    'optimizer': [3]},\n",
       "   'vals': {'ES_mindelta': [0],\n",
       "    'ES_monitor': [0],\n",
       "    'ES_patience': [0],\n",
       "    'adam_params': [0],\n",
       "    'batch_size': [0],\n",
       "    'dropout': [3],\n",
       "    'layer_1_0_nodes': [],\n",
       "    'layer_1_0_w_nodes': [400.0],\n",
       "    'layer_1_1_nodes': [],\n",
       "    'layer_1_1_w_nodes': [],\n",
       "    'layer_2_1_nodes': [],\n",
       "    'layer_2_1_w_nodes': [],\n",
       "    'max_epochs': [0],\n",
       "    'metric': [0],\n",
       "    'n_internal_layers': [0],\n",
       "    'optimizer': [0]}},\n",
       "  'exp_key': None,\n",
       "  'owner': None,\n",
       "  'version': 0,\n",
       "  'book_time': datetime.datetime(2022, 3, 28, 17, 33, 43, 481000),\n",
       "  'refresh_time': datetime.datetime(2022, 3, 28, 17, 34, 57, 275000)},\n",
       " {'state': 2,\n",
       "  'tid': 34,\n",
       "  'spec': None,\n",
       "  'result': {'loss': -0.7702329793295196,\n",
       "   'status': 'ok',\n",
       "   'metrics': {'f2score': 0.7702329793295196},\n",
       "   'thresholds': [0.01,\n",
       "    0.01,\n",
       "    0.01,\n",
       "    0.01,\n",
       "    0.01,\n",
       "    0.0,\n",
       "    0.02,\n",
       "    0.01,\n",
       "    0.01,\n",
       "    0.01,\n",
       "    0.01,\n",
       "    0.01,\n",
       "    0.11,\n",
       "    0.01,\n",
       "    0.01,\n",
       "    0.02,\n",
       "    0.01],\n",
       "   'params': \"{'ES_mindelta': 0.0001, 'ES_monitor': 'val_loss', 'ES_patience': 10, 'batch_size': 512, 'class_weights': None, 'dropout': 0.3, 'feature_drop': (), 'max_epochs': 2000, 'metric': 'accuracy', 'n_internal_layers': (0, {'layer_1_0_nodes': 60.0}), 'optimizer': {'adam_params': None, 'name': 'Adam'}}\"},\n",
       "  'misc': {'tid': 34,\n",
       "   'cmd': ('domain_attachment', 'FMinIter_Domain'),\n",
       "   'workdir': None,\n",
       "   'idxs': {'ES_mindelta': [34],\n",
       "    'ES_monitor': [34],\n",
       "    'ES_patience': [34],\n",
       "    'adam_params': [34],\n",
       "    'batch_size': [34],\n",
       "    'dropout': [34],\n",
       "    'layer_1_0_nodes': [34],\n",
       "    'layer_1_0_w_nodes': [],\n",
       "    'layer_1_1_nodes': [],\n",
       "    'layer_1_1_w_nodes': [],\n",
       "    'layer_2_1_nodes': [],\n",
       "    'layer_2_1_w_nodes': [],\n",
       "    'max_epochs': [34],\n",
       "    'metric': [34],\n",
       "    'n_internal_layers': [34],\n",
       "    'optimizer': [34]},\n",
       "   'vals': {'ES_mindelta': [0],\n",
       "    'ES_monitor': [0],\n",
       "    'ES_patience': [0],\n",
       "    'adam_params': [0],\n",
       "    'batch_size': [0],\n",
       "    'dropout': [3],\n",
       "    'layer_1_0_nodes': [60.0],\n",
       "    'layer_1_0_w_nodes': [],\n",
       "    'layer_1_1_nodes': [],\n",
       "    'layer_1_1_w_nodes': [],\n",
       "    'layer_2_1_nodes': [],\n",
       "    'layer_2_1_w_nodes': [],\n",
       "    'max_epochs': [0],\n",
       "    'metric': [0],\n",
       "    'n_internal_layers': [2],\n",
       "    'optimizer': [0]}},\n",
       "  'exp_key': None,\n",
       "  'owner': None,\n",
       "  'version': 0,\n",
       "  'book_time': datetime.datetime(2022, 3, 28, 18, 14, 22, 828000),\n",
       "  'refresh_time': datetime.datetime(2022, 3, 28, 18, 15, 38, 415000)},\n",
       " {'state': 2,\n",
       "  'tid': 12,\n",
       "  'spec': None,\n",
       "  'result': {'loss': -0.7700764960047574,\n",
       "   'status': 'ok',\n",
       "   'metrics': {'f2score': 0.7700764960047574},\n",
       "   'thresholds': [0.01,\n",
       "    0.03,\n",
       "    0.01,\n",
       "    0.01,\n",
       "    0.01,\n",
       "    0.0,\n",
       "    0.03,\n",
       "    0.01,\n",
       "    0.01,\n",
       "    0.01,\n",
       "    0.01,\n",
       "    0.01,\n",
       "    0.01,\n",
       "    0.01,\n",
       "    0.01,\n",
       "    0.01,\n",
       "    0.01],\n",
       "   'params': \"{'ES_mindelta': 0.0001, 'ES_monitor': 'val_loss', 'ES_patience': 10, 'batch_size': 512, 'class_weights': None, 'dropout': 0.1, 'feature_drop': (), 'max_epochs': 2000, 'metric': 'accuracy', 'n_internal_layers': (1, {'layer_1_1_nodes': 70.0, 'layer_2_1_nodes': 50.0}), 'optimizer': {'adam_params': None, 'name': 'Adam'}}\"},\n",
       "  'misc': {'tid': 12,\n",
       "   'cmd': ('domain_attachment', 'FMinIter_Domain'),\n",
       "   'workdir': None,\n",
       "   'idxs': {'ES_mindelta': [12],\n",
       "    'ES_monitor': [12],\n",
       "    'ES_patience': [12],\n",
       "    'adam_params': [12],\n",
       "    'batch_size': [12],\n",
       "    'dropout': [12],\n",
       "    'layer_1_0_nodes': [],\n",
       "    'layer_1_0_w_nodes': [],\n",
       "    'layer_1_1_nodes': [12],\n",
       "    'layer_1_1_w_nodes': [],\n",
       "    'layer_2_1_nodes': [12],\n",
       "    'layer_2_1_w_nodes': [],\n",
       "    'max_epochs': [12],\n",
       "    'metric': [12],\n",
       "    'n_internal_layers': [12],\n",
       "    'optimizer': [12]},\n",
       "   'vals': {'ES_mindelta': [0],\n",
       "    'ES_monitor': [0],\n",
       "    'ES_patience': [0],\n",
       "    'adam_params': [0],\n",
       "    'batch_size': [0],\n",
       "    'dropout': [1],\n",
       "    'layer_1_0_nodes': [],\n",
       "    'layer_1_0_w_nodes': [],\n",
       "    'layer_1_1_nodes': [70.0],\n",
       "    'layer_1_1_w_nodes': [],\n",
       "    'layer_2_1_nodes': [50.0],\n",
       "    'layer_2_1_w_nodes': [],\n",
       "    'max_epochs': [0],\n",
       "    'metric': [0],\n",
       "    'n_internal_layers': [3],\n",
       "    'optimizer': [0]}},\n",
       "  'exp_key': None,\n",
       "  'owner': None,\n",
       "  'version': 0,\n",
       "  'book_time': datetime.datetime(2022, 3, 28, 17, 45, 17, 255000),\n",
       "  'refresh_time': datetime.datetime(2022, 3, 28, 17, 46, 33, 576000)},\n",
       " {'state': 2,\n",
       "  'tid': 8,\n",
       "  'spec': None,\n",
       "  'result': {'loss': -0.7697745933874937,\n",
       "   'status': 'ok',\n",
       "   'metrics': {'f2score': 0.7697745933874937},\n",
       "   'thresholds': [0.01,\n",
       "    0.01,\n",
       "    0.01,\n",
       "    0.01,\n",
       "    0.01,\n",
       "    0.0,\n",
       "    0.01,\n",
       "    0.01,\n",
       "    0.01,\n",
       "    0.01,\n",
       "    0.01,\n",
       "    0.01,\n",
       "    0.02,\n",
       "    0.01,\n",
       "    0.01,\n",
       "    0.01,\n",
       "    0.01],\n",
       "   'params': \"{'ES_mindelta': 0.0001, 'ES_monitor': 'val_loss', 'ES_patience': 10, 'batch_size': 512, 'class_weights': None, 'dropout': 0.2, 'feature_drop': (), 'max_epochs': 2000, 'metric': 'accuracy', 'n_internal_layers': (0, {'layer_1_0_nodes': 400.0}), 'optimizer': {'adam_params': None, 'name': 'Adam'}}\"},\n",
       "  'misc': {'tid': 8,\n",
       "   'cmd': ('domain_attachment', 'FMinIter_Domain'),\n",
       "   'workdir': None,\n",
       "   'idxs': {'ES_mindelta': [8],\n",
       "    'ES_monitor': [8],\n",
       "    'ES_patience': [8],\n",
       "    'adam_params': [8],\n",
       "    'batch_size': [8],\n",
       "    'dropout': [8],\n",
       "    'layer_1_0_nodes': [],\n",
       "    'layer_1_0_w_nodes': [8],\n",
       "    'layer_1_1_nodes': [],\n",
       "    'layer_1_1_w_nodes': [],\n",
       "    'layer_2_1_nodes': [],\n",
       "    'layer_2_1_w_nodes': [],\n",
       "    'max_epochs': [8],\n",
       "    'metric': [8],\n",
       "    'n_internal_layers': [8],\n",
       "    'optimizer': [8]},\n",
       "   'vals': {'ES_mindelta': [0],\n",
       "    'ES_monitor': [0],\n",
       "    'ES_patience': [0],\n",
       "    'adam_params': [0],\n",
       "    'batch_size': [0],\n",
       "    'dropout': [2],\n",
       "    'layer_1_0_nodes': [],\n",
       "    'layer_1_0_w_nodes': [400.0],\n",
       "    'layer_1_1_nodes': [],\n",
       "    'layer_1_1_w_nodes': [],\n",
       "    'layer_2_1_nodes': [],\n",
       "    'layer_2_1_w_nodes': [],\n",
       "    'max_epochs': [0],\n",
       "    'metric': [0],\n",
       "    'n_internal_layers': [0],\n",
       "    'optimizer': [0]}},\n",
       "  'exp_key': None,\n",
       "  'owner': None,\n",
       "  'version': 0,\n",
       "  'book_time': datetime.datetime(2022, 3, 28, 17, 40, 12, 576000),\n",
       "  'refresh_time': datetime.datetime(2022, 3, 28, 17, 41, 26, 187000)},\n",
       " {'state': 2,\n",
       "  'tid': 37,\n",
       "  'spec': None,\n",
       "  'result': {'loss': -0.7693534391362726,\n",
       "   'status': 'ok',\n",
       "   'metrics': {'f2score': 0.7693534391362726},\n",
       "   'thresholds': [0.0,\n",
       "    0.01,\n",
       "    0.01,\n",
       "    0.01,\n",
       "    0.01,\n",
       "    0.0,\n",
       "    0.01,\n",
       "    0.01,\n",
       "    0.01,\n",
       "    0.01,\n",
       "    0.01,\n",
       "    0.01,\n",
       "    0.0,\n",
       "    0.01,\n",
       "    0.01,\n",
       "    0.01,\n",
       "    0.01],\n",
       "   'params': \"{'ES_mindelta': 0.0001, 'ES_monitor': 'val_loss', 'ES_patience': 10, 'batch_size': 512, 'class_weights': None, 'dropout': 0.3, 'feature_drop': (), 'max_epochs': 2000, 'metric': 'accuracy', 'n_internal_layers': (1, {'layer_1_1_nodes': 1300.0, 'layer_2_1_nodes': 100.0}), 'optimizer': {'adam_params': None, 'name': 'Adam'}}\"},\n",
       "  'misc': {'tid': 37,\n",
       "   'cmd': ('domain_attachment', 'FMinIter_Domain'),\n",
       "   'workdir': None,\n",
       "   'idxs': {'ES_mindelta': [37],\n",
       "    'ES_monitor': [37],\n",
       "    'ES_patience': [37],\n",
       "    'adam_params': [37],\n",
       "    'batch_size': [37],\n",
       "    'dropout': [37],\n",
       "    'layer_1_0_nodes': [],\n",
       "    'layer_1_0_w_nodes': [],\n",
       "    'layer_1_1_nodes': [],\n",
       "    'layer_1_1_w_nodes': [37],\n",
       "    'layer_2_1_nodes': [],\n",
       "    'layer_2_1_w_nodes': [37],\n",
       "    'max_epochs': [37],\n",
       "    'metric': [37],\n",
       "    'n_internal_layers': [37],\n",
       "    'optimizer': [37]},\n",
       "   'vals': {'ES_mindelta': [0],\n",
       "    'ES_monitor': [0],\n",
       "    'ES_patience': [0],\n",
       "    'adam_params': [0],\n",
       "    'batch_size': [0],\n",
       "    'dropout': [3],\n",
       "    'layer_1_0_nodes': [],\n",
       "    'layer_1_0_w_nodes': [],\n",
       "    'layer_1_1_nodes': [],\n",
       "    'layer_1_1_w_nodes': [1300.0],\n",
       "    'layer_2_1_nodes': [],\n",
       "    'layer_2_1_w_nodes': [100.0],\n",
       "    'max_epochs': [0],\n",
       "    'metric': [0],\n",
       "    'n_internal_layers': [1],\n",
       "    'optimizer': [0]}},\n",
       "  'exp_key': None,\n",
       "  'owner': None,\n",
       "  'version': 0,\n",
       "  'book_time': datetime.datetime(2022, 3, 28, 18, 18, 30, 234000),\n",
       "  'refresh_time': datetime.datetime(2022, 3, 28, 18, 19, 47, 236000)},\n",
       " {'state': 2,\n",
       "  'tid': 2,\n",
       "  'spec': None,\n",
       "  'result': {'loss': -0.769078807237902,\n",
       "   'status': 'ok',\n",
       "   'metrics': {'f2score': 0.769078807237902},\n",
       "   'thresholds': [0.01,\n",
       "    0.01,\n",
       "    0.01,\n",
       "    0.01,\n",
       "    0.01,\n",
       "    0.0,\n",
       "    0.05,\n",
       "    0.01,\n",
       "    0.01,\n",
       "    0.01,\n",
       "    0.01,\n",
       "    0.01,\n",
       "    0.04,\n",
       "    0.01,\n",
       "    0.01,\n",
       "    0.01,\n",
       "    0.01],\n",
       "   'params': \"{'ES_mindelta': 0.0001, 'ES_monitor': 'val_loss', 'ES_patience': 10, 'batch_size': 512, 'class_weights': None, 'dropout': 0.3, 'feature_drop': (), 'max_epochs': 2000, 'metric': 'accuracy', 'n_internal_layers': (0, {'layer_1_0_nodes': 60.0}), 'optimizer': {'adam_params': None, 'name': 'Adam'}}\"},\n",
       "  'misc': {'tid': 2,\n",
       "   'cmd': ('domain_attachment', 'FMinIter_Domain'),\n",
       "   'workdir': None,\n",
       "   'idxs': {'ES_mindelta': [2],\n",
       "    'ES_monitor': [2],\n",
       "    'ES_patience': [2],\n",
       "    'adam_params': [2],\n",
       "    'batch_size': [2],\n",
       "    'dropout': [2],\n",
       "    'layer_1_0_nodes': [2],\n",
       "    'layer_1_0_w_nodes': [],\n",
       "    'layer_1_1_nodes': [],\n",
       "    'layer_1_1_w_nodes': [],\n",
       "    'layer_2_1_nodes': [],\n",
       "    'layer_2_1_w_nodes': [],\n",
       "    'max_epochs': [2],\n",
       "    'metric': [2],\n",
       "    'n_internal_layers': [2],\n",
       "    'optimizer': [2]},\n",
       "   'vals': {'ES_mindelta': [0],\n",
       "    'ES_monitor': [0],\n",
       "    'ES_patience': [0],\n",
       "    'adam_params': [0],\n",
       "    'batch_size': [0],\n",
       "    'dropout': [3],\n",
       "    'layer_1_0_nodes': [60.0],\n",
       "    'layer_1_0_w_nodes': [],\n",
       "    'layer_1_1_nodes': [],\n",
       "    'layer_1_1_w_nodes': [],\n",
       "    'layer_2_1_nodes': [],\n",
       "    'layer_2_1_w_nodes': [],\n",
       "    'max_epochs': [0],\n",
       "    'metric': [0],\n",
       "    'n_internal_layers': [2],\n",
       "    'optimizer': [0]}},\n",
       "  'exp_key': None,\n",
       "  'owner': None,\n",
       "  'version': 0,\n",
       "  'book_time': datetime.datetime(2022, 3, 28, 17, 32, 23, 408000),\n",
       "  'refresh_time': datetime.datetime(2022, 3, 28, 17, 33, 43, 443000)},\n",
       " {'state': 2,\n",
       "  'tid': 36,\n",
       "  'spec': None,\n",
       "  'result': {'loss': -0.7683060115595669,\n",
       "   'status': 'ok',\n",
       "   'metrics': {'f2score': 0.7683060115595669},\n",
       "   'thresholds': [0.0,\n",
       "    0.01,\n",
       "    0.01,\n",
       "    0.01,\n",
       "    0.01,\n",
       "    0.0,\n",
       "    0.03,\n",
       "    0.01,\n",
       "    0.01,\n",
       "    0.01,\n",
       "    0.01,\n",
       "    0.01,\n",
       "    0.02,\n",
       "    0.01,\n",
       "    0.01,\n",
       "    0.01,\n",
       "    0.01],\n",
       "   'params': \"{'ES_mindelta': 0.0001, 'ES_monitor': 'val_loss', 'ES_patience': 10, 'batch_size': 512, 'class_weights': None, 'dropout': 0.3, 'feature_drop': (), 'max_epochs': 2000, 'metric': 'accuracy', 'n_internal_layers': (0, {'layer_1_0_nodes': 50.0}), 'optimizer': {'adam_params': None, 'name': 'Adam'}}\"},\n",
       "  'misc': {'tid': 36,\n",
       "   'cmd': ('domain_attachment', 'FMinIter_Domain'),\n",
       "   'workdir': None,\n",
       "   'idxs': {'ES_mindelta': [36],\n",
       "    'ES_monitor': [36],\n",
       "    'ES_patience': [36],\n",
       "    'adam_params': [36],\n",
       "    'batch_size': [36],\n",
       "    'dropout': [36],\n",
       "    'layer_1_0_nodes': [36],\n",
       "    'layer_1_0_w_nodes': [],\n",
       "    'layer_1_1_nodes': [],\n",
       "    'layer_1_1_w_nodes': [],\n",
       "    'layer_2_1_nodes': [],\n",
       "    'layer_2_1_w_nodes': [],\n",
       "    'max_epochs': [36],\n",
       "    'metric': [36],\n",
       "    'n_internal_layers': [36],\n",
       "    'optimizer': [36]},\n",
       "   'vals': {'ES_mindelta': [0],\n",
       "    'ES_monitor': [0],\n",
       "    'ES_patience': [0],\n",
       "    'adam_params': [0],\n",
       "    'batch_size': [0],\n",
       "    'dropout': [3],\n",
       "    'layer_1_0_nodes': [50.0],\n",
       "    'layer_1_0_w_nodes': [],\n",
       "    'layer_1_1_nodes': [],\n",
       "    'layer_1_1_w_nodes': [],\n",
       "    'layer_2_1_nodes': [],\n",
       "    'layer_2_1_w_nodes': [],\n",
       "    'max_epochs': [0],\n",
       "    'metric': [0],\n",
       "    'n_internal_layers': [2],\n",
       "    'optimizer': [0]}},\n",
       "  'exp_key': None,\n",
       "  'owner': None,\n",
       "  'version': 0,\n",
       "  'book_time': datetime.datetime(2022, 3, 28, 18, 17, 5, 149000),\n",
       "  'refresh_time': datetime.datetime(2022, 3, 28, 18, 18, 30, 204000)},\n",
       " {'state': 2,\n",
       "  'tid': 38,\n",
       "  'spec': None,\n",
       "  'result': {'loss': -0.766265650964247,\n",
       "   'status': 'ok',\n",
       "   'metrics': {'f2score': 0.766265650964247},\n",
       "   'thresholds': [0.01,\n",
       "    0.01,\n",
       "    0.01,\n",
       "    0.01,\n",
       "    0.01,\n",
       "    0.0,\n",
       "    0.03,\n",
       "    0.01,\n",
       "    0.01,\n",
       "    0.01,\n",
       "    0.01,\n",
       "    0.01,\n",
       "    0.01,\n",
       "    0.01,\n",
       "    0.01,\n",
       "    0.01,\n",
       "    0.01],\n",
       "   'params': \"{'ES_mindelta': 0.0001, 'ES_monitor': 'val_loss', 'ES_patience': 10, 'batch_size': 512, 'class_weights': None, 'dropout': None, 'feature_drop': (), 'max_epochs': 2000, 'metric': 'accuracy', 'n_internal_layers': (0, {'layer_1_0_nodes': 70.0}), 'optimizer': {'adam_params': None, 'name': 'Adam'}}\"},\n",
       "  'misc': {'tid': 38,\n",
       "   'cmd': ('domain_attachment', 'FMinIter_Domain'),\n",
       "   'workdir': None,\n",
       "   'idxs': {'ES_mindelta': [38],\n",
       "    'ES_monitor': [38],\n",
       "    'ES_patience': [38],\n",
       "    'adam_params': [38],\n",
       "    'batch_size': [38],\n",
       "    'dropout': [38],\n",
       "    'layer_1_0_nodes': [38],\n",
       "    'layer_1_0_w_nodes': [],\n",
       "    'layer_1_1_nodes': [],\n",
       "    'layer_1_1_w_nodes': [],\n",
       "    'layer_2_1_nodes': [],\n",
       "    'layer_2_1_w_nodes': [],\n",
       "    'max_epochs': [38],\n",
       "    'metric': [38],\n",
       "    'n_internal_layers': [38],\n",
       "    'optimizer': [38]},\n",
       "   'vals': {'ES_mindelta': [0],\n",
       "    'ES_monitor': [0],\n",
       "    'ES_patience': [0],\n",
       "    'adam_params': [0],\n",
       "    'batch_size': [0],\n",
       "    'dropout': [0],\n",
       "    'layer_1_0_nodes': [70.0],\n",
       "    'layer_1_0_w_nodes': [],\n",
       "    'layer_1_1_nodes': [],\n",
       "    'layer_1_1_w_nodes': [],\n",
       "    'layer_2_1_nodes': [],\n",
       "    'layer_2_1_w_nodes': [],\n",
       "    'max_epochs': [0],\n",
       "    'metric': [0],\n",
       "    'n_internal_layers': [2],\n",
       "    'optimizer': [0]}},\n",
       "  'exp_key': None,\n",
       "  'owner': None,\n",
       "  'version': 0,\n",
       "  'book_time': datetime.datetime(2022, 3, 28, 18, 19, 47, 318000),\n",
       "  'refresh_time': datetime.datetime(2022, 3, 28, 18, 21, 4, 510000)},\n",
       " {'state': 2,\n",
       "  'tid': 31,\n",
       "  'spec': None,\n",
       "  'result': {'loss': -0.7660777975703967,\n",
       "   'status': 'ok',\n",
       "   'metrics': {'f2score': 0.7660777975703967},\n",
       "   'thresholds': [0.01,\n",
       "    0.01,\n",
       "    0.01,\n",
       "    0.01,\n",
       "    0.01,\n",
       "    0.0,\n",
       "    0.03,\n",
       "    0.01,\n",
       "    0.01,\n",
       "    0.01,\n",
       "    0.01,\n",
       "    0.01,\n",
       "    0.01,\n",
       "    0.01,\n",
       "    0.01,\n",
       "    0.01,\n",
       "    0.01],\n",
       "   'params': \"{'ES_mindelta': 0.0001, 'ES_monitor': 'val_loss', 'ES_patience': 10, 'batch_size': 512, 'class_weights': None, 'dropout': 0.3, 'feature_drop': (), 'max_epochs': 2000, 'metric': 'accuracy', 'n_internal_layers': (0, {'layer_1_0_nodes': 40.0}), 'optimizer': {'adam_params': None, 'name': 'Adam'}}\"},\n",
       "  'misc': {'tid': 31,\n",
       "   'cmd': ('domain_attachment', 'FMinIter_Domain'),\n",
       "   'workdir': None,\n",
       "   'idxs': {'ES_mindelta': [31],\n",
       "    'ES_monitor': [31],\n",
       "    'ES_patience': [31],\n",
       "    'adam_params': [31],\n",
       "    'batch_size': [31],\n",
       "    'dropout': [31],\n",
       "    'layer_1_0_nodes': [31],\n",
       "    'layer_1_0_w_nodes': [],\n",
       "    'layer_1_1_nodes': [],\n",
       "    'layer_1_1_w_nodes': [],\n",
       "    'layer_2_1_nodes': [],\n",
       "    'layer_2_1_w_nodes': [],\n",
       "    'max_epochs': [31],\n",
       "    'metric': [31],\n",
       "    'n_internal_layers': [31],\n",
       "    'optimizer': [31]},\n",
       "   'vals': {'ES_mindelta': [0],\n",
       "    'ES_monitor': [0],\n",
       "    'ES_patience': [0],\n",
       "    'adam_params': [0],\n",
       "    'batch_size': [0],\n",
       "    'dropout': [3],\n",
       "    'layer_1_0_nodes': [40.0],\n",
       "    'layer_1_0_w_nodes': [],\n",
       "    'layer_1_1_nodes': [],\n",
       "    'layer_1_1_w_nodes': [],\n",
       "    'layer_2_1_nodes': [],\n",
       "    'layer_2_1_w_nodes': [],\n",
       "    'max_epochs': [0],\n",
       "    'metric': [0],\n",
       "    'n_internal_layers': [2],\n",
       "    'optimizer': [0]}},\n",
       "  'exp_key': None,\n",
       "  'owner': None,\n",
       "  'version': 0,\n",
       "  'book_time': datetime.datetime(2022, 3, 28, 18, 10, 16, 566000),\n",
       "  'refresh_time': datetime.datetime(2022, 3, 28, 18, 11, 41, 746000)},\n",
       " {'state': 2,\n",
       "  'tid': 24,\n",
       "  'spec': None,\n",
       "  'result': {'loss': -0.7648521594595169,\n",
       "   'status': 'ok',\n",
       "   'metrics': {'f2score': 0.7648521594595169},\n",
       "   'thresholds': [0.01,\n",
       "    0.01,\n",
       "    0.01,\n",
       "    0.01,\n",
       "    0.01,\n",
       "    0.0,\n",
       "    0.05,\n",
       "    0.01,\n",
       "    0.01,\n",
       "    0.01,\n",
       "    0.01,\n",
       "    0.01,\n",
       "    0.03,\n",
       "    0.01,\n",
       "    0.01,\n",
       "    0.01,\n",
       "    0.01],\n",
       "   'params': \"{'ES_mindelta': 0.0001, 'ES_monitor': 'val_loss', 'ES_patience': 10, 'batch_size': 512, 'class_weights': None, 'dropout': 0.2, 'feature_drop': (), 'max_epochs': 2000, 'metric': 'accuracy', 'n_internal_layers': (0, {'layer_1_0_nodes': 70.0}), 'optimizer': {'adam_params': None, 'name': 'Adam'}}\"},\n",
       "  'misc': {'tid': 24,\n",
       "   'cmd': ('domain_attachment', 'FMinIter_Domain'),\n",
       "   'workdir': None,\n",
       "   'idxs': {'ES_mindelta': [24],\n",
       "    'ES_monitor': [24],\n",
       "    'ES_patience': [24],\n",
       "    'adam_params': [24],\n",
       "    'batch_size': [24],\n",
       "    'dropout': [24],\n",
       "    'layer_1_0_nodes': [24],\n",
       "    'layer_1_0_w_nodes': [],\n",
       "    'layer_1_1_nodes': [],\n",
       "    'layer_1_1_w_nodes': [],\n",
       "    'layer_2_1_nodes': [],\n",
       "    'layer_2_1_w_nodes': [],\n",
       "    'max_epochs': [24],\n",
       "    'metric': [24],\n",
       "    'n_internal_layers': [24],\n",
       "    'optimizer': [24]},\n",
       "   'vals': {'ES_mindelta': [0],\n",
       "    'ES_monitor': [0],\n",
       "    'ES_patience': [0],\n",
       "    'adam_params': [0],\n",
       "    'batch_size': [0],\n",
       "    'dropout': [2],\n",
       "    'layer_1_0_nodes': [70.0],\n",
       "    'layer_1_0_w_nodes': [],\n",
       "    'layer_1_1_nodes': [],\n",
       "    'layer_1_1_w_nodes': [],\n",
       "    'layer_2_1_nodes': [],\n",
       "    'layer_2_1_w_nodes': [],\n",
       "    'max_epochs': [0],\n",
       "    'metric': [0],\n",
       "    'n_internal_layers': [2],\n",
       "    'optimizer': [0]}},\n",
       "  'exp_key': None,\n",
       "  'owner': None,\n",
       "  'version': 0,\n",
       "  'book_time': datetime.datetime(2022, 3, 28, 18, 0, 47, 257000),\n",
       "  'refresh_time': datetime.datetime(2022, 3, 28, 18, 2, 2, 447000)},\n",
       " {'state': 2,\n",
       "  'tid': 49,\n",
       "  'spec': None,\n",
       "  'result': {'loss': -0.7623482939507429,\n",
       "   'status': 'ok',\n",
       "   'metrics': {'f2score': 0.7623482939507429},\n",
       "   'thresholds': [0.0,\n",
       "    0.01,\n",
       "    0.01,\n",
       "    0.01,\n",
       "    0.01,\n",
       "    0.0,\n",
       "    0.01,\n",
       "    0.01,\n",
       "    0.01,\n",
       "    0.01,\n",
       "    0.01,\n",
       "    0.01,\n",
       "    0.04,\n",
       "    0.01,\n",
       "    0.01,\n",
       "    0.01,\n",
       "    0.01],\n",
       "   'params': \"{'ES_mindelta': 0.0001, 'ES_monitor': 'val_loss', 'ES_patience': 10, 'batch_size': 512, 'class_weights': None, 'dropout': 0.1, 'feature_drop': (), 'max_epochs': 2000, 'metric': 'accuracy', 'n_internal_layers': (1, {'layer_1_1_nodes': 80.0, 'layer_2_1_nodes': 70.0}), 'optimizer': {'adam_params': None, 'name': 'Adam'}}\"},\n",
       "  'misc': {'tid': 49,\n",
       "   'cmd': ('domain_attachment', 'FMinIter_Domain'),\n",
       "   'workdir': None,\n",
       "   'idxs': {'ES_mindelta': [49],\n",
       "    'ES_monitor': [49],\n",
       "    'ES_patience': [49],\n",
       "    'adam_params': [49],\n",
       "    'batch_size': [49],\n",
       "    'dropout': [49],\n",
       "    'layer_1_0_nodes': [],\n",
       "    'layer_1_0_w_nodes': [],\n",
       "    'layer_1_1_nodes': [49],\n",
       "    'layer_1_1_w_nodes': [],\n",
       "    'layer_2_1_nodes': [49],\n",
       "    'layer_2_1_w_nodes': [],\n",
       "    'max_epochs': [49],\n",
       "    'metric': [49],\n",
       "    'n_internal_layers': [49],\n",
       "    'optimizer': [49]},\n",
       "   'vals': {'ES_mindelta': [0],\n",
       "    'ES_monitor': [0],\n",
       "    'ES_patience': [0],\n",
       "    'adam_params': [0],\n",
       "    'batch_size': [0],\n",
       "    'dropout': [1],\n",
       "    'layer_1_0_nodes': [],\n",
       "    'layer_1_0_w_nodes': [],\n",
       "    'layer_1_1_nodes': [80.0],\n",
       "    'layer_1_1_w_nodes': [],\n",
       "    'layer_2_1_nodes': [70.0],\n",
       "    'layer_2_1_w_nodes': [],\n",
       "    'max_epochs': [0],\n",
       "    'metric': [0],\n",
       "    'n_internal_layers': [3],\n",
       "    'optimizer': [0]}},\n",
       "  'exp_key': None,\n",
       "  'owner': None,\n",
       "  'version': 0,\n",
       "  'book_time': datetime.datetime(2022, 3, 28, 18, 34, 7, 871000),\n",
       "  'refresh_time': datetime.datetime(2022, 3, 28, 18, 35, 23, 236000)},\n",
       " {'state': 2,\n",
       "  'tid': 28,\n",
       "  'spec': None,\n",
       "  'result': {'loss': -0.7623371956236789,\n",
       "   'status': 'ok',\n",
       "   'metrics': {'f2score': 0.7623371956236789},\n",
       "   'thresholds': [0.0,\n",
       "    0.01,\n",
       "    0.01,\n",
       "    0.01,\n",
       "    0.01,\n",
       "    0.0,\n",
       "    0.02,\n",
       "    0.01,\n",
       "    0.01,\n",
       "    0.01,\n",
       "    0.01,\n",
       "    0.01,\n",
       "    0.07,\n",
       "    0.01,\n",
       "    0.01,\n",
       "    0.01,\n",
       "    0.01],\n",
       "   'params': \"{'ES_mindelta': 0.0001, 'ES_monitor': 'val_loss', 'ES_patience': 10, 'batch_size': 512, 'class_weights': None, 'dropout': 0.3, 'feature_drop': (), 'max_epochs': 2000, 'metric': 'accuracy', 'n_internal_layers': (0, {'layer_1_0_nodes': 80.0}), 'optimizer': {'adam_params': None, 'name': 'Adam'}}\"},\n",
       "  'misc': {'tid': 28,\n",
       "   'cmd': ('domain_attachment', 'FMinIter_Domain'),\n",
       "   'workdir': None,\n",
       "   'idxs': {'ES_mindelta': [28],\n",
       "    'ES_monitor': [28],\n",
       "    'ES_patience': [28],\n",
       "    'adam_params': [28],\n",
       "    'batch_size': [28],\n",
       "    'dropout': [28],\n",
       "    'layer_1_0_nodes': [28],\n",
       "    'layer_1_0_w_nodes': [],\n",
       "    'layer_1_1_nodes': [],\n",
       "    'layer_1_1_w_nodes': [],\n",
       "    'layer_2_1_nodes': [],\n",
       "    'layer_2_1_w_nodes': [],\n",
       "    'max_epochs': [28],\n",
       "    'metric': [28],\n",
       "    'n_internal_layers': [28],\n",
       "    'optimizer': [28]},\n",
       "   'vals': {'ES_mindelta': [0],\n",
       "    'ES_monitor': [0],\n",
       "    'ES_patience': [0],\n",
       "    'adam_params': [0],\n",
       "    'batch_size': [0],\n",
       "    'dropout': [3],\n",
       "    'layer_1_0_nodes': [80.0],\n",
       "    'layer_1_0_w_nodes': [],\n",
       "    'layer_1_1_nodes': [],\n",
       "    'layer_1_1_w_nodes': [],\n",
       "    'layer_2_1_nodes': [],\n",
       "    'layer_2_1_w_nodes': [],\n",
       "    'max_epochs': [0],\n",
       "    'metric': [0],\n",
       "    'n_internal_layers': [2],\n",
       "    'optimizer': [0]}},\n",
       "  'exp_key': None,\n",
       "  'owner': None,\n",
       "  'version': 0,\n",
       "  'book_time': datetime.datetime(2022, 3, 28, 18, 6, 16, 780000),\n",
       "  'refresh_time': datetime.datetime(2022, 3, 28, 18, 7, 37, 115000)},\n",
       " {'state': 2,\n",
       "  'tid': 22,\n",
       "  'spec': None,\n",
       "  'result': {'loss': -0.760884949043629,\n",
       "   'status': 'ok',\n",
       "   'metrics': {'f2score': 0.760884949043629},\n",
       "   'thresholds': [0.0,\n",
       "    0.01,\n",
       "    0.01,\n",
       "    0.01,\n",
       "    0.01,\n",
       "    0.0,\n",
       "    0.02,\n",
       "    0.01,\n",
       "    0.01,\n",
       "    0.01,\n",
       "    0.01,\n",
       "    0.01,\n",
       "    0.03,\n",
       "    0.01,\n",
       "    0.01,\n",
       "    0.01,\n",
       "    0.01],\n",
       "   'params': \"{'ES_mindelta': 0.0001, 'ES_monitor': 'val_loss', 'ES_patience': 10, 'batch_size': 512, 'class_weights': None, 'dropout': 0.2, 'feature_drop': (), 'max_epochs': 2000, 'metric': 'accuracy', 'n_internal_layers': (0, {'layer_1_0_nodes': 100.0}), 'optimizer': {'adam_params': None, 'name': 'Adam'}}\"},\n",
       "  'misc': {'tid': 22,\n",
       "   'cmd': ('domain_attachment', 'FMinIter_Domain'),\n",
       "   'workdir': None,\n",
       "   'idxs': {'ES_mindelta': [22],\n",
       "    'ES_monitor': [22],\n",
       "    'ES_patience': [22],\n",
       "    'adam_params': [22],\n",
       "    'batch_size': [22],\n",
       "    'dropout': [22],\n",
       "    'layer_1_0_nodes': [22],\n",
       "    'layer_1_0_w_nodes': [],\n",
       "    'layer_1_1_nodes': [],\n",
       "    'layer_1_1_w_nodes': [],\n",
       "    'layer_2_1_nodes': [],\n",
       "    'layer_2_1_w_nodes': [],\n",
       "    'max_epochs': [22],\n",
       "    'metric': [22],\n",
       "    'n_internal_layers': [22],\n",
       "    'optimizer': [22]},\n",
       "   'vals': {'ES_mindelta': [0],\n",
       "    'ES_monitor': [0],\n",
       "    'ES_patience': [0],\n",
       "    'adam_params': [0],\n",
       "    'batch_size': [0],\n",
       "    'dropout': [2],\n",
       "    'layer_1_0_nodes': [100.0],\n",
       "    'layer_1_0_w_nodes': [],\n",
       "    'layer_1_1_nodes': [],\n",
       "    'layer_1_1_w_nodes': [],\n",
       "    'layer_2_1_nodes': [],\n",
       "    'layer_2_1_w_nodes': [],\n",
       "    'max_epochs': [0],\n",
       "    'metric': [0],\n",
       "    'n_internal_layers': [2],\n",
       "    'optimizer': [0]}},\n",
       "  'exp_key': None,\n",
       "  'owner': None,\n",
       "  'version': 0,\n",
       "  'book_time': datetime.datetime(2022, 3, 28, 17, 58, 12, 202000),\n",
       "  'refresh_time': datetime.datetime(2022, 3, 28, 17, 59, 27, 307000)},\n",
       " {'state': 2,\n",
       "  'tid': 29,\n",
       "  'spec': None,\n",
       "  'result': {'loss': -0.7603311909802719,\n",
       "   'status': 'ok',\n",
       "   'metrics': {'f2score': 0.7603311909802719},\n",
       "   'thresholds': [0.0,\n",
       "    0.01,\n",
       "    0.01,\n",
       "    0.01,\n",
       "    0.01,\n",
       "    0.0,\n",
       "    0.01,\n",
       "    0.01,\n",
       "    0.01,\n",
       "    0.01,\n",
       "    0.01,\n",
       "    0.01,\n",
       "    0.0,\n",
       "    0.01,\n",
       "    0.01,\n",
       "    0.01,\n",
       "    0.01],\n",
       "   'params': \"{'ES_mindelta': 0.0001, 'ES_monitor': 'val_loss', 'ES_patience': 10, 'batch_size': 512, 'class_weights': None, 'dropout': 0.2, 'feature_drop': (), 'max_epochs': 2000, 'metric': 'accuracy', 'n_internal_layers': (1, {'layer_1_1_nodes': 200.0, 'layer_2_1_nodes': 1200.0}), 'optimizer': {'adam_params': None, 'name': 'Adam'}}\"},\n",
       "  'misc': {'tid': 29,\n",
       "   'cmd': ('domain_attachment', 'FMinIter_Domain'),\n",
       "   'workdir': None,\n",
       "   'idxs': {'ES_mindelta': [29],\n",
       "    'ES_monitor': [29],\n",
       "    'ES_patience': [29],\n",
       "    'adam_params': [29],\n",
       "    'batch_size': [29],\n",
       "    'dropout': [29],\n",
       "    'layer_1_0_nodes': [],\n",
       "    'layer_1_0_w_nodes': [],\n",
       "    'layer_1_1_nodes': [],\n",
       "    'layer_1_1_w_nodes': [29],\n",
       "    'layer_2_1_nodes': [],\n",
       "    'layer_2_1_w_nodes': [29],\n",
       "    'max_epochs': [29],\n",
       "    'metric': [29],\n",
       "    'n_internal_layers': [29],\n",
       "    'optimizer': [29]},\n",
       "   'vals': {'ES_mindelta': [0],\n",
       "    'ES_monitor': [0],\n",
       "    'ES_patience': [0],\n",
       "    'adam_params': [0],\n",
       "    'batch_size': [0],\n",
       "    'dropout': [2],\n",
       "    'layer_1_0_nodes': [],\n",
       "    'layer_1_0_w_nodes': [],\n",
       "    'layer_1_1_nodes': [],\n",
       "    'layer_1_1_w_nodes': [200.0],\n",
       "    'layer_2_1_nodes': [],\n",
       "    'layer_2_1_w_nodes': [1200.0],\n",
       "    'max_epochs': [0],\n",
       "    'metric': [0],\n",
       "    'n_internal_layers': [1],\n",
       "    'optimizer': [0]}},\n",
       "  'exp_key': None,\n",
       "  'owner': None,\n",
       "  'version': 0,\n",
       "  'book_time': datetime.datetime(2022, 3, 28, 18, 7, 37, 161000),\n",
       "  'refresh_time': datetime.datetime(2022, 3, 28, 18, 8, 54, 616000)},\n",
       " {'state': 2,\n",
       "  'tid': 26,\n",
       "  'spec': None,\n",
       "  'result': {'loss': -0.7598891898663187,\n",
       "   'status': 'ok',\n",
       "   'metrics': {'f2score': 0.7598891898663187},\n",
       "   'thresholds': [0.0,\n",
       "    0.01,\n",
       "    0.01,\n",
       "    0.01,\n",
       "    0.01,\n",
       "    0.0,\n",
       "    0.01,\n",
       "    0.01,\n",
       "    0.01,\n",
       "    0.01,\n",
       "    0.01,\n",
       "    0.01,\n",
       "    0.0,\n",
       "    0.01,\n",
       "    0.01,\n",
       "    0.01,\n",
       "    0.01],\n",
       "   'params': \"{'ES_mindelta': 0.0001, 'ES_monitor': 'val_loss', 'ES_patience': 10, 'batch_size': 512, 'class_weights': None, 'dropout': 0.3, 'feature_drop': (), 'max_epochs': 2000, 'metric': 'accuracy', 'n_internal_layers': (1, {'layer_1_1_nodes': 2100.0, 'layer_2_1_nodes': 1900.0}), 'optimizer': {'adam_params': None, 'name': 'Adam'}}\"},\n",
       "  'misc': {'tid': 26,\n",
       "   'cmd': ('domain_attachment', 'FMinIter_Domain'),\n",
       "   'workdir': None,\n",
       "   'idxs': {'ES_mindelta': [26],\n",
       "    'ES_monitor': [26],\n",
       "    'ES_patience': [26],\n",
       "    'adam_params': [26],\n",
       "    'batch_size': [26],\n",
       "    'dropout': [26],\n",
       "    'layer_1_0_nodes': [],\n",
       "    'layer_1_0_w_nodes': [],\n",
       "    'layer_1_1_nodes': [],\n",
       "    'layer_1_1_w_nodes': [26],\n",
       "    'layer_2_1_nodes': [],\n",
       "    'layer_2_1_w_nodes': [26],\n",
       "    'max_epochs': [26],\n",
       "    'metric': [26],\n",
       "    'n_internal_layers': [26],\n",
       "    'optimizer': [26]},\n",
       "   'vals': {'ES_mindelta': [0],\n",
       "    'ES_monitor': [0],\n",
       "    'ES_patience': [0],\n",
       "    'adam_params': [0],\n",
       "    'batch_size': [0],\n",
       "    'dropout': [3],\n",
       "    'layer_1_0_nodes': [],\n",
       "    'layer_1_0_w_nodes': [],\n",
       "    'layer_1_1_nodes': [],\n",
       "    'layer_1_1_w_nodes': [2100.0],\n",
       "    'layer_2_1_nodes': [],\n",
       "    'layer_2_1_w_nodes': [1900.0],\n",
       "    'max_epochs': [0],\n",
       "    'metric': [0],\n",
       "    'n_internal_layers': [1],\n",
       "    'optimizer': [0]}},\n",
       "  'exp_key': None,\n",
       "  'owner': None,\n",
       "  'version': 0,\n",
       "  'book_time': datetime.datetime(2022, 3, 28, 18, 3, 25, 39000),\n",
       "  'refresh_time': datetime.datetime(2022, 3, 28, 18, 4, 52, 785000)},\n",
       " {'state': 2,\n",
       "  'tid': 20,\n",
       "  'spec': None,\n",
       "  'result': {'loss': -0.7583622542617747,\n",
       "   'status': 'ok',\n",
       "   'metrics': {'f2score': 0.7583622542617747},\n",
       "   'thresholds': [0.0,\n",
       "    0.01,\n",
       "    0.01,\n",
       "    0.02,\n",
       "    0.01,\n",
       "    0.0,\n",
       "    0.02,\n",
       "    0.01,\n",
       "    0.01,\n",
       "    0.01,\n",
       "    0.01,\n",
       "    0.01,\n",
       "    0.02,\n",
       "    0.01,\n",
       "    0.01,\n",
       "    0.01,\n",
       "    0.01],\n",
       "   'params': \"{'ES_mindelta': 0.0001, 'ES_monitor': 'val_loss', 'ES_patience': 10, 'batch_size': 512, 'class_weights': None, 'dropout': None, 'feature_drop': (), 'max_epochs': 2000, 'metric': 'accuracy', 'n_internal_layers': (0, {'layer_1_0_nodes': 100.0}), 'optimizer': {'adam_params': None, 'name': 'Adam'}}\"},\n",
       "  'misc': {'tid': 20,\n",
       "   'cmd': ('domain_attachment', 'FMinIter_Domain'),\n",
       "   'workdir': None,\n",
       "   'idxs': {'ES_mindelta': [20],\n",
       "    'ES_monitor': [20],\n",
       "    'ES_patience': [20],\n",
       "    'adam_params': [20],\n",
       "    'batch_size': [20],\n",
       "    'dropout': [20],\n",
       "    'layer_1_0_nodes': [20],\n",
       "    'layer_1_0_w_nodes': [],\n",
       "    'layer_1_1_nodes': [],\n",
       "    'layer_1_1_w_nodes': [],\n",
       "    'layer_2_1_nodes': [],\n",
       "    'layer_2_1_w_nodes': [],\n",
       "    'max_epochs': [20],\n",
       "    'metric': [20],\n",
       "    'n_internal_layers': [20],\n",
       "    'optimizer': [20]},\n",
       "   'vals': {'ES_mindelta': [0],\n",
       "    'ES_monitor': [0],\n",
       "    'ES_patience': [0],\n",
       "    'adam_params': [0],\n",
       "    'batch_size': [0],\n",
       "    'dropout': [0],\n",
       "    'layer_1_0_nodes': [100.0],\n",
       "    'layer_1_0_w_nodes': [],\n",
       "    'layer_1_1_nodes': [],\n",
       "    'layer_1_1_w_nodes': [],\n",
       "    'layer_2_1_nodes': [],\n",
       "    'layer_2_1_w_nodes': [],\n",
       "    'max_epochs': [0],\n",
       "    'metric': [0],\n",
       "    'n_internal_layers': [2],\n",
       "    'optimizer': [0]}},\n",
       "  'exp_key': None,\n",
       "  'owner': None,\n",
       "  'version': 0,\n",
       "  'book_time': datetime.datetime(2022, 3, 28, 17, 55, 25, 846000),\n",
       "  'refresh_time': datetime.datetime(2022, 3, 28, 17, 56, 40, 322000)},\n",
       " {'state': 2,\n",
       "  'tid': 18,\n",
       "  'spec': None,\n",
       "  'result': {'loss': -0.7571727747525502,\n",
       "   'status': 'ok',\n",
       "   'metrics': {'f2score': 0.7571727747525502},\n",
       "   'thresholds': [0.0,\n",
       "    0.01,\n",
       "    0.01,\n",
       "    0.01,\n",
       "    0.01,\n",
       "    0.0,\n",
       "    0.02,\n",
       "    0.01,\n",
       "    0.01,\n",
       "    0.01,\n",
       "    0.01,\n",
       "    0.01,\n",
       "    0.03,\n",
       "    0.01,\n",
       "    0.01,\n",
       "    0.01,\n",
       "    0.01],\n",
       "   'params': \"{'ES_mindelta': 0.0001, 'ES_monitor': 'val_loss', 'ES_patience': 10, 'batch_size': 512, 'class_weights': None, 'dropout': 0.2, 'feature_drop': (), 'max_epochs': 2000, 'metric': 'accuracy', 'n_internal_layers': (1, {'layer_1_1_nodes': 50.0, 'layer_2_1_nodes': 80.0}), 'optimizer': {'adam_params': None, 'name': 'Adam'}}\"},\n",
       "  'misc': {'tid': 18,\n",
       "   'cmd': ('domain_attachment', 'FMinIter_Domain'),\n",
       "   'workdir': None,\n",
       "   'idxs': {'ES_mindelta': [18],\n",
       "    'ES_monitor': [18],\n",
       "    'ES_patience': [18],\n",
       "    'adam_params': [18],\n",
       "    'batch_size': [18],\n",
       "    'dropout': [18],\n",
       "    'layer_1_0_nodes': [],\n",
       "    'layer_1_0_w_nodes': [],\n",
       "    'layer_1_1_nodes': [18],\n",
       "    'layer_1_1_w_nodes': [],\n",
       "    'layer_2_1_nodes': [18],\n",
       "    'layer_2_1_w_nodes': [],\n",
       "    'max_epochs': [18],\n",
       "    'metric': [18],\n",
       "    'n_internal_layers': [18],\n",
       "    'optimizer': [18]},\n",
       "   'vals': {'ES_mindelta': [0],\n",
       "    'ES_monitor': [0],\n",
       "    'ES_patience': [0],\n",
       "    'adam_params': [0],\n",
       "    'batch_size': [0],\n",
       "    'dropout': [2],\n",
       "    'layer_1_0_nodes': [],\n",
       "    'layer_1_0_w_nodes': [],\n",
       "    'layer_1_1_nodes': [50.0],\n",
       "    'layer_1_1_w_nodes': [],\n",
       "    'layer_2_1_nodes': [80.0],\n",
       "    'layer_2_1_w_nodes': [],\n",
       "    'max_epochs': [0],\n",
       "    'metric': [0],\n",
       "    'n_internal_layers': [3],\n",
       "    'optimizer': [0]}},\n",
       "  'exp_key': None,\n",
       "  'owner': None,\n",
       "  'version': 0,\n",
       "  'book_time': datetime.datetime(2022, 3, 28, 17, 52, 51, 854000),\n",
       "  'refresh_time': datetime.datetime(2022, 3, 28, 17, 54, 9, 672000)},\n",
       " {'state': 2,\n",
       "  'tid': 43,\n",
       "  'spec': None,\n",
       "  'result': {'loss': -0.7569107091469217,\n",
       "   'status': 'ok',\n",
       "   'metrics': {'f2score': 0.7569107091469217},\n",
       "   'thresholds': [0.0,\n",
       "    0.01,\n",
       "    0.01,\n",
       "    0.01,\n",
       "    0.01,\n",
       "    0.0,\n",
       "    0.01,\n",
       "    0.01,\n",
       "    0.01,\n",
       "    0.01,\n",
       "    0.01,\n",
       "    0.01,\n",
       "    0.0,\n",
       "    0.01,\n",
       "    0.01,\n",
       "    0.01,\n",
       "    0.01],\n",
       "   'params': \"{'ES_mindelta': 0.0001, 'ES_monitor': 'val_loss', 'ES_patience': 10, 'batch_size': 512, 'class_weights': None, 'dropout': 0.1, 'feature_drop': (), 'max_epochs': 2000, 'metric': 'accuracy', 'n_internal_layers': (1, {'layer_1_1_nodes': 100.0, 'layer_2_1_nodes': 100.0}), 'optimizer': {'adam_params': None, 'name': 'Adam'}}\"},\n",
       "  'misc': {'tid': 43,\n",
       "   'cmd': ('domain_attachment', 'FMinIter_Domain'),\n",
       "   'workdir': None,\n",
       "   'idxs': {'ES_mindelta': [43],\n",
       "    'ES_monitor': [43],\n",
       "    'ES_patience': [43],\n",
       "    'adam_params': [43],\n",
       "    'batch_size': [43],\n",
       "    'dropout': [43],\n",
       "    'layer_1_0_nodes': [],\n",
       "    'layer_1_0_w_nodes': [],\n",
       "    'layer_1_1_nodes': [43],\n",
       "    'layer_1_1_w_nodes': [],\n",
       "    'layer_2_1_nodes': [43],\n",
       "    'layer_2_1_w_nodes': [],\n",
       "    'max_epochs': [43],\n",
       "    'metric': [43],\n",
       "    'n_internal_layers': [43],\n",
       "    'optimizer': [43]},\n",
       "   'vals': {'ES_mindelta': [0],\n",
       "    'ES_monitor': [0],\n",
       "    'ES_patience': [0],\n",
       "    'adam_params': [0],\n",
       "    'batch_size': [0],\n",
       "    'dropout': [1],\n",
       "    'layer_1_0_nodes': [],\n",
       "    'layer_1_0_w_nodes': [],\n",
       "    'layer_1_1_nodes': [100.0],\n",
       "    'layer_1_1_w_nodes': [],\n",
       "    'layer_2_1_nodes': [100.0],\n",
       "    'layer_2_1_w_nodes': [],\n",
       "    'max_epochs': [0],\n",
       "    'metric': [0],\n",
       "    'n_internal_layers': [3],\n",
       "    'optimizer': [0]}},\n",
       "  'exp_key': None,\n",
       "  'owner': None,\n",
       "  'version': 0,\n",
       "  'book_time': datetime.datetime(2022, 3, 28, 18, 26, 31, 704000),\n",
       "  'refresh_time': datetime.datetime(2022, 3, 28, 18, 27, 48, 294000)},\n",
       " {'state': 2,\n",
       "  'tid': 7,\n",
       "  'spec': None,\n",
       "  'result': {'loss': -0.7564802678234237,\n",
       "   'status': 'ok',\n",
       "   'metrics': {'f2score': 0.7564802678234237},\n",
       "   'thresholds': [0.0,\n",
       "    0.01,\n",
       "    0.01,\n",
       "    0.01,\n",
       "    0.01,\n",
       "    0.0,\n",
       "    0.02,\n",
       "    0.01,\n",
       "    0.01,\n",
       "    0.01,\n",
       "    0.01,\n",
       "    0.01,\n",
       "    0.02,\n",
       "    0.01,\n",
       "    0.02,\n",
       "    0.02,\n",
       "    0.01],\n",
       "   'params': \"{'ES_mindelta': 0.0001, 'ES_monitor': 'val_loss', 'ES_patience': 10, 'batch_size': 512, 'class_weights': None, 'dropout': 0.2, 'feature_drop': (), 'max_epochs': 2000, 'metric': 'accuracy', 'n_internal_layers': (0, {'layer_1_0_nodes': 50.0}), 'optimizer': {'adam_params': None, 'name': 'Adam'}}\"},\n",
       "  'misc': {'tid': 7,\n",
       "   'cmd': ('domain_attachment', 'FMinIter_Domain'),\n",
       "   'workdir': None,\n",
       "   'idxs': {'ES_mindelta': [7],\n",
       "    'ES_monitor': [7],\n",
       "    'ES_patience': [7],\n",
       "    'adam_params': [7],\n",
       "    'batch_size': [7],\n",
       "    'dropout': [7],\n",
       "    'layer_1_0_nodes': [7],\n",
       "    'layer_1_0_w_nodes': [],\n",
       "    'layer_1_1_nodes': [],\n",
       "    'layer_1_1_w_nodes': [],\n",
       "    'layer_2_1_nodes': [],\n",
       "    'layer_2_1_w_nodes': [],\n",
       "    'max_epochs': [7],\n",
       "    'metric': [7],\n",
       "    'n_internal_layers': [7],\n",
       "    'optimizer': [7]},\n",
       "   'vals': {'ES_mindelta': [0],\n",
       "    'ES_monitor': [0],\n",
       "    'ES_patience': [0],\n",
       "    'adam_params': [0],\n",
       "    'batch_size': [0],\n",
       "    'dropout': [2],\n",
       "    'layer_1_0_nodes': [50.0],\n",
       "    'layer_1_0_w_nodes': [],\n",
       "    'layer_1_1_nodes': [],\n",
       "    'layer_1_1_w_nodes': [],\n",
       "    'layer_2_1_nodes': [],\n",
       "    'layer_2_1_w_nodes': [],\n",
       "    'max_epochs': [0],\n",
       "    'metric': [0],\n",
       "    'n_internal_layers': [2],\n",
       "    'optimizer': [0]}},\n",
       "  'exp_key': None,\n",
       "  'owner': None,\n",
       "  'version': 0,\n",
       "  'book_time': datetime.datetime(2022, 3, 28, 17, 38, 49, 685000),\n",
       "  'refresh_time': datetime.datetime(2022, 3, 28, 17, 40, 12, 551000)},\n",
       " {'state': 2,\n",
       "  'tid': 6,\n",
       "  'spec': None,\n",
       "  'result': {'loss': -0.7556604333525252,\n",
       "   'status': 'ok',\n",
       "   'metrics': {'f2score': 0.7556604333525252},\n",
       "   'thresholds': [0.0,\n",
       "    0.01,\n",
       "    0.01,\n",
       "    0.01,\n",
       "    0.01,\n",
       "    0.0,\n",
       "    0.01,\n",
       "    0.01,\n",
       "    0.01,\n",
       "    0.01,\n",
       "    0.01,\n",
       "    0.01,\n",
       "    0.0,\n",
       "    0.01,\n",
       "    0.01,\n",
       "    0.01,\n",
       "    0.01],\n",
       "   'params': \"{'ES_mindelta': 0.0001, 'ES_monitor': 'val_loss', 'ES_patience': 10, 'batch_size': 512, 'class_weights': None, 'dropout': 0.1, 'feature_drop': (), 'max_epochs': 2000, 'metric': 'accuracy', 'n_internal_layers': (0, {'layer_1_0_nodes': 1800.0}), 'optimizer': {'adam_params': None, 'name': 'Adam'}}\"},\n",
       "  'misc': {'tid': 6,\n",
       "   'cmd': ('domain_attachment', 'FMinIter_Domain'),\n",
       "   'workdir': None,\n",
       "   'idxs': {'ES_mindelta': [6],\n",
       "    'ES_monitor': [6],\n",
       "    'ES_patience': [6],\n",
       "    'adam_params': [6],\n",
       "    'batch_size': [6],\n",
       "    'dropout': [6],\n",
       "    'layer_1_0_nodes': [],\n",
       "    'layer_1_0_w_nodes': [6],\n",
       "    'layer_1_1_nodes': [],\n",
       "    'layer_1_1_w_nodes': [],\n",
       "    'layer_2_1_nodes': [],\n",
       "    'layer_2_1_w_nodes': [],\n",
       "    'max_epochs': [6],\n",
       "    'metric': [6],\n",
       "    'n_internal_layers': [6],\n",
       "    'optimizer': [6]},\n",
       "   'vals': {'ES_mindelta': [0],\n",
       "    'ES_monitor': [0],\n",
       "    'ES_patience': [0],\n",
       "    'adam_params': [0],\n",
       "    'batch_size': [0],\n",
       "    'dropout': [1],\n",
       "    'layer_1_0_nodes': [],\n",
       "    'layer_1_0_w_nodes': [1800.0],\n",
       "    'layer_1_1_nodes': [],\n",
       "    'layer_1_1_w_nodes': [],\n",
       "    'layer_2_1_nodes': [],\n",
       "    'layer_2_1_w_nodes': [],\n",
       "    'max_epochs': [0],\n",
       "    'metric': [0],\n",
       "    'n_internal_layers': [0],\n",
       "    'optimizer': [0]}},\n",
       "  'exp_key': None,\n",
       "  'owner': None,\n",
       "  'version': 0,\n",
       "  'book_time': datetime.datetime(2022, 3, 28, 17, 37, 35, 277000),\n",
       "  'refresh_time': datetime.datetime(2022, 3, 28, 17, 38, 49, 648000)},\n",
       " {'state': 2,\n",
       "  'tid': 48,\n",
       "  'spec': None,\n",
       "  'result': {'loss': -0.7556560684239413,\n",
       "   'status': 'ok',\n",
       "   'metrics': {'f2score': 0.7556560684239413},\n",
       "   'thresholds': [0.0,\n",
       "    0.01,\n",
       "    0.01,\n",
       "    0.02,\n",
       "    0.01,\n",
       "    0.0,\n",
       "    0.04,\n",
       "    0.01,\n",
       "    0.01,\n",
       "    0.01,\n",
       "    0.01,\n",
       "    0.01,\n",
       "    0.0,\n",
       "    0.01,\n",
       "    0.01,\n",
       "    0.01,\n",
       "    0.01],\n",
       "   'params': \"{'ES_mindelta': 0.0001, 'ES_monitor': 'val_loss', 'ES_patience': 10, 'batch_size': 512, 'class_weights': None, 'dropout': 0.1, 'feature_drop': (), 'max_epochs': 2000, 'metric': 'accuracy', 'n_internal_layers': (1, {'layer_1_1_nodes': 30.0, 'layer_2_1_nodes': 30.0}), 'optimizer': {'adam_params': None, 'name': 'Adam'}}\"},\n",
       "  'misc': {'tid': 48,\n",
       "   'cmd': ('domain_attachment', 'FMinIter_Domain'),\n",
       "   'workdir': None,\n",
       "   'idxs': {'ES_mindelta': [48],\n",
       "    'ES_monitor': [48],\n",
       "    'ES_patience': [48],\n",
       "    'adam_params': [48],\n",
       "    'batch_size': [48],\n",
       "    'dropout': [48],\n",
       "    'layer_1_0_nodes': [],\n",
       "    'layer_1_0_w_nodes': [],\n",
       "    'layer_1_1_nodes': [48],\n",
       "    'layer_1_1_w_nodes': [],\n",
       "    'layer_2_1_nodes': [48],\n",
       "    'layer_2_1_w_nodes': [],\n",
       "    'max_epochs': [48],\n",
       "    'metric': [48],\n",
       "    'n_internal_layers': [48],\n",
       "    'optimizer': [48]},\n",
       "   'vals': {'ES_mindelta': [0],\n",
       "    'ES_monitor': [0],\n",
       "    'ES_patience': [0],\n",
       "    'adam_params': [0],\n",
       "    'batch_size': [0],\n",
       "    'dropout': [1],\n",
       "    'layer_1_0_nodes': [],\n",
       "    'layer_1_0_w_nodes': [],\n",
       "    'layer_1_1_nodes': [30.0],\n",
       "    'layer_1_1_w_nodes': [],\n",
       "    'layer_2_1_nodes': [30.0],\n",
       "    'layer_2_1_w_nodes': [],\n",
       "    'max_epochs': [0],\n",
       "    'metric': [0],\n",
       "    'n_internal_layers': [3],\n",
       "    'optimizer': [0]}},\n",
       "  'exp_key': None,\n",
       "  'owner': None,\n",
       "  'version': 0,\n",
       "  'book_time': datetime.datetime(2022, 3, 28, 18, 32, 52, 260000),\n",
       "  'refresh_time': datetime.datetime(2022, 3, 28, 18, 34, 7, 840000)},\n",
       " {'state': 2,\n",
       "  'tid': 0,\n",
       "  'spec': None,\n",
       "  'result': {'loss': -0.7550637929651071,\n",
       "   'status': 'ok',\n",
       "   'metrics': {'f2score': 0.7550637929651071},\n",
       "   'thresholds': [0.0,\n",
       "    0.01,\n",
       "    0.01,\n",
       "    0.02,\n",
       "    0.01,\n",
       "    0.0,\n",
       "    0.04,\n",
       "    0.02,\n",
       "    0.01,\n",
       "    0.01,\n",
       "    0.01,\n",
       "    0.01,\n",
       "    0.32,\n",
       "    0.01,\n",
       "    0.02,\n",
       "    0.01,\n",
       "    0.0],\n",
       "   'params': \"{'ES_mindelta': 0.0001, 'ES_monitor': 'val_loss', 'ES_patience': 10, 'batch_size': 512, 'class_weights': None, 'dropout': 0.2, 'feature_drop': (), 'max_epochs': 2000, 'metric': 'accuracy', 'n_internal_layers': (1, {'layer_1_1_nodes': 70.0, 'layer_2_1_nodes': 20.0}), 'optimizer': {'adam_params': None, 'name': 'Adam'}}\"},\n",
       "  'misc': {'tid': 0,\n",
       "   'cmd': ('domain_attachment', 'FMinIter_Domain'),\n",
       "   'workdir': None,\n",
       "   'idxs': {'ES_mindelta': [0],\n",
       "    'ES_monitor': [0],\n",
       "    'ES_patience': [0],\n",
       "    'adam_params': [0],\n",
       "    'batch_size': [0],\n",
       "    'dropout': [0],\n",
       "    'layer_1_0_nodes': [],\n",
       "    'layer_1_0_w_nodes': [],\n",
       "    'layer_1_1_nodes': [0],\n",
       "    'layer_1_1_w_nodes': [],\n",
       "    'layer_2_1_nodes': [0],\n",
       "    'layer_2_1_w_nodes': [],\n",
       "    'max_epochs': [0],\n",
       "    'metric': [0],\n",
       "    'n_internal_layers': [0],\n",
       "    'optimizer': [0]},\n",
       "   'vals': {'ES_mindelta': [0],\n",
       "    'ES_monitor': [0],\n",
       "    'ES_patience': [0],\n",
       "    'adam_params': [0],\n",
       "    'batch_size': [0],\n",
       "    'dropout': [2],\n",
       "    'layer_1_0_nodes': [],\n",
       "    'layer_1_0_w_nodes': [],\n",
       "    'layer_1_1_nodes': [70.0],\n",
       "    'layer_1_1_w_nodes': [],\n",
       "    'layer_2_1_nodes': [20.0],\n",
       "    'layer_2_1_w_nodes': [],\n",
       "    'max_epochs': [0],\n",
       "    'metric': [0],\n",
       "    'n_internal_layers': [3],\n",
       "    'optimizer': [0]}},\n",
       "  'exp_key': None,\n",
       "  'owner': None,\n",
       "  'version': 0,\n",
       "  'book_time': datetime.datetime(2022, 3, 28, 17, 29, 39, 128000),\n",
       "  'refresh_time': datetime.datetime(2022, 3, 28, 17, 31, 1, 598000)},\n",
       " {'state': 2,\n",
       "  'tid': 33,\n",
       "  'spec': None,\n",
       "  'result': {'loss': -0.7542965764416282,\n",
       "   'status': 'ok',\n",
       "   'metrics': {'f2score': 0.7542965764416282},\n",
       "   'thresholds': [0.0,\n",
       "    0.01,\n",
       "    0.01,\n",
       "    0.01,\n",
       "    0.01,\n",
       "    0.0,\n",
       "    0.01,\n",
       "    0.01,\n",
       "    0.01,\n",
       "    0.01,\n",
       "    0.01,\n",
       "    0.01,\n",
       "    0.16,\n",
       "    0.01,\n",
       "    0.02,\n",
       "    0.01,\n",
       "    0.01],\n",
       "   'params': \"{'ES_mindelta': 0.0001, 'ES_monitor': 'val_loss', 'ES_patience': 10, 'batch_size': 512, 'class_weights': None, 'dropout': 0.3, 'feature_drop': (), 'max_epochs': 2000, 'metric': 'accuracy', 'n_internal_layers': (0, {'layer_1_0_nodes': 80.0}), 'optimizer': {'adam_params': None, 'name': 'Adam'}}\"},\n",
       "  'misc': {'tid': 33,\n",
       "   'cmd': ('domain_attachment', 'FMinIter_Domain'),\n",
       "   'workdir': None,\n",
       "   'idxs': {'ES_mindelta': [33],\n",
       "    'ES_monitor': [33],\n",
       "    'ES_patience': [33],\n",
       "    'adam_params': [33],\n",
       "    'batch_size': [33],\n",
       "    'dropout': [33],\n",
       "    'layer_1_0_nodes': [33],\n",
       "    'layer_1_0_w_nodes': [],\n",
       "    'layer_1_1_nodes': [],\n",
       "    'layer_1_1_w_nodes': [],\n",
       "    'layer_2_1_nodes': [],\n",
       "    'layer_2_1_w_nodes': [],\n",
       "    'max_epochs': [33],\n",
       "    'metric': [33],\n",
       "    'n_internal_layers': [33],\n",
       "    'optimizer': [33]},\n",
       "   'vals': {'ES_mindelta': [0],\n",
       "    'ES_monitor': [0],\n",
       "    'ES_patience': [0],\n",
       "    'adam_params': [0],\n",
       "    'batch_size': [0],\n",
       "    'dropout': [3],\n",
       "    'layer_1_0_nodes': [80.0],\n",
       "    'layer_1_0_w_nodes': [],\n",
       "    'layer_1_1_nodes': [],\n",
       "    'layer_1_1_w_nodes': [],\n",
       "    'layer_2_1_nodes': [],\n",
       "    'layer_2_1_w_nodes': [],\n",
       "    'max_epochs': [0],\n",
       "    'metric': [0],\n",
       "    'n_internal_layers': [2],\n",
       "    'optimizer': [0]}},\n",
       "  'exp_key': None,\n",
       "  'owner': None,\n",
       "  'version': 0,\n",
       "  'book_time': datetime.datetime(2022, 3, 28, 18, 13, 6, 21000),\n",
       "  'refresh_time': datetime.datetime(2022, 3, 28, 18, 14, 22, 720000)},\n",
       " {'state': 2,\n",
       "  'tid': 4,\n",
       "  'spec': None,\n",
       "  'result': {'loss': -0.7539444130309023,\n",
       "   'status': 'ok',\n",
       "   'metrics': {'f2score': 0.7539444130309023},\n",
       "   'thresholds': [0.0,\n",
       "    0.01,\n",
       "    0.01,\n",
       "    0.01,\n",
       "    0.01,\n",
       "    0.0,\n",
       "    0.01,\n",
       "    0.01,\n",
       "    0.01,\n",
       "    0.01,\n",
       "    0.01,\n",
       "    0.01,\n",
       "    0.0,\n",
       "    0.01,\n",
       "    0.01,\n",
       "    0.01,\n",
       "    0.01],\n",
       "   'params': \"{'ES_mindelta': 0.0001, 'ES_monitor': 'val_loss', 'ES_patience': 10, 'batch_size': 512, 'class_weights': None, 'dropout': 0.3, 'feature_drop': (), 'max_epochs': 2000, 'metric': 'accuracy', 'n_internal_layers': (1, {'layer_1_1_nodes': 1100.0, 'layer_2_1_nodes': 1700.0}), 'optimizer': {'adam_params': None, 'name': 'Adam'}}\"},\n",
       "  'misc': {'tid': 4,\n",
       "   'cmd': ('domain_attachment', 'FMinIter_Domain'),\n",
       "   'workdir': None,\n",
       "   'idxs': {'ES_mindelta': [4],\n",
       "    'ES_monitor': [4],\n",
       "    'ES_patience': [4],\n",
       "    'adam_params': [4],\n",
       "    'batch_size': [4],\n",
       "    'dropout': [4],\n",
       "    'layer_1_0_nodes': [],\n",
       "    'layer_1_0_w_nodes': [],\n",
       "    'layer_1_1_nodes': [],\n",
       "    'layer_1_1_w_nodes': [4],\n",
       "    'layer_2_1_nodes': [],\n",
       "    'layer_2_1_w_nodes': [4],\n",
       "    'max_epochs': [4],\n",
       "    'metric': [4],\n",
       "    'n_internal_layers': [4],\n",
       "    'optimizer': [4]},\n",
       "   'vals': {'ES_mindelta': [0],\n",
       "    'ES_monitor': [0],\n",
       "    'ES_patience': [0],\n",
       "    'adam_params': [0],\n",
       "    'batch_size': [0],\n",
       "    'dropout': [3],\n",
       "    'layer_1_0_nodes': [],\n",
       "    'layer_1_0_w_nodes': [],\n",
       "    'layer_1_1_nodes': [],\n",
       "    'layer_1_1_w_nodes': [1100.0],\n",
       "    'layer_2_1_nodes': [],\n",
       "    'layer_2_1_w_nodes': [1700.0],\n",
       "    'max_epochs': [0],\n",
       "    'metric': [0],\n",
       "    'n_internal_layers': [1],\n",
       "    'optimizer': [0]}},\n",
       "  'exp_key': None,\n",
       "  'owner': None,\n",
       "  'version': 0,\n",
       "  'book_time': datetime.datetime(2022, 3, 28, 17, 34, 57, 318000),\n",
       "  'refresh_time': datetime.datetime(2022, 3, 28, 17, 36, 21, 619000)},\n",
       " {'state': 2,\n",
       "  'tid': 16,\n",
       "  'spec': None,\n",
       "  'result': {'loss': -0.753277814545023,\n",
       "   'status': 'ok',\n",
       "   'metrics': {'f2score': 0.753277814545023},\n",
       "   'thresholds': [0.0,\n",
       "    0.01,\n",
       "    0.01,\n",
       "    0.01,\n",
       "    0.01,\n",
       "    0.0,\n",
       "    0.07,\n",
       "    0.01,\n",
       "    0.01,\n",
       "    0.01,\n",
       "    0.01,\n",
       "    0.01,\n",
       "    0.0,\n",
       "    0.01,\n",
       "    0.01,\n",
       "    0.01,\n",
       "    0.0],\n",
       "   'params': \"{'ES_mindelta': 0.0001, 'ES_monitor': 'val_loss', 'ES_patience': 10, 'batch_size': 512, 'class_weights': None, 'dropout': None, 'feature_drop': (), 'max_epochs': 2000, 'metric': 'accuracy', 'n_internal_layers': (1, {'layer_1_1_nodes': 30.0, 'layer_2_1_nodes': 20.0}), 'optimizer': {'adam_params': None, 'name': 'Adam'}}\"},\n",
       "  'misc': {'tid': 16,\n",
       "   'cmd': ('domain_attachment', 'FMinIter_Domain'),\n",
       "   'workdir': None,\n",
       "   'idxs': {'ES_mindelta': [16],\n",
       "    'ES_monitor': [16],\n",
       "    'ES_patience': [16],\n",
       "    'adam_params': [16],\n",
       "    'batch_size': [16],\n",
       "    'dropout': [16],\n",
       "    'layer_1_0_nodes': [],\n",
       "    'layer_1_0_w_nodes': [],\n",
       "    'layer_1_1_nodes': [16],\n",
       "    'layer_1_1_w_nodes': [],\n",
       "    'layer_2_1_nodes': [16],\n",
       "    'layer_2_1_w_nodes': [],\n",
       "    'max_epochs': [16],\n",
       "    'metric': [16],\n",
       "    'n_internal_layers': [16],\n",
       "    'optimizer': [16]},\n",
       "   'vals': {'ES_mindelta': [0],\n",
       "    'ES_monitor': [0],\n",
       "    'ES_patience': [0],\n",
       "    'adam_params': [0],\n",
       "    'batch_size': [0],\n",
       "    'dropout': [0],\n",
       "    'layer_1_0_nodes': [],\n",
       "    'layer_1_0_w_nodes': [],\n",
       "    'layer_1_1_nodes': [30.0],\n",
       "    'layer_1_1_w_nodes': [],\n",
       "    'layer_2_1_nodes': [20.0],\n",
       "    'layer_2_1_w_nodes': [],\n",
       "    'max_epochs': [0],\n",
       "    'metric': [0],\n",
       "    'n_internal_layers': [3],\n",
       "    'optimizer': [0]}},\n",
       "  'exp_key': None,\n",
       "  'owner': None,\n",
       "  'version': 0,\n",
       "  'book_time': datetime.datetime(2022, 3, 28, 17, 50, 16, 582000),\n",
       "  'refresh_time': datetime.datetime(2022, 3, 28, 17, 51, 38, 112000)},\n",
       " {'state': 2,\n",
       "  'tid': 13,\n",
       "  'spec': None,\n",
       "  'result': {'loss': -0.7528749207926685,\n",
       "   'status': 'ok',\n",
       "   'metrics': {'f2score': 0.7528749207926685},\n",
       "   'thresholds': [0.0,\n",
       "    0.01,\n",
       "    0.01,\n",
       "    0.01,\n",
       "    0.01,\n",
       "    0.0,\n",
       "    0.01,\n",
       "    0.01,\n",
       "    0.01,\n",
       "    0.01,\n",
       "    0.01,\n",
       "    0.01,\n",
       "    0.0,\n",
       "    0.01,\n",
       "    0.01,\n",
       "    0.01,\n",
       "    0.01],\n",
       "   'params': \"{'ES_mindelta': 0.0001, 'ES_monitor': 'val_loss', 'ES_patience': 10, 'batch_size': 512, 'class_weights': None, 'dropout': 0.1, 'feature_drop': (), 'max_epochs': 2000, 'metric': 'accuracy', 'n_internal_layers': (0, {'layer_1_0_nodes': 1700.0}), 'optimizer': {'adam_params': None, 'name': 'Adam'}}\"},\n",
       "  'misc': {'tid': 13,\n",
       "   'cmd': ('domain_attachment', 'FMinIter_Domain'),\n",
       "   'workdir': None,\n",
       "   'idxs': {'ES_mindelta': [13],\n",
       "    'ES_monitor': [13],\n",
       "    'ES_patience': [13],\n",
       "    'adam_params': [13],\n",
       "    'batch_size': [13],\n",
       "    'dropout': [13],\n",
       "    'layer_1_0_nodes': [],\n",
       "    'layer_1_0_w_nodes': [13],\n",
       "    'layer_1_1_nodes': [],\n",
       "    'layer_1_1_w_nodes': [],\n",
       "    'layer_2_1_nodes': [],\n",
       "    'layer_2_1_w_nodes': [],\n",
       "    'max_epochs': [13],\n",
       "    'metric': [13],\n",
       "    'n_internal_layers': [13],\n",
       "    'optimizer': [13]},\n",
       "   'vals': {'ES_mindelta': [0],\n",
       "    'ES_monitor': [0],\n",
       "    'ES_patience': [0],\n",
       "    'adam_params': [0],\n",
       "    'batch_size': [0],\n",
       "    'dropout': [1],\n",
       "    'layer_1_0_nodes': [],\n",
       "    'layer_1_0_w_nodes': [1700.0],\n",
       "    'layer_1_1_nodes': [],\n",
       "    'layer_1_1_w_nodes': [],\n",
       "    'layer_2_1_nodes': [],\n",
       "    'layer_2_1_w_nodes': [],\n",
       "    'max_epochs': [0],\n",
       "    'metric': [0],\n",
       "    'n_internal_layers': [0],\n",
       "    'optimizer': [0]}},\n",
       "  'exp_key': None,\n",
       "  'owner': None,\n",
       "  'version': 0,\n",
       "  'book_time': datetime.datetime(2022, 3, 28, 17, 46, 33, 604000),\n",
       "  'refresh_time': datetime.datetime(2022, 3, 28, 17, 47, 47, 827000)},\n",
       " {'state': 2,\n",
       "  'tid': 5,\n",
       "  'spec': None,\n",
       "  'result': {'loss': -0.7528132118817503,\n",
       "   'status': 'ok',\n",
       "   'metrics': {'f2score': 0.7528132118817503},\n",
       "   'thresholds': [0.0,\n",
       "    0.01,\n",
       "    0.01,\n",
       "    0.01,\n",
       "    0.01,\n",
       "    0.0,\n",
       "    0.01,\n",
       "    0.01,\n",
       "    0.01,\n",
       "    0.01,\n",
       "    0.01,\n",
       "    0.01,\n",
       "    0.0,\n",
       "    0.01,\n",
       "    0.01,\n",
       "    0.01,\n",
       "    0.01],\n",
       "   'params': \"{'ES_mindelta': 0.0001, 'ES_monitor': 'val_loss', 'ES_patience': 10, 'batch_size': 512, 'class_weights': None, 'dropout': 0.1, 'feature_drop': (), 'max_epochs': 2000, 'metric': 'accuracy', 'n_internal_layers': (1, {'layer_1_1_nodes': 500.0, 'layer_2_1_nodes': 800.0}), 'optimizer': {'adam_params': None, 'name': 'Adam'}}\"},\n",
       "  'misc': {'tid': 5,\n",
       "   'cmd': ('domain_attachment', 'FMinIter_Domain'),\n",
       "   'workdir': None,\n",
       "   'idxs': {'ES_mindelta': [5],\n",
       "    'ES_monitor': [5],\n",
       "    'ES_patience': [5],\n",
       "    'adam_params': [5],\n",
       "    'batch_size': [5],\n",
       "    'dropout': [5],\n",
       "    'layer_1_0_nodes': [],\n",
       "    'layer_1_0_w_nodes': [],\n",
       "    'layer_1_1_nodes': [],\n",
       "    'layer_1_1_w_nodes': [5],\n",
       "    'layer_2_1_nodes': [],\n",
       "    'layer_2_1_w_nodes': [5],\n",
       "    'max_epochs': [5],\n",
       "    'metric': [5],\n",
       "    'n_internal_layers': [5],\n",
       "    'optimizer': [5]},\n",
       "   'vals': {'ES_mindelta': [0],\n",
       "    'ES_monitor': [0],\n",
       "    'ES_patience': [0],\n",
       "    'adam_params': [0],\n",
       "    'batch_size': [0],\n",
       "    'dropout': [1],\n",
       "    'layer_1_0_nodes': [],\n",
       "    'layer_1_0_w_nodes': [],\n",
       "    'layer_1_1_nodes': [],\n",
       "    'layer_1_1_w_nodes': [500.0],\n",
       "    'layer_2_1_nodes': [],\n",
       "    'layer_2_1_w_nodes': [800.0],\n",
       "    'max_epochs': [0],\n",
       "    'metric': [0],\n",
       "    'n_internal_layers': [1],\n",
       "    'optimizer': [0]}},\n",
       "  'exp_key': None,\n",
       "  'owner': None,\n",
       "  'version': 0,\n",
       "  'book_time': datetime.datetime(2022, 3, 28, 17, 36, 21, 648000),\n",
       "  'refresh_time': datetime.datetime(2022, 3, 28, 17, 37, 35, 243000)},\n",
       " {'state': 2,\n",
       "  'tid': 46,\n",
       "  'spec': None,\n",
       "  'result': {'loss': -0.7526100089508659,\n",
       "   'status': 'ok',\n",
       "   'metrics': {'f2score': 0.7526100089508659},\n",
       "   'thresholds': [0.0,\n",
       "    0.01,\n",
       "    0.01,\n",
       "    0.01,\n",
       "    0.01,\n",
       "    0.0,\n",
       "    0.02,\n",
       "    0.01,\n",
       "    0.01,\n",
       "    0.01,\n",
       "    0.01,\n",
       "    0.01,\n",
       "    0.0,\n",
       "    0.01,\n",
       "    0.01,\n",
       "    0.01,\n",
       "    0.01],\n",
       "   'params': \"{'ES_mindelta': 0.0001, 'ES_monitor': 'val_loss', 'ES_patience': 10, 'batch_size': 512, 'class_weights': None, 'dropout': 0.1, 'feature_drop': (), 'max_epochs': 2000, 'metric': 'accuracy', 'n_internal_layers': (1, {'layer_1_1_nodes': 70.0, 'layer_2_1_nodes': 80.0}), 'optimizer': {'adam_params': None, 'name': 'Adam'}}\"},\n",
       "  'misc': {'tid': 46,\n",
       "   'cmd': ('domain_attachment', 'FMinIter_Domain'),\n",
       "   'workdir': None,\n",
       "   'idxs': {'ES_mindelta': [46],\n",
       "    'ES_monitor': [46],\n",
       "    'ES_patience': [46],\n",
       "    'adam_params': [46],\n",
       "    'batch_size': [46],\n",
       "    'dropout': [46],\n",
       "    'layer_1_0_nodes': [],\n",
       "    'layer_1_0_w_nodes': [],\n",
       "    'layer_1_1_nodes': [46],\n",
       "    'layer_1_1_w_nodes': [],\n",
       "    'layer_2_1_nodes': [46],\n",
       "    'layer_2_1_w_nodes': [],\n",
       "    'max_epochs': [46],\n",
       "    'metric': [46],\n",
       "    'n_internal_layers': [46],\n",
       "    'optimizer': [46]},\n",
       "   'vals': {'ES_mindelta': [0],\n",
       "    'ES_monitor': [0],\n",
       "    'ES_patience': [0],\n",
       "    'adam_params': [0],\n",
       "    'batch_size': [0],\n",
       "    'dropout': [1],\n",
       "    'layer_1_0_nodes': [],\n",
       "    'layer_1_0_w_nodes': [],\n",
       "    'layer_1_1_nodes': [70.0],\n",
       "    'layer_1_1_w_nodes': [],\n",
       "    'layer_2_1_nodes': [80.0],\n",
       "    'layer_2_1_w_nodes': [],\n",
       "    'max_epochs': [0],\n",
       "    'metric': [0],\n",
       "    'n_internal_layers': [3],\n",
       "    'optimizer': [0]}},\n",
       "  'exp_key': None,\n",
       "  'owner': None,\n",
       "  'version': 0,\n",
       "  'book_time': datetime.datetime(2022, 3, 28, 18, 30, 19, 939000),\n",
       "  'refresh_time': datetime.datetime(2022, 3, 28, 18, 31, 36, 952000)},\n",
       " {'state': 2,\n",
       "  'tid': 25,\n",
       "  'spec': None,\n",
       "  'result': {'loss': -0.7512169228737913,\n",
       "   'status': 'ok',\n",
       "   'metrics': {'f2score': 0.7512169228737913},\n",
       "   'thresholds': [0.0,\n",
       "    0.01,\n",
       "    0.01,\n",
       "    0.06,\n",
       "    0.02,\n",
       "    0.0,\n",
       "    0.05,\n",
       "    0.03,\n",
       "    0.01,\n",
       "    0.01,\n",
       "    0.01,\n",
       "    0.01,\n",
       "    0.0,\n",
       "    0.01,\n",
       "    0.05,\n",
       "    0.01,\n",
       "    0.01],\n",
       "   'params': \"{'ES_mindelta': 0.0001, 'ES_monitor': 'val_loss', 'ES_patience': 10, 'batch_size': 512, 'class_weights': None, 'dropout': None, 'feature_drop': (), 'max_epochs': 2000, 'metric': 'accuracy', 'n_internal_layers': (0, {'layer_1_0_nodes': 20.0}), 'optimizer': {'adam_params': None, 'name': 'Adam'}}\"},\n",
       "  'misc': {'tid': 25,\n",
       "   'cmd': ('domain_attachment', 'FMinIter_Domain'),\n",
       "   'workdir': None,\n",
       "   'idxs': {'ES_mindelta': [25],\n",
       "    'ES_monitor': [25],\n",
       "    'ES_patience': [25],\n",
       "    'adam_params': [25],\n",
       "    'batch_size': [25],\n",
       "    'dropout': [25],\n",
       "    'layer_1_0_nodes': [25],\n",
       "    'layer_1_0_w_nodes': [],\n",
       "    'layer_1_1_nodes': [],\n",
       "    'layer_1_1_w_nodes': [],\n",
       "    'layer_2_1_nodes': [],\n",
       "    'layer_2_1_w_nodes': [],\n",
       "    'max_epochs': [25],\n",
       "    'metric': [25],\n",
       "    'n_internal_layers': [25],\n",
       "    'optimizer': [25]},\n",
       "   'vals': {'ES_mindelta': [0],\n",
       "    'ES_monitor': [0],\n",
       "    'ES_patience': [0],\n",
       "    'adam_params': [0],\n",
       "    'batch_size': [0],\n",
       "    'dropout': [0],\n",
       "    'layer_1_0_nodes': [20.0],\n",
       "    'layer_1_0_w_nodes': [],\n",
       "    'layer_1_1_nodes': [],\n",
       "    'layer_1_1_w_nodes': [],\n",
       "    'layer_2_1_nodes': [],\n",
       "    'layer_2_1_w_nodes': [],\n",
       "    'max_epochs': [0],\n",
       "    'metric': [0],\n",
       "    'n_internal_layers': [2],\n",
       "    'optimizer': [0]}},\n",
       "  'exp_key': None,\n",
       "  'owner': None,\n",
       "  'version': 0,\n",
       "  'book_time': datetime.datetime(2022, 3, 28, 18, 2, 2, 494000),\n",
       "  'refresh_time': datetime.datetime(2022, 3, 28, 18, 3, 24, 995000)},\n",
       " {'state': 2,\n",
       "  'tid': 39,\n",
       "  'spec': None,\n",
       "  'result': {'loss': -0.7502937454601855,\n",
       "   'status': 'ok',\n",
       "   'metrics': {'f2score': 0.7502937454601855},\n",
       "   'thresholds': [0.0,\n",
       "    0.01,\n",
       "    0.01,\n",
       "    0.01,\n",
       "    0.01,\n",
       "    0.0,\n",
       "    0.02,\n",
       "    0.01,\n",
       "    0.01,\n",
       "    0.01,\n",
       "    0.01,\n",
       "    0.01,\n",
       "    0.01,\n",
       "    0.01,\n",
       "    0.01,\n",
       "    0.01,\n",
       "    0.0],\n",
       "   'params': \"{'ES_mindelta': 0.0001, 'ES_monitor': 'val_loss', 'ES_patience': 10, 'batch_size': 512, 'class_weights': None, 'dropout': 0.3, 'feature_drop': (), 'max_epochs': 2000, 'metric': 'accuracy', 'n_internal_layers': (1, {'layer_1_1_nodes': 90.0, 'layer_2_1_nodes': 100.0}), 'optimizer': {'adam_params': None, 'name': 'Adam'}}\"},\n",
       "  'misc': {'tid': 39,\n",
       "   'cmd': ('domain_attachment', 'FMinIter_Domain'),\n",
       "   'workdir': None,\n",
       "   'idxs': {'ES_mindelta': [39],\n",
       "    'ES_monitor': [39],\n",
       "    'ES_patience': [39],\n",
       "    'adam_params': [39],\n",
       "    'batch_size': [39],\n",
       "    'dropout': [39],\n",
       "    'layer_1_0_nodes': [],\n",
       "    'layer_1_0_w_nodes': [],\n",
       "    'layer_1_1_nodes': [39],\n",
       "    'layer_1_1_w_nodes': [],\n",
       "    'layer_2_1_nodes': [39],\n",
       "    'layer_2_1_w_nodes': [],\n",
       "    'max_epochs': [39],\n",
       "    'metric': [39],\n",
       "    'n_internal_layers': [39],\n",
       "    'optimizer': [39]},\n",
       "   'vals': {'ES_mindelta': [0],\n",
       "    'ES_monitor': [0],\n",
       "    'ES_patience': [0],\n",
       "    'adam_params': [0],\n",
       "    'batch_size': [0],\n",
       "    'dropout': [3],\n",
       "    'layer_1_0_nodes': [],\n",
       "    'layer_1_0_w_nodes': [],\n",
       "    'layer_1_1_nodes': [90.0],\n",
       "    'layer_1_1_w_nodes': [],\n",
       "    'layer_2_1_nodes': [100.0],\n",
       "    'layer_2_1_w_nodes': [],\n",
       "    'max_epochs': [0],\n",
       "    'metric': [0],\n",
       "    'n_internal_layers': [3],\n",
       "    'optimizer': [0]}},\n",
       "  'exp_key': None,\n",
       "  'owner': None,\n",
       "  'version': 0,\n",
       "  'book_time': datetime.datetime(2022, 3, 28, 18, 21, 4, 540000),\n",
       "  'refresh_time': datetime.datetime(2022, 3, 28, 18, 22, 24, 206000)},\n",
       " {'state': 2,\n",
       "  'tid': 15,\n",
       "  'spec': None,\n",
       "  'result': {'loss': -0.7498531091418765,\n",
       "   'status': 'ok',\n",
       "   'metrics': {'f2score': 0.7498531091418765},\n",
       "   'thresholds': [0.0,\n",
       "    0.01,\n",
       "    0.01,\n",
       "    0.01,\n",
       "    0.01,\n",
       "    0.0,\n",
       "    0.01,\n",
       "    0.01,\n",
       "    0.01,\n",
       "    0.01,\n",
       "    0.01,\n",
       "    0.01,\n",
       "    0.01,\n",
       "    0.01,\n",
       "    0.01,\n",
       "    0.01,\n",
       "    0.01],\n",
       "   'params': \"{'ES_mindelta': 0.0001, 'ES_monitor': 'val_loss', 'ES_patience': 10, 'batch_size': 512, 'class_weights': None, 'dropout': 0.2, 'feature_drop': (), 'max_epochs': 2000, 'metric': 'accuracy', 'n_internal_layers': (0, {'layer_1_0_nodes': 300.0}), 'optimizer': {'adam_params': None, 'name': 'Adam'}}\"},\n",
       "  'misc': {'tid': 15,\n",
       "   'cmd': ('domain_attachment', 'FMinIter_Domain'),\n",
       "   'workdir': None,\n",
       "   'idxs': {'ES_mindelta': [15],\n",
       "    'ES_monitor': [15],\n",
       "    'ES_patience': [15],\n",
       "    'adam_params': [15],\n",
       "    'batch_size': [15],\n",
       "    'dropout': [15],\n",
       "    'layer_1_0_nodes': [],\n",
       "    'layer_1_0_w_nodes': [15],\n",
       "    'layer_1_1_nodes': [],\n",
       "    'layer_1_1_w_nodes': [],\n",
       "    'layer_2_1_nodes': [],\n",
       "    'layer_2_1_w_nodes': [],\n",
       "    'max_epochs': [15],\n",
       "    'metric': [15],\n",
       "    'n_internal_layers': [15],\n",
       "    'optimizer': [15]},\n",
       "   'vals': {'ES_mindelta': [0],\n",
       "    'ES_monitor': [0],\n",
       "    'ES_patience': [0],\n",
       "    'adam_params': [0],\n",
       "    'batch_size': [0],\n",
       "    'dropout': [2],\n",
       "    'layer_1_0_nodes': [],\n",
       "    'layer_1_0_w_nodes': [300.0],\n",
       "    'layer_1_1_nodes': [],\n",
       "    'layer_1_1_w_nodes': [],\n",
       "    'layer_2_1_nodes': [],\n",
       "    'layer_2_1_w_nodes': [],\n",
       "    'max_epochs': [0],\n",
       "    'metric': [0],\n",
       "    'n_internal_layers': [0],\n",
       "    'optimizer': [0]}},\n",
       "  'exp_key': None,\n",
       "  'owner': None,\n",
       "  'version': 0,\n",
       "  'book_time': datetime.datetime(2022, 3, 28, 17, 49, 1, 928000),\n",
       "  'refresh_time': datetime.datetime(2022, 3, 28, 17, 50, 16, 552000)},\n",
       " {'state': 2,\n",
       "  'tid': 9,\n",
       "  'spec': None,\n",
       "  'result': {'loss': -0.7489511888631533,\n",
       "   'status': 'ok',\n",
       "   'metrics': {'f2score': 0.7489511888631533},\n",
       "   'thresholds': [0.0,\n",
       "    0.01,\n",
       "    0.01,\n",
       "    0.01,\n",
       "    0.01,\n",
       "    0.0,\n",
       "    0.01,\n",
       "    0.01,\n",
       "    0.01,\n",
       "    0.01,\n",
       "    0.01,\n",
       "    0.01,\n",
       "    0.0,\n",
       "    0.01,\n",
       "    0.01,\n",
       "    0.01,\n",
       "    0.01],\n",
       "   'params': \"{'ES_mindelta': 0.0001, 'ES_monitor': 'val_loss', 'ES_patience': 10, 'batch_size': 512, 'class_weights': None, 'dropout': None, 'feature_drop': (), 'max_epochs': 2000, 'metric': 'accuracy', 'n_internal_layers': (0, {'layer_1_0_nodes': 1100.0}), 'optimizer': {'adam_params': None, 'name': 'Adam'}}\"},\n",
       "  'misc': {'tid': 9,\n",
       "   'cmd': ('domain_attachment', 'FMinIter_Domain'),\n",
       "   'workdir': None,\n",
       "   'idxs': {'ES_mindelta': [9],\n",
       "    'ES_monitor': [9],\n",
       "    'ES_patience': [9],\n",
       "    'adam_params': [9],\n",
       "    'batch_size': [9],\n",
       "    'dropout': [9],\n",
       "    'layer_1_0_nodes': [],\n",
       "    'layer_1_0_w_nodes': [9],\n",
       "    'layer_1_1_nodes': [],\n",
       "    'layer_1_1_w_nodes': [],\n",
       "    'layer_2_1_nodes': [],\n",
       "    'layer_2_1_w_nodes': [],\n",
       "    'max_epochs': [9],\n",
       "    'metric': [9],\n",
       "    'n_internal_layers': [9],\n",
       "    'optimizer': [9]},\n",
       "   'vals': {'ES_mindelta': [0],\n",
       "    'ES_monitor': [0],\n",
       "    'ES_patience': [0],\n",
       "    'adam_params': [0],\n",
       "    'batch_size': [0],\n",
       "    'dropout': [0],\n",
       "    'layer_1_0_nodes': [],\n",
       "    'layer_1_0_w_nodes': [1100.0],\n",
       "    'layer_1_1_nodes': [],\n",
       "    'layer_1_1_w_nodes': [],\n",
       "    'layer_2_1_nodes': [],\n",
       "    'layer_2_1_w_nodes': [],\n",
       "    'max_epochs': [0],\n",
       "    'metric': [0],\n",
       "    'n_internal_layers': [0],\n",
       "    'optimizer': [0]}},\n",
       "  'exp_key': None,\n",
       "  'owner': None,\n",
       "  'version': 0,\n",
       "  'book_time': datetime.datetime(2022, 3, 28, 17, 41, 26, 209000),\n",
       "  'refresh_time': datetime.datetime(2022, 3, 28, 17, 42, 39, 844000)},\n",
       " {'state': 2,\n",
       "  'tid': 44,\n",
       "  'spec': None,\n",
       "  'result': {'loss': -0.7477250110196592,\n",
       "   'status': 'ok',\n",
       "   'metrics': {'f2score': 0.7477250110196592},\n",
       "   'thresholds': [0.0,\n",
       "    0.01,\n",
       "    0.01,\n",
       "    0.01,\n",
       "    0.01,\n",
       "    0.0,\n",
       "    0.03,\n",
       "    0.01,\n",
       "    0.01,\n",
       "    0.01,\n",
       "    0.01,\n",
       "    0.01,\n",
       "    0.0,\n",
       "    0.01,\n",
       "    0.01,\n",
       "    0.01,\n",
       "    0.01],\n",
       "   'params': \"{'ES_mindelta': 0.0001, 'ES_monitor': 'val_loss', 'ES_patience': 10, 'batch_size': 512, 'class_weights': None, 'dropout': 0.1, 'feature_drop': (), 'max_epochs': 2000, 'metric': 'accuracy', 'n_internal_layers': (1, {'layer_1_1_nodes': 90.0, 'layer_2_1_nodes': 80.0}), 'optimizer': {'adam_params': None, 'name': 'Adam'}}\"},\n",
       "  'misc': {'tid': 44,\n",
       "   'cmd': ('domain_attachment', 'FMinIter_Domain'),\n",
       "   'workdir': None,\n",
       "   'idxs': {'ES_mindelta': [44],\n",
       "    'ES_monitor': [44],\n",
       "    'ES_patience': [44],\n",
       "    'adam_params': [44],\n",
       "    'batch_size': [44],\n",
       "    'dropout': [44],\n",
       "    'layer_1_0_nodes': [],\n",
       "    'layer_1_0_w_nodes': [],\n",
       "    'layer_1_1_nodes': [44],\n",
       "    'layer_1_1_w_nodes': [],\n",
       "    'layer_2_1_nodes': [44],\n",
       "    'layer_2_1_w_nodes': [],\n",
       "    'max_epochs': [44],\n",
       "    'metric': [44],\n",
       "    'n_internal_layers': [44],\n",
       "    'optimizer': [44]},\n",
       "   'vals': {'ES_mindelta': [0],\n",
       "    'ES_monitor': [0],\n",
       "    'ES_patience': [0],\n",
       "    'adam_params': [0],\n",
       "    'batch_size': [0],\n",
       "    'dropout': [1],\n",
       "    'layer_1_0_nodes': [],\n",
       "    'layer_1_0_w_nodes': [],\n",
       "    'layer_1_1_nodes': [90.0],\n",
       "    'layer_1_1_w_nodes': [],\n",
       "    'layer_2_1_nodes': [80.0],\n",
       "    'layer_2_1_w_nodes': [],\n",
       "    'max_epochs': [0],\n",
       "    'metric': [0],\n",
       "    'n_internal_layers': [3],\n",
       "    'optimizer': [0]}},\n",
       "  'exp_key': None,\n",
       "  'owner': None,\n",
       "  'version': 0,\n",
       "  'book_time': datetime.datetime(2022, 3, 28, 18, 27, 48, 397000),\n",
       "  'refresh_time': datetime.datetime(2022, 3, 28, 18, 29, 2, 718000)},\n",
       " {'state': 2,\n",
       "  'tid': 11,\n",
       "  'spec': None,\n",
       "  'result': {'loss': -0.7467738990337904,\n",
       "   'status': 'ok',\n",
       "   'metrics': {'f2score': 0.7467738990337904},\n",
       "   'thresholds': [0.0,\n",
       "    0.01,\n",
       "    0.01,\n",
       "    0.01,\n",
       "    0.01,\n",
       "    0.0,\n",
       "    0.01,\n",
       "    0.01,\n",
       "    0.01,\n",
       "    0.01,\n",
       "    0.01,\n",
       "    0.01,\n",
       "    0.0,\n",
       "    0.01,\n",
       "    0.01,\n",
       "    0.01,\n",
       "    0.01],\n",
       "   'params': \"{'ES_mindelta': 0.0001, 'ES_monitor': 'val_loss', 'ES_patience': 10, 'batch_size': 512, 'class_weights': None, 'dropout': 0.2, 'feature_drop': (), 'max_epochs': 2000, 'metric': 'accuracy', 'n_internal_layers': (0, {'layer_1_0_nodes': 900.0}), 'optimizer': {'adam_params': None, 'name': 'Adam'}}\"},\n",
       "  'misc': {'tid': 11,\n",
       "   'cmd': ('domain_attachment', 'FMinIter_Domain'),\n",
       "   'workdir': None,\n",
       "   'idxs': {'ES_mindelta': [11],\n",
       "    'ES_monitor': [11],\n",
       "    'ES_patience': [11],\n",
       "    'adam_params': [11],\n",
       "    'batch_size': [11],\n",
       "    'dropout': [11],\n",
       "    'layer_1_0_nodes': [],\n",
       "    'layer_1_0_w_nodes': [11],\n",
       "    'layer_1_1_nodes': [],\n",
       "    'layer_1_1_w_nodes': [],\n",
       "    'layer_2_1_nodes': [],\n",
       "    'layer_2_1_w_nodes': [],\n",
       "    'max_epochs': [11],\n",
       "    'metric': [11],\n",
       "    'n_internal_layers': [11],\n",
       "    'optimizer': [11]},\n",
       "   'vals': {'ES_mindelta': [0],\n",
       "    'ES_monitor': [0],\n",
       "    'ES_patience': [0],\n",
       "    'adam_params': [0],\n",
       "    'batch_size': [0],\n",
       "    'dropout': [2],\n",
       "    'layer_1_0_nodes': [],\n",
       "    'layer_1_0_w_nodes': [900.0],\n",
       "    'layer_1_1_nodes': [],\n",
       "    'layer_1_1_w_nodes': [],\n",
       "    'layer_2_1_nodes': [],\n",
       "    'layer_2_1_w_nodes': [],\n",
       "    'max_epochs': [0],\n",
       "    'metric': [0],\n",
       "    'n_internal_layers': [0],\n",
       "    'optimizer': [0]}},\n",
       "  'exp_key': None,\n",
       "  'owner': None,\n",
       "  'version': 0,\n",
       "  'book_time': datetime.datetime(2022, 3, 28, 17, 44, 2, 518000),\n",
       "  'refresh_time': datetime.datetime(2022, 3, 28, 17, 45, 17, 237000)},\n",
       " {'state': 2,\n",
       "  'tid': 17,\n",
       "  'spec': None,\n",
       "  'result': {'loss': -0.7465662030684076,\n",
       "   'status': 'ok',\n",
       "   'metrics': {'f2score': 0.7465662030684076},\n",
       "   'thresholds': [0.0,\n",
       "    0.01,\n",
       "    0.01,\n",
       "    0.01,\n",
       "    0.01,\n",
       "    0.0,\n",
       "    0.01,\n",
       "    0.01,\n",
       "    0.01,\n",
       "    0.01,\n",
       "    0.01,\n",
       "    0.01,\n",
       "    0.0,\n",
       "    0.01,\n",
       "    0.01,\n",
       "    0.01,\n",
       "    0.01],\n",
       "   'params': \"{'ES_mindelta': 0.0001, 'ES_monitor': 'val_loss', 'ES_patience': 10, 'batch_size': 512, 'class_weights': None, 'dropout': 0.3, 'feature_drop': (), 'max_epochs': 2000, 'metric': 'accuracy', 'n_internal_layers': (0, {'layer_1_0_nodes': 900.0}), 'optimizer': {'adam_params': None, 'name': 'Adam'}}\"},\n",
       "  'misc': {'tid': 17,\n",
       "   'cmd': ('domain_attachment', 'FMinIter_Domain'),\n",
       "   'workdir': None,\n",
       "   'idxs': {'ES_mindelta': [17],\n",
       "    'ES_monitor': [17],\n",
       "    'ES_patience': [17],\n",
       "    'adam_params': [17],\n",
       "    'batch_size': [17],\n",
       "    'dropout': [17],\n",
       "    'layer_1_0_nodes': [],\n",
       "    'layer_1_0_w_nodes': [17],\n",
       "    'layer_1_1_nodes': [],\n",
       "    'layer_1_1_w_nodes': [],\n",
       "    'layer_2_1_nodes': [],\n",
       "    'layer_2_1_w_nodes': [],\n",
       "    'max_epochs': [17],\n",
       "    'metric': [17],\n",
       "    'n_internal_layers': [17],\n",
       "    'optimizer': [17]},\n",
       "   'vals': {'ES_mindelta': [0],\n",
       "    'ES_monitor': [0],\n",
       "    'ES_patience': [0],\n",
       "    'adam_params': [0],\n",
       "    'batch_size': [0],\n",
       "    'dropout': [3],\n",
       "    'layer_1_0_nodes': [],\n",
       "    'layer_1_0_w_nodes': [900.0],\n",
       "    'layer_1_1_nodes': [],\n",
       "    'layer_1_1_w_nodes': [],\n",
       "    'layer_2_1_nodes': [],\n",
       "    'layer_2_1_w_nodes': [],\n",
       "    'max_epochs': [0],\n",
       "    'metric': [0],\n",
       "    'n_internal_layers': [0],\n",
       "    'optimizer': [0]}},\n",
       "  'exp_key': None,\n",
       "  'owner': None,\n",
       "  'version': 0,\n",
       "  'book_time': datetime.datetime(2022, 3, 28, 17, 51, 38, 132000),\n",
       "  'refresh_time': datetime.datetime(2022, 3, 28, 17, 52, 51, 829000)},\n",
       " {'state': 2,\n",
       "  'tid': 19,\n",
       "  'spec': None,\n",
       "  'result': {'loss': -0.7422047337335422,\n",
       "   'status': 'ok',\n",
       "   'metrics': {'f2score': 0.7422047337335422},\n",
       "   'thresholds': [0.0,\n",
       "    0.01,\n",
       "    0.01,\n",
       "    0.01,\n",
       "    0.01,\n",
       "    0.0,\n",
       "    0.01,\n",
       "    0.01,\n",
       "    0.01,\n",
       "    0.01,\n",
       "    0.01,\n",
       "    0.01,\n",
       "    0.0,\n",
       "    0.01,\n",
       "    0.01,\n",
       "    0.01,\n",
       "    0.01],\n",
       "   'params': \"{'ES_mindelta': 0.0001, 'ES_monitor': 'val_loss', 'ES_patience': 10, 'batch_size': 512, 'class_weights': None, 'dropout': 0.1, 'feature_drop': (), 'max_epochs': 2000, 'metric': 'accuracy', 'n_internal_layers': (0, {'layer_1_0_nodes': 1300.0}), 'optimizer': {'adam_params': None, 'name': 'Adam'}}\"},\n",
       "  'misc': {'tid': 19,\n",
       "   'cmd': ('domain_attachment', 'FMinIter_Domain'),\n",
       "   'workdir': None,\n",
       "   'idxs': {'ES_mindelta': [19],\n",
       "    'ES_monitor': [19],\n",
       "    'ES_patience': [19],\n",
       "    'adam_params': [19],\n",
       "    'batch_size': [19],\n",
       "    'dropout': [19],\n",
       "    'layer_1_0_nodes': [],\n",
       "    'layer_1_0_w_nodes': [19],\n",
       "    'layer_1_1_nodes': [],\n",
       "    'layer_1_1_w_nodes': [],\n",
       "    'layer_2_1_nodes': [],\n",
       "    'layer_2_1_w_nodes': [],\n",
       "    'max_epochs': [19],\n",
       "    'metric': [19],\n",
       "    'n_internal_layers': [19],\n",
       "    'optimizer': [19]},\n",
       "   'vals': {'ES_mindelta': [0],\n",
       "    'ES_monitor': [0],\n",
       "    'ES_patience': [0],\n",
       "    'adam_params': [0],\n",
       "    'batch_size': [0],\n",
       "    'dropout': [1],\n",
       "    'layer_1_0_nodes': [],\n",
       "    'layer_1_0_w_nodes': [1300.0],\n",
       "    'layer_1_1_nodes': [],\n",
       "    'layer_1_1_w_nodes': [],\n",
       "    'layer_2_1_nodes': [],\n",
       "    'layer_2_1_w_nodes': [],\n",
       "    'max_epochs': [0],\n",
       "    'metric': [0],\n",
       "    'n_internal_layers': [0],\n",
       "    'optimizer': [0]}},\n",
       "  'exp_key': None,\n",
       "  'owner': None,\n",
       "  'version': 0,\n",
       "  'book_time': datetime.datetime(2022, 3, 28, 17, 54, 9, 718000),\n",
       "  'refresh_time': datetime.datetime(2022, 3, 28, 17, 55, 25, 783000)},\n",
       " {'state': 2,\n",
       "  'tid': 45,\n",
       "  'spec': None,\n",
       "  'result': {'loss': -0.7412372467417748,\n",
       "   'status': 'ok',\n",
       "   'metrics': {'f2score': 0.7412372467417748},\n",
       "   'thresholds': [0.0,\n",
       "    0.01,\n",
       "    0.01,\n",
       "    0.01,\n",
       "    0.01,\n",
       "    0.0,\n",
       "    0.02,\n",
       "    0.02,\n",
       "    0.01,\n",
       "    0.01,\n",
       "    0.01,\n",
       "    0.01,\n",
       "    0.01,\n",
       "    0.01,\n",
       "    0.01,\n",
       "    0.01,\n",
       "    0.0],\n",
       "   'params': \"{'ES_mindelta': 0.0001, 'ES_monitor': 'val_loss', 'ES_patience': 10, 'batch_size': 512, 'class_weights': None, 'dropout': 0.1, 'feature_drop': (), 'max_epochs': 2000, 'metric': 'accuracy', 'n_internal_layers': (1, {'layer_1_1_nodes': 50.0, 'layer_2_1_nodes': 50.0}), 'optimizer': {'adam_params': None, 'name': 'Adam'}}\"},\n",
       "  'misc': {'tid': 45,\n",
       "   'cmd': ('domain_attachment', 'FMinIter_Domain'),\n",
       "   'workdir': None,\n",
       "   'idxs': {'ES_mindelta': [45],\n",
       "    'ES_monitor': [45],\n",
       "    'ES_patience': [45],\n",
       "    'adam_params': [45],\n",
       "    'batch_size': [45],\n",
       "    'dropout': [45],\n",
       "    'layer_1_0_nodes': [],\n",
       "    'layer_1_0_w_nodes': [],\n",
       "    'layer_1_1_nodes': [45],\n",
       "    'layer_1_1_w_nodes': [],\n",
       "    'layer_2_1_nodes': [45],\n",
       "    'layer_2_1_w_nodes': [],\n",
       "    'max_epochs': [45],\n",
       "    'metric': [45],\n",
       "    'n_internal_layers': [45],\n",
       "    'optimizer': [45]},\n",
       "   'vals': {'ES_mindelta': [0],\n",
       "    'ES_monitor': [0],\n",
       "    'ES_patience': [0],\n",
       "    'adam_params': [0],\n",
       "    'batch_size': [0],\n",
       "    'dropout': [1],\n",
       "    'layer_1_0_nodes': [],\n",
       "    'layer_1_0_w_nodes': [],\n",
       "    'layer_1_1_nodes': [50.0],\n",
       "    'layer_1_1_w_nodes': [],\n",
       "    'layer_2_1_nodes': [50.0],\n",
       "    'layer_2_1_w_nodes': [],\n",
       "    'max_epochs': [0],\n",
       "    'metric': [0],\n",
       "    'n_internal_layers': [3],\n",
       "    'optimizer': [0]}},\n",
       "  'exp_key': None,\n",
       "  'owner': None,\n",
       "  'version': 0,\n",
       "  'book_time': datetime.datetime(2022, 3, 28, 18, 29, 2, 759000),\n",
       "  'refresh_time': datetime.datetime(2022, 3, 28, 18, 30, 19, 854000)},\n",
       " {'state': 2,\n",
       "  'tid': 47,\n",
       "  'spec': None,\n",
       "  'result': {'loss': -0.7397192253741567,\n",
       "   'status': 'ok',\n",
       "   'metrics': {'f2score': 0.7397192253741567},\n",
       "   'thresholds': [0.0,\n",
       "    0.01,\n",
       "    0.01,\n",
       "    0.01,\n",
       "    0.01,\n",
       "    0.0,\n",
       "    0.01,\n",
       "    0.01,\n",
       "    0.01,\n",
       "    0.01,\n",
       "    0.01,\n",
       "    0.01,\n",
       "    0.01,\n",
       "    0.01,\n",
       "    0.01,\n",
       "    0.01,\n",
       "    0.0],\n",
       "   'params': \"{'ES_mindelta': 0.0001, 'ES_monitor': 'val_loss', 'ES_patience': 10, 'batch_size': 512, 'class_weights': None, 'dropout': 0.1, 'feature_drop': (), 'max_epochs': 2000, 'metric': 'accuracy', 'n_internal_layers': (1, {'layer_1_1_nodes': 100.0, 'layer_2_1_nodes': 100.0}), 'optimizer': {'adam_params': None, 'name': 'Adam'}}\"},\n",
       "  'misc': {'tid': 47,\n",
       "   'cmd': ('domain_attachment', 'FMinIter_Domain'),\n",
       "   'workdir': None,\n",
       "   'idxs': {'ES_mindelta': [47],\n",
       "    'ES_monitor': [47],\n",
       "    'ES_patience': [47],\n",
       "    'adam_params': [47],\n",
       "    'batch_size': [47],\n",
       "    'dropout': [47],\n",
       "    'layer_1_0_nodes': [],\n",
       "    'layer_1_0_w_nodes': [],\n",
       "    'layer_1_1_nodes': [47],\n",
       "    'layer_1_1_w_nodes': [],\n",
       "    'layer_2_1_nodes': [47],\n",
       "    'layer_2_1_w_nodes': [],\n",
       "    'max_epochs': [47],\n",
       "    'metric': [47],\n",
       "    'n_internal_layers': [47],\n",
       "    'optimizer': [47]},\n",
       "   'vals': {'ES_mindelta': [0],\n",
       "    'ES_monitor': [0],\n",
       "    'ES_patience': [0],\n",
       "    'adam_params': [0],\n",
       "    'batch_size': [0],\n",
       "    'dropout': [1],\n",
       "    'layer_1_0_nodes': [],\n",
       "    'layer_1_0_w_nodes': [],\n",
       "    'layer_1_1_nodes': [100.0],\n",
       "    'layer_1_1_w_nodes': [],\n",
       "    'layer_2_1_nodes': [100.0],\n",
       "    'layer_2_1_w_nodes': [],\n",
       "    'max_epochs': [0],\n",
       "    'metric': [0],\n",
       "    'n_internal_layers': [3],\n",
       "    'optimizer': [0]}},\n",
       "  'exp_key': None,\n",
       "  'owner': None,\n",
       "  'version': 0,\n",
       "  'book_time': datetime.datetime(2022, 3, 28, 18, 31, 37, 58000),\n",
       "  'refresh_time': datetime.datetime(2022, 3, 28, 18, 32, 52, 213000)},\n",
       " {'state': 2,\n",
       "  'tid': 32,\n",
       "  'spec': None,\n",
       "  'result': {'loss': -0.7347152625340494,\n",
       "   'status': 'ok',\n",
       "   'metrics': {'f2score': 0.7347152625340494},\n",
       "   'thresholds': [0.0,\n",
       "    0.01,\n",
       "    0.01,\n",
       "    0.01,\n",
       "    0.02,\n",
       "    0.0,\n",
       "    0.06,\n",
       "    0.02,\n",
       "    0.01,\n",
       "    0.01,\n",
       "    0.01,\n",
       "    0.01,\n",
       "    0.13,\n",
       "    0.01,\n",
       "    0.01,\n",
       "    0.02,\n",
       "    0.0],\n",
       "   'params': \"{'ES_mindelta': 0.0001, 'ES_monitor': 'val_loss', 'ES_patience': 10, 'batch_size': 512, 'class_weights': None, 'dropout': 0.3, 'feature_drop': (), 'max_epochs': 2000, 'metric': 'accuracy', 'n_internal_layers': (0, {'layer_1_0_nodes': 40.0}), 'optimizer': {'adam_params': None, 'name': 'Adam'}}\"},\n",
       "  'misc': {'tid': 32,\n",
       "   'cmd': ('domain_attachment', 'FMinIter_Domain'),\n",
       "   'workdir': None,\n",
       "   'idxs': {'ES_mindelta': [32],\n",
       "    'ES_monitor': [32],\n",
       "    'ES_patience': [32],\n",
       "    'adam_params': [32],\n",
       "    'batch_size': [32],\n",
       "    'dropout': [32],\n",
       "    'layer_1_0_nodes': [32],\n",
       "    'layer_1_0_w_nodes': [],\n",
       "    'layer_1_1_nodes': [],\n",
       "    'layer_1_1_w_nodes': [],\n",
       "    'layer_2_1_nodes': [],\n",
       "    'layer_2_1_w_nodes': [],\n",
       "    'max_epochs': [32],\n",
       "    'metric': [32],\n",
       "    'n_internal_layers': [32],\n",
       "    'optimizer': [32]},\n",
       "   'vals': {'ES_mindelta': [0],\n",
       "    'ES_monitor': [0],\n",
       "    'ES_patience': [0],\n",
       "    'adam_params': [0],\n",
       "    'batch_size': [0],\n",
       "    'dropout': [3],\n",
       "    'layer_1_0_nodes': [40.0],\n",
       "    'layer_1_0_w_nodes': [],\n",
       "    'layer_1_1_nodes': [],\n",
       "    'layer_1_1_w_nodes': [],\n",
       "    'layer_2_1_nodes': [],\n",
       "    'layer_2_1_w_nodes': [],\n",
       "    'max_epochs': [0],\n",
       "    'metric': [0],\n",
       "    'n_internal_layers': [2],\n",
       "    'optimizer': [0]}},\n",
       "  'exp_key': None,\n",
       "  'owner': None,\n",
       "  'version': 0,\n",
       "  'book_time': datetime.datetime(2022, 3, 28, 18, 11, 41, 781000),\n",
       "  'refresh_time': datetime.datetime(2022, 3, 28, 18, 13, 5, 974000)},\n",
       " {'state': 2,\n",
       "  'tid': 27,\n",
       "  'spec': None,\n",
       "  'result': {'loss': -0.730960488033357,\n",
       "   'status': 'ok',\n",
       "   'metrics': {'f2score': 0.730960488033357},\n",
       "   'thresholds': [0.0,\n",
       "    0.01,\n",
       "    0.01,\n",
       "    0.01,\n",
       "    0.01,\n",
       "    0.0,\n",
       "    0.03,\n",
       "    0.01,\n",
       "    0.01,\n",
       "    0.01,\n",
       "    0.01,\n",
       "    0.01,\n",
       "    0.14,\n",
       "    0.01,\n",
       "    0.01,\n",
       "    0.01,\n",
       "    0.01],\n",
       "   'params': \"{'ES_mindelta': 0.0001, 'ES_monitor': 'val_loss', 'ES_patience': 10, 'batch_size': 512, 'class_weights': None, 'dropout': 0.2, 'feature_drop': (), 'max_epochs': 2000, 'metric': 'accuracy', 'n_internal_layers': (0, {'layer_1_0_nodes': 40.0}), 'optimizer': {'adam_params': None, 'name': 'Adam'}}\"},\n",
       "  'misc': {'tid': 27,\n",
       "   'cmd': ('domain_attachment', 'FMinIter_Domain'),\n",
       "   'workdir': None,\n",
       "   'idxs': {'ES_mindelta': [27],\n",
       "    'ES_monitor': [27],\n",
       "    'ES_patience': [27],\n",
       "    'adam_params': [27],\n",
       "    'batch_size': [27],\n",
       "    'dropout': [27],\n",
       "    'layer_1_0_nodes': [27],\n",
       "    'layer_1_0_w_nodes': [],\n",
       "    'layer_1_1_nodes': [],\n",
       "    'layer_1_1_w_nodes': [],\n",
       "    'layer_2_1_nodes': [],\n",
       "    'layer_2_1_w_nodes': [],\n",
       "    'max_epochs': [27],\n",
       "    'metric': [27],\n",
       "    'n_internal_layers': [27],\n",
       "    'optimizer': [27]},\n",
       "   'vals': {'ES_mindelta': [0],\n",
       "    'ES_monitor': [0],\n",
       "    'ES_patience': [0],\n",
       "    'adam_params': [0],\n",
       "    'batch_size': [0],\n",
       "    'dropout': [2],\n",
       "    'layer_1_0_nodes': [40.0],\n",
       "    'layer_1_0_w_nodes': [],\n",
       "    'layer_1_1_nodes': [],\n",
       "    'layer_1_1_w_nodes': [],\n",
       "    'layer_2_1_nodes': [],\n",
       "    'layer_2_1_w_nodes': [],\n",
       "    'max_epochs': [0],\n",
       "    'metric': [0],\n",
       "    'n_internal_layers': [2],\n",
       "    'optimizer': [0]}},\n",
       "  'exp_key': None,\n",
       "  'owner': None,\n",
       "  'version': 0,\n",
       "  'book_time': datetime.datetime(2022, 3, 28, 18, 4, 52, 877000),\n",
       "  'refresh_time': datetime.datetime(2022, 3, 28, 18, 6, 16, 695000)},\n",
       " {'state': 2,\n",
       "  'tid': 35,\n",
       "  'spec': None,\n",
       "  'result': {'loss': -0.7255194156337119,\n",
       "   'status': 'ok',\n",
       "   'metrics': {'f2score': 0.7255194156337119},\n",
       "   'thresholds': [0.0,\n",
       "    0.01,\n",
       "    0.01,\n",
       "    0.01,\n",
       "    0.01,\n",
       "    0.0,\n",
       "    0.02,\n",
       "    0.01,\n",
       "    0.01,\n",
       "    0.01,\n",
       "    0.01,\n",
       "    0.01,\n",
       "    0.09,\n",
       "    0.01,\n",
       "    0.02,\n",
       "    0.02,\n",
       "    0.01],\n",
       "   'params': \"{'ES_mindelta': 0.0001, 'ES_monitor': 'val_loss', 'ES_patience': 10, 'batch_size': 512, 'class_weights': None, 'dropout': 0.3, 'feature_drop': (), 'max_epochs': 2000, 'metric': 'accuracy', 'n_internal_layers': (0, {'layer_1_0_nodes': 30.0}), 'optimizer': {'adam_params': None, 'name': 'Adam'}}\"},\n",
       "  'misc': {'tid': 35,\n",
       "   'cmd': ('domain_attachment', 'FMinIter_Domain'),\n",
       "   'workdir': None,\n",
       "   'idxs': {'ES_mindelta': [35],\n",
       "    'ES_monitor': [35],\n",
       "    'ES_patience': [35],\n",
       "    'adam_params': [35],\n",
       "    'batch_size': [35],\n",
       "    'dropout': [35],\n",
       "    'layer_1_0_nodes': [35],\n",
       "    'layer_1_0_w_nodes': [],\n",
       "    'layer_1_1_nodes': [],\n",
       "    'layer_1_1_w_nodes': [],\n",
       "    'layer_2_1_nodes': [],\n",
       "    'layer_2_1_w_nodes': [],\n",
       "    'max_epochs': [35],\n",
       "    'metric': [35],\n",
       "    'n_internal_layers': [35],\n",
       "    'optimizer': [35]},\n",
       "   'vals': {'ES_mindelta': [0],\n",
       "    'ES_monitor': [0],\n",
       "    'ES_patience': [0],\n",
       "    'adam_params': [0],\n",
       "    'batch_size': [0],\n",
       "    'dropout': [3],\n",
       "    'layer_1_0_nodes': [30.0],\n",
       "    'layer_1_0_w_nodes': [],\n",
       "    'layer_1_1_nodes': [],\n",
       "    'layer_1_1_w_nodes': [],\n",
       "    'layer_2_1_nodes': [],\n",
       "    'layer_2_1_w_nodes': [],\n",
       "    'max_epochs': [0],\n",
       "    'metric': [0],\n",
       "    'n_internal_layers': [2],\n",
       "    'optimizer': [0]}},\n",
       "  'exp_key': None,\n",
       "  'owner': None,\n",
       "  'version': 0,\n",
       "  'book_time': datetime.datetime(2022, 3, 28, 18, 15, 38, 466000),\n",
       "  'refresh_time': datetime.datetime(2022, 3, 28, 18, 17, 5, 84000)},\n",
       " {'state': 2,\n",
       "  'tid': 40,\n",
       "  'spec': None,\n",
       "  'result': {'loss': -0.7200352968857214,\n",
       "   'status': 'ok',\n",
       "   'metrics': {'f2score': 0.7200352968857214},\n",
       "   'thresholds': [0.0,\n",
       "    0.01,\n",
       "    0.01,\n",
       "    0.02,\n",
       "    0.03,\n",
       "    0.0,\n",
       "    0.08,\n",
       "    0.04,\n",
       "    0.01,\n",
       "    0.01,\n",
       "    0.01,\n",
       "    0.01,\n",
       "    0.0,\n",
       "    0.01,\n",
       "    0.08,\n",
       "    0.02,\n",
       "    0.0],\n",
       "   'params': \"{'ES_mindelta': 0.0001, 'ES_monitor': 'val_loss', 'ES_patience': 10, 'batch_size': 512, 'class_weights': None, 'dropout': 0.1, 'feature_drop': (), 'max_epochs': 2000, 'metric': 'accuracy', 'n_internal_layers': (0, {'layer_1_0_nodes': 10.0}), 'optimizer': {'adam_params': None, 'name': 'Adam'}}\"},\n",
       "  'misc': {'tid': 40,\n",
       "   'cmd': ('domain_attachment', 'FMinIter_Domain'),\n",
       "   'workdir': None,\n",
       "   'idxs': {'ES_mindelta': [40],\n",
       "    'ES_monitor': [40],\n",
       "    'ES_patience': [40],\n",
       "    'adam_params': [40],\n",
       "    'batch_size': [40],\n",
       "    'dropout': [40],\n",
       "    'layer_1_0_nodes': [40],\n",
       "    'layer_1_0_w_nodes': [],\n",
       "    'layer_1_1_nodes': [],\n",
       "    'layer_1_1_w_nodes': [],\n",
       "    'layer_2_1_nodes': [],\n",
       "    'layer_2_1_w_nodes': [],\n",
       "    'max_epochs': [40],\n",
       "    'metric': [40],\n",
       "    'n_internal_layers': [40],\n",
       "    'optimizer': [40]},\n",
       "   'vals': {'ES_mindelta': [0],\n",
       "    'ES_monitor': [0],\n",
       "    'ES_patience': [0],\n",
       "    'adam_params': [0],\n",
       "    'batch_size': [0],\n",
       "    'dropout': [1],\n",
       "    'layer_1_0_nodes': [10.0],\n",
       "    'layer_1_0_w_nodes': [],\n",
       "    'layer_1_1_nodes': [],\n",
       "    'layer_1_1_w_nodes': [],\n",
       "    'layer_2_1_nodes': [],\n",
       "    'layer_2_1_w_nodes': [],\n",
       "    'max_epochs': [0],\n",
       "    'metric': [0],\n",
       "    'n_internal_layers': [2],\n",
       "    'optimizer': [0]}},\n",
       "  'exp_key': None,\n",
       "  'owner': None,\n",
       "  'version': 0,\n",
       "  'book_time': datetime.datetime(2022, 3, 28, 18, 22, 24, 241000),\n",
       "  'refresh_time': datetime.datetime(2022, 3, 28, 18, 23, 56, 592000)},\n",
       " {'state': 2,\n",
       "  'tid': 10,\n",
       "  'spec': None,\n",
       "  'result': {'loss': -0.7169813451405082,\n",
       "   'status': 'ok',\n",
       "   'metrics': {'f2score': 0.7169813451405082},\n",
       "   'thresholds': [0.0,\n",
       "    0.01,\n",
       "    0.01,\n",
       "    0.03,\n",
       "    0.02,\n",
       "    0.0,\n",
       "    0.06,\n",
       "    0.02,\n",
       "    0.01,\n",
       "    0.01,\n",
       "    0.01,\n",
       "    0.01,\n",
       "    0.36,\n",
       "    0.01,\n",
       "    0.01,\n",
       "    0.02,\n",
       "    0.0],\n",
       "   'params': \"{'ES_mindelta': 0.0001, 'ES_monitor': 'val_loss', 'ES_patience': 10, 'batch_size': 512, 'class_weights': None, 'dropout': 0.3, 'feature_drop': (), 'max_epochs': 2000, 'metric': 'accuracy', 'n_internal_layers': (1, {'layer_1_1_nodes': 20.0, 'layer_2_1_nodes': 60.0}), 'optimizer': {'adam_params': None, 'name': 'Adam'}}\"},\n",
       "  'misc': {'tid': 10,\n",
       "   'cmd': ('domain_attachment', 'FMinIter_Domain'),\n",
       "   'workdir': None,\n",
       "   'idxs': {'ES_mindelta': [10],\n",
       "    'ES_monitor': [10],\n",
       "    'ES_patience': [10],\n",
       "    'adam_params': [10],\n",
       "    'batch_size': [10],\n",
       "    'dropout': [10],\n",
       "    'layer_1_0_nodes': [],\n",
       "    'layer_1_0_w_nodes': [],\n",
       "    'layer_1_1_nodes': [10],\n",
       "    'layer_1_1_w_nodes': [],\n",
       "    'layer_2_1_nodes': [10],\n",
       "    'layer_2_1_w_nodes': [],\n",
       "    'max_epochs': [10],\n",
       "    'metric': [10],\n",
       "    'n_internal_layers': [10],\n",
       "    'optimizer': [10]},\n",
       "   'vals': {'ES_mindelta': [0],\n",
       "    'ES_monitor': [0],\n",
       "    'ES_patience': [0],\n",
       "    'adam_params': [0],\n",
       "    'batch_size': [0],\n",
       "    'dropout': [3],\n",
       "    'layer_1_0_nodes': [],\n",
       "    'layer_1_0_w_nodes': [],\n",
       "    'layer_1_1_nodes': [20.0],\n",
       "    'layer_1_1_w_nodes': [],\n",
       "    'layer_2_1_nodes': [60.0],\n",
       "    'layer_2_1_w_nodes': [],\n",
       "    'max_epochs': [0],\n",
       "    'metric': [0],\n",
       "    'n_internal_layers': [3],\n",
       "    'optimizer': [0]}},\n",
       "  'exp_key': None,\n",
       "  'owner': None,\n",
       "  'version': 0,\n",
       "  'book_time': datetime.datetime(2022, 3, 28, 17, 42, 39, 855000),\n",
       "  'refresh_time': datetime.datetime(2022, 3, 28, 17, 44, 2, 496000)},\n",
       " {'state': 2,\n",
       "  'tid': 21,\n",
       "  'spec': None,\n",
       "  'result': {'loss': -0.7163436749921333,\n",
       "   'status': 'ok',\n",
       "   'metrics': {'f2score': 0.7163436749921333},\n",
       "   'thresholds': [0.0,\n",
       "    0.01,\n",
       "    0.01,\n",
       "    0.01,\n",
       "    0.01,\n",
       "    0.0,\n",
       "    0.03,\n",
       "    0.03,\n",
       "    0.01,\n",
       "    0.01,\n",
       "    0.01,\n",
       "    0.01,\n",
       "    0.04,\n",
       "    0.01,\n",
       "    0.01,\n",
       "    0.02,\n",
       "    0.0],\n",
       "   'params': \"{'ES_mindelta': 0.0001, 'ES_monitor': 'val_loss', 'ES_patience': 10, 'batch_size': 512, 'class_weights': None, 'dropout': 0.3, 'feature_drop': (), 'max_epochs': 2000, 'metric': 'accuracy', 'n_internal_layers': (0, {'layer_1_0_nodes': 20.0}), 'optimizer': {'adam_params': None, 'name': 'Adam'}}\"},\n",
       "  'misc': {'tid': 21,\n",
       "   'cmd': ('domain_attachment', 'FMinIter_Domain'),\n",
       "   'workdir': None,\n",
       "   'idxs': {'ES_mindelta': [21],\n",
       "    'ES_monitor': [21],\n",
       "    'ES_patience': [21],\n",
       "    'adam_params': [21],\n",
       "    'batch_size': [21],\n",
       "    'dropout': [21],\n",
       "    'layer_1_0_nodes': [21],\n",
       "    'layer_1_0_w_nodes': [],\n",
       "    'layer_1_1_nodes': [],\n",
       "    'layer_1_1_w_nodes': [],\n",
       "    'layer_2_1_nodes': [],\n",
       "    'layer_2_1_w_nodes': [],\n",
       "    'max_epochs': [21],\n",
       "    'metric': [21],\n",
       "    'n_internal_layers': [21],\n",
       "    'optimizer': [21]},\n",
       "   'vals': {'ES_mindelta': [0],\n",
       "    'ES_monitor': [0],\n",
       "    'ES_patience': [0],\n",
       "    'adam_params': [0],\n",
       "    'batch_size': [0],\n",
       "    'dropout': [3],\n",
       "    'layer_1_0_nodes': [20.0],\n",
       "    'layer_1_0_w_nodes': [],\n",
       "    'layer_1_1_nodes': [],\n",
       "    'layer_1_1_w_nodes': [],\n",
       "    'layer_2_1_nodes': [],\n",
       "    'layer_2_1_w_nodes': [],\n",
       "    'max_epochs': [0],\n",
       "    'metric': [0],\n",
       "    'n_internal_layers': [2],\n",
       "    'optimizer': [0]}},\n",
       "  'exp_key': None,\n",
       "  'owner': None,\n",
       "  'version': 0,\n",
       "  'book_time': datetime.datetime(2022, 3, 28, 17, 56, 40, 401000),\n",
       "  'refresh_time': datetime.datetime(2022, 3, 28, 17, 58, 12, 159000)}]"
      ]
     },
     "execution_count": 187,
     "metadata": {},
     "output_type": "execute_result"
    }
   ],
   "source": [
    "sorted_trials"
   ]
  },
  {
   "cell_type": "code",
   "execution_count": 212,
   "id": "491c1af8",
   "metadata": {
    "collapsed": true
   },
   "outputs": [
    {
     "name": "stdout",
     "output_type": "stream",
     "text": [
      "CV best score: -0.7871359088133831:\n",
      "{'ES_mindelta': 0.0001, 'ES_monitor': 'val_loss', 'ES_patience': 10, 'batch_size': 512, 'class_weights': None, 'dropout': 0.1, 'feature_drop': (), 'max_epochs': 2000, 'metric': 'accuracy', 'n_internal_layers': (1, {'layer_1_1_nodes': 100.0, 'layer_2_1_nodes': 100.0}), 'optimizer': {'adam_params': None, 'name': 'Adam'}}\n"
     ]
    },
    {
     "ename": "KeyError",
     "evalue": "'result'",
     "output_type": "error",
     "traceback": [
      "\u001b[0;31m---------------------------------------------------------------------------\u001b[0m",
      "\u001b[0;31mKeyError\u001b[0m                                  Traceback (most recent call last)",
      "\u001b[0;32m/tmp/ipykernel_22464/2657779027.py\u001b[0m in \u001b[0;36m<module>\u001b[0;34m\u001b[0m\n\u001b[1;32m      5\u001b[0m     \u001b[0mprint\u001b[0m\u001b[0;34m(\u001b[0m\u001b[0;34m'CV best score: %s:'\u001b[0m\u001b[0;34m%\u001b[0m\u001b[0mt\u001b[0m\u001b[0;34m[\u001b[0m\u001b[0;34m'result'\u001b[0m\u001b[0;34m]\u001b[0m\u001b[0;34m[\u001b[0m\u001b[0;34m'loss'\u001b[0m\u001b[0;34m]\u001b[0m\u001b[0;34m)\u001b[0m\u001b[0;34m\u001b[0m\u001b[0;34m\u001b[0m\u001b[0m\n\u001b[1;32m      6\u001b[0m     \u001b[0mprint\u001b[0m\u001b[0;34m(\u001b[0m\u001b[0mt\u001b[0m\u001b[0;34m[\u001b[0m\u001b[0;34m'result'\u001b[0m\u001b[0;34m]\u001b[0m\u001b[0;34m[\u001b[0m\u001b[0;34m'params'\u001b[0m\u001b[0;34m]\u001b[0m\u001b[0;34m)\u001b[0m\u001b[0;34m\u001b[0m\u001b[0;34m\u001b[0m\u001b[0m\n\u001b[0;32m----> 7\u001b[0;31m     \u001b[0mY_pred_train\u001b[0m\u001b[0;34m,\u001b[0m \u001b[0mY_pred_test\u001b[0m\u001b[0;34m,\u001b[0m \u001b[0mthreshs\u001b[0m \u001b[0;34m=\u001b[0m \u001b[0mmodel_test\u001b[0m\u001b[0;34m(\u001b[0m\u001b[0meval\u001b[0m\u001b[0;34m(\u001b[0m\u001b[0mt\u001b[0m\u001b[0;34m[\u001b[0m\u001b[0;34m'result'\u001b[0m\u001b[0;34m]\u001b[0m\u001b[0;34m[\u001b[0m\u001b[0;34m'params'\u001b[0m\u001b[0;34m]\u001b[0m\u001b[0;34m)\u001b[0m\u001b[0;34m,\u001b[0m \u001b[0mX_test\u001b[0m\u001b[0;34m,\u001b[0m \u001b[0mY_test\u001b[0m\u001b[0;34m,\u001b[0m \u001b[0mX\u001b[0m\u001b[0;34m,\u001b[0m \u001b[0mY\u001b[0m\u001b[0;34m)\u001b[0m\u001b[0;34m\u001b[0m\u001b[0;34m\u001b[0m\u001b[0m\n\u001b[0m\u001b[1;32m      8\u001b[0m     \u001b[0mcnt\u001b[0m\u001b[0;34m+=\u001b[0m\u001b[0;36m1\u001b[0m\u001b[0;34m\u001b[0m\u001b[0;34m\u001b[0m\u001b[0m\n",
      "\u001b[0;32m/tmp/ipykernel_22464/232222024.py\u001b[0m in \u001b[0;36mmodel_test\u001b[0;34m(trial, X_test, Y_test, X_train, Y_train)\u001b[0m\n\u001b[1;32m      1\u001b[0m \u001b[0;32mdef\u001b[0m \u001b[0mmodel_test\u001b[0m\u001b[0;34m(\u001b[0m\u001b[0mtrial\u001b[0m\u001b[0;34m,\u001b[0m \u001b[0mX_test\u001b[0m\u001b[0;34m,\u001b[0m \u001b[0mY_test\u001b[0m\u001b[0;34m,\u001b[0m \u001b[0mX_train\u001b[0m\u001b[0;34m,\u001b[0m \u001b[0mY_train\u001b[0m\u001b[0;34m)\u001b[0m\u001b[0;34m:\u001b[0m\u001b[0;34m\u001b[0m\u001b[0;34m\u001b[0m\u001b[0m\n\u001b[0;32m----> 2\u001b[0;31m     \u001b[0mmodel\u001b[0m \u001b[0;34m=\u001b[0m \u001b[0mcreate_NN_model\u001b[0m\u001b[0;34m(\u001b[0m\u001b[0meval\u001b[0m\u001b[0;34m(\u001b[0m\u001b[0mtrial\u001b[0m\u001b[0;34m[\u001b[0m\u001b[0;34m'result'\u001b[0m\u001b[0;34m]\u001b[0m\u001b[0;34m[\u001b[0m\u001b[0;34m'params'\u001b[0m\u001b[0;34m]\u001b[0m\u001b[0;34m)\u001b[0m\u001b[0;34m,\u001b[0m \u001b[0mX_test\u001b[0m\u001b[0;34m,\u001b[0m \u001b[0mY_test\u001b[0m\u001b[0;34m)\u001b[0m\u001b[0;34m\u001b[0m\u001b[0;34m\u001b[0m\u001b[0m\n\u001b[0m\u001b[1;32m      3\u001b[0m     \u001b[0mfit_model\u001b[0m\u001b[0;34m(\u001b[0m\u001b[0mmodel\u001b[0m\u001b[0;34m,\u001b[0m \u001b[0mparams\u001b[0m\u001b[0;34m,\u001b[0m \u001b[0mX_train\u001b[0m\u001b[0;34m,\u001b[0m \u001b[0mY_train\u001b[0m\u001b[0;34m)\u001b[0m\u001b[0;34m\u001b[0m\u001b[0;34m\u001b[0m\u001b[0m\n\u001b[1;32m      4\u001b[0m     \u001b[0mY_pred_train\u001b[0m\u001b[0;34m=\u001b[0m\u001b[0mmodel\u001b[0m\u001b[0;34m.\u001b[0m\u001b[0mpredict\u001b[0m\u001b[0;34m(\u001b[0m\u001b[0mX_train\u001b[0m\u001b[0;34m)\u001b[0m\u001b[0;34m\u001b[0m\u001b[0;34m\u001b[0m\u001b[0m\n\u001b[1;32m      5\u001b[0m     \u001b[0mY_pred_test\u001b[0m\u001b[0;34m=\u001b[0m\u001b[0mmodel\u001b[0m\u001b[0;34m.\u001b[0m\u001b[0mpredict\u001b[0m\u001b[0;34m(\u001b[0m\u001b[0mX_test\u001b[0m\u001b[0;34m)\u001b[0m\u001b[0;34m\u001b[0m\u001b[0;34m\u001b[0m\u001b[0m\n",
      "\u001b[0;31mKeyError\u001b[0m: 'result'"
     ]
    }
   ],
   "source": [
    "cnt=1\n",
    "for t in sorted_trials:\n",
    "    if cnt>1:\n",
    "        break\n",
    "    print('CV best score: %s:'%t['result']['loss'])\n",
    "    print(t['result']['params'])\n",
    "    Y_pred_train, Y_pred_test, threshs = model_test(eval(t['result']['params']), X_test, Y_test, X, Y)\n",
    "    cnt+=1"
   ]
  },
  {
   "cell_type": "code",
   "execution_count": 269,
   "id": "456502ca",
   "metadata": {
    "scrolled": true
   },
   "outputs": [
    {
     "name": "stdout",
     "output_type": "stream",
     "text": [
      "threshs: [0.0, 0.01, 0.01, 0.01, 0.01, 0.0, 0.01, 0.01, 0.01, 0.01, 0.01, 0.01, 0.0, 0.01, 0.01, 0.01, 0.01] -- best score: 0.8309075220307095\n",
      "Test score: 0.6894332841217348\n"
     ]
    }
   ],
   "source": [
    "Y_pred_train, Y_pred_test, threshs = model_test(params, X_test, Y_test, X_train, Y_train)"
   ]
  },
  {
   "cell_type": "code",
   "execution_count": 425,
   "id": "cc380021",
   "metadata": {},
   "outputs": [
    {
     "name": "stdout",
     "output_type": "stream",
     "text": [
      "threshs: [0.0, 0.99, 0.99, 0.99, 0.0, 0.0, 0.99, 0.0, 0.94, 0.95, 0.97, 0.97, 0.0, 0.89, 0.99, 0.99, 0.89] -- best score: 0.7353907446178702\n"
     ]
    }
   ],
   "source": [
    "threshs, best_score = find_best_thresholds(Y_hat_val, Y_test)"
   ]
  },
  {
   "cell_type": "code",
   "execution_count": 270,
   "id": "f1fa8465",
   "metadata": {},
   "outputs": [
    {
     "data": {
      "application/vnd.plotly.v1+json": {
       "config": {
        "plotlyServerURL": "https://plot.ly"
       },
       "data": [
        {
         "name": "Y_hat proba | Y = 1",
         "type": "bar",
         "x": [
          "agriculture",
          "artisinal_mine",
          "bare_ground",
          "blooming",
          "blow_down",
          "clear",
          "cloudy",
          "conventional_mine",
          "cultivation",
          "habitation",
          "haze",
          "partly_cloudy",
          "primary",
          "road",
          "selective_logging",
          "slash_burn",
          "water"
         ],
         "y": [
          0.11759854853153229,
          2.2217414574754457e-09,
          0.00015787930169608444,
          2.075559677905403e-06,
          1.3725355074711842e-06,
          0.3062431514263153,
          0.028870224952697754,
          1.2658904324780451e-06,
          0.00021628130343742669,
          0.006460059434175491,
          0.005717714317142963,
          0.035998616367578506,
          0.6253968477249146,
          0.043437689542770386,
          3.680359441204928e-06,
          2.5372569822934565e-08,
          0.027261270210146904
         ]
        },
        {
         "name": "Y_hat proba | Y = 0",
         "type": "bar",
         "x": [
          "agriculture",
          "artisinal_mine",
          "bare_ground",
          "blooming",
          "blow_down",
          "clear",
          "cloudy",
          "conventional_mine",
          "cultivation",
          "habitation",
          "haze",
          "partly_cloudy",
          "primary",
          "road",
          "selective_logging",
          "slash_burn",
          "water"
         ],
         "y": [
          0.03680206090211868,
          1.355369204247836e-05,
          0.00016259086260106415,
          1.4026640201336704e-05,
          1.1137160072394181e-05,
          0.0978279560804367,
          0.0023904014378786087,
          2.877555562008638e-05,
          0.0007288335473276675,
          0.0020607763435691595,
          0.0015347680309787393,
          0.0030089730862528086,
          0.4257330298423767,
          0.015294834971427917,
          1.182450978376437e-05,
          1.1933988389500882e-05,
          0.0176706425845623
         ]
        }
       ],
       "layout": {
        "template": {
         "data": {
          "bar": [
           {
            "error_x": {
             "color": "#2a3f5f"
            },
            "error_y": {
             "color": "#2a3f5f"
            },
            "marker": {
             "line": {
              "color": "#E5ECF6",
              "width": 0.5
             },
             "pattern": {
              "fillmode": "overlay",
              "size": 10,
              "solidity": 0.2
             }
            },
            "type": "bar"
           }
          ],
          "barpolar": [
           {
            "marker": {
             "line": {
              "color": "#E5ECF6",
              "width": 0.5
             },
             "pattern": {
              "fillmode": "overlay",
              "size": 10,
              "solidity": 0.2
             }
            },
            "type": "barpolar"
           }
          ],
          "carpet": [
           {
            "aaxis": {
             "endlinecolor": "#2a3f5f",
             "gridcolor": "white",
             "linecolor": "white",
             "minorgridcolor": "white",
             "startlinecolor": "#2a3f5f"
            },
            "baxis": {
             "endlinecolor": "#2a3f5f",
             "gridcolor": "white",
             "linecolor": "white",
             "minorgridcolor": "white",
             "startlinecolor": "#2a3f5f"
            },
            "type": "carpet"
           }
          ],
          "choropleth": [
           {
            "colorbar": {
             "outlinewidth": 0,
             "ticks": ""
            },
            "type": "choropleth"
           }
          ],
          "contour": [
           {
            "colorbar": {
             "outlinewidth": 0,
             "ticks": ""
            },
            "colorscale": [
             [
              0,
              "#0d0887"
             ],
             [
              0.1111111111111111,
              "#46039f"
             ],
             [
              0.2222222222222222,
              "#7201a8"
             ],
             [
              0.3333333333333333,
              "#9c179e"
             ],
             [
              0.4444444444444444,
              "#bd3786"
             ],
             [
              0.5555555555555556,
              "#d8576b"
             ],
             [
              0.6666666666666666,
              "#ed7953"
             ],
             [
              0.7777777777777778,
              "#fb9f3a"
             ],
             [
              0.8888888888888888,
              "#fdca26"
             ],
             [
              1,
              "#f0f921"
             ]
            ],
            "type": "contour"
           }
          ],
          "contourcarpet": [
           {
            "colorbar": {
             "outlinewidth": 0,
             "ticks": ""
            },
            "type": "contourcarpet"
           }
          ],
          "heatmap": [
           {
            "colorbar": {
             "outlinewidth": 0,
             "ticks": ""
            },
            "colorscale": [
             [
              0,
              "#0d0887"
             ],
             [
              0.1111111111111111,
              "#46039f"
             ],
             [
              0.2222222222222222,
              "#7201a8"
             ],
             [
              0.3333333333333333,
              "#9c179e"
             ],
             [
              0.4444444444444444,
              "#bd3786"
             ],
             [
              0.5555555555555556,
              "#d8576b"
             ],
             [
              0.6666666666666666,
              "#ed7953"
             ],
             [
              0.7777777777777778,
              "#fb9f3a"
             ],
             [
              0.8888888888888888,
              "#fdca26"
             ],
             [
              1,
              "#f0f921"
             ]
            ],
            "type": "heatmap"
           }
          ],
          "heatmapgl": [
           {
            "colorbar": {
             "outlinewidth": 0,
             "ticks": ""
            },
            "colorscale": [
             [
              0,
              "#0d0887"
             ],
             [
              0.1111111111111111,
              "#46039f"
             ],
             [
              0.2222222222222222,
              "#7201a8"
             ],
             [
              0.3333333333333333,
              "#9c179e"
             ],
             [
              0.4444444444444444,
              "#bd3786"
             ],
             [
              0.5555555555555556,
              "#d8576b"
             ],
             [
              0.6666666666666666,
              "#ed7953"
             ],
             [
              0.7777777777777778,
              "#fb9f3a"
             ],
             [
              0.8888888888888888,
              "#fdca26"
             ],
             [
              1,
              "#f0f921"
             ]
            ],
            "type": "heatmapgl"
           }
          ],
          "histogram": [
           {
            "marker": {
             "pattern": {
              "fillmode": "overlay",
              "size": 10,
              "solidity": 0.2
             }
            },
            "type": "histogram"
           }
          ],
          "histogram2d": [
           {
            "colorbar": {
             "outlinewidth": 0,
             "ticks": ""
            },
            "colorscale": [
             [
              0,
              "#0d0887"
             ],
             [
              0.1111111111111111,
              "#46039f"
             ],
             [
              0.2222222222222222,
              "#7201a8"
             ],
             [
              0.3333333333333333,
              "#9c179e"
             ],
             [
              0.4444444444444444,
              "#bd3786"
             ],
             [
              0.5555555555555556,
              "#d8576b"
             ],
             [
              0.6666666666666666,
              "#ed7953"
             ],
             [
              0.7777777777777778,
              "#fb9f3a"
             ],
             [
              0.8888888888888888,
              "#fdca26"
             ],
             [
              1,
              "#f0f921"
             ]
            ],
            "type": "histogram2d"
           }
          ],
          "histogram2dcontour": [
           {
            "colorbar": {
             "outlinewidth": 0,
             "ticks": ""
            },
            "colorscale": [
             [
              0,
              "#0d0887"
             ],
             [
              0.1111111111111111,
              "#46039f"
             ],
             [
              0.2222222222222222,
              "#7201a8"
             ],
             [
              0.3333333333333333,
              "#9c179e"
             ],
             [
              0.4444444444444444,
              "#bd3786"
             ],
             [
              0.5555555555555556,
              "#d8576b"
             ],
             [
              0.6666666666666666,
              "#ed7953"
             ],
             [
              0.7777777777777778,
              "#fb9f3a"
             ],
             [
              0.8888888888888888,
              "#fdca26"
             ],
             [
              1,
              "#f0f921"
             ]
            ],
            "type": "histogram2dcontour"
           }
          ],
          "mesh3d": [
           {
            "colorbar": {
             "outlinewidth": 0,
             "ticks": ""
            },
            "type": "mesh3d"
           }
          ],
          "parcoords": [
           {
            "line": {
             "colorbar": {
              "outlinewidth": 0,
              "ticks": ""
             }
            },
            "type": "parcoords"
           }
          ],
          "pie": [
           {
            "automargin": true,
            "type": "pie"
           }
          ],
          "scatter": [
           {
            "marker": {
             "colorbar": {
              "outlinewidth": 0,
              "ticks": ""
             }
            },
            "type": "scatter"
           }
          ],
          "scatter3d": [
           {
            "line": {
             "colorbar": {
              "outlinewidth": 0,
              "ticks": ""
             }
            },
            "marker": {
             "colorbar": {
              "outlinewidth": 0,
              "ticks": ""
             }
            },
            "type": "scatter3d"
           }
          ],
          "scattercarpet": [
           {
            "marker": {
             "colorbar": {
              "outlinewidth": 0,
              "ticks": ""
             }
            },
            "type": "scattercarpet"
           }
          ],
          "scattergeo": [
           {
            "marker": {
             "colorbar": {
              "outlinewidth": 0,
              "ticks": ""
             }
            },
            "type": "scattergeo"
           }
          ],
          "scattergl": [
           {
            "marker": {
             "colorbar": {
              "outlinewidth": 0,
              "ticks": ""
             }
            },
            "type": "scattergl"
           }
          ],
          "scattermapbox": [
           {
            "marker": {
             "colorbar": {
              "outlinewidth": 0,
              "ticks": ""
             }
            },
            "type": "scattermapbox"
           }
          ],
          "scatterpolar": [
           {
            "marker": {
             "colorbar": {
              "outlinewidth": 0,
              "ticks": ""
             }
            },
            "type": "scatterpolar"
           }
          ],
          "scatterpolargl": [
           {
            "marker": {
             "colorbar": {
              "outlinewidth": 0,
              "ticks": ""
             }
            },
            "type": "scatterpolargl"
           }
          ],
          "scatterternary": [
           {
            "marker": {
             "colorbar": {
              "outlinewidth": 0,
              "ticks": ""
             }
            },
            "type": "scatterternary"
           }
          ],
          "surface": [
           {
            "colorbar": {
             "outlinewidth": 0,
             "ticks": ""
            },
            "colorscale": [
             [
              0,
              "#0d0887"
             ],
             [
              0.1111111111111111,
              "#46039f"
             ],
             [
              0.2222222222222222,
              "#7201a8"
             ],
             [
              0.3333333333333333,
              "#9c179e"
             ],
             [
              0.4444444444444444,
              "#bd3786"
             ],
             [
              0.5555555555555556,
              "#d8576b"
             ],
             [
              0.6666666666666666,
              "#ed7953"
             ],
             [
              0.7777777777777778,
              "#fb9f3a"
             ],
             [
              0.8888888888888888,
              "#fdca26"
             ],
             [
              1,
              "#f0f921"
             ]
            ],
            "type": "surface"
           }
          ],
          "table": [
           {
            "cells": {
             "fill": {
              "color": "#EBF0F8"
             },
             "line": {
              "color": "white"
             }
            },
            "header": {
             "fill": {
              "color": "#C8D4E3"
             },
             "line": {
              "color": "white"
             }
            },
            "type": "table"
           }
          ]
         },
         "layout": {
          "annotationdefaults": {
           "arrowcolor": "#2a3f5f",
           "arrowhead": 0,
           "arrowwidth": 1
          },
          "autotypenumbers": "strict",
          "coloraxis": {
           "colorbar": {
            "outlinewidth": 0,
            "ticks": ""
           }
          },
          "colorscale": {
           "diverging": [
            [
             0,
             "#8e0152"
            ],
            [
             0.1,
             "#c51b7d"
            ],
            [
             0.2,
             "#de77ae"
            ],
            [
             0.3,
             "#f1b6da"
            ],
            [
             0.4,
             "#fde0ef"
            ],
            [
             0.5,
             "#f7f7f7"
            ],
            [
             0.6,
             "#e6f5d0"
            ],
            [
             0.7,
             "#b8e186"
            ],
            [
             0.8,
             "#7fbc41"
            ],
            [
             0.9,
             "#4d9221"
            ],
            [
             1,
             "#276419"
            ]
           ],
           "sequential": [
            [
             0,
             "#0d0887"
            ],
            [
             0.1111111111111111,
             "#46039f"
            ],
            [
             0.2222222222222222,
             "#7201a8"
            ],
            [
             0.3333333333333333,
             "#9c179e"
            ],
            [
             0.4444444444444444,
             "#bd3786"
            ],
            [
             0.5555555555555556,
             "#d8576b"
            ],
            [
             0.6666666666666666,
             "#ed7953"
            ],
            [
             0.7777777777777778,
             "#fb9f3a"
            ],
            [
             0.8888888888888888,
             "#fdca26"
            ],
            [
             1,
             "#f0f921"
            ]
           ],
           "sequentialminus": [
            [
             0,
             "#0d0887"
            ],
            [
             0.1111111111111111,
             "#46039f"
            ],
            [
             0.2222222222222222,
             "#7201a8"
            ],
            [
             0.3333333333333333,
             "#9c179e"
            ],
            [
             0.4444444444444444,
             "#bd3786"
            ],
            [
             0.5555555555555556,
             "#d8576b"
            ],
            [
             0.6666666666666666,
             "#ed7953"
            ],
            [
             0.7777777777777778,
             "#fb9f3a"
            ],
            [
             0.8888888888888888,
             "#fdca26"
            ],
            [
             1,
             "#f0f921"
            ]
           ]
          },
          "colorway": [
           "#636efa",
           "#EF553B",
           "#00cc96",
           "#ab63fa",
           "#FFA15A",
           "#19d3f3",
           "#FF6692",
           "#B6E880",
           "#FF97FF",
           "#FECB52"
          ],
          "font": {
           "color": "#2a3f5f"
          },
          "geo": {
           "bgcolor": "white",
           "lakecolor": "white",
           "landcolor": "#E5ECF6",
           "showlakes": true,
           "showland": true,
           "subunitcolor": "white"
          },
          "hoverlabel": {
           "align": "left"
          },
          "hovermode": "closest",
          "mapbox": {
           "style": "light"
          },
          "paper_bgcolor": "white",
          "plot_bgcolor": "#E5ECF6",
          "polar": {
           "angularaxis": {
            "gridcolor": "white",
            "linecolor": "white",
            "ticks": ""
           },
           "bgcolor": "#E5ECF6",
           "radialaxis": {
            "gridcolor": "white",
            "linecolor": "white",
            "ticks": ""
           }
          },
          "scene": {
           "xaxis": {
            "backgroundcolor": "#E5ECF6",
            "gridcolor": "white",
            "gridwidth": 2,
            "linecolor": "white",
            "showbackground": true,
            "ticks": "",
            "zerolinecolor": "white"
           },
           "yaxis": {
            "backgroundcolor": "#E5ECF6",
            "gridcolor": "white",
            "gridwidth": 2,
            "linecolor": "white",
            "showbackground": true,
            "ticks": "",
            "zerolinecolor": "white"
           },
           "zaxis": {
            "backgroundcolor": "#E5ECF6",
            "gridcolor": "white",
            "gridwidth": 2,
            "linecolor": "white",
            "showbackground": true,
            "ticks": "",
            "zerolinecolor": "white"
           }
          },
          "shapedefaults": {
           "line": {
            "color": "#2a3f5f"
           }
          },
          "ternary": {
           "aaxis": {
            "gridcolor": "white",
            "linecolor": "white",
            "ticks": ""
           },
           "baxis": {
            "gridcolor": "white",
            "linecolor": "white",
            "ticks": ""
           },
           "bgcolor": "#E5ECF6",
           "caxis": {
            "gridcolor": "white",
            "linecolor": "white",
            "ticks": ""
           }
          },
          "title": {
           "x": 0.05
          },
          "xaxis": {
           "automargin": true,
           "gridcolor": "white",
           "linecolor": "white",
           "ticks": "",
           "title": {
            "standoff": 15
           },
           "zerolinecolor": "white",
           "zerolinewidth": 2
          },
          "yaxis": {
           "automargin": true,
           "gridcolor": "white",
           "linecolor": "white",
           "ticks": "",
           "title": {
            "standoff": 15
           },
           "zerolinecolor": "white",
           "zerolinewidth": 2
          }
         }
        }
       }
      },
      "text/html": [
       "<div>                            <div id=\"6775f357-bda9-4030-ac81-97132fc5fd9d\" class=\"plotly-graph-div\" style=\"height:525px; width:100%;\"></div>            <script type=\"text/javascript\">                require([\"plotly\"], function(Plotly) {                    window.PLOTLYENV=window.PLOTLYENV || {};                                    if (document.getElementById(\"6775f357-bda9-4030-ac81-97132fc5fd9d\")) {                    Plotly.newPlot(                        \"6775f357-bda9-4030-ac81-97132fc5fd9d\",                        [{\"name\":\"Y_hat proba | Y = 1\",\"x\":[\"agriculture\",\"artisinal_mine\",\"bare_ground\",\"blooming\",\"blow_down\",\"clear\",\"cloudy\",\"conventional_mine\",\"cultivation\",\"habitation\",\"haze\",\"partly_cloudy\",\"primary\",\"road\",\"selective_logging\",\"slash_burn\",\"water\"],\"y\":[0.11759854853153229,2.2217414574754457e-09,0.00015787930169608444,2.075559677905403e-06,1.3725355074711842e-06,0.3062431514263153,0.028870224952697754,1.2658904324780451e-06,0.00021628130343742669,0.006460059434175491,0.005717714317142963,0.035998616367578506,0.6253968477249146,0.043437689542770386,3.680359441204928e-06,2.5372569822934565e-08,0.027261270210146904],\"type\":\"bar\"},{\"name\":\"Y_hat proba | Y = 0\",\"x\":[\"agriculture\",\"artisinal_mine\",\"bare_ground\",\"blooming\",\"blow_down\",\"clear\",\"cloudy\",\"conventional_mine\",\"cultivation\",\"habitation\",\"haze\",\"partly_cloudy\",\"primary\",\"road\",\"selective_logging\",\"slash_burn\",\"water\"],\"y\":[0.03680206090211868,1.355369204247836e-05,0.00016259086260106415,1.4026640201336704e-05,1.1137160072394181e-05,0.0978279560804367,0.0023904014378786087,2.877555562008638e-05,0.0007288335473276675,0.0020607763435691595,0.0015347680309787393,0.0030089730862528086,0.4257330298423767,0.015294834971427917,1.182450978376437e-05,1.1933988389500882e-05,0.0176706425845623],\"type\":\"bar\"}],                        {\"template\":{\"data\":{\"bar\":[{\"error_x\":{\"color\":\"#2a3f5f\"},\"error_y\":{\"color\":\"#2a3f5f\"},\"marker\":{\"line\":{\"color\":\"#E5ECF6\",\"width\":0.5},\"pattern\":{\"fillmode\":\"overlay\",\"size\":10,\"solidity\":0.2}},\"type\":\"bar\"}],\"barpolar\":[{\"marker\":{\"line\":{\"color\":\"#E5ECF6\",\"width\":0.5},\"pattern\":{\"fillmode\":\"overlay\",\"size\":10,\"solidity\":0.2}},\"type\":\"barpolar\"}],\"carpet\":[{\"aaxis\":{\"endlinecolor\":\"#2a3f5f\",\"gridcolor\":\"white\",\"linecolor\":\"white\",\"minorgridcolor\":\"white\",\"startlinecolor\":\"#2a3f5f\"},\"baxis\":{\"endlinecolor\":\"#2a3f5f\",\"gridcolor\":\"white\",\"linecolor\":\"white\",\"minorgridcolor\":\"white\",\"startlinecolor\":\"#2a3f5f\"},\"type\":\"carpet\"}],\"choropleth\":[{\"colorbar\":{\"outlinewidth\":0,\"ticks\":\"\"},\"type\":\"choropleth\"}],\"contour\":[{\"colorbar\":{\"outlinewidth\":0,\"ticks\":\"\"},\"colorscale\":[[0.0,\"#0d0887\"],[0.1111111111111111,\"#46039f\"],[0.2222222222222222,\"#7201a8\"],[0.3333333333333333,\"#9c179e\"],[0.4444444444444444,\"#bd3786\"],[0.5555555555555556,\"#d8576b\"],[0.6666666666666666,\"#ed7953\"],[0.7777777777777778,\"#fb9f3a\"],[0.8888888888888888,\"#fdca26\"],[1.0,\"#f0f921\"]],\"type\":\"contour\"}],\"contourcarpet\":[{\"colorbar\":{\"outlinewidth\":0,\"ticks\":\"\"},\"type\":\"contourcarpet\"}],\"heatmap\":[{\"colorbar\":{\"outlinewidth\":0,\"ticks\":\"\"},\"colorscale\":[[0.0,\"#0d0887\"],[0.1111111111111111,\"#46039f\"],[0.2222222222222222,\"#7201a8\"],[0.3333333333333333,\"#9c179e\"],[0.4444444444444444,\"#bd3786\"],[0.5555555555555556,\"#d8576b\"],[0.6666666666666666,\"#ed7953\"],[0.7777777777777778,\"#fb9f3a\"],[0.8888888888888888,\"#fdca26\"],[1.0,\"#f0f921\"]],\"type\":\"heatmap\"}],\"heatmapgl\":[{\"colorbar\":{\"outlinewidth\":0,\"ticks\":\"\"},\"colorscale\":[[0.0,\"#0d0887\"],[0.1111111111111111,\"#46039f\"],[0.2222222222222222,\"#7201a8\"],[0.3333333333333333,\"#9c179e\"],[0.4444444444444444,\"#bd3786\"],[0.5555555555555556,\"#d8576b\"],[0.6666666666666666,\"#ed7953\"],[0.7777777777777778,\"#fb9f3a\"],[0.8888888888888888,\"#fdca26\"],[1.0,\"#f0f921\"]],\"type\":\"heatmapgl\"}],\"histogram\":[{\"marker\":{\"pattern\":{\"fillmode\":\"overlay\",\"size\":10,\"solidity\":0.2}},\"type\":\"histogram\"}],\"histogram2d\":[{\"colorbar\":{\"outlinewidth\":0,\"ticks\":\"\"},\"colorscale\":[[0.0,\"#0d0887\"],[0.1111111111111111,\"#46039f\"],[0.2222222222222222,\"#7201a8\"],[0.3333333333333333,\"#9c179e\"],[0.4444444444444444,\"#bd3786\"],[0.5555555555555556,\"#d8576b\"],[0.6666666666666666,\"#ed7953\"],[0.7777777777777778,\"#fb9f3a\"],[0.8888888888888888,\"#fdca26\"],[1.0,\"#f0f921\"]],\"type\":\"histogram2d\"}],\"histogram2dcontour\":[{\"colorbar\":{\"outlinewidth\":0,\"ticks\":\"\"},\"colorscale\":[[0.0,\"#0d0887\"],[0.1111111111111111,\"#46039f\"],[0.2222222222222222,\"#7201a8\"],[0.3333333333333333,\"#9c179e\"],[0.4444444444444444,\"#bd3786\"],[0.5555555555555556,\"#d8576b\"],[0.6666666666666666,\"#ed7953\"],[0.7777777777777778,\"#fb9f3a\"],[0.8888888888888888,\"#fdca26\"],[1.0,\"#f0f921\"]],\"type\":\"histogram2dcontour\"}],\"mesh3d\":[{\"colorbar\":{\"outlinewidth\":0,\"ticks\":\"\"},\"type\":\"mesh3d\"}],\"parcoords\":[{\"line\":{\"colorbar\":{\"outlinewidth\":0,\"ticks\":\"\"}},\"type\":\"parcoords\"}],\"pie\":[{\"automargin\":true,\"type\":\"pie\"}],\"scatter\":[{\"marker\":{\"colorbar\":{\"outlinewidth\":0,\"ticks\":\"\"}},\"type\":\"scatter\"}],\"scatter3d\":[{\"line\":{\"colorbar\":{\"outlinewidth\":0,\"ticks\":\"\"}},\"marker\":{\"colorbar\":{\"outlinewidth\":0,\"ticks\":\"\"}},\"type\":\"scatter3d\"}],\"scattercarpet\":[{\"marker\":{\"colorbar\":{\"outlinewidth\":0,\"ticks\":\"\"}},\"type\":\"scattercarpet\"}],\"scattergeo\":[{\"marker\":{\"colorbar\":{\"outlinewidth\":0,\"ticks\":\"\"}},\"type\":\"scattergeo\"}],\"scattergl\":[{\"marker\":{\"colorbar\":{\"outlinewidth\":0,\"ticks\":\"\"}},\"type\":\"scattergl\"}],\"scattermapbox\":[{\"marker\":{\"colorbar\":{\"outlinewidth\":0,\"ticks\":\"\"}},\"type\":\"scattermapbox\"}],\"scatterpolar\":[{\"marker\":{\"colorbar\":{\"outlinewidth\":0,\"ticks\":\"\"}},\"type\":\"scatterpolar\"}],\"scatterpolargl\":[{\"marker\":{\"colorbar\":{\"outlinewidth\":0,\"ticks\":\"\"}},\"type\":\"scatterpolargl\"}],\"scatterternary\":[{\"marker\":{\"colorbar\":{\"outlinewidth\":0,\"ticks\":\"\"}},\"type\":\"scatterternary\"}],\"surface\":[{\"colorbar\":{\"outlinewidth\":0,\"ticks\":\"\"},\"colorscale\":[[0.0,\"#0d0887\"],[0.1111111111111111,\"#46039f\"],[0.2222222222222222,\"#7201a8\"],[0.3333333333333333,\"#9c179e\"],[0.4444444444444444,\"#bd3786\"],[0.5555555555555556,\"#d8576b\"],[0.6666666666666666,\"#ed7953\"],[0.7777777777777778,\"#fb9f3a\"],[0.8888888888888888,\"#fdca26\"],[1.0,\"#f0f921\"]],\"type\":\"surface\"}],\"table\":[{\"cells\":{\"fill\":{\"color\":\"#EBF0F8\"},\"line\":{\"color\":\"white\"}},\"header\":{\"fill\":{\"color\":\"#C8D4E3\"},\"line\":{\"color\":\"white\"}},\"type\":\"table\"}]},\"layout\":{\"annotationdefaults\":{\"arrowcolor\":\"#2a3f5f\",\"arrowhead\":0,\"arrowwidth\":1},\"autotypenumbers\":\"strict\",\"coloraxis\":{\"colorbar\":{\"outlinewidth\":0,\"ticks\":\"\"}},\"colorscale\":{\"diverging\":[[0,\"#8e0152\"],[0.1,\"#c51b7d\"],[0.2,\"#de77ae\"],[0.3,\"#f1b6da\"],[0.4,\"#fde0ef\"],[0.5,\"#f7f7f7\"],[0.6,\"#e6f5d0\"],[0.7,\"#b8e186\"],[0.8,\"#7fbc41\"],[0.9,\"#4d9221\"],[1,\"#276419\"]],\"sequential\":[[0.0,\"#0d0887\"],[0.1111111111111111,\"#46039f\"],[0.2222222222222222,\"#7201a8\"],[0.3333333333333333,\"#9c179e\"],[0.4444444444444444,\"#bd3786\"],[0.5555555555555556,\"#d8576b\"],[0.6666666666666666,\"#ed7953\"],[0.7777777777777778,\"#fb9f3a\"],[0.8888888888888888,\"#fdca26\"],[1.0,\"#f0f921\"]],\"sequentialminus\":[[0.0,\"#0d0887\"],[0.1111111111111111,\"#46039f\"],[0.2222222222222222,\"#7201a8\"],[0.3333333333333333,\"#9c179e\"],[0.4444444444444444,\"#bd3786\"],[0.5555555555555556,\"#d8576b\"],[0.6666666666666666,\"#ed7953\"],[0.7777777777777778,\"#fb9f3a\"],[0.8888888888888888,\"#fdca26\"],[1.0,\"#f0f921\"]]},\"colorway\":[\"#636efa\",\"#EF553B\",\"#00cc96\",\"#ab63fa\",\"#FFA15A\",\"#19d3f3\",\"#FF6692\",\"#B6E880\",\"#FF97FF\",\"#FECB52\"],\"font\":{\"color\":\"#2a3f5f\"},\"geo\":{\"bgcolor\":\"white\",\"lakecolor\":\"white\",\"landcolor\":\"#E5ECF6\",\"showlakes\":true,\"showland\":true,\"subunitcolor\":\"white\"},\"hoverlabel\":{\"align\":\"left\"},\"hovermode\":\"closest\",\"mapbox\":{\"style\":\"light\"},\"paper_bgcolor\":\"white\",\"plot_bgcolor\":\"#E5ECF6\",\"polar\":{\"angularaxis\":{\"gridcolor\":\"white\",\"linecolor\":\"white\",\"ticks\":\"\"},\"bgcolor\":\"#E5ECF6\",\"radialaxis\":{\"gridcolor\":\"white\",\"linecolor\":\"white\",\"ticks\":\"\"}},\"scene\":{\"xaxis\":{\"backgroundcolor\":\"#E5ECF6\",\"gridcolor\":\"white\",\"gridwidth\":2,\"linecolor\":\"white\",\"showbackground\":true,\"ticks\":\"\",\"zerolinecolor\":\"white\"},\"yaxis\":{\"backgroundcolor\":\"#E5ECF6\",\"gridcolor\":\"white\",\"gridwidth\":2,\"linecolor\":\"white\",\"showbackground\":true,\"ticks\":\"\",\"zerolinecolor\":\"white\"},\"zaxis\":{\"backgroundcolor\":\"#E5ECF6\",\"gridcolor\":\"white\",\"gridwidth\":2,\"linecolor\":\"white\",\"showbackground\":true,\"ticks\":\"\",\"zerolinecolor\":\"white\"}},\"shapedefaults\":{\"line\":{\"color\":\"#2a3f5f\"}},\"ternary\":{\"aaxis\":{\"gridcolor\":\"white\",\"linecolor\":\"white\",\"ticks\":\"\"},\"baxis\":{\"gridcolor\":\"white\",\"linecolor\":\"white\",\"ticks\":\"\"},\"bgcolor\":\"#E5ECF6\",\"caxis\":{\"gridcolor\":\"white\",\"linecolor\":\"white\",\"ticks\":\"\"}},\"title\":{\"x\":0.05},\"xaxis\":{\"automargin\":true,\"gridcolor\":\"white\",\"linecolor\":\"white\",\"ticks\":\"\",\"title\":{\"standoff\":15},\"zerolinecolor\":\"white\",\"zerolinewidth\":2},\"yaxis\":{\"automargin\":true,\"gridcolor\":\"white\",\"linecolor\":\"white\",\"ticks\":\"\",\"title\":{\"standoff\":15},\"zerolinecolor\":\"white\",\"zerolinewidth\":2}}}},                        {\"responsive\": true}                    ).then(function(){\n",
       "                            \n",
       "var gd = document.getElementById('6775f357-bda9-4030-ac81-97132fc5fd9d');\n",
       "var x = new MutationObserver(function (mutations, observer) {{\n",
       "        var display = window.getComputedStyle(gd).display;\n",
       "        if (!display || display === 'none') {{\n",
       "            console.log([gd, 'removed!']);\n",
       "            Plotly.purge(gd);\n",
       "            observer.disconnect();\n",
       "        }}\n",
       "}});\n",
       "\n",
       "// Listen for the removal of the full notebook cells\n",
       "var notebookContainer = gd.closest('#notebook-container');\n",
       "if (notebookContainer) {{\n",
       "    x.observe(notebookContainer, {childList: true});\n",
       "}}\n",
       "\n",
       "// Listen for the clearing of the current output cell\n",
       "var outputEl = gd.closest('.output');\n",
       "if (outputEl) {{\n",
       "    x.observe(outputEl, {childList: true});\n",
       "}}\n",
       "\n",
       "                        })                };                });            </script>        </div>"
      ]
     },
     "metadata": {},
     "output_type": "display_data"
    }
   ],
   "source": [
    "#Y_hat_val = np.array(train_results[\"Y_hat_val\"])\n",
    "#Y_val = np.array(train_results[\"Y_val\"])\n",
    "\n",
    "Y_hat_val = Y_pred_test\n",
    "Y_val = Y_test\n",
    "\n",
    "pos_probas, neg_probas = [], []\n",
    "for class_, idx in encoder._cached_dict.items():\n",
    "    pos_probas.append(Y_hat_val[np.where(Y_val[:, idx] != 0), idx].mean())\n",
    "    neg_probas.append(Y_hat_val[np.where(Y_val[:, idx] == 0), idx].mean())\n",
    "go.Figure([\n",
    "    go.Bar(x=list(encoder._cached_dict), y=pos_probas, name=\"Y_hat proba | Y = 1\"),\n",
    "    go.Bar(x=list(encoder._cached_dict), y=neg_probas, name=\"Y_hat proba | Y = 0\")\n",
    "]).show()"
   ]
  },
  {
   "cell_type": "code",
   "execution_count": 271,
   "id": "dcddf805",
   "metadata": {},
   "outputs": [
    {
     "data": {
      "application/vnd.plotly.v1+json": {
       "config": {
        "plotlyServerURL": "https://plot.ly"
       },
       "data": [
        {
         "alignmentgroup": "True",
         "hovertemplate": "label=%{x}<br>score=%{marker.color}<extra></extra>",
         "legendgroup": "",
         "marker": {
          "color": [
           0.9929,
           0.9292,
           0.7924,
           0.2006,
           0.1546,
           0.1214,
           0.1117,
           0.0767,
           0.0538,
           0.0073,
           0,
           0,
           0,
           0,
           0,
           0,
           0
          ],
          "coloraxis": "coloraxis",
          "pattern": {
           "shape": ""
          }
         },
         "name": "",
         "offsetgroup": "",
         "orientation": "v",
         "showlegend": false,
         "textposition": "auto",
         "type": "bar",
         "x": [
          "primary",
          "clear",
          "agriculture",
          "road",
          "partly_cloudy",
          "water",
          "cloudy",
          "habitation",
          "haze",
          "cultivation",
          "conventional_mine",
          "artisinal_mine",
          "blow_down",
          "blooming",
          "bare_ground",
          "selective_logging",
          "slash_burn"
         ],
         "xaxis": "x",
         "y": [
          0.9929,
          0.9292,
          0.7924,
          0.2006,
          0.1546,
          0.1214,
          0.1117,
          0.0767,
          0.0538,
          0.0073,
          0,
          0,
          0,
          0,
          0,
          0,
          0
         ],
         "yaxis": "y"
        }
       ],
       "layout": {
        "barmode": "relative",
        "coloraxis": {
         "colorbar": {
          "title": {
           "text": "score"
          }
         },
         "colorscale": [
          [
           0,
           "#0d0887"
          ],
          [
           0.1111111111111111,
           "#46039f"
          ],
          [
           0.2222222222222222,
           "#7201a8"
          ],
          [
           0.3333333333333333,
           "#9c179e"
          ],
          [
           0.4444444444444444,
           "#bd3786"
          ],
          [
           0.5555555555555556,
           "#d8576b"
          ],
          [
           0.6666666666666666,
           "#ed7953"
          ],
          [
           0.7777777777777778,
           "#fb9f3a"
          ],
          [
           0.8888888888888888,
           "#fdca26"
          ],
          [
           1,
           "#f0f921"
          ]
         ]
        },
        "legend": {
         "tracegroupgap": 0
        },
        "margin": {
         "t": 60
        },
        "template": {
         "data": {
          "bar": [
           {
            "error_x": {
             "color": "#2a3f5f"
            },
            "error_y": {
             "color": "#2a3f5f"
            },
            "marker": {
             "line": {
              "color": "#E5ECF6",
              "width": 0.5
             },
             "pattern": {
              "fillmode": "overlay",
              "size": 10,
              "solidity": 0.2
             }
            },
            "type": "bar"
           }
          ],
          "barpolar": [
           {
            "marker": {
             "line": {
              "color": "#E5ECF6",
              "width": 0.5
             },
             "pattern": {
              "fillmode": "overlay",
              "size": 10,
              "solidity": 0.2
             }
            },
            "type": "barpolar"
           }
          ],
          "carpet": [
           {
            "aaxis": {
             "endlinecolor": "#2a3f5f",
             "gridcolor": "white",
             "linecolor": "white",
             "minorgridcolor": "white",
             "startlinecolor": "#2a3f5f"
            },
            "baxis": {
             "endlinecolor": "#2a3f5f",
             "gridcolor": "white",
             "linecolor": "white",
             "minorgridcolor": "white",
             "startlinecolor": "#2a3f5f"
            },
            "type": "carpet"
           }
          ],
          "choropleth": [
           {
            "colorbar": {
             "outlinewidth": 0,
             "ticks": ""
            },
            "type": "choropleth"
           }
          ],
          "contour": [
           {
            "colorbar": {
             "outlinewidth": 0,
             "ticks": ""
            },
            "colorscale": [
             [
              0,
              "#0d0887"
             ],
             [
              0.1111111111111111,
              "#46039f"
             ],
             [
              0.2222222222222222,
              "#7201a8"
             ],
             [
              0.3333333333333333,
              "#9c179e"
             ],
             [
              0.4444444444444444,
              "#bd3786"
             ],
             [
              0.5555555555555556,
              "#d8576b"
             ],
             [
              0.6666666666666666,
              "#ed7953"
             ],
             [
              0.7777777777777778,
              "#fb9f3a"
             ],
             [
              0.8888888888888888,
              "#fdca26"
             ],
             [
              1,
              "#f0f921"
             ]
            ],
            "type": "contour"
           }
          ],
          "contourcarpet": [
           {
            "colorbar": {
             "outlinewidth": 0,
             "ticks": ""
            },
            "type": "contourcarpet"
           }
          ],
          "heatmap": [
           {
            "colorbar": {
             "outlinewidth": 0,
             "ticks": ""
            },
            "colorscale": [
             [
              0,
              "#0d0887"
             ],
             [
              0.1111111111111111,
              "#46039f"
             ],
             [
              0.2222222222222222,
              "#7201a8"
             ],
             [
              0.3333333333333333,
              "#9c179e"
             ],
             [
              0.4444444444444444,
              "#bd3786"
             ],
             [
              0.5555555555555556,
              "#d8576b"
             ],
             [
              0.6666666666666666,
              "#ed7953"
             ],
             [
              0.7777777777777778,
              "#fb9f3a"
             ],
             [
              0.8888888888888888,
              "#fdca26"
             ],
             [
              1,
              "#f0f921"
             ]
            ],
            "type": "heatmap"
           }
          ],
          "heatmapgl": [
           {
            "colorbar": {
             "outlinewidth": 0,
             "ticks": ""
            },
            "colorscale": [
             [
              0,
              "#0d0887"
             ],
             [
              0.1111111111111111,
              "#46039f"
             ],
             [
              0.2222222222222222,
              "#7201a8"
             ],
             [
              0.3333333333333333,
              "#9c179e"
             ],
             [
              0.4444444444444444,
              "#bd3786"
             ],
             [
              0.5555555555555556,
              "#d8576b"
             ],
             [
              0.6666666666666666,
              "#ed7953"
             ],
             [
              0.7777777777777778,
              "#fb9f3a"
             ],
             [
              0.8888888888888888,
              "#fdca26"
             ],
             [
              1,
              "#f0f921"
             ]
            ],
            "type": "heatmapgl"
           }
          ],
          "histogram": [
           {
            "marker": {
             "pattern": {
              "fillmode": "overlay",
              "size": 10,
              "solidity": 0.2
             }
            },
            "type": "histogram"
           }
          ],
          "histogram2d": [
           {
            "colorbar": {
             "outlinewidth": 0,
             "ticks": ""
            },
            "colorscale": [
             [
              0,
              "#0d0887"
             ],
             [
              0.1111111111111111,
              "#46039f"
             ],
             [
              0.2222222222222222,
              "#7201a8"
             ],
             [
              0.3333333333333333,
              "#9c179e"
             ],
             [
              0.4444444444444444,
              "#bd3786"
             ],
             [
              0.5555555555555556,
              "#d8576b"
             ],
             [
              0.6666666666666666,
              "#ed7953"
             ],
             [
              0.7777777777777778,
              "#fb9f3a"
             ],
             [
              0.8888888888888888,
              "#fdca26"
             ],
             [
              1,
              "#f0f921"
             ]
            ],
            "type": "histogram2d"
           }
          ],
          "histogram2dcontour": [
           {
            "colorbar": {
             "outlinewidth": 0,
             "ticks": ""
            },
            "colorscale": [
             [
              0,
              "#0d0887"
             ],
             [
              0.1111111111111111,
              "#46039f"
             ],
             [
              0.2222222222222222,
              "#7201a8"
             ],
             [
              0.3333333333333333,
              "#9c179e"
             ],
             [
              0.4444444444444444,
              "#bd3786"
             ],
             [
              0.5555555555555556,
              "#d8576b"
             ],
             [
              0.6666666666666666,
              "#ed7953"
             ],
             [
              0.7777777777777778,
              "#fb9f3a"
             ],
             [
              0.8888888888888888,
              "#fdca26"
             ],
             [
              1,
              "#f0f921"
             ]
            ],
            "type": "histogram2dcontour"
           }
          ],
          "mesh3d": [
           {
            "colorbar": {
             "outlinewidth": 0,
             "ticks": ""
            },
            "type": "mesh3d"
           }
          ],
          "parcoords": [
           {
            "line": {
             "colorbar": {
              "outlinewidth": 0,
              "ticks": ""
             }
            },
            "type": "parcoords"
           }
          ],
          "pie": [
           {
            "automargin": true,
            "type": "pie"
           }
          ],
          "scatter": [
           {
            "marker": {
             "colorbar": {
              "outlinewidth": 0,
              "ticks": ""
             }
            },
            "type": "scatter"
           }
          ],
          "scatter3d": [
           {
            "line": {
             "colorbar": {
              "outlinewidth": 0,
              "ticks": ""
             }
            },
            "marker": {
             "colorbar": {
              "outlinewidth": 0,
              "ticks": ""
             }
            },
            "type": "scatter3d"
           }
          ],
          "scattercarpet": [
           {
            "marker": {
             "colorbar": {
              "outlinewidth": 0,
              "ticks": ""
             }
            },
            "type": "scattercarpet"
           }
          ],
          "scattergeo": [
           {
            "marker": {
             "colorbar": {
              "outlinewidth": 0,
              "ticks": ""
             }
            },
            "type": "scattergeo"
           }
          ],
          "scattergl": [
           {
            "marker": {
             "colorbar": {
              "outlinewidth": 0,
              "ticks": ""
             }
            },
            "type": "scattergl"
           }
          ],
          "scattermapbox": [
           {
            "marker": {
             "colorbar": {
              "outlinewidth": 0,
              "ticks": ""
             }
            },
            "type": "scattermapbox"
           }
          ],
          "scatterpolar": [
           {
            "marker": {
             "colorbar": {
              "outlinewidth": 0,
              "ticks": ""
             }
            },
            "type": "scatterpolar"
           }
          ],
          "scatterpolargl": [
           {
            "marker": {
             "colorbar": {
              "outlinewidth": 0,
              "ticks": ""
             }
            },
            "type": "scatterpolargl"
           }
          ],
          "scatterternary": [
           {
            "marker": {
             "colorbar": {
              "outlinewidth": 0,
              "ticks": ""
             }
            },
            "type": "scatterternary"
           }
          ],
          "surface": [
           {
            "colorbar": {
             "outlinewidth": 0,
             "ticks": ""
            },
            "colorscale": [
             [
              0,
              "#0d0887"
             ],
             [
              0.1111111111111111,
              "#46039f"
             ],
             [
              0.2222222222222222,
              "#7201a8"
             ],
             [
              0.3333333333333333,
              "#9c179e"
             ],
             [
              0.4444444444444444,
              "#bd3786"
             ],
             [
              0.5555555555555556,
              "#d8576b"
             ],
             [
              0.6666666666666666,
              "#ed7953"
             ],
             [
              0.7777777777777778,
              "#fb9f3a"
             ],
             [
              0.8888888888888888,
              "#fdca26"
             ],
             [
              1,
              "#f0f921"
             ]
            ],
            "type": "surface"
           }
          ],
          "table": [
           {
            "cells": {
             "fill": {
              "color": "#EBF0F8"
             },
             "line": {
              "color": "white"
             }
            },
            "header": {
             "fill": {
              "color": "#C8D4E3"
             },
             "line": {
              "color": "white"
             }
            },
            "type": "table"
           }
          ]
         },
         "layout": {
          "annotationdefaults": {
           "arrowcolor": "#2a3f5f",
           "arrowhead": 0,
           "arrowwidth": 1
          },
          "autotypenumbers": "strict",
          "coloraxis": {
           "colorbar": {
            "outlinewidth": 0,
            "ticks": ""
           }
          },
          "colorscale": {
           "diverging": [
            [
             0,
             "#8e0152"
            ],
            [
             0.1,
             "#c51b7d"
            ],
            [
             0.2,
             "#de77ae"
            ],
            [
             0.3,
             "#f1b6da"
            ],
            [
             0.4,
             "#fde0ef"
            ],
            [
             0.5,
             "#f7f7f7"
            ],
            [
             0.6,
             "#e6f5d0"
            ],
            [
             0.7,
             "#b8e186"
            ],
            [
             0.8,
             "#7fbc41"
            ],
            [
             0.9,
             "#4d9221"
            ],
            [
             1,
             "#276419"
            ]
           ],
           "sequential": [
            [
             0,
             "#0d0887"
            ],
            [
             0.1111111111111111,
             "#46039f"
            ],
            [
             0.2222222222222222,
             "#7201a8"
            ],
            [
             0.3333333333333333,
             "#9c179e"
            ],
            [
             0.4444444444444444,
             "#bd3786"
            ],
            [
             0.5555555555555556,
             "#d8576b"
            ],
            [
             0.6666666666666666,
             "#ed7953"
            ],
            [
             0.7777777777777778,
             "#fb9f3a"
            ],
            [
             0.8888888888888888,
             "#fdca26"
            ],
            [
             1,
             "#f0f921"
            ]
           ],
           "sequentialminus": [
            [
             0,
             "#0d0887"
            ],
            [
             0.1111111111111111,
             "#46039f"
            ],
            [
             0.2222222222222222,
             "#7201a8"
            ],
            [
             0.3333333333333333,
             "#9c179e"
            ],
            [
             0.4444444444444444,
             "#bd3786"
            ],
            [
             0.5555555555555556,
             "#d8576b"
            ],
            [
             0.6666666666666666,
             "#ed7953"
            ],
            [
             0.7777777777777778,
             "#fb9f3a"
            ],
            [
             0.8888888888888888,
             "#fdca26"
            ],
            [
             1,
             "#f0f921"
            ]
           ]
          },
          "colorway": [
           "#636efa",
           "#EF553B",
           "#00cc96",
           "#ab63fa",
           "#FFA15A",
           "#19d3f3",
           "#FF6692",
           "#B6E880",
           "#FF97FF",
           "#FECB52"
          ],
          "font": {
           "color": "#2a3f5f"
          },
          "geo": {
           "bgcolor": "white",
           "lakecolor": "white",
           "landcolor": "#E5ECF6",
           "showlakes": true,
           "showland": true,
           "subunitcolor": "white"
          },
          "hoverlabel": {
           "align": "left"
          },
          "hovermode": "closest",
          "mapbox": {
           "style": "light"
          },
          "paper_bgcolor": "white",
          "plot_bgcolor": "#E5ECF6",
          "polar": {
           "angularaxis": {
            "gridcolor": "white",
            "linecolor": "white",
            "ticks": ""
           },
           "bgcolor": "#E5ECF6",
           "radialaxis": {
            "gridcolor": "white",
            "linecolor": "white",
            "ticks": ""
           }
          },
          "scene": {
           "xaxis": {
            "backgroundcolor": "#E5ECF6",
            "gridcolor": "white",
            "gridwidth": 2,
            "linecolor": "white",
            "showbackground": true,
            "ticks": "",
            "zerolinecolor": "white"
           },
           "yaxis": {
            "backgroundcolor": "#E5ECF6",
            "gridcolor": "white",
            "gridwidth": 2,
            "linecolor": "white",
            "showbackground": true,
            "ticks": "",
            "zerolinecolor": "white"
           },
           "zaxis": {
            "backgroundcolor": "#E5ECF6",
            "gridcolor": "white",
            "gridwidth": 2,
            "linecolor": "white",
            "showbackground": true,
            "ticks": "",
            "zerolinecolor": "white"
           }
          },
          "shapedefaults": {
           "line": {
            "color": "#2a3f5f"
           }
          },
          "ternary": {
           "aaxis": {
            "gridcolor": "white",
            "linecolor": "white",
            "ticks": ""
           },
           "baxis": {
            "gridcolor": "white",
            "linecolor": "white",
            "ticks": ""
           },
           "bgcolor": "#E5ECF6",
           "caxis": {
            "gridcolor": "white",
            "linecolor": "white",
            "ticks": ""
           }
          },
          "title": {
           "x": 0.05
          },
          "xaxis": {
           "automargin": true,
           "gridcolor": "white",
           "linecolor": "white",
           "ticks": "",
           "title": {
            "standoff": 15
           },
           "zerolinecolor": "white",
           "zerolinewidth": 2
          },
          "yaxis": {
           "automargin": true,
           "gridcolor": "white",
           "linecolor": "white",
           "ticks": "",
           "title": {
            "standoff": 15
           },
           "zerolinecolor": "white",
           "zerolinewidth": 2
          }
         }
        },
        "xaxis": {
         "anchor": "y",
         "domain": [
          0,
          1
         ],
         "title": {
          "text": "label"
         }
        },
        "yaxis": {
         "anchor": "x",
         "domain": [
          0,
          1
         ],
         "title": {
          "text": "score"
         }
        }
       }
      },
      "text/html": [
       "<div>                            <div id=\"2de3b66f-341f-476a-be90-57ba415f50df\" class=\"plotly-graph-div\" style=\"height:525px; width:100%;\"></div>            <script type=\"text/javascript\">                require([\"plotly\"], function(Plotly) {                    window.PLOTLYENV=window.PLOTLYENV || {};                                    if (document.getElementById(\"2de3b66f-341f-476a-be90-57ba415f50df\")) {                    Plotly.newPlot(                        \"2de3b66f-341f-476a-be90-57ba415f50df\",                        [{\"alignmentgroup\":\"True\",\"hovertemplate\":\"label=%{x}<br>score=%{marker.color}<extra></extra>\",\"legendgroup\":\"\",\"marker\":{\"color\":[0.9929,0.9292,0.7924,0.2006,0.1546,0.1214,0.1117,0.0767,0.0538,0.0073,0.0,0.0,0.0,0.0,0.0,0.0,0.0],\"coloraxis\":\"coloraxis\",\"pattern\":{\"shape\":\"\"}},\"name\":\"\",\"offsetgroup\":\"\",\"orientation\":\"v\",\"showlegend\":false,\"textposition\":\"auto\",\"x\":[\"primary\",\"clear\",\"agriculture\",\"road\",\"partly_cloudy\",\"water\",\"cloudy\",\"habitation\",\"haze\",\"cultivation\",\"conventional_mine\",\"artisinal_mine\",\"blow_down\",\"blooming\",\"bare_ground\",\"selective_logging\",\"slash_burn\"],\"xaxis\":\"x\",\"y\":[0.9929,0.9292,0.7924,0.2006,0.1546,0.1214,0.1117,0.0767,0.0538,0.0073,0.0,0.0,0.0,0.0,0.0,0.0,0.0],\"yaxis\":\"y\",\"type\":\"bar\"}],                        {\"template\":{\"data\":{\"bar\":[{\"error_x\":{\"color\":\"#2a3f5f\"},\"error_y\":{\"color\":\"#2a3f5f\"},\"marker\":{\"line\":{\"color\":\"#E5ECF6\",\"width\":0.5},\"pattern\":{\"fillmode\":\"overlay\",\"size\":10,\"solidity\":0.2}},\"type\":\"bar\"}],\"barpolar\":[{\"marker\":{\"line\":{\"color\":\"#E5ECF6\",\"width\":0.5},\"pattern\":{\"fillmode\":\"overlay\",\"size\":10,\"solidity\":0.2}},\"type\":\"barpolar\"}],\"carpet\":[{\"aaxis\":{\"endlinecolor\":\"#2a3f5f\",\"gridcolor\":\"white\",\"linecolor\":\"white\",\"minorgridcolor\":\"white\",\"startlinecolor\":\"#2a3f5f\"},\"baxis\":{\"endlinecolor\":\"#2a3f5f\",\"gridcolor\":\"white\",\"linecolor\":\"white\",\"minorgridcolor\":\"white\",\"startlinecolor\":\"#2a3f5f\"},\"type\":\"carpet\"}],\"choropleth\":[{\"colorbar\":{\"outlinewidth\":0,\"ticks\":\"\"},\"type\":\"choropleth\"}],\"contour\":[{\"colorbar\":{\"outlinewidth\":0,\"ticks\":\"\"},\"colorscale\":[[0.0,\"#0d0887\"],[0.1111111111111111,\"#46039f\"],[0.2222222222222222,\"#7201a8\"],[0.3333333333333333,\"#9c179e\"],[0.4444444444444444,\"#bd3786\"],[0.5555555555555556,\"#d8576b\"],[0.6666666666666666,\"#ed7953\"],[0.7777777777777778,\"#fb9f3a\"],[0.8888888888888888,\"#fdca26\"],[1.0,\"#f0f921\"]],\"type\":\"contour\"}],\"contourcarpet\":[{\"colorbar\":{\"outlinewidth\":0,\"ticks\":\"\"},\"type\":\"contourcarpet\"}],\"heatmap\":[{\"colorbar\":{\"outlinewidth\":0,\"ticks\":\"\"},\"colorscale\":[[0.0,\"#0d0887\"],[0.1111111111111111,\"#46039f\"],[0.2222222222222222,\"#7201a8\"],[0.3333333333333333,\"#9c179e\"],[0.4444444444444444,\"#bd3786\"],[0.5555555555555556,\"#d8576b\"],[0.6666666666666666,\"#ed7953\"],[0.7777777777777778,\"#fb9f3a\"],[0.8888888888888888,\"#fdca26\"],[1.0,\"#f0f921\"]],\"type\":\"heatmap\"}],\"heatmapgl\":[{\"colorbar\":{\"outlinewidth\":0,\"ticks\":\"\"},\"colorscale\":[[0.0,\"#0d0887\"],[0.1111111111111111,\"#46039f\"],[0.2222222222222222,\"#7201a8\"],[0.3333333333333333,\"#9c179e\"],[0.4444444444444444,\"#bd3786\"],[0.5555555555555556,\"#d8576b\"],[0.6666666666666666,\"#ed7953\"],[0.7777777777777778,\"#fb9f3a\"],[0.8888888888888888,\"#fdca26\"],[1.0,\"#f0f921\"]],\"type\":\"heatmapgl\"}],\"histogram\":[{\"marker\":{\"pattern\":{\"fillmode\":\"overlay\",\"size\":10,\"solidity\":0.2}},\"type\":\"histogram\"}],\"histogram2d\":[{\"colorbar\":{\"outlinewidth\":0,\"ticks\":\"\"},\"colorscale\":[[0.0,\"#0d0887\"],[0.1111111111111111,\"#46039f\"],[0.2222222222222222,\"#7201a8\"],[0.3333333333333333,\"#9c179e\"],[0.4444444444444444,\"#bd3786\"],[0.5555555555555556,\"#d8576b\"],[0.6666666666666666,\"#ed7953\"],[0.7777777777777778,\"#fb9f3a\"],[0.8888888888888888,\"#fdca26\"],[1.0,\"#f0f921\"]],\"type\":\"histogram2d\"}],\"histogram2dcontour\":[{\"colorbar\":{\"outlinewidth\":0,\"ticks\":\"\"},\"colorscale\":[[0.0,\"#0d0887\"],[0.1111111111111111,\"#46039f\"],[0.2222222222222222,\"#7201a8\"],[0.3333333333333333,\"#9c179e\"],[0.4444444444444444,\"#bd3786\"],[0.5555555555555556,\"#d8576b\"],[0.6666666666666666,\"#ed7953\"],[0.7777777777777778,\"#fb9f3a\"],[0.8888888888888888,\"#fdca26\"],[1.0,\"#f0f921\"]],\"type\":\"histogram2dcontour\"}],\"mesh3d\":[{\"colorbar\":{\"outlinewidth\":0,\"ticks\":\"\"},\"type\":\"mesh3d\"}],\"parcoords\":[{\"line\":{\"colorbar\":{\"outlinewidth\":0,\"ticks\":\"\"}},\"type\":\"parcoords\"}],\"pie\":[{\"automargin\":true,\"type\":\"pie\"}],\"scatter\":[{\"marker\":{\"colorbar\":{\"outlinewidth\":0,\"ticks\":\"\"}},\"type\":\"scatter\"}],\"scatter3d\":[{\"line\":{\"colorbar\":{\"outlinewidth\":0,\"ticks\":\"\"}},\"marker\":{\"colorbar\":{\"outlinewidth\":0,\"ticks\":\"\"}},\"type\":\"scatter3d\"}],\"scattercarpet\":[{\"marker\":{\"colorbar\":{\"outlinewidth\":0,\"ticks\":\"\"}},\"type\":\"scattercarpet\"}],\"scattergeo\":[{\"marker\":{\"colorbar\":{\"outlinewidth\":0,\"ticks\":\"\"}},\"type\":\"scattergeo\"}],\"scattergl\":[{\"marker\":{\"colorbar\":{\"outlinewidth\":0,\"ticks\":\"\"}},\"type\":\"scattergl\"}],\"scattermapbox\":[{\"marker\":{\"colorbar\":{\"outlinewidth\":0,\"ticks\":\"\"}},\"type\":\"scattermapbox\"}],\"scatterpolar\":[{\"marker\":{\"colorbar\":{\"outlinewidth\":0,\"ticks\":\"\"}},\"type\":\"scatterpolar\"}],\"scatterpolargl\":[{\"marker\":{\"colorbar\":{\"outlinewidth\":0,\"ticks\":\"\"}},\"type\":\"scatterpolargl\"}],\"scatterternary\":[{\"marker\":{\"colorbar\":{\"outlinewidth\":0,\"ticks\":\"\"}},\"type\":\"scatterternary\"}],\"surface\":[{\"colorbar\":{\"outlinewidth\":0,\"ticks\":\"\"},\"colorscale\":[[0.0,\"#0d0887\"],[0.1111111111111111,\"#46039f\"],[0.2222222222222222,\"#7201a8\"],[0.3333333333333333,\"#9c179e\"],[0.4444444444444444,\"#bd3786\"],[0.5555555555555556,\"#d8576b\"],[0.6666666666666666,\"#ed7953\"],[0.7777777777777778,\"#fb9f3a\"],[0.8888888888888888,\"#fdca26\"],[1.0,\"#f0f921\"]],\"type\":\"surface\"}],\"table\":[{\"cells\":{\"fill\":{\"color\":\"#EBF0F8\"},\"line\":{\"color\":\"white\"}},\"header\":{\"fill\":{\"color\":\"#C8D4E3\"},\"line\":{\"color\":\"white\"}},\"type\":\"table\"}]},\"layout\":{\"annotationdefaults\":{\"arrowcolor\":\"#2a3f5f\",\"arrowhead\":0,\"arrowwidth\":1},\"autotypenumbers\":\"strict\",\"coloraxis\":{\"colorbar\":{\"outlinewidth\":0,\"ticks\":\"\"}},\"colorscale\":{\"diverging\":[[0,\"#8e0152\"],[0.1,\"#c51b7d\"],[0.2,\"#de77ae\"],[0.3,\"#f1b6da\"],[0.4,\"#fde0ef\"],[0.5,\"#f7f7f7\"],[0.6,\"#e6f5d0\"],[0.7,\"#b8e186\"],[0.8,\"#7fbc41\"],[0.9,\"#4d9221\"],[1,\"#276419\"]],\"sequential\":[[0.0,\"#0d0887\"],[0.1111111111111111,\"#46039f\"],[0.2222222222222222,\"#7201a8\"],[0.3333333333333333,\"#9c179e\"],[0.4444444444444444,\"#bd3786\"],[0.5555555555555556,\"#d8576b\"],[0.6666666666666666,\"#ed7953\"],[0.7777777777777778,\"#fb9f3a\"],[0.8888888888888888,\"#fdca26\"],[1.0,\"#f0f921\"]],\"sequentialminus\":[[0.0,\"#0d0887\"],[0.1111111111111111,\"#46039f\"],[0.2222222222222222,\"#7201a8\"],[0.3333333333333333,\"#9c179e\"],[0.4444444444444444,\"#bd3786\"],[0.5555555555555556,\"#d8576b\"],[0.6666666666666666,\"#ed7953\"],[0.7777777777777778,\"#fb9f3a\"],[0.8888888888888888,\"#fdca26\"],[1.0,\"#f0f921\"]]},\"colorway\":[\"#636efa\",\"#EF553B\",\"#00cc96\",\"#ab63fa\",\"#FFA15A\",\"#19d3f3\",\"#FF6692\",\"#B6E880\",\"#FF97FF\",\"#FECB52\"],\"font\":{\"color\":\"#2a3f5f\"},\"geo\":{\"bgcolor\":\"white\",\"lakecolor\":\"white\",\"landcolor\":\"#E5ECF6\",\"showlakes\":true,\"showland\":true,\"subunitcolor\":\"white\"},\"hoverlabel\":{\"align\":\"left\"},\"hovermode\":\"closest\",\"mapbox\":{\"style\":\"light\"},\"paper_bgcolor\":\"white\",\"plot_bgcolor\":\"#E5ECF6\",\"polar\":{\"angularaxis\":{\"gridcolor\":\"white\",\"linecolor\":\"white\",\"ticks\":\"\"},\"bgcolor\":\"#E5ECF6\",\"radialaxis\":{\"gridcolor\":\"white\",\"linecolor\":\"white\",\"ticks\":\"\"}},\"scene\":{\"xaxis\":{\"backgroundcolor\":\"#E5ECF6\",\"gridcolor\":\"white\",\"gridwidth\":2,\"linecolor\":\"white\",\"showbackground\":true,\"ticks\":\"\",\"zerolinecolor\":\"white\"},\"yaxis\":{\"backgroundcolor\":\"#E5ECF6\",\"gridcolor\":\"white\",\"gridwidth\":2,\"linecolor\":\"white\",\"showbackground\":true,\"ticks\":\"\",\"zerolinecolor\":\"white\"},\"zaxis\":{\"backgroundcolor\":\"#E5ECF6\",\"gridcolor\":\"white\",\"gridwidth\":2,\"linecolor\":\"white\",\"showbackground\":true,\"ticks\":\"\",\"zerolinecolor\":\"white\"}},\"shapedefaults\":{\"line\":{\"color\":\"#2a3f5f\"}},\"ternary\":{\"aaxis\":{\"gridcolor\":\"white\",\"linecolor\":\"white\",\"ticks\":\"\"},\"baxis\":{\"gridcolor\":\"white\",\"linecolor\":\"white\",\"ticks\":\"\"},\"bgcolor\":\"#E5ECF6\",\"caxis\":{\"gridcolor\":\"white\",\"linecolor\":\"white\",\"ticks\":\"\"}},\"title\":{\"x\":0.05},\"xaxis\":{\"automargin\":true,\"gridcolor\":\"white\",\"linecolor\":\"white\",\"ticks\":\"\",\"title\":{\"standoff\":15},\"zerolinecolor\":\"white\",\"zerolinewidth\":2},\"yaxis\":{\"automargin\":true,\"gridcolor\":\"white\",\"linecolor\":\"white\",\"ticks\":\"\",\"title\":{\"standoff\":15},\"zerolinecolor\":\"white\",\"zerolinewidth\":2}}},\"xaxis\":{\"anchor\":\"y\",\"domain\":[0.0,1.0],\"title\":{\"text\":\"label\"}},\"yaxis\":{\"anchor\":\"x\",\"domain\":[0.0,1.0],\"title\":{\"text\":\"score\"}},\"coloraxis\":{\"colorbar\":{\"title\":{\"text\":\"score\"}},\"colorscale\":[[0.0,\"#0d0887\"],[0.1111111111111111,\"#46039f\"],[0.2222222222222222,\"#7201a8\"],[0.3333333333333333,\"#9c179e\"],[0.4444444444444444,\"#bd3786\"],[0.5555555555555556,\"#d8576b\"],[0.6666666666666666,\"#ed7953\"],[0.7777777777777778,\"#fb9f3a\"],[0.8888888888888888,\"#fdca26\"],[1.0,\"#f0f921\"]]},\"legend\":{\"tracegroupgap\":0},\"margin\":{\"t\":60},\"barmode\":\"relative\"},                        {\"responsive\": true}                    ).then(function(){\n",
       "                            \n",
       "var gd = document.getElementById('2de3b66f-341f-476a-be90-57ba415f50df');\n",
       "var x = new MutationObserver(function (mutations, observer) {{\n",
       "        var display = window.getComputedStyle(gd).display;\n",
       "        if (!display || display === 'none') {{\n",
       "            console.log([gd, 'removed!']);\n",
       "            Plotly.purge(gd);\n",
       "            observer.disconnect();\n",
       "        }}\n",
       "}});\n",
       "\n",
       "// Listen for the removal of the full notebook cells\n",
       "var notebookContainer = gd.closest('#notebook-container');\n",
       "if (notebookContainer) {{\n",
       "    x.observe(notebookContainer, {childList: true});\n",
       "}}\n",
       "\n",
       "// Listen for the clearing of the current output cell\n",
       "var outputEl = gd.closest('.output');\n",
       "if (outputEl) {{\n",
       "    x.observe(outputEl, {childList: true});\n",
       "}}\n",
       "\n",
       "                        })                };                });            </script>        </div>"
      ]
     },
     "metadata": {},
     "output_type": "display_data"
    }
   ],
   "source": [
    "class_scores = {}\n",
    "classes = encoder.classes_\n",
    "for jdx in range(Y_val.shape[1]):\n",
    "    y_val = Y_val[:, jdx].ravel()\n",
    "    y_hat_val = (Y_hat_val[:, jdx].ravel() > threshs[jdx]).astype(float)\n",
    "    score = fbeta_score(y_val, y_hat_val, beta=2)\n",
    "    class_scores[classes[jdx]] = round(score, 4)\n",
    "\n",
    "df_score = pd.DataFrame(dict(\n",
    "    label=list(class_scores.keys()), score=list(class_scores.values()),\n",
    ")).sort_values(\"score\", ascending=False)\n",
    "fig = px.bar(df_score, x=\"label\", y=\"score\", color=\"score\")\n",
    "fig.show()"
   ]
  },
  {
   "cell_type": "code",
   "execution_count": 276,
   "id": "ec4062ec",
   "metadata": {},
   "outputs": [
    {
     "data": {
      "application/vnd.plotly.v1+json": {
       "config": {
        "plotlyServerURL": "https://plot.ly"
       },
       "data": [
        {
         "colorscale": [
          [
           0,
           "#440154"
          ],
          [
           0.1111111111111111,
           "#482878"
          ],
          [
           0.2222222222222222,
           "#3e4989"
          ],
          [
           0.3333333333333333,
           "#31688e"
          ],
          [
           0.4444444444444444,
           "#26828e"
          ],
          [
           0.5555555555555556,
           "#1f9e89"
          ],
          [
           0.6666666666666666,
           "#35b779"
          ],
          [
           0.7777777777777778,
           "#6ece58"
          ],
          [
           0.8888888888888888,
           "#b5de2b"
          ],
          [
           1,
           "#fde725"
          ]
         ],
         "name": "agriculture",
         "showscale": false,
         "text": [
          [
           "fn: 0",
           "tn: 0"
          ],
          [
           "tp: 868",
           "fp: 1137"
          ]
         ],
         "textfont": {
          "size": 20
         },
         "texttemplate": "%{text}",
         "type": "heatmap",
         "xaxis": "x",
         "yaxis": "y",
         "z": [
          [
           0,
           0
          ],
          [
           868,
           1137
          ]
         ]
        },
        {
         "colorscale": [
          [
           0,
           "#440154"
          ],
          [
           0.1111111111111111,
           "#482878"
          ],
          [
           0.2222222222222222,
           "#3e4989"
          ],
          [
           0.3333333333333333,
           "#31688e"
          ],
          [
           0.4444444444444444,
           "#26828e"
          ],
          [
           0.5555555555555556,
           "#1f9e89"
          ],
          [
           0.6666666666666666,
           "#35b779"
          ],
          [
           0.7777777777777778,
           "#6ece58"
          ],
          [
           0.8888888888888888,
           "#b5de2b"
          ],
          [
           1,
           "#fde725"
          ]
         ],
         "name": "artisinal_mine",
         "showscale": false,
         "text": [
          [
           "fn: 26",
           "tn: 1979"
          ],
          [
           "tp: 0",
           "fp: 0"
          ]
         ],
         "textfont": {
          "size": 20
         },
         "texttemplate": "%{text}",
         "type": "heatmap",
         "xaxis": "x6",
         "yaxis": "y6",
         "z": [
          [
           26,
           1979
          ],
          [
           0,
           0
          ]
         ]
        },
        {
         "colorscale": [
          [
           0,
           "#440154"
          ],
          [
           0.1111111111111111,
           "#482878"
          ],
          [
           0.2222222222222222,
           "#3e4989"
          ],
          [
           0.3333333333333333,
           "#31688e"
          ],
          [
           0.4444444444444444,
           "#26828e"
          ],
          [
           0.5555555555555556,
           "#1f9e89"
          ],
          [
           0.6666666666666666,
           "#35b779"
          ],
          [
           0.7777777777777778,
           "#6ece58"
          ],
          [
           0.8888888888888888,
           "#b5de2b"
          ],
          [
           1,
           "#fde725"
          ]
         ],
         "name": "bare_ground",
         "showscale": false,
         "text": [
          [
           "fn: 60",
           "tn: 1940"
          ],
          [
           "tp: 0",
           "fp: 5"
          ]
         ],
         "textfont": {
          "size": 20
         },
         "texttemplate": "%{text}",
         "type": "heatmap",
         "xaxis": "x11",
         "yaxis": "y11",
         "z": [
          [
           60,
           1940
          ],
          [
           0,
           5
          ]
         ]
        },
        {
         "colorscale": [
          [
           0,
           "#440154"
          ],
          [
           0.1111111111111111,
           "#482878"
          ],
          [
           0.2222222222222222,
           "#3e4989"
          ],
          [
           0.3333333333333333,
           "#31688e"
          ],
          [
           0.4444444444444444,
           "#26828e"
          ],
          [
           0.5555555555555556,
           "#1f9e89"
          ],
          [
           0.6666666666666666,
           "#35b779"
          ],
          [
           0.7777777777777778,
           "#6ece58"
          ],
          [
           0.8888888888888888,
           "#b5de2b"
          ],
          [
           1,
           "#fde725"
          ]
         ],
         "name": "blooming",
         "showscale": false,
         "text": [
          [
           "fn: 14",
           "tn: 1991"
          ],
          [
           "tp: 0",
           "fp: 0"
          ]
         ],
         "textfont": {
          "size": 20
         },
         "texttemplate": "%{text}",
         "type": "heatmap",
         "xaxis": "x16",
         "yaxis": "y16",
         "z": [
          [
           14,
           1991
          ],
          [
           0,
           0
          ]
         ]
        },
        {
         "colorscale": [
          [
           0,
           "#440154"
          ],
          [
           0.1111111111111111,
           "#482878"
          ],
          [
           0.2222222222222222,
           "#3e4989"
          ],
          [
           0.3333333333333333,
           "#31688e"
          ],
          [
           0.4444444444444444,
           "#26828e"
          ],
          [
           0.5555555555555556,
           "#1f9e89"
          ],
          [
           0.6666666666666666,
           "#35b779"
          ],
          [
           0.7777777777777778,
           "#6ece58"
          ],
          [
           0.8888888888888888,
           "#b5de2b"
          ],
          [
           1,
           "#fde725"
          ]
         ],
         "name": "blow_down",
         "showscale": false,
         "text": [
          [
           "fn: 5",
           "tn: 2000"
          ],
          [
           "tp: 0",
           "fp: 0"
          ]
         ],
         "textfont": {
          "size": 20
         },
         "texttemplate": "%{text}",
         "type": "heatmap",
         "xaxis": "x2",
         "yaxis": "y2",
         "z": [
          [
           5,
           2000
          ],
          [
           0,
           0
          ]
         ]
        },
        {
         "colorscale": [
          [
           0,
           "#440154"
          ],
          [
           0.1111111111111111,
           "#482878"
          ],
          [
           0.2222222222222222,
           "#3e4989"
          ],
          [
           0.3333333333333333,
           "#31688e"
          ],
          [
           0.4444444444444444,
           "#26828e"
          ],
          [
           0.5555555555555556,
           "#1f9e89"
          ],
          [
           0.6666666666666666,
           "#35b779"
          ],
          [
           0.7777777777777778,
           "#6ece58"
          ],
          [
           0.8888888888888888,
           "#b5de2b"
          ],
          [
           1,
           "#fde725"
          ]
         ],
         "name": "clear",
         "showscale": false,
         "text": [
          [
           "fn: 0",
           "tn: 0"
          ],
          [
           "tp: 1452",
           "fp: 553"
          ]
         ],
         "textfont": {
          "size": 20
         },
         "texttemplate": "%{text}",
         "type": "heatmap",
         "xaxis": "x7",
         "yaxis": "y7",
         "z": [
          [
           0,
           0
          ],
          [
           1452,
           553
          ]
         ]
        },
        {
         "colorscale": [
          [
           0,
           "#440154"
          ],
          [
           0.1111111111111111,
           "#482878"
          ],
          [
           0.2222222222222222,
           "#3e4989"
          ],
          [
           0.3333333333333333,
           "#31688e"
          ],
          [
           0.4444444444444444,
           "#26828e"
          ],
          [
           0.5555555555555556,
           "#1f9e89"
          ],
          [
           0.6666666666666666,
           "#35b779"
          ],
          [
           0.7777777777777778,
           "#6ece58"
          ],
          [
           0.8888888888888888,
           "#b5de2b"
          ],
          [
           1,
           "#fde725"
          ]
         ],
         "name": "cloudy",
         "showscale": false,
         "text": [
          [
           "fn: 32",
           "tn: 1938"
          ],
          [
           "tp: 4",
           "fp: 31"
          ]
         ],
         "textfont": {
          "size": 20
         },
         "texttemplate": "%{text}",
         "type": "heatmap",
         "xaxis": "x12",
         "yaxis": "y12",
         "z": [
          [
           32,
           1938
          ],
          [
           4,
           31
          ]
         ]
        },
        {
         "colorscale": [
          [
           0,
           "#440154"
          ],
          [
           0.1111111111111111,
           "#482878"
          ],
          [
           0.2222222222222222,
           "#3e4989"
          ],
          [
           0.3333333333333333,
           "#31688e"
          ],
          [
           0.4444444444444444,
           "#26828e"
          ],
          [
           0.5555555555555556,
           "#1f9e89"
          ],
          [
           0.6666666666666666,
           "#35b779"
          ],
          [
           0.7777777777777778,
           "#6ece58"
          ],
          [
           0.8888888888888888,
           "#b5de2b"
          ],
          [
           1,
           "#fde725"
          ]
         ],
         "name": "conventional_mine",
         "showscale": false,
         "text": [
          [
           "fn: 7",
           "tn: 1997"
          ],
          [
           "tp: 0",
           "fp: 1"
          ]
         ],
         "textfont": {
          "size": 20
         },
         "texttemplate": "%{text}",
         "type": "heatmap",
         "xaxis": "x17",
         "yaxis": "y17",
         "z": [
          [
           7,
           1997
          ],
          [
           0,
           1
          ]
         ]
        },
        {
         "colorscale": [
          [
           0,
           "#440154"
          ],
          [
           0.1111111111111111,
           "#482878"
          ],
          [
           0.2222222222222222,
           "#3e4989"
          ],
          [
           0.3333333333333333,
           "#31688e"
          ],
          [
           0.4444444444444444,
           "#26828e"
          ],
          [
           0.5555555555555556,
           "#1f9e89"
          ],
          [
           0.6666666666666666,
           "#35b779"
          ],
          [
           0.7777777777777778,
           "#6ece58"
          ],
          [
           0.8888888888888888,
           "#b5de2b"
          ],
          [
           1,
           "#fde725"
          ]
         ],
         "name": "cultivation",
         "showscale": false,
         "text": [
          [
           "fn: 338",
           "tn: 1648"
          ],
          [
           "tp: 2",
           "fp: 17"
          ]
         ],
         "textfont": {
          "size": 20
         },
         "texttemplate": "%{text}",
         "type": "heatmap",
         "xaxis": "x3",
         "yaxis": "y3",
         "z": [
          [
           338,
           1648
          ],
          [
           2,
           17
          ]
         ]
        },
        {
         "colorscale": [
          [
           0,
           "#440154"
          ],
          [
           0.1111111111111111,
           "#482878"
          ],
          [
           0.2222222222222222,
           "#3e4989"
          ],
          [
           0.3333333333333333,
           "#31688e"
          ],
          [
           0.4444444444444444,
           "#26828e"
          ],
          [
           0.5555555555555556,
           "#1f9e89"
          ],
          [
           0.6666666666666666,
           "#35b779"
          ],
          [
           0.7777777777777778,
           "#6ece58"
          ],
          [
           0.8888888888888888,
           "#b5de2b"
          ],
          [
           1,
           "#fde725"
          ]
         ],
         "name": "habitation",
         "showscale": false,
         "text": [
          [
           "fn: 264",
           "tn: 1696"
          ],
          [
           "tp: 18",
           "fp: 27"
          ]
         ],
         "textfont": {
          "size": 20
         },
         "texttemplate": "%{text}",
         "type": "heatmap",
         "xaxis": "x8",
         "yaxis": "y8",
         "z": [
          [
           264,
           1696
          ],
          [
           18,
           27
          ]
         ]
        },
        {
         "colorscale": [
          [
           0,
           "#440154"
          ],
          [
           0.1111111111111111,
           "#482878"
          ],
          [
           0.2222222222222222,
           "#3e4989"
          ],
          [
           0.3333333333333333,
           "#31688e"
          ],
          [
           0.4444444444444444,
           "#26828e"
          ],
          [
           0.5555555555555556,
           "#1f9e89"
          ],
          [
           0.6666666666666666,
           "#35b779"
          ],
          [
           0.7777777777777778,
           "#6ece58"
          ],
          [
           0.8888888888888888,
           "#b5de2b"
          ],
          [
           1,
           "#fde725"
          ]
         ],
         "name": "haze",
         "showscale": false,
         "text": [
          [
           "fn: 147",
           "tn: 1823"
          ],
          [
           "tp: 7",
           "fp: 28"
          ]
         ],
         "textfont": {
          "size": 20
         },
         "texttemplate": "%{text}",
         "type": "heatmap",
         "xaxis": "x13",
         "yaxis": "y13",
         "z": [
          [
           147,
           1823
          ],
          [
           7,
           28
          ]
         ]
        },
        {
         "colorscale": [
          [
           0,
           "#440154"
          ],
          [
           0.1111111111111111,
           "#482878"
          ],
          [
           0.2222222222222222,
           "#3e4989"
          ],
          [
           0.3333333333333333,
           "#31688e"
          ],
          [
           0.4444444444444444,
           "#26828e"
          ],
          [
           0.5555555555555556,
           "#1f9e89"
          ],
          [
           0.6666666666666666,
           "#35b779"
          ],
          [
           0.7777777777777778,
           "#6ece58"
          ],
          [
           0.8888888888888888,
           "#b5de2b"
          ],
          [
           1,
           "#fde725"
          ]
         ],
         "name": "partly_cloudy",
         "showscale": false,
         "text": [
          [
           "fn: 316",
           "tn: 1621"
          ],
          [
           "tp: 47",
           "fp: 21"
          ]
         ],
         "textfont": {
          "size": 20
         },
         "texttemplate": "%{text}",
         "type": "heatmap",
         "xaxis": "x18",
         "yaxis": "y18",
         "z": [
          [
           316,
           1621
          ],
          [
           47,
           21
          ]
         ]
        },
        {
         "colorscale": [
          [
           0,
           "#440154"
          ],
          [
           0.1111111111111111,
           "#482878"
          ],
          [
           0.2222222222222222,
           "#3e4989"
          ],
          [
           0.3333333333333333,
           "#31688e"
          ],
          [
           0.4444444444444444,
           "#26828e"
          ],
          [
           0.5555555555555556,
           "#1f9e89"
          ],
          [
           0.6666666666666666,
           "#35b779"
          ],
          [
           0.7777777777777778,
           "#6ece58"
          ],
          [
           0.8888888888888888,
           "#b5de2b"
          ],
          [
           1,
           "#fde725"
          ]
         ],
         "name": "primary",
         "showscale": false,
         "text": [
          [
           "fn: 0",
           "tn: 0"
          ],
          [
           "tp: 1936",
           "fp: 69"
          ]
         ],
         "textfont": {
          "size": 20
         },
         "texttemplate": "%{text}",
         "type": "heatmap",
         "xaxis": "x4",
         "yaxis": "y4",
         "z": [
          [
           0,
           0
          ],
          [
           1936,
           69
          ]
         ]
        },
        {
         "colorscale": [
          [
           0,
           "#440154"
          ],
          [
           0.1111111111111111,
           "#482878"
          ],
          [
           0.2222222222222222,
           "#3e4989"
          ],
          [
           0.3333333333333333,
           "#31688e"
          ],
          [
           0.4444444444444444,
           "#26828e"
          ],
          [
           0.5555555555555556,
           "#1f9e89"
          ],
          [
           0.6666666666666666,
           "#35b779"
          ],
          [
           0.7777777777777778,
           "#6ece58"
          ],
          [
           0.8888888888888888,
           "#b5de2b"
          ],
          [
           1,
           "#fde725"
          ]
         ],
         "name": "road",
         "showscale": false,
         "text": [
          [
           "fn: 493",
           "tn: 1329"
          ],
          [
           "tp: 103",
           "fp: 80"
          ]
         ],
         "textfont": {
          "size": 20
         },
         "texttemplate": "%{text}",
         "type": "heatmap",
         "xaxis": "x9",
         "yaxis": "y9",
         "z": [
          [
           493,
           1329
          ],
          [
           103,
           80
          ]
         ]
        },
        {
         "colorscale": [
          [
           0,
           "#440154"
          ],
          [
           0.1111111111111111,
           "#482878"
          ],
          [
           0.2222222222222222,
           "#3e4989"
          ],
          [
           0.3333333333333333,
           "#31688e"
          ],
          [
           0.4444444444444444,
           "#26828e"
          ],
          [
           0.5555555555555556,
           "#1f9e89"
          ],
          [
           0.6666666666666666,
           "#35b779"
          ],
          [
           0.7777777777777778,
           "#6ece58"
          ],
          [
           0.8888888888888888,
           "#b5de2b"
          ],
          [
           1,
           "#fde725"
          ]
         ],
         "name": "selective_logging",
         "showscale": false,
         "text": [
          [
           "fn: 23",
           "tn: 1982"
          ],
          [
           "tp: 0",
           "fp: 0"
          ]
         ],
         "textfont": {
          "size": 20
         },
         "texttemplate": "%{text}",
         "type": "heatmap",
         "xaxis": "x14",
         "yaxis": "y14",
         "z": [
          [
           23,
           1982
          ],
          [
           0,
           0
          ]
         ]
        },
        {
         "colorscale": [
          [
           0,
           "#440154"
          ],
          [
           0.1111111111111111,
           "#482878"
          ],
          [
           0.2222222222222222,
           "#3e4989"
          ],
          [
           0.3333333333333333,
           "#31688e"
          ],
          [
           0.4444444444444444,
           "#26828e"
          ],
          [
           0.5555555555555556,
           "#1f9e89"
          ],
          [
           0.6666666666666666,
           "#35b779"
          ],
          [
           0.7777777777777778,
           "#6ece58"
          ],
          [
           0.8888888888888888,
           "#b5de2b"
          ],
          [
           1,
           "#fde725"
          ]
         ],
         "name": "slash_burn",
         "showscale": false,
         "text": [
          [
           "fn: 14",
           "tn: 1991"
          ],
          [
           "tp: 0",
           "fp: 0"
          ]
         ],
         "textfont": {
          "size": 20
         },
         "texttemplate": "%{text}",
         "type": "heatmap",
         "xaxis": "x19",
         "yaxis": "y19",
         "z": [
          [
           14,
           1991
          ],
          [
           0,
           0
          ]
         ]
        },
        {
         "colorscale": [
          [
           0,
           "#440154"
          ],
          [
           0.1111111111111111,
           "#482878"
          ],
          [
           0.2222222222222222,
           "#3e4989"
          ],
          [
           0.3333333333333333,
           "#31688e"
          ],
          [
           0.4444444444444444,
           "#26828e"
          ],
          [
           0.5555555555555556,
           "#1f9e89"
          ],
          [
           0.6666666666666666,
           "#35b779"
          ],
          [
           0.7777777777777778,
           "#6ece58"
          ],
          [
           0.8888888888888888,
           "#b5de2b"
          ],
          [
           1,
           "#fde725"
          ]
         ],
         "name": "water",
         "showscale": false,
         "text": [
          [
           "fn: 435",
           "tn: 1413"
          ],
          [
           "tp: 51",
           "fp: 106"
          ]
         ],
         "textfont": {
          "size": 20
         },
         "texttemplate": "%{text}",
         "type": "heatmap",
         "xaxis": "x5",
         "yaxis": "y5",
         "z": [
          [
           435,
           1413
          ],
          [
           51,
           106
          ]
         ]
        }
       ],
       "layout": {
        "height": 800,
        "template": {
         "data": {
          "bar": [
           {
            "error_x": {
             "color": "#2a3f5f"
            },
            "error_y": {
             "color": "#2a3f5f"
            },
            "marker": {
             "line": {
              "color": "#E5ECF6",
              "width": 0.5
             },
             "pattern": {
              "fillmode": "overlay",
              "size": 10,
              "solidity": 0.2
             }
            },
            "type": "bar"
           }
          ],
          "barpolar": [
           {
            "marker": {
             "line": {
              "color": "#E5ECF6",
              "width": 0.5
             },
             "pattern": {
              "fillmode": "overlay",
              "size": 10,
              "solidity": 0.2
             }
            },
            "type": "barpolar"
           }
          ],
          "carpet": [
           {
            "aaxis": {
             "endlinecolor": "#2a3f5f",
             "gridcolor": "white",
             "linecolor": "white",
             "minorgridcolor": "white",
             "startlinecolor": "#2a3f5f"
            },
            "baxis": {
             "endlinecolor": "#2a3f5f",
             "gridcolor": "white",
             "linecolor": "white",
             "minorgridcolor": "white",
             "startlinecolor": "#2a3f5f"
            },
            "type": "carpet"
           }
          ],
          "choropleth": [
           {
            "colorbar": {
             "outlinewidth": 0,
             "ticks": ""
            },
            "type": "choropleth"
           }
          ],
          "contour": [
           {
            "colorbar": {
             "outlinewidth": 0,
             "ticks": ""
            },
            "colorscale": [
             [
              0,
              "#0d0887"
             ],
             [
              0.1111111111111111,
              "#46039f"
             ],
             [
              0.2222222222222222,
              "#7201a8"
             ],
             [
              0.3333333333333333,
              "#9c179e"
             ],
             [
              0.4444444444444444,
              "#bd3786"
             ],
             [
              0.5555555555555556,
              "#d8576b"
             ],
             [
              0.6666666666666666,
              "#ed7953"
             ],
             [
              0.7777777777777778,
              "#fb9f3a"
             ],
             [
              0.8888888888888888,
              "#fdca26"
             ],
             [
              1,
              "#f0f921"
             ]
            ],
            "type": "contour"
           }
          ],
          "contourcarpet": [
           {
            "colorbar": {
             "outlinewidth": 0,
             "ticks": ""
            },
            "type": "contourcarpet"
           }
          ],
          "heatmap": [
           {
            "colorbar": {
             "outlinewidth": 0,
             "ticks": ""
            },
            "colorscale": [
             [
              0,
              "#0d0887"
             ],
             [
              0.1111111111111111,
              "#46039f"
             ],
             [
              0.2222222222222222,
              "#7201a8"
             ],
             [
              0.3333333333333333,
              "#9c179e"
             ],
             [
              0.4444444444444444,
              "#bd3786"
             ],
             [
              0.5555555555555556,
              "#d8576b"
             ],
             [
              0.6666666666666666,
              "#ed7953"
             ],
             [
              0.7777777777777778,
              "#fb9f3a"
             ],
             [
              0.8888888888888888,
              "#fdca26"
             ],
             [
              1,
              "#f0f921"
             ]
            ],
            "type": "heatmap"
           }
          ],
          "heatmapgl": [
           {
            "colorbar": {
             "outlinewidth": 0,
             "ticks": ""
            },
            "colorscale": [
             [
              0,
              "#0d0887"
             ],
             [
              0.1111111111111111,
              "#46039f"
             ],
             [
              0.2222222222222222,
              "#7201a8"
             ],
             [
              0.3333333333333333,
              "#9c179e"
             ],
             [
              0.4444444444444444,
              "#bd3786"
             ],
             [
              0.5555555555555556,
              "#d8576b"
             ],
             [
              0.6666666666666666,
              "#ed7953"
             ],
             [
              0.7777777777777778,
              "#fb9f3a"
             ],
             [
              0.8888888888888888,
              "#fdca26"
             ],
             [
              1,
              "#f0f921"
             ]
            ],
            "type": "heatmapgl"
           }
          ],
          "histogram": [
           {
            "marker": {
             "pattern": {
              "fillmode": "overlay",
              "size": 10,
              "solidity": 0.2
             }
            },
            "type": "histogram"
           }
          ],
          "histogram2d": [
           {
            "colorbar": {
             "outlinewidth": 0,
             "ticks": ""
            },
            "colorscale": [
             [
              0,
              "#0d0887"
             ],
             [
              0.1111111111111111,
              "#46039f"
             ],
             [
              0.2222222222222222,
              "#7201a8"
             ],
             [
              0.3333333333333333,
              "#9c179e"
             ],
             [
              0.4444444444444444,
              "#bd3786"
             ],
             [
              0.5555555555555556,
              "#d8576b"
             ],
             [
              0.6666666666666666,
              "#ed7953"
             ],
             [
              0.7777777777777778,
              "#fb9f3a"
             ],
             [
              0.8888888888888888,
              "#fdca26"
             ],
             [
              1,
              "#f0f921"
             ]
            ],
            "type": "histogram2d"
           }
          ],
          "histogram2dcontour": [
           {
            "colorbar": {
             "outlinewidth": 0,
             "ticks": ""
            },
            "colorscale": [
             [
              0,
              "#0d0887"
             ],
             [
              0.1111111111111111,
              "#46039f"
             ],
             [
              0.2222222222222222,
              "#7201a8"
             ],
             [
              0.3333333333333333,
              "#9c179e"
             ],
             [
              0.4444444444444444,
              "#bd3786"
             ],
             [
              0.5555555555555556,
              "#d8576b"
             ],
             [
              0.6666666666666666,
              "#ed7953"
             ],
             [
              0.7777777777777778,
              "#fb9f3a"
             ],
             [
              0.8888888888888888,
              "#fdca26"
             ],
             [
              1,
              "#f0f921"
             ]
            ],
            "type": "histogram2dcontour"
           }
          ],
          "mesh3d": [
           {
            "colorbar": {
             "outlinewidth": 0,
             "ticks": ""
            },
            "type": "mesh3d"
           }
          ],
          "parcoords": [
           {
            "line": {
             "colorbar": {
              "outlinewidth": 0,
              "ticks": ""
             }
            },
            "type": "parcoords"
           }
          ],
          "pie": [
           {
            "automargin": true,
            "type": "pie"
           }
          ],
          "scatter": [
           {
            "marker": {
             "colorbar": {
              "outlinewidth": 0,
              "ticks": ""
             }
            },
            "type": "scatter"
           }
          ],
          "scatter3d": [
           {
            "line": {
             "colorbar": {
              "outlinewidth": 0,
              "ticks": ""
             }
            },
            "marker": {
             "colorbar": {
              "outlinewidth": 0,
              "ticks": ""
             }
            },
            "type": "scatter3d"
           }
          ],
          "scattercarpet": [
           {
            "marker": {
             "colorbar": {
              "outlinewidth": 0,
              "ticks": ""
             }
            },
            "type": "scattercarpet"
           }
          ],
          "scattergeo": [
           {
            "marker": {
             "colorbar": {
              "outlinewidth": 0,
              "ticks": ""
             }
            },
            "type": "scattergeo"
           }
          ],
          "scattergl": [
           {
            "marker": {
             "colorbar": {
              "outlinewidth": 0,
              "ticks": ""
             }
            },
            "type": "scattergl"
           }
          ],
          "scattermapbox": [
           {
            "marker": {
             "colorbar": {
              "outlinewidth": 0,
              "ticks": ""
             }
            },
            "type": "scattermapbox"
           }
          ],
          "scatterpolar": [
           {
            "marker": {
             "colorbar": {
              "outlinewidth": 0,
              "ticks": ""
             }
            },
            "type": "scatterpolar"
           }
          ],
          "scatterpolargl": [
           {
            "marker": {
             "colorbar": {
              "outlinewidth": 0,
              "ticks": ""
             }
            },
            "type": "scatterpolargl"
           }
          ],
          "scatterternary": [
           {
            "marker": {
             "colorbar": {
              "outlinewidth": 0,
              "ticks": ""
             }
            },
            "type": "scatterternary"
           }
          ],
          "surface": [
           {
            "colorbar": {
             "outlinewidth": 0,
             "ticks": ""
            },
            "colorscale": [
             [
              0,
              "#0d0887"
             ],
             [
              0.1111111111111111,
              "#46039f"
             ],
             [
              0.2222222222222222,
              "#7201a8"
             ],
             [
              0.3333333333333333,
              "#9c179e"
             ],
             [
              0.4444444444444444,
              "#bd3786"
             ],
             [
              0.5555555555555556,
              "#d8576b"
             ],
             [
              0.6666666666666666,
              "#ed7953"
             ],
             [
              0.7777777777777778,
              "#fb9f3a"
             ],
             [
              0.8888888888888888,
              "#fdca26"
             ],
             [
              1,
              "#f0f921"
             ]
            ],
            "type": "surface"
           }
          ],
          "table": [
           {
            "cells": {
             "fill": {
              "color": "#EBF0F8"
             },
             "line": {
              "color": "white"
             }
            },
            "header": {
             "fill": {
              "color": "#C8D4E3"
             },
             "line": {
              "color": "white"
             }
            },
            "type": "table"
           }
          ]
         },
         "layout": {
          "annotationdefaults": {
           "arrowcolor": "#2a3f5f",
           "arrowhead": 0,
           "arrowwidth": 1
          },
          "autotypenumbers": "strict",
          "coloraxis": {
           "colorbar": {
            "outlinewidth": 0,
            "ticks": ""
           }
          },
          "colorscale": {
           "diverging": [
            [
             0,
             "#8e0152"
            ],
            [
             0.1,
             "#c51b7d"
            ],
            [
             0.2,
             "#de77ae"
            ],
            [
             0.3,
             "#f1b6da"
            ],
            [
             0.4,
             "#fde0ef"
            ],
            [
             0.5,
             "#f7f7f7"
            ],
            [
             0.6,
             "#e6f5d0"
            ],
            [
             0.7,
             "#b8e186"
            ],
            [
             0.8,
             "#7fbc41"
            ],
            [
             0.9,
             "#4d9221"
            ],
            [
             1,
             "#276419"
            ]
           ],
           "sequential": [
            [
             0,
             "#0d0887"
            ],
            [
             0.1111111111111111,
             "#46039f"
            ],
            [
             0.2222222222222222,
             "#7201a8"
            ],
            [
             0.3333333333333333,
             "#9c179e"
            ],
            [
             0.4444444444444444,
             "#bd3786"
            ],
            [
             0.5555555555555556,
             "#d8576b"
            ],
            [
             0.6666666666666666,
             "#ed7953"
            ],
            [
             0.7777777777777778,
             "#fb9f3a"
            ],
            [
             0.8888888888888888,
             "#fdca26"
            ],
            [
             1,
             "#f0f921"
            ]
           ],
           "sequentialminus": [
            [
             0,
             "#0d0887"
            ],
            [
             0.1111111111111111,
             "#46039f"
            ],
            [
             0.2222222222222222,
             "#7201a8"
            ],
            [
             0.3333333333333333,
             "#9c179e"
            ],
            [
             0.4444444444444444,
             "#bd3786"
            ],
            [
             0.5555555555555556,
             "#d8576b"
            ],
            [
             0.6666666666666666,
             "#ed7953"
            ],
            [
             0.7777777777777778,
             "#fb9f3a"
            ],
            [
             0.8888888888888888,
             "#fdca26"
            ],
            [
             1,
             "#f0f921"
            ]
           ]
          },
          "colorway": [
           "#636efa",
           "#EF553B",
           "#00cc96",
           "#ab63fa",
           "#FFA15A",
           "#19d3f3",
           "#FF6692",
           "#B6E880",
           "#FF97FF",
           "#FECB52"
          ],
          "font": {
           "color": "#2a3f5f"
          },
          "geo": {
           "bgcolor": "white",
           "lakecolor": "white",
           "landcolor": "#E5ECF6",
           "showlakes": true,
           "showland": true,
           "subunitcolor": "white"
          },
          "hoverlabel": {
           "align": "left"
          },
          "hovermode": "closest",
          "mapbox": {
           "style": "light"
          },
          "paper_bgcolor": "white",
          "plot_bgcolor": "#E5ECF6",
          "polar": {
           "angularaxis": {
            "gridcolor": "white",
            "linecolor": "white",
            "ticks": ""
           },
           "bgcolor": "#E5ECF6",
           "radialaxis": {
            "gridcolor": "white",
            "linecolor": "white",
            "ticks": ""
           }
          },
          "scene": {
           "xaxis": {
            "backgroundcolor": "#E5ECF6",
            "gridcolor": "white",
            "gridwidth": 2,
            "linecolor": "white",
            "showbackground": true,
            "ticks": "",
            "zerolinecolor": "white"
           },
           "yaxis": {
            "backgroundcolor": "#E5ECF6",
            "gridcolor": "white",
            "gridwidth": 2,
            "linecolor": "white",
            "showbackground": true,
            "ticks": "",
            "zerolinecolor": "white"
           },
           "zaxis": {
            "backgroundcolor": "#E5ECF6",
            "gridcolor": "white",
            "gridwidth": 2,
            "linecolor": "white",
            "showbackground": true,
            "ticks": "",
            "zerolinecolor": "white"
           }
          },
          "shapedefaults": {
           "line": {
            "color": "#2a3f5f"
           }
          },
          "ternary": {
           "aaxis": {
            "gridcolor": "white",
            "linecolor": "white",
            "ticks": ""
           },
           "baxis": {
            "gridcolor": "white",
            "linecolor": "white",
            "ticks": ""
           },
           "bgcolor": "#E5ECF6",
           "caxis": {
            "gridcolor": "white",
            "linecolor": "white",
            "ticks": ""
           }
          },
          "title": {
           "x": 0.05
          },
          "xaxis": {
           "automargin": true,
           "gridcolor": "white",
           "linecolor": "white",
           "ticks": "",
           "title": {
            "standoff": 15
           },
           "zerolinecolor": "white",
           "zerolinewidth": 2
          },
          "yaxis": {
           "automargin": true,
           "gridcolor": "white",
           "linecolor": "white",
           "ticks": "",
           "title": {
            "standoff": 15
           },
           "zerolinecolor": "white",
           "zerolinewidth": 2
          }
         }
        },
        "title": {
         "text": "Confusion matrices"
        },
        "width": 1200,
        "xaxis": {
         "anchor": "y",
         "domain": [
          0,
          0.16799999999999998
         ],
         "showticklabels": false,
         "title": {
          "text": "agriculture"
         }
        },
        "xaxis10": {
         "anchor": "y10",
         "domain": [
          0.832,
          1
         ]
        },
        "xaxis11": {
         "anchor": "y11",
         "domain": [
          0,
          0.16799999999999998
         ],
         "showticklabels": false,
         "title": {
          "text": "bare_ground"
         }
        },
        "xaxis12": {
         "anchor": "y12",
         "domain": [
          0.208,
          0.376
         ],
         "showticklabels": false,
         "title": {
          "text": "cloudy"
         }
        },
        "xaxis13": {
         "anchor": "y13",
         "domain": [
          0.416,
          0.584
         ],
         "showticklabels": false,
         "title": {
          "text": "haze"
         }
        },
        "xaxis14": {
         "anchor": "y14",
         "domain": [
          0.624,
          0.792
         ],
         "showticklabels": false,
         "title": {
          "text": "selective_logging"
         }
        },
        "xaxis15": {
         "anchor": "y15",
         "domain": [
          0.832,
          1
         ]
        },
        "xaxis16": {
         "anchor": "y16",
         "domain": [
          0,
          0.16799999999999998
         ],
         "showticklabels": false,
         "title": {
          "text": "blooming"
         }
        },
        "xaxis17": {
         "anchor": "y17",
         "domain": [
          0.208,
          0.376
         ],
         "showticklabels": false,
         "title": {
          "text": "conventional_mine"
         }
        },
        "xaxis18": {
         "anchor": "y18",
         "domain": [
          0.416,
          0.584
         ],
         "showticklabels": false,
         "title": {
          "text": "partly_cloudy"
         }
        },
        "xaxis19": {
         "anchor": "y19",
         "domain": [
          0.624,
          0.792
         ],
         "showticklabels": false,
         "title": {
          "text": "slash_burn"
         }
        },
        "xaxis2": {
         "anchor": "y2",
         "domain": [
          0.208,
          0.376
         ],
         "showticklabels": false,
         "title": {
          "text": "blow_down"
         }
        },
        "xaxis20": {
         "anchor": "y20",
         "domain": [
          0.832,
          1
         ]
        },
        "xaxis3": {
         "anchor": "y3",
         "domain": [
          0.416,
          0.584
         ],
         "showticklabels": false,
         "title": {
          "text": "cultivation"
         }
        },
        "xaxis4": {
         "anchor": "y4",
         "domain": [
          0.624,
          0.792
         ],
         "showticklabels": false,
         "title": {
          "text": "primary"
         }
        },
        "xaxis5": {
         "anchor": "y5",
         "domain": [
          0.832,
          1
         ],
         "showticklabels": false,
         "title": {
          "text": "water"
         }
        },
        "xaxis6": {
         "anchor": "y6",
         "domain": [
          0,
          0.16799999999999998
         ],
         "showticklabels": false,
         "title": {
          "text": "artisinal_mine"
         }
        },
        "xaxis7": {
         "anchor": "y7",
         "domain": [
          0.208,
          0.376
         ],
         "showticklabels": false,
         "title": {
          "text": "clear"
         }
        },
        "xaxis8": {
         "anchor": "y8",
         "domain": [
          0.416,
          0.584
         ],
         "showticklabels": false,
         "title": {
          "text": "habitation"
         }
        },
        "xaxis9": {
         "anchor": "y9",
         "domain": [
          0.624,
          0.792
         ],
         "showticklabels": false,
         "title": {
          "text": "road"
         }
        },
        "yaxis": {
         "anchor": "x",
         "domain": [
          0.80625,
          1
         ],
         "showticklabels": false
        },
        "yaxis10": {
         "anchor": "x10",
         "domain": [
          0.5375,
          0.73125
         ]
        },
        "yaxis11": {
         "anchor": "x11",
         "domain": [
          0.26875,
          0.4625
         ],
         "showticklabels": false
        },
        "yaxis12": {
         "anchor": "x12",
         "domain": [
          0.26875,
          0.4625
         ],
         "showticklabels": false
        },
        "yaxis13": {
         "anchor": "x13",
         "domain": [
          0.26875,
          0.4625
         ],
         "showticklabels": false
        },
        "yaxis14": {
         "anchor": "x14",
         "domain": [
          0.26875,
          0.4625
         ],
         "showticklabels": false
        },
        "yaxis15": {
         "anchor": "x15",
         "domain": [
          0.26875,
          0.4625
         ]
        },
        "yaxis16": {
         "anchor": "x16",
         "domain": [
          0,
          0.19375
         ],
         "showticklabels": false
        },
        "yaxis17": {
         "anchor": "x17",
         "domain": [
          0,
          0.19375
         ],
         "showticklabels": false
        },
        "yaxis18": {
         "anchor": "x18",
         "domain": [
          0,
          0.19375
         ],
         "showticklabels": false
        },
        "yaxis19": {
         "anchor": "x19",
         "domain": [
          0,
          0.19375
         ],
         "showticklabels": false
        },
        "yaxis2": {
         "anchor": "x2",
         "domain": [
          0.80625,
          1
         ],
         "showticklabels": false
        },
        "yaxis20": {
         "anchor": "x20",
         "domain": [
          0,
          0.19375
         ]
        },
        "yaxis3": {
         "anchor": "x3",
         "domain": [
          0.80625,
          1
         ],
         "showticklabels": false
        },
        "yaxis4": {
         "anchor": "x4",
         "domain": [
          0.80625,
          1
         ],
         "showticklabels": false
        },
        "yaxis5": {
         "anchor": "x5",
         "domain": [
          0.80625,
          1
         ],
         "showticklabels": false
        },
        "yaxis6": {
         "anchor": "x6",
         "domain": [
          0.5375,
          0.73125
         ],
         "showticklabels": false
        },
        "yaxis7": {
         "anchor": "x7",
         "domain": [
          0.5375,
          0.73125
         ],
         "showticklabels": false
        },
        "yaxis8": {
         "anchor": "x8",
         "domain": [
          0.5375,
          0.73125
         ],
         "showticklabels": false
        },
        "yaxis9": {
         "anchor": "x9",
         "domain": [
          0.5375,
          0.73125
         ],
         "showticklabels": false
        }
       }
      },
      "text/html": [
       "<div>                            <div id=\"e544b1fe-119d-48d4-a2b6-cfe1976c195b\" class=\"plotly-graph-div\" style=\"height:800px; width:1200px;\"></div>            <script type=\"text/javascript\">                require([\"plotly\"], function(Plotly) {                    window.PLOTLYENV=window.PLOTLYENV || {};                                    if (document.getElementById(\"e544b1fe-119d-48d4-a2b6-cfe1976c195b\")) {                    Plotly.newPlot(                        \"e544b1fe-119d-48d4-a2b6-cfe1976c195b\",                        [{\"colorscale\":[[0.0,\"#440154\"],[0.1111111111111111,\"#482878\"],[0.2222222222222222,\"#3e4989\"],[0.3333333333333333,\"#31688e\"],[0.4444444444444444,\"#26828e\"],[0.5555555555555556,\"#1f9e89\"],[0.6666666666666666,\"#35b779\"],[0.7777777777777778,\"#6ece58\"],[0.8888888888888888,\"#b5de2b\"],[1.0,\"#fde725\"]],\"name\":\"agriculture\",\"showscale\":false,\"text\":[[\"fn: 0\",\"tn: 0\"],[\"tp: 868\",\"fp: 1137\"]],\"textfont\":{\"size\":20},\"texttemplate\":\"%{text}\",\"z\":[[0,0],[868,1137]],\"type\":\"heatmap\",\"xaxis\":\"x\",\"yaxis\":\"y\"},{\"colorscale\":[[0.0,\"#440154\"],[0.1111111111111111,\"#482878\"],[0.2222222222222222,\"#3e4989\"],[0.3333333333333333,\"#31688e\"],[0.4444444444444444,\"#26828e\"],[0.5555555555555556,\"#1f9e89\"],[0.6666666666666666,\"#35b779\"],[0.7777777777777778,\"#6ece58\"],[0.8888888888888888,\"#b5de2b\"],[1.0,\"#fde725\"]],\"name\":\"artisinal_mine\",\"showscale\":false,\"text\":[[\"fn: 26\",\"tn: 1979\"],[\"tp: 0\",\"fp: 0\"]],\"textfont\":{\"size\":20},\"texttemplate\":\"%{text}\",\"z\":[[26,1979],[0,0]],\"type\":\"heatmap\",\"xaxis\":\"x6\",\"yaxis\":\"y6\"},{\"colorscale\":[[0.0,\"#440154\"],[0.1111111111111111,\"#482878\"],[0.2222222222222222,\"#3e4989\"],[0.3333333333333333,\"#31688e\"],[0.4444444444444444,\"#26828e\"],[0.5555555555555556,\"#1f9e89\"],[0.6666666666666666,\"#35b779\"],[0.7777777777777778,\"#6ece58\"],[0.8888888888888888,\"#b5de2b\"],[1.0,\"#fde725\"]],\"name\":\"bare_ground\",\"showscale\":false,\"text\":[[\"fn: 60\",\"tn: 1940\"],[\"tp: 0\",\"fp: 5\"]],\"textfont\":{\"size\":20},\"texttemplate\":\"%{text}\",\"z\":[[60,1940],[0,5]],\"type\":\"heatmap\",\"xaxis\":\"x11\",\"yaxis\":\"y11\"},{\"colorscale\":[[0.0,\"#440154\"],[0.1111111111111111,\"#482878\"],[0.2222222222222222,\"#3e4989\"],[0.3333333333333333,\"#31688e\"],[0.4444444444444444,\"#26828e\"],[0.5555555555555556,\"#1f9e89\"],[0.6666666666666666,\"#35b779\"],[0.7777777777777778,\"#6ece58\"],[0.8888888888888888,\"#b5de2b\"],[1.0,\"#fde725\"]],\"name\":\"blooming\",\"showscale\":false,\"text\":[[\"fn: 14\",\"tn: 1991\"],[\"tp: 0\",\"fp: 0\"]],\"textfont\":{\"size\":20},\"texttemplate\":\"%{text}\",\"z\":[[14,1991],[0,0]],\"type\":\"heatmap\",\"xaxis\":\"x16\",\"yaxis\":\"y16\"},{\"colorscale\":[[0.0,\"#440154\"],[0.1111111111111111,\"#482878\"],[0.2222222222222222,\"#3e4989\"],[0.3333333333333333,\"#31688e\"],[0.4444444444444444,\"#26828e\"],[0.5555555555555556,\"#1f9e89\"],[0.6666666666666666,\"#35b779\"],[0.7777777777777778,\"#6ece58\"],[0.8888888888888888,\"#b5de2b\"],[1.0,\"#fde725\"]],\"name\":\"blow_down\",\"showscale\":false,\"text\":[[\"fn: 5\",\"tn: 2000\"],[\"tp: 0\",\"fp: 0\"]],\"textfont\":{\"size\":20},\"texttemplate\":\"%{text}\",\"z\":[[5,2000],[0,0]],\"type\":\"heatmap\",\"xaxis\":\"x2\",\"yaxis\":\"y2\"},{\"colorscale\":[[0.0,\"#440154\"],[0.1111111111111111,\"#482878\"],[0.2222222222222222,\"#3e4989\"],[0.3333333333333333,\"#31688e\"],[0.4444444444444444,\"#26828e\"],[0.5555555555555556,\"#1f9e89\"],[0.6666666666666666,\"#35b779\"],[0.7777777777777778,\"#6ece58\"],[0.8888888888888888,\"#b5de2b\"],[1.0,\"#fde725\"]],\"name\":\"clear\",\"showscale\":false,\"text\":[[\"fn: 0\",\"tn: 0\"],[\"tp: 1452\",\"fp: 553\"]],\"textfont\":{\"size\":20},\"texttemplate\":\"%{text}\",\"z\":[[0,0],[1452,553]],\"type\":\"heatmap\",\"xaxis\":\"x7\",\"yaxis\":\"y7\"},{\"colorscale\":[[0.0,\"#440154\"],[0.1111111111111111,\"#482878\"],[0.2222222222222222,\"#3e4989\"],[0.3333333333333333,\"#31688e\"],[0.4444444444444444,\"#26828e\"],[0.5555555555555556,\"#1f9e89\"],[0.6666666666666666,\"#35b779\"],[0.7777777777777778,\"#6ece58\"],[0.8888888888888888,\"#b5de2b\"],[1.0,\"#fde725\"]],\"name\":\"cloudy\",\"showscale\":false,\"text\":[[\"fn: 32\",\"tn: 1938\"],[\"tp: 4\",\"fp: 31\"]],\"textfont\":{\"size\":20},\"texttemplate\":\"%{text}\",\"z\":[[32,1938],[4,31]],\"type\":\"heatmap\",\"xaxis\":\"x12\",\"yaxis\":\"y12\"},{\"colorscale\":[[0.0,\"#440154\"],[0.1111111111111111,\"#482878\"],[0.2222222222222222,\"#3e4989\"],[0.3333333333333333,\"#31688e\"],[0.4444444444444444,\"#26828e\"],[0.5555555555555556,\"#1f9e89\"],[0.6666666666666666,\"#35b779\"],[0.7777777777777778,\"#6ece58\"],[0.8888888888888888,\"#b5de2b\"],[1.0,\"#fde725\"]],\"name\":\"conventional_mine\",\"showscale\":false,\"text\":[[\"fn: 7\",\"tn: 1997\"],[\"tp: 0\",\"fp: 1\"]],\"textfont\":{\"size\":20},\"texttemplate\":\"%{text}\",\"z\":[[7,1997],[0,1]],\"type\":\"heatmap\",\"xaxis\":\"x17\",\"yaxis\":\"y17\"},{\"colorscale\":[[0.0,\"#440154\"],[0.1111111111111111,\"#482878\"],[0.2222222222222222,\"#3e4989\"],[0.3333333333333333,\"#31688e\"],[0.4444444444444444,\"#26828e\"],[0.5555555555555556,\"#1f9e89\"],[0.6666666666666666,\"#35b779\"],[0.7777777777777778,\"#6ece58\"],[0.8888888888888888,\"#b5de2b\"],[1.0,\"#fde725\"]],\"name\":\"cultivation\",\"showscale\":false,\"text\":[[\"fn: 338\",\"tn: 1648\"],[\"tp: 2\",\"fp: 17\"]],\"textfont\":{\"size\":20},\"texttemplate\":\"%{text}\",\"z\":[[338,1648],[2,17]],\"type\":\"heatmap\",\"xaxis\":\"x3\",\"yaxis\":\"y3\"},{\"colorscale\":[[0.0,\"#440154\"],[0.1111111111111111,\"#482878\"],[0.2222222222222222,\"#3e4989\"],[0.3333333333333333,\"#31688e\"],[0.4444444444444444,\"#26828e\"],[0.5555555555555556,\"#1f9e89\"],[0.6666666666666666,\"#35b779\"],[0.7777777777777778,\"#6ece58\"],[0.8888888888888888,\"#b5de2b\"],[1.0,\"#fde725\"]],\"name\":\"habitation\",\"showscale\":false,\"text\":[[\"fn: 264\",\"tn: 1696\"],[\"tp: 18\",\"fp: 27\"]],\"textfont\":{\"size\":20},\"texttemplate\":\"%{text}\",\"z\":[[264,1696],[18,27]],\"type\":\"heatmap\",\"xaxis\":\"x8\",\"yaxis\":\"y8\"},{\"colorscale\":[[0.0,\"#440154\"],[0.1111111111111111,\"#482878\"],[0.2222222222222222,\"#3e4989\"],[0.3333333333333333,\"#31688e\"],[0.4444444444444444,\"#26828e\"],[0.5555555555555556,\"#1f9e89\"],[0.6666666666666666,\"#35b779\"],[0.7777777777777778,\"#6ece58\"],[0.8888888888888888,\"#b5de2b\"],[1.0,\"#fde725\"]],\"name\":\"haze\",\"showscale\":false,\"text\":[[\"fn: 147\",\"tn: 1823\"],[\"tp: 7\",\"fp: 28\"]],\"textfont\":{\"size\":20},\"texttemplate\":\"%{text}\",\"z\":[[147,1823],[7,28]],\"type\":\"heatmap\",\"xaxis\":\"x13\",\"yaxis\":\"y13\"},{\"colorscale\":[[0.0,\"#440154\"],[0.1111111111111111,\"#482878\"],[0.2222222222222222,\"#3e4989\"],[0.3333333333333333,\"#31688e\"],[0.4444444444444444,\"#26828e\"],[0.5555555555555556,\"#1f9e89\"],[0.6666666666666666,\"#35b779\"],[0.7777777777777778,\"#6ece58\"],[0.8888888888888888,\"#b5de2b\"],[1.0,\"#fde725\"]],\"name\":\"partly_cloudy\",\"showscale\":false,\"text\":[[\"fn: 316\",\"tn: 1621\"],[\"tp: 47\",\"fp: 21\"]],\"textfont\":{\"size\":20},\"texttemplate\":\"%{text}\",\"z\":[[316,1621],[47,21]],\"type\":\"heatmap\",\"xaxis\":\"x18\",\"yaxis\":\"y18\"},{\"colorscale\":[[0.0,\"#440154\"],[0.1111111111111111,\"#482878\"],[0.2222222222222222,\"#3e4989\"],[0.3333333333333333,\"#31688e\"],[0.4444444444444444,\"#26828e\"],[0.5555555555555556,\"#1f9e89\"],[0.6666666666666666,\"#35b779\"],[0.7777777777777778,\"#6ece58\"],[0.8888888888888888,\"#b5de2b\"],[1.0,\"#fde725\"]],\"name\":\"primary\",\"showscale\":false,\"text\":[[\"fn: 0\",\"tn: 0\"],[\"tp: 1936\",\"fp: 69\"]],\"textfont\":{\"size\":20},\"texttemplate\":\"%{text}\",\"z\":[[0,0],[1936,69]],\"type\":\"heatmap\",\"xaxis\":\"x4\",\"yaxis\":\"y4\"},{\"colorscale\":[[0.0,\"#440154\"],[0.1111111111111111,\"#482878\"],[0.2222222222222222,\"#3e4989\"],[0.3333333333333333,\"#31688e\"],[0.4444444444444444,\"#26828e\"],[0.5555555555555556,\"#1f9e89\"],[0.6666666666666666,\"#35b779\"],[0.7777777777777778,\"#6ece58\"],[0.8888888888888888,\"#b5de2b\"],[1.0,\"#fde725\"]],\"name\":\"road\",\"showscale\":false,\"text\":[[\"fn: 493\",\"tn: 1329\"],[\"tp: 103\",\"fp: 80\"]],\"textfont\":{\"size\":20},\"texttemplate\":\"%{text}\",\"z\":[[493,1329],[103,80]],\"type\":\"heatmap\",\"xaxis\":\"x9\",\"yaxis\":\"y9\"},{\"colorscale\":[[0.0,\"#440154\"],[0.1111111111111111,\"#482878\"],[0.2222222222222222,\"#3e4989\"],[0.3333333333333333,\"#31688e\"],[0.4444444444444444,\"#26828e\"],[0.5555555555555556,\"#1f9e89\"],[0.6666666666666666,\"#35b779\"],[0.7777777777777778,\"#6ece58\"],[0.8888888888888888,\"#b5de2b\"],[1.0,\"#fde725\"]],\"name\":\"selective_logging\",\"showscale\":false,\"text\":[[\"fn: 23\",\"tn: 1982\"],[\"tp: 0\",\"fp: 0\"]],\"textfont\":{\"size\":20},\"texttemplate\":\"%{text}\",\"z\":[[23,1982],[0,0]],\"type\":\"heatmap\",\"xaxis\":\"x14\",\"yaxis\":\"y14\"},{\"colorscale\":[[0.0,\"#440154\"],[0.1111111111111111,\"#482878\"],[0.2222222222222222,\"#3e4989\"],[0.3333333333333333,\"#31688e\"],[0.4444444444444444,\"#26828e\"],[0.5555555555555556,\"#1f9e89\"],[0.6666666666666666,\"#35b779\"],[0.7777777777777778,\"#6ece58\"],[0.8888888888888888,\"#b5de2b\"],[1.0,\"#fde725\"]],\"name\":\"slash_burn\",\"showscale\":false,\"text\":[[\"fn: 14\",\"tn: 1991\"],[\"tp: 0\",\"fp: 0\"]],\"textfont\":{\"size\":20},\"texttemplate\":\"%{text}\",\"z\":[[14,1991],[0,0]],\"type\":\"heatmap\",\"xaxis\":\"x19\",\"yaxis\":\"y19\"},{\"colorscale\":[[0.0,\"#440154\"],[0.1111111111111111,\"#482878\"],[0.2222222222222222,\"#3e4989\"],[0.3333333333333333,\"#31688e\"],[0.4444444444444444,\"#26828e\"],[0.5555555555555556,\"#1f9e89\"],[0.6666666666666666,\"#35b779\"],[0.7777777777777778,\"#6ece58\"],[0.8888888888888888,\"#b5de2b\"],[1.0,\"#fde725\"]],\"name\":\"water\",\"showscale\":false,\"text\":[[\"fn: 435\",\"tn: 1413\"],[\"tp: 51\",\"fp: 106\"]],\"textfont\":{\"size\":20},\"texttemplate\":\"%{text}\",\"z\":[[435,1413],[51,106]],\"type\":\"heatmap\",\"xaxis\":\"x5\",\"yaxis\":\"y5\"}],                        {\"template\":{\"data\":{\"bar\":[{\"error_x\":{\"color\":\"#2a3f5f\"},\"error_y\":{\"color\":\"#2a3f5f\"},\"marker\":{\"line\":{\"color\":\"#E5ECF6\",\"width\":0.5},\"pattern\":{\"fillmode\":\"overlay\",\"size\":10,\"solidity\":0.2}},\"type\":\"bar\"}],\"barpolar\":[{\"marker\":{\"line\":{\"color\":\"#E5ECF6\",\"width\":0.5},\"pattern\":{\"fillmode\":\"overlay\",\"size\":10,\"solidity\":0.2}},\"type\":\"barpolar\"}],\"carpet\":[{\"aaxis\":{\"endlinecolor\":\"#2a3f5f\",\"gridcolor\":\"white\",\"linecolor\":\"white\",\"minorgridcolor\":\"white\",\"startlinecolor\":\"#2a3f5f\"},\"baxis\":{\"endlinecolor\":\"#2a3f5f\",\"gridcolor\":\"white\",\"linecolor\":\"white\",\"minorgridcolor\":\"white\",\"startlinecolor\":\"#2a3f5f\"},\"type\":\"carpet\"}],\"choropleth\":[{\"colorbar\":{\"outlinewidth\":0,\"ticks\":\"\"},\"type\":\"choropleth\"}],\"contour\":[{\"colorbar\":{\"outlinewidth\":0,\"ticks\":\"\"},\"colorscale\":[[0.0,\"#0d0887\"],[0.1111111111111111,\"#46039f\"],[0.2222222222222222,\"#7201a8\"],[0.3333333333333333,\"#9c179e\"],[0.4444444444444444,\"#bd3786\"],[0.5555555555555556,\"#d8576b\"],[0.6666666666666666,\"#ed7953\"],[0.7777777777777778,\"#fb9f3a\"],[0.8888888888888888,\"#fdca26\"],[1.0,\"#f0f921\"]],\"type\":\"contour\"}],\"contourcarpet\":[{\"colorbar\":{\"outlinewidth\":0,\"ticks\":\"\"},\"type\":\"contourcarpet\"}],\"heatmap\":[{\"colorbar\":{\"outlinewidth\":0,\"ticks\":\"\"},\"colorscale\":[[0.0,\"#0d0887\"],[0.1111111111111111,\"#46039f\"],[0.2222222222222222,\"#7201a8\"],[0.3333333333333333,\"#9c179e\"],[0.4444444444444444,\"#bd3786\"],[0.5555555555555556,\"#d8576b\"],[0.6666666666666666,\"#ed7953\"],[0.7777777777777778,\"#fb9f3a\"],[0.8888888888888888,\"#fdca26\"],[1.0,\"#f0f921\"]],\"type\":\"heatmap\"}],\"heatmapgl\":[{\"colorbar\":{\"outlinewidth\":0,\"ticks\":\"\"},\"colorscale\":[[0.0,\"#0d0887\"],[0.1111111111111111,\"#46039f\"],[0.2222222222222222,\"#7201a8\"],[0.3333333333333333,\"#9c179e\"],[0.4444444444444444,\"#bd3786\"],[0.5555555555555556,\"#d8576b\"],[0.6666666666666666,\"#ed7953\"],[0.7777777777777778,\"#fb9f3a\"],[0.8888888888888888,\"#fdca26\"],[1.0,\"#f0f921\"]],\"type\":\"heatmapgl\"}],\"histogram\":[{\"marker\":{\"pattern\":{\"fillmode\":\"overlay\",\"size\":10,\"solidity\":0.2}},\"type\":\"histogram\"}],\"histogram2d\":[{\"colorbar\":{\"outlinewidth\":0,\"ticks\":\"\"},\"colorscale\":[[0.0,\"#0d0887\"],[0.1111111111111111,\"#46039f\"],[0.2222222222222222,\"#7201a8\"],[0.3333333333333333,\"#9c179e\"],[0.4444444444444444,\"#bd3786\"],[0.5555555555555556,\"#d8576b\"],[0.6666666666666666,\"#ed7953\"],[0.7777777777777778,\"#fb9f3a\"],[0.8888888888888888,\"#fdca26\"],[1.0,\"#f0f921\"]],\"type\":\"histogram2d\"}],\"histogram2dcontour\":[{\"colorbar\":{\"outlinewidth\":0,\"ticks\":\"\"},\"colorscale\":[[0.0,\"#0d0887\"],[0.1111111111111111,\"#46039f\"],[0.2222222222222222,\"#7201a8\"],[0.3333333333333333,\"#9c179e\"],[0.4444444444444444,\"#bd3786\"],[0.5555555555555556,\"#d8576b\"],[0.6666666666666666,\"#ed7953\"],[0.7777777777777778,\"#fb9f3a\"],[0.8888888888888888,\"#fdca26\"],[1.0,\"#f0f921\"]],\"type\":\"histogram2dcontour\"}],\"mesh3d\":[{\"colorbar\":{\"outlinewidth\":0,\"ticks\":\"\"},\"type\":\"mesh3d\"}],\"parcoords\":[{\"line\":{\"colorbar\":{\"outlinewidth\":0,\"ticks\":\"\"}},\"type\":\"parcoords\"}],\"pie\":[{\"automargin\":true,\"type\":\"pie\"}],\"scatter\":[{\"marker\":{\"colorbar\":{\"outlinewidth\":0,\"ticks\":\"\"}},\"type\":\"scatter\"}],\"scatter3d\":[{\"line\":{\"colorbar\":{\"outlinewidth\":0,\"ticks\":\"\"}},\"marker\":{\"colorbar\":{\"outlinewidth\":0,\"ticks\":\"\"}},\"type\":\"scatter3d\"}],\"scattercarpet\":[{\"marker\":{\"colorbar\":{\"outlinewidth\":0,\"ticks\":\"\"}},\"type\":\"scattercarpet\"}],\"scattergeo\":[{\"marker\":{\"colorbar\":{\"outlinewidth\":0,\"ticks\":\"\"}},\"type\":\"scattergeo\"}],\"scattergl\":[{\"marker\":{\"colorbar\":{\"outlinewidth\":0,\"ticks\":\"\"}},\"type\":\"scattergl\"}],\"scattermapbox\":[{\"marker\":{\"colorbar\":{\"outlinewidth\":0,\"ticks\":\"\"}},\"type\":\"scattermapbox\"}],\"scatterpolar\":[{\"marker\":{\"colorbar\":{\"outlinewidth\":0,\"ticks\":\"\"}},\"type\":\"scatterpolar\"}],\"scatterpolargl\":[{\"marker\":{\"colorbar\":{\"outlinewidth\":0,\"ticks\":\"\"}},\"type\":\"scatterpolargl\"}],\"scatterternary\":[{\"marker\":{\"colorbar\":{\"outlinewidth\":0,\"ticks\":\"\"}},\"type\":\"scatterternary\"}],\"surface\":[{\"colorbar\":{\"outlinewidth\":0,\"ticks\":\"\"},\"colorscale\":[[0.0,\"#0d0887\"],[0.1111111111111111,\"#46039f\"],[0.2222222222222222,\"#7201a8\"],[0.3333333333333333,\"#9c179e\"],[0.4444444444444444,\"#bd3786\"],[0.5555555555555556,\"#d8576b\"],[0.6666666666666666,\"#ed7953\"],[0.7777777777777778,\"#fb9f3a\"],[0.8888888888888888,\"#fdca26\"],[1.0,\"#f0f921\"]],\"type\":\"surface\"}],\"table\":[{\"cells\":{\"fill\":{\"color\":\"#EBF0F8\"},\"line\":{\"color\":\"white\"}},\"header\":{\"fill\":{\"color\":\"#C8D4E3\"},\"line\":{\"color\":\"white\"}},\"type\":\"table\"}]},\"layout\":{\"annotationdefaults\":{\"arrowcolor\":\"#2a3f5f\",\"arrowhead\":0,\"arrowwidth\":1},\"autotypenumbers\":\"strict\",\"coloraxis\":{\"colorbar\":{\"outlinewidth\":0,\"ticks\":\"\"}},\"colorscale\":{\"diverging\":[[0,\"#8e0152\"],[0.1,\"#c51b7d\"],[0.2,\"#de77ae\"],[0.3,\"#f1b6da\"],[0.4,\"#fde0ef\"],[0.5,\"#f7f7f7\"],[0.6,\"#e6f5d0\"],[0.7,\"#b8e186\"],[0.8,\"#7fbc41\"],[0.9,\"#4d9221\"],[1,\"#276419\"]],\"sequential\":[[0.0,\"#0d0887\"],[0.1111111111111111,\"#46039f\"],[0.2222222222222222,\"#7201a8\"],[0.3333333333333333,\"#9c179e\"],[0.4444444444444444,\"#bd3786\"],[0.5555555555555556,\"#d8576b\"],[0.6666666666666666,\"#ed7953\"],[0.7777777777777778,\"#fb9f3a\"],[0.8888888888888888,\"#fdca26\"],[1.0,\"#f0f921\"]],\"sequentialminus\":[[0.0,\"#0d0887\"],[0.1111111111111111,\"#46039f\"],[0.2222222222222222,\"#7201a8\"],[0.3333333333333333,\"#9c179e\"],[0.4444444444444444,\"#bd3786\"],[0.5555555555555556,\"#d8576b\"],[0.6666666666666666,\"#ed7953\"],[0.7777777777777778,\"#fb9f3a\"],[0.8888888888888888,\"#fdca26\"],[1.0,\"#f0f921\"]]},\"colorway\":[\"#636efa\",\"#EF553B\",\"#00cc96\",\"#ab63fa\",\"#FFA15A\",\"#19d3f3\",\"#FF6692\",\"#B6E880\",\"#FF97FF\",\"#FECB52\"],\"font\":{\"color\":\"#2a3f5f\"},\"geo\":{\"bgcolor\":\"white\",\"lakecolor\":\"white\",\"landcolor\":\"#E5ECF6\",\"showlakes\":true,\"showland\":true,\"subunitcolor\":\"white\"},\"hoverlabel\":{\"align\":\"left\"},\"hovermode\":\"closest\",\"mapbox\":{\"style\":\"light\"},\"paper_bgcolor\":\"white\",\"plot_bgcolor\":\"#E5ECF6\",\"polar\":{\"angularaxis\":{\"gridcolor\":\"white\",\"linecolor\":\"white\",\"ticks\":\"\"},\"bgcolor\":\"#E5ECF6\",\"radialaxis\":{\"gridcolor\":\"white\",\"linecolor\":\"white\",\"ticks\":\"\"}},\"scene\":{\"xaxis\":{\"backgroundcolor\":\"#E5ECF6\",\"gridcolor\":\"white\",\"gridwidth\":2,\"linecolor\":\"white\",\"showbackground\":true,\"ticks\":\"\",\"zerolinecolor\":\"white\"},\"yaxis\":{\"backgroundcolor\":\"#E5ECF6\",\"gridcolor\":\"white\",\"gridwidth\":2,\"linecolor\":\"white\",\"showbackground\":true,\"ticks\":\"\",\"zerolinecolor\":\"white\"},\"zaxis\":{\"backgroundcolor\":\"#E5ECF6\",\"gridcolor\":\"white\",\"gridwidth\":2,\"linecolor\":\"white\",\"showbackground\":true,\"ticks\":\"\",\"zerolinecolor\":\"white\"}},\"shapedefaults\":{\"line\":{\"color\":\"#2a3f5f\"}},\"ternary\":{\"aaxis\":{\"gridcolor\":\"white\",\"linecolor\":\"white\",\"ticks\":\"\"},\"baxis\":{\"gridcolor\":\"white\",\"linecolor\":\"white\",\"ticks\":\"\"},\"bgcolor\":\"#E5ECF6\",\"caxis\":{\"gridcolor\":\"white\",\"linecolor\":\"white\",\"ticks\":\"\"}},\"title\":{\"x\":0.05},\"xaxis\":{\"automargin\":true,\"gridcolor\":\"white\",\"linecolor\":\"white\",\"ticks\":\"\",\"title\":{\"standoff\":15},\"zerolinecolor\":\"white\",\"zerolinewidth\":2},\"yaxis\":{\"automargin\":true,\"gridcolor\":\"white\",\"linecolor\":\"white\",\"ticks\":\"\",\"title\":{\"standoff\":15},\"zerolinecolor\":\"white\",\"zerolinewidth\":2}}},\"xaxis\":{\"anchor\":\"y\",\"domain\":[0.0,0.16799999999999998],\"title\":{\"text\":\"agriculture\"},\"showticklabels\":false},\"yaxis\":{\"anchor\":\"x\",\"domain\":[0.80625,1.0],\"showticklabels\":false},\"xaxis2\":{\"anchor\":\"y2\",\"domain\":[0.208,0.376],\"title\":{\"text\":\"blow_down\"},\"showticklabels\":false},\"yaxis2\":{\"anchor\":\"x2\",\"domain\":[0.80625,1.0],\"showticklabels\":false},\"xaxis3\":{\"anchor\":\"y3\",\"domain\":[0.416,0.584],\"title\":{\"text\":\"cultivation\"},\"showticklabels\":false},\"yaxis3\":{\"anchor\":\"x3\",\"domain\":[0.80625,1.0],\"showticklabels\":false},\"xaxis4\":{\"anchor\":\"y4\",\"domain\":[0.624,0.792],\"title\":{\"text\":\"primary\"},\"showticklabels\":false},\"yaxis4\":{\"anchor\":\"x4\",\"domain\":[0.80625,1.0],\"showticklabels\":false},\"xaxis5\":{\"anchor\":\"y5\",\"domain\":[0.832,1.0],\"title\":{\"text\":\"water\"},\"showticklabels\":false},\"yaxis5\":{\"anchor\":\"x5\",\"domain\":[0.80625,1.0],\"showticklabels\":false},\"xaxis6\":{\"anchor\":\"y6\",\"domain\":[0.0,0.16799999999999998],\"title\":{\"text\":\"artisinal_mine\"},\"showticklabels\":false},\"yaxis6\":{\"anchor\":\"x6\",\"domain\":[0.5375,0.73125],\"showticklabels\":false},\"xaxis7\":{\"anchor\":\"y7\",\"domain\":[0.208,0.376],\"title\":{\"text\":\"clear\"},\"showticklabels\":false},\"yaxis7\":{\"anchor\":\"x7\",\"domain\":[0.5375,0.73125],\"showticklabels\":false},\"xaxis8\":{\"anchor\":\"y8\",\"domain\":[0.416,0.584],\"title\":{\"text\":\"habitation\"},\"showticklabels\":false},\"yaxis8\":{\"anchor\":\"x8\",\"domain\":[0.5375,0.73125],\"showticklabels\":false},\"xaxis9\":{\"anchor\":\"y9\",\"domain\":[0.624,0.792],\"title\":{\"text\":\"road\"},\"showticklabels\":false},\"yaxis9\":{\"anchor\":\"x9\",\"domain\":[0.5375,0.73125],\"showticklabels\":false},\"xaxis10\":{\"anchor\":\"y10\",\"domain\":[0.832,1.0]},\"yaxis10\":{\"anchor\":\"x10\",\"domain\":[0.5375,0.73125]},\"xaxis11\":{\"anchor\":\"y11\",\"domain\":[0.0,0.16799999999999998],\"title\":{\"text\":\"bare_ground\"},\"showticklabels\":false},\"yaxis11\":{\"anchor\":\"x11\",\"domain\":[0.26875,0.4625],\"showticklabels\":false},\"xaxis12\":{\"anchor\":\"y12\",\"domain\":[0.208,0.376],\"title\":{\"text\":\"cloudy\"},\"showticklabels\":false},\"yaxis12\":{\"anchor\":\"x12\",\"domain\":[0.26875,0.4625],\"showticklabels\":false},\"xaxis13\":{\"anchor\":\"y13\",\"domain\":[0.416,0.584],\"title\":{\"text\":\"haze\"},\"showticklabels\":false},\"yaxis13\":{\"anchor\":\"x13\",\"domain\":[0.26875,0.4625],\"showticklabels\":false},\"xaxis14\":{\"anchor\":\"y14\",\"domain\":[0.624,0.792],\"title\":{\"text\":\"selective_logging\"},\"showticklabels\":false},\"yaxis14\":{\"anchor\":\"x14\",\"domain\":[0.26875,0.4625],\"showticklabels\":false},\"xaxis15\":{\"anchor\":\"y15\",\"domain\":[0.832,1.0]},\"yaxis15\":{\"anchor\":\"x15\",\"domain\":[0.26875,0.4625]},\"xaxis16\":{\"anchor\":\"y16\",\"domain\":[0.0,0.16799999999999998],\"title\":{\"text\":\"blooming\"},\"showticklabels\":false},\"yaxis16\":{\"anchor\":\"x16\",\"domain\":[0.0,0.19375],\"showticklabels\":false},\"xaxis17\":{\"anchor\":\"y17\",\"domain\":[0.208,0.376],\"title\":{\"text\":\"conventional_mine\"},\"showticklabels\":false},\"yaxis17\":{\"anchor\":\"x17\",\"domain\":[0.0,0.19375],\"showticklabels\":false},\"xaxis18\":{\"anchor\":\"y18\",\"domain\":[0.416,0.584],\"title\":{\"text\":\"partly_cloudy\"},\"showticklabels\":false},\"yaxis18\":{\"anchor\":\"x18\",\"domain\":[0.0,0.19375],\"showticklabels\":false},\"xaxis19\":{\"anchor\":\"y19\",\"domain\":[0.624,0.792],\"title\":{\"text\":\"slash_burn\"},\"showticklabels\":false},\"yaxis19\":{\"anchor\":\"x19\",\"domain\":[0.0,0.19375],\"showticklabels\":false},\"xaxis20\":{\"anchor\":\"y20\",\"domain\":[0.832,1.0]},\"yaxis20\":{\"anchor\":\"x20\",\"domain\":[0.0,0.19375]},\"width\":1200,\"height\":800,\"title\":{\"text\":\"Confusion matrices\"}},                        {\"responsive\": true}                    ).then(function(){\n",
       "                            \n",
       "var gd = document.getElementById('e544b1fe-119d-48d4-a2b6-cfe1976c195b');\n",
       "var x = new MutationObserver(function (mutations, observer) {{\n",
       "        var display = window.getComputedStyle(gd).display;\n",
       "        if (!display || display === 'none') {{\n",
       "            console.log([gd, 'removed!']);\n",
       "            Plotly.purge(gd);\n",
       "            observer.disconnect();\n",
       "        }}\n",
       "}});\n",
       "\n",
       "// Listen for the removal of the full notebook cells\n",
       "var notebookContainer = gd.closest('#notebook-container');\n",
       "if (notebookContainer) {{\n",
       "    x.observe(notebookContainer, {childList: true});\n",
       "}}\n",
       "\n",
       "// Listen for the clearing of the current output cell\n",
       "var outputEl = gd.closest('.output');\n",
       "if (outputEl) {{\n",
       "    x.observe(outputEl, {childList: true});\n",
       "}}\n",
       "\n",
       "                        })                };                });            </script>        </div>"
      ]
     },
     "metadata": {},
     "output_type": "display_data"
    }
   ],
   "source": [
    "fig = make_subplots(cols=5, rows=4)\n",
    "for jdx in range(Y_val.shape[1]):\n",
    "    y_val = Y_val[:, jdx].ravel()\n",
    "    y_hat_val = (Y_hat_val[:, jdx].ravel() > threshs[jdx]).astype(float)\n",
    "    tn, fp, fn, tp = confusion_matrix(y_val, y_hat_val).ravel()\n",
    "    mat = np.array([[fn, tn], [tp, fp]])\n",
    "    col = jdx // 4+1\n",
    "    row = jdx % 4+1\n",
    "    fig.add_trace(\n",
    "        go.Heatmap(\n",
    "            z=mat, text=[[f\"fn: {fn}\", f\"tn: {tn}\"], [f\"tp: {tp}\", f\"fp: {fp}\"]], \n",
    "            texttemplate=\"%{text}\", colorscale='Viridis', name=encoder.classes_[jdx],\n",
    "            showscale=False, textfont={\"size\":20}\n",
    "        ),\n",
    "        col=col, row=row, \n",
    "    )\n",
    "    fig.update_xaxes(title=encoder.classes_[jdx], showticklabels=False, row=row, col=col)\n",
    "    fig.update_yaxes(showticklabels=False, row=row, col=col)\n",
    "    \n",
    "fig.update_layout(\n",
    "    width=1200, height=800, title=\"Confusion matrices\", \n",
    ")\n",
    "fig.show()"
   ]
  },
  {
   "cell_type": "code",
   "execution_count": 275,
   "id": "dd164624",
   "metadata": {},
   "outputs": [
    {
     "data": {
      "text/plain": [
       "<Figure size 432x288 with 0 Axes>"
      ]
     },
     "metadata": {},
     "output_type": "display_data"
    }
   ],
   "source": [
    "plt.savefig('matrices_tf_2000.png', bbox_inches='tight')"
   ]
  },
  {
   "cell_type": "code",
   "execution_count": null,
   "id": "fc8ece8a",
   "metadata": {},
   "outputs": [],
   "source": []
  }
 ],
 "metadata": {
  "kernelspec": {
   "display_name": "Python 3 (ipykernel)",
   "language": "python",
   "name": "python3"
  },
  "language_info": {
   "codemirror_mode": {
    "name": "ipython",
    "version": 3
   },
   "file_extension": ".py",
   "mimetype": "text/x-python",
   "name": "python",
   "nbconvert_exporter": "python",
   "pygments_lexer": "ipython3",
   "version": "3.8.12"
  }
 },
 "nbformat": 4,
 "nbformat_minor": 5
}
